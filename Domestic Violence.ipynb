{
 "cells": [
  {
   "cell_type": "code",
   "execution_count": 1,
   "id": "9ee98643",
   "metadata": {},
   "outputs": [
    {
     "data": {
      "text/html": [
       "        <script type=\"text/javascript\">\n",
       "        window.PlotlyConfig = {MathJaxConfig: 'local'};\n",
       "        if (window.MathJax && window.MathJax.Hub && window.MathJax.Hub.Config) {window.MathJax.Hub.Config({SVG: {font: \"STIX-Web\"}});}\n",
       "        if (typeof require !== 'undefined') {\n",
       "        require.undef(\"plotly\");\n",
       "        requirejs.config({\n",
       "            paths: {\n",
       "                'plotly': ['https://cdn.plot.ly/plotly-2.14.0.min']\n",
       "            }\n",
       "        });\n",
       "        require(['plotly'], function(Plotly) {\n",
       "            window._Plotly = Plotly;\n",
       "        });\n",
       "        }\n",
       "        </script>\n",
       "        "
      ]
     },
     "metadata": {},
     "output_type": "display_data"
    },
    {
     "data": {
      "text/html": [
       "        <script type=\"text/javascript\">\n",
       "        window.PlotlyConfig = {MathJaxConfig: 'local'};\n",
       "        if (window.MathJax && window.MathJax.Hub && window.MathJax.Hub.Config) {window.MathJax.Hub.Config({SVG: {font: \"STIX-Web\"}});}\n",
       "        if (typeof require !== 'undefined') {\n",
       "        require.undef(\"plotly\");\n",
       "        requirejs.config({\n",
       "            paths: {\n",
       "                'plotly': ['https://cdn.plot.ly/plotly-2.14.0.min']\n",
       "            }\n",
       "        });\n",
       "        require(['plotly'], function(Plotly) {\n",
       "            window._Plotly = Plotly;\n",
       "        });\n",
       "        }\n",
       "        </script>\n",
       "        "
      ]
     },
     "metadata": {},
     "output_type": "display_data"
    }
   ],
   "source": [
    "# Standard Data Science Helpers\n",
    "import numpy as np\n",
    "import pandas as pd\n",
    "import scipy\n",
    "\n",
    "import plotly.graph_objs as go\n",
    "import plotly.graph_objects as go\n",
    "import plotly.express as px\n",
    "\n",
    "from ipywidgets import widgets\n",
    "\n",
    "import chart_studio.plotly as py\n",
    "\n",
    "from plotly.offline import iplot, init_notebook_mode\n",
    "init_notebook_mode(connected=True)\n",
    "\n",
    "import cufflinks as cf\n",
    "cf.go_offline(connected=True)\n",
    "cf.set_config_file(colorscale='plotly', world_readable=True)\n",
    "\n",
    "# Extra options\n",
    "pd.options.display.max_rows = 30\n",
    "pd.options.display.max_columns = 25\n",
    "\n",
    "# Show all code cells outputs\n",
    "from IPython.core.interactiveshell import InteractiveShell\n",
    "InteractiveShell.ast_node_interactivity = 'all'\n",
    "\n",
    "import os\n",
    "from IPython.display import Image, display, HTML\n",
    "\n",
    "import ipywidgets as widgets\n",
    "from ipywidgets import interact, interact_manual"
   ]
  },
  {
   "cell_type": "code",
   "execution_count": 2,
   "id": "6156d0b4",
   "metadata": {},
   "outputs": [],
   "source": [
    "nt_df = pd.read_csv('nt_crime_statistics_may_2022.csv')\n",
    "\n",
    "# might use Southern Australia data for comparison\n",
    "sa_df = pd.read_csv('2013-14-data_sa_crime.csv') \n",
    "\n"
   ]
  },
  {
   "cell_type": "code",
   "execution_count": 3,
   "id": "6c19aa08",
   "metadata": {},
   "outputs": [
    {
     "data": {
      "text/plain": [
       "Index(['As At', 'Year', 'Month number', 'Offence category', 'Offence type',\n",
       "       'Alcohol involvement', 'DV involvement', 'Reporting region ',\n",
       "       'Statistical Area 2', 'Number of offences'],\n",
       "      dtype='object')"
      ]
     },
     "execution_count": 3,
     "metadata": {},
     "output_type": "execute_result"
    }
   ],
   "source": [
    "nt_df.keys()"
   ]
  },
  {
   "cell_type": "code",
   "execution_count": 4,
   "id": "f2b47a9e",
   "metadata": {},
   "outputs": [
    {
     "data": {
      "text/html": [
       "<div>\n",
       "<style scoped>\n",
       "    .dataframe tbody tr th:only-of-type {\n",
       "        vertical-align: middle;\n",
       "    }\n",
       "\n",
       "    .dataframe tbody tr th {\n",
       "        vertical-align: top;\n",
       "    }\n",
       "\n",
       "    .dataframe thead th {\n",
       "        text-align: right;\n",
       "    }\n",
       "</style>\n",
       "<table border=\"1\" class=\"dataframe\">\n",
       "  <thead>\n",
       "    <tr style=\"text-align: right;\">\n",
       "      <th></th>\n",
       "      <th>Year</th>\n",
       "      <th>Month number</th>\n",
       "      <th>Offence category</th>\n",
       "      <th>Offence type</th>\n",
       "      <th>Alcohol involvement</th>\n",
       "      <th>DV involvement</th>\n",
       "      <th>Reporting region</th>\n",
       "      <th>Statistical Area 2</th>\n",
       "      <th>Number of offences</th>\n",
       "    </tr>\n",
       "  </thead>\n",
       "  <tbody>\n",
       "    <tr>\n",
       "      <th>0</th>\n",
       "      <td>2008</td>\n",
       "      <td>1</td>\n",
       "      <td>Abduction - harassment and other offences agai...</td>\n",
       "      <td>Deprivation of liberty /false imprisonment</td>\n",
       "      <td>-</td>\n",
       "      <td>-</td>\n",
       "      <td>Alice Springs</td>\n",
       "      <td>-</td>\n",
       "      <td>1</td>\n",
       "    </tr>\n",
       "    <tr>\n",
       "      <th>1</th>\n",
       "      <td>2008</td>\n",
       "      <td>1</td>\n",
       "      <td>Abduction - harassment and other offences agai...</td>\n",
       "      <td>Deprivation of liberty /false imprisonment</td>\n",
       "      <td>-</td>\n",
       "      <td>-</td>\n",
       "      <td>NT Balance</td>\n",
       "      <td>Alligator</td>\n",
       "      <td>1</td>\n",
       "    </tr>\n",
       "    <tr>\n",
       "      <th>2</th>\n",
       "      <td>2008</td>\n",
       "      <td>1</td>\n",
       "      <td>Abduction - harassment and other offences agai...</td>\n",
       "      <td>Deprivation of liberty /false imprisonment</td>\n",
       "      <td>-</td>\n",
       "      <td>-</td>\n",
       "      <td>Tennant Creek</td>\n",
       "      <td>-</td>\n",
       "      <td>1</td>\n",
       "    </tr>\n",
       "    <tr>\n",
       "      <th>3</th>\n",
       "      <td>2008</td>\n",
       "      <td>1</td>\n",
       "      <td>Abduction - harassment and other offences agai...</td>\n",
       "      <td>Harassment and private nuisance</td>\n",
       "      <td>-</td>\n",
       "      <td>-</td>\n",
       "      <td>NT Balance</td>\n",
       "      <td>Alligator</td>\n",
       "      <td>2</td>\n",
       "    </tr>\n",
       "    <tr>\n",
       "      <th>4</th>\n",
       "      <td>2008</td>\n",
       "      <td>1</td>\n",
       "      <td>Abduction - harassment and other offences agai...</td>\n",
       "      <td>Harassment and private nuisance</td>\n",
       "      <td>-</td>\n",
       "      <td>-</td>\n",
       "      <td>NT Balance</td>\n",
       "      <td>Daly</td>\n",
       "      <td>1</td>\n",
       "    </tr>\n",
       "    <tr>\n",
       "      <th>...</th>\n",
       "      <td>...</td>\n",
       "      <td>...</td>\n",
       "      <td>...</td>\n",
       "      <td>...</td>\n",
       "      <td>...</td>\n",
       "      <td>...</td>\n",
       "      <td>...</td>\n",
       "      <td>...</td>\n",
       "      <td>...</td>\n",
       "    </tr>\n",
       "    <tr>\n",
       "      <th>44989</th>\n",
       "      <td>2022</td>\n",
       "      <td>5</td>\n",
       "      <td>Theft and related offences (other than MV)</td>\n",
       "      <td>Theft and related offences (other than MV)</td>\n",
       "      <td>-</td>\n",
       "      <td>-</td>\n",
       "      <td>NT Balance</td>\n",
       "      <td>Weddell</td>\n",
       "      <td>5</td>\n",
       "    </tr>\n",
       "    <tr>\n",
       "      <th>44990</th>\n",
       "      <td>2022</td>\n",
       "      <td>5</td>\n",
       "      <td>Theft and related offences (other than MV)</td>\n",
       "      <td>Theft and related offences (other than MV)</td>\n",
       "      <td>-</td>\n",
       "      <td>-</td>\n",
       "      <td>NT Balance</td>\n",
       "      <td>West Arnhem</td>\n",
       "      <td>8</td>\n",
       "    </tr>\n",
       "    <tr>\n",
       "      <th>44991</th>\n",
       "      <td>2022</td>\n",
       "      <td>5</td>\n",
       "      <td>Theft and related offences (other than MV)</td>\n",
       "      <td>Theft and related offences (other than MV)</td>\n",
       "      <td>-</td>\n",
       "      <td>-</td>\n",
       "      <td>NT Balance</td>\n",
       "      <td>Yuendumu - Anmatjere</td>\n",
       "      <td>8</td>\n",
       "    </tr>\n",
       "    <tr>\n",
       "      <th>44992</th>\n",
       "      <td>2022</td>\n",
       "      <td>5</td>\n",
       "      <td>Theft and related offences (other than MV)</td>\n",
       "      <td>Theft and related offences (other than MV)</td>\n",
       "      <td>-</td>\n",
       "      <td>-</td>\n",
       "      <td>Palmerston</td>\n",
       "      <td>-</td>\n",
       "      <td>70</td>\n",
       "    </tr>\n",
       "    <tr>\n",
       "      <th>44993</th>\n",
       "      <td>2022</td>\n",
       "      <td>5</td>\n",
       "      <td>Theft and related offences (other than MV)</td>\n",
       "      <td>Theft and related offences (other than MV)</td>\n",
       "      <td>-</td>\n",
       "      <td>-</td>\n",
       "      <td>Tennant Creek</td>\n",
       "      <td>-</td>\n",
       "      <td>7</td>\n",
       "    </tr>\n",
       "  </tbody>\n",
       "</table>\n",
       "<p>44994 rows × 9 columns</p>\n",
       "</div>"
      ],
      "text/plain": [
       "       Year  Month number                                   Offence category  \\\n",
       "0      2008             1  Abduction - harassment and other offences agai...   \n",
       "1      2008             1  Abduction - harassment and other offences agai...   \n",
       "2      2008             1  Abduction - harassment and other offences agai...   \n",
       "3      2008             1  Abduction - harassment and other offences agai...   \n",
       "4      2008             1  Abduction - harassment and other offences agai...   \n",
       "...     ...           ...                                                ...   \n",
       "44989  2022             5         Theft and related offences (other than MV)   \n",
       "44990  2022             5         Theft and related offences (other than MV)   \n",
       "44991  2022             5         Theft and related offences (other than MV)   \n",
       "44992  2022             5         Theft and related offences (other than MV)   \n",
       "44993  2022             5         Theft and related offences (other than MV)   \n",
       "\n",
       "                                     Offence type Alcohol involvement  \\\n",
       "0      Deprivation of liberty /false imprisonment                   -   \n",
       "1      Deprivation of liberty /false imprisonment                   -   \n",
       "2      Deprivation of liberty /false imprisonment                   -   \n",
       "3                 Harassment and private nuisance                   -   \n",
       "4                 Harassment and private nuisance                   -   \n",
       "...                                           ...                 ...   \n",
       "44989  Theft and related offences (other than MV)                   -   \n",
       "44990  Theft and related offences (other than MV)                   -   \n",
       "44991  Theft and related offences (other than MV)                   -   \n",
       "44992  Theft and related offences (other than MV)                   -   \n",
       "44993  Theft and related offences (other than MV)                   -   \n",
       "\n",
       "      DV involvement Reporting region    Statistical Area 2  \\\n",
       "0                  -    Alice Springs                     -   \n",
       "1                  -       NT Balance             Alligator   \n",
       "2                  -    Tennant Creek                     -   \n",
       "3                  -       NT Balance             Alligator   \n",
       "4                  -       NT Balance                  Daly   \n",
       "...              ...              ...                   ...   \n",
       "44989              -       NT Balance               Weddell   \n",
       "44990              -       NT Balance           West Arnhem   \n",
       "44991              -       NT Balance  Yuendumu - Anmatjere   \n",
       "44992              -       Palmerston                     -   \n",
       "44993              -    Tennant Creek                     -   \n",
       "\n",
       "       Number of offences  \n",
       "0                       1  \n",
       "1                       1  \n",
       "2                       1  \n",
       "3                       2  \n",
       "4                       1  \n",
       "...                   ...  \n",
       "44989                   5  \n",
       "44990                   8  \n",
       "44991                   8  \n",
       "44992                  70  \n",
       "44993                   7  \n",
       "\n",
       "[44994 rows x 9 columns]"
      ]
     },
     "execution_count": 4,
     "metadata": {},
     "output_type": "execute_result"
    }
   ],
   "source": [
    "nt_df.columns = [colname.strip() for colname in nt_df.columns]\n",
    "nt_df.drop('As At', axis = 1)"
   ]
  },
  {
   "cell_type": "code",
   "execution_count": 5,
   "id": "1c95dffd",
   "metadata": {},
   "outputs": [
    {
     "data": {
      "text/plain": [
       "(44994, 10)"
      ]
     },
     "execution_count": 5,
     "metadata": {},
     "output_type": "execute_result"
    }
   ],
   "source": [
    "nt_df.shape"
   ]
  },
  {
   "cell_type": "code",
   "execution_count": 6,
   "id": "f06d222a",
   "metadata": {},
   "outputs": [
    {
     "data": {
      "text/html": [
       "<div>\n",
       "<style scoped>\n",
       "    .dataframe tbody tr th:only-of-type {\n",
       "        vertical-align: middle;\n",
       "    }\n",
       "\n",
       "    .dataframe tbody tr th {\n",
       "        vertical-align: top;\n",
       "    }\n",
       "\n",
       "    .dataframe thead th {\n",
       "        text-align: right;\n",
       "    }\n",
       "</style>\n",
       "<table border=\"1\" class=\"dataframe\">\n",
       "  <thead>\n",
       "    <tr style=\"text-align: right;\">\n",
       "      <th></th>\n",
       "      <th>Reporting region</th>\n",
       "      <th>Year</th>\n",
       "      <th>Number of offences</th>\n",
       "    </tr>\n",
       "  </thead>\n",
       "  <tbody>\n",
       "    <tr>\n",
       "      <th>0</th>\n",
       "      <td>Alice Springs</td>\n",
       "      <td>2008</td>\n",
       "      <td>5312</td>\n",
       "    </tr>\n",
       "    <tr>\n",
       "      <th>1</th>\n",
       "      <td>Alice Springs</td>\n",
       "      <td>2009</td>\n",
       "      <td>5735</td>\n",
       "    </tr>\n",
       "    <tr>\n",
       "      <th>2</th>\n",
       "      <td>Alice Springs</td>\n",
       "      <td>2010</td>\n",
       "      <td>6989</td>\n",
       "    </tr>\n",
       "    <tr>\n",
       "      <th>3</th>\n",
       "      <td>Alice Springs</td>\n",
       "      <td>2011</td>\n",
       "      <td>6235</td>\n",
       "    </tr>\n",
       "    <tr>\n",
       "      <th>4</th>\n",
       "      <td>Alice Springs</td>\n",
       "      <td>2012</td>\n",
       "      <td>7418</td>\n",
       "    </tr>\n",
       "    <tr>\n",
       "      <th>...</th>\n",
       "      <td>...</td>\n",
       "      <td>...</td>\n",
       "      <td>...</td>\n",
       "    </tr>\n",
       "    <tr>\n",
       "      <th>100</th>\n",
       "      <td>Tennant Creek</td>\n",
       "      <td>2018</td>\n",
       "      <td>1107</td>\n",
       "    </tr>\n",
       "    <tr>\n",
       "      <th>101</th>\n",
       "      <td>Tennant Creek</td>\n",
       "      <td>2019</td>\n",
       "      <td>1344</td>\n",
       "    </tr>\n",
       "    <tr>\n",
       "      <th>102</th>\n",
       "      <td>Tennant Creek</td>\n",
       "      <td>2020</td>\n",
       "      <td>1277</td>\n",
       "    </tr>\n",
       "    <tr>\n",
       "      <th>103</th>\n",
       "      <td>Tennant Creek</td>\n",
       "      <td>2021</td>\n",
       "      <td>1451</td>\n",
       "    </tr>\n",
       "    <tr>\n",
       "      <th>104</th>\n",
       "      <td>Tennant Creek</td>\n",
       "      <td>2022</td>\n",
       "      <td>470</td>\n",
       "    </tr>\n",
       "  </tbody>\n",
       "</table>\n",
       "<p>105 rows × 3 columns</p>\n",
       "</div>"
      ],
      "text/plain": [
       "    Reporting region  Year  Number of offences\n",
       "0      Alice Springs  2008                5312\n",
       "1      Alice Springs  2009                5735\n",
       "2      Alice Springs  2010                6989\n",
       "3      Alice Springs  2011                6235\n",
       "4      Alice Springs  2012                7418\n",
       "..               ...   ...                 ...\n",
       "100    Tennant Creek  2018                1107\n",
       "101    Tennant Creek  2019                1344\n",
       "102    Tennant Creek  2020                1277\n",
       "103    Tennant Creek  2021                1451\n",
       "104    Tennant Creek  2022                 470\n",
       "\n",
       "[105 rows x 3 columns]"
      ]
     },
     "execution_count": 6,
     "metadata": {},
     "output_type": "execute_result"
    }
   ],
   "source": [
    "region_year_offences_df = pd.DataFrame(nt_df.groupby(['Reporting region', 'Year'])['Number of offences'].sum().reset_index())\n",
    "region_year_offences_df"
   ]
  },
  {
   "cell_type": "code",
   "execution_count": 7,
   "id": "ef2d3de4",
   "metadata": {},
   "outputs": [
    {
     "data": {
      "text/html": [
       "<div>\n",
       "<style scoped>\n",
       "    .dataframe tbody tr th:only-of-type {\n",
       "        vertical-align: middle;\n",
       "    }\n",
       "\n",
       "    .dataframe tbody tr th {\n",
       "        vertical-align: top;\n",
       "    }\n",
       "\n",
       "    .dataframe thead th {\n",
       "        text-align: right;\n",
       "    }\n",
       "</style>\n",
       "<table border=\"1\" class=\"dataframe\">\n",
       "  <thead>\n",
       "    <tr style=\"text-align: right;\">\n",
       "      <th></th>\n",
       "      <th>Reporting region</th>\n",
       "      <th>Year</th>\n",
       "      <th>Month number</th>\n",
       "      <th>Number of offences</th>\n",
       "    </tr>\n",
       "  </thead>\n",
       "  <tbody>\n",
       "    <tr>\n",
       "      <th>0</th>\n",
       "      <td>Alice Springs</td>\n",
       "      <td>2008</td>\n",
       "      <td>1</td>\n",
       "      <td>420</td>\n",
       "    </tr>\n",
       "    <tr>\n",
       "      <th>1</th>\n",
       "      <td>Alice Springs</td>\n",
       "      <td>2008</td>\n",
       "      <td>2</td>\n",
       "      <td>358</td>\n",
       "    </tr>\n",
       "    <tr>\n",
       "      <th>2</th>\n",
       "      <td>Alice Springs</td>\n",
       "      <td>2008</td>\n",
       "      <td>3</td>\n",
       "      <td>508</td>\n",
       "    </tr>\n",
       "    <tr>\n",
       "      <th>3</th>\n",
       "      <td>Alice Springs</td>\n",
       "      <td>2008</td>\n",
       "      <td>4</td>\n",
       "      <td>487</td>\n",
       "    </tr>\n",
       "    <tr>\n",
       "      <th>4</th>\n",
       "      <td>Alice Springs</td>\n",
       "      <td>2008</td>\n",
       "      <td>5</td>\n",
       "      <td>406</td>\n",
       "    </tr>\n",
       "    <tr>\n",
       "      <th>...</th>\n",
       "      <td>...</td>\n",
       "      <td>...</td>\n",
       "      <td>...</td>\n",
       "      <td>...</td>\n",
       "    </tr>\n",
       "    <tr>\n",
       "      <th>1206</th>\n",
       "      <td>Tennant Creek</td>\n",
       "      <td>2022</td>\n",
       "      <td>1</td>\n",
       "      <td>63</td>\n",
       "    </tr>\n",
       "    <tr>\n",
       "      <th>1207</th>\n",
       "      <td>Tennant Creek</td>\n",
       "      <td>2022</td>\n",
       "      <td>2</td>\n",
       "      <td>79</td>\n",
       "    </tr>\n",
       "    <tr>\n",
       "      <th>1208</th>\n",
       "      <td>Tennant Creek</td>\n",
       "      <td>2022</td>\n",
       "      <td>3</td>\n",
       "      <td>126</td>\n",
       "    </tr>\n",
       "    <tr>\n",
       "      <th>1209</th>\n",
       "      <td>Tennant Creek</td>\n",
       "      <td>2022</td>\n",
       "      <td>4</td>\n",
       "      <td>119</td>\n",
       "    </tr>\n",
       "    <tr>\n",
       "      <th>1210</th>\n",
       "      <td>Tennant Creek</td>\n",
       "      <td>2022</td>\n",
       "      <td>5</td>\n",
       "      <td>83</td>\n",
       "    </tr>\n",
       "  </tbody>\n",
       "</table>\n",
       "<p>1211 rows × 4 columns</p>\n",
       "</div>"
      ],
      "text/plain": [
       "     Reporting region  Year  Month number  Number of offences\n",
       "0       Alice Springs  2008             1                 420\n",
       "1       Alice Springs  2008             2                 358\n",
       "2       Alice Springs  2008             3                 508\n",
       "3       Alice Springs  2008             4                 487\n",
       "4       Alice Springs  2008             5                 406\n",
       "...               ...   ...           ...                 ...\n",
       "1206    Tennant Creek  2022             1                  63\n",
       "1207    Tennant Creek  2022             2                  79\n",
       "1208    Tennant Creek  2022             3                 126\n",
       "1209    Tennant Creek  2022             4                 119\n",
       "1210    Tennant Creek  2022             5                  83\n",
       "\n",
       "[1211 rows x 4 columns]"
      ]
     },
     "execution_count": 7,
     "metadata": {},
     "output_type": "execute_result"
    }
   ],
   "source": [
    "region_month_year_df = pd.DataFrame(nt_df.groupby(['Reporting region', 'Year', 'Month number'])['Number of offences'].sum().reset_index())\n",
    "region_month_year_df"
   ]
  },
  {
   "cell_type": "code",
   "execution_count": 8,
   "id": "4f9c1a9a",
   "metadata": {},
   "outputs": [
    {
     "data": {
      "text/html": [
       "<div>\n",
       "<style scoped>\n",
       "    .dataframe tbody tr th:only-of-type {\n",
       "        vertical-align: middle;\n",
       "    }\n",
       "\n",
       "    .dataframe tbody tr th {\n",
       "        vertical-align: top;\n",
       "    }\n",
       "\n",
       "    .dataframe thead th {\n",
       "        text-align: right;\n",
       "    }\n",
       "</style>\n",
       "<table border=\"1\" class=\"dataframe\">\n",
       "  <thead>\n",
       "    <tr style=\"text-align: right;\">\n",
       "      <th></th>\n",
       "      <th>Reporting region</th>\n",
       "      <th>Year</th>\n",
       "      <th>Month number</th>\n",
       "      <th>Offence category</th>\n",
       "      <th>Offence type</th>\n",
       "      <th>Number of offences</th>\n",
       "    </tr>\n",
       "  </thead>\n",
       "  <tbody>\n",
       "    <tr>\n",
       "      <th>0</th>\n",
       "      <td>Alice Springs</td>\n",
       "      <td>2008</td>\n",
       "      <td>1</td>\n",
       "      <td>Abduction - harassment and other offences agai...</td>\n",
       "      <td>Deprivation of liberty /false imprisonment</td>\n",
       "      <td>1</td>\n",
       "    </tr>\n",
       "    <tr>\n",
       "      <th>1</th>\n",
       "      <td>Alice Springs</td>\n",
       "      <td>2008</td>\n",
       "      <td>1</td>\n",
       "      <td>Abduction - harassment and other offences agai...</td>\n",
       "      <td>Threatening behaviour</td>\n",
       "      <td>4</td>\n",
       "    </tr>\n",
       "    <tr>\n",
       "      <th>2</th>\n",
       "      <td>Alice Springs</td>\n",
       "      <td>2008</td>\n",
       "      <td>1</td>\n",
       "      <td>Acts intended to cause injury</td>\n",
       "      <td>Assault</td>\n",
       "      <td>95</td>\n",
       "    </tr>\n",
       "    <tr>\n",
       "      <th>3</th>\n",
       "      <td>Alice Springs</td>\n",
       "      <td>2008</td>\n",
       "      <td>1</td>\n",
       "      <td>Commercial break-ins</td>\n",
       "      <td>Commercial break-ins actual</td>\n",
       "      <td>31</td>\n",
       "    </tr>\n",
       "    <tr>\n",
       "      <th>4</th>\n",
       "      <td>Alice Springs</td>\n",
       "      <td>2008</td>\n",
       "      <td>1</td>\n",
       "      <td>Commercial break-ins</td>\n",
       "      <td>Commercial break-ins attempted</td>\n",
       "      <td>1</td>\n",
       "    </tr>\n",
       "    <tr>\n",
       "      <th>...</th>\n",
       "      <td>...</td>\n",
       "      <td>...</td>\n",
       "      <td>...</td>\n",
       "      <td>...</td>\n",
       "      <td>...</td>\n",
       "      <td>...</td>\n",
       "    </tr>\n",
       "    <tr>\n",
       "      <th>14752</th>\n",
       "      <td>Tennant Creek</td>\n",
       "      <td>2022</td>\n",
       "      <td>5</td>\n",
       "      <td>Motor theft and related offences</td>\n",
       "      <td>Illegal use of a motor vehicle</td>\n",
       "      <td>1</td>\n",
       "    </tr>\n",
       "    <tr>\n",
       "      <th>14753</th>\n",
       "      <td>Tennant Creek</td>\n",
       "      <td>2022</td>\n",
       "      <td>5</td>\n",
       "      <td>Motor theft and related offences</td>\n",
       "      <td>Theft of motor vehicle parts or contents</td>\n",
       "      <td>2</td>\n",
       "    </tr>\n",
       "    <tr>\n",
       "      <th>14754</th>\n",
       "      <td>Tennant Creek</td>\n",
       "      <td>2022</td>\n",
       "      <td>5</td>\n",
       "      <td>Other Dangerous or negligent acts endangering ...</td>\n",
       "      <td>Other dangerous or negligent acts endangering ...</td>\n",
       "      <td>2</td>\n",
       "    </tr>\n",
       "    <tr>\n",
       "      <th>14755</th>\n",
       "      <td>Tennant Creek</td>\n",
       "      <td>2022</td>\n",
       "      <td>5</td>\n",
       "      <td>Property Damage Offences</td>\n",
       "      <td>Property damage offences</td>\n",
       "      <td>35</td>\n",
       "    </tr>\n",
       "    <tr>\n",
       "      <th>14756</th>\n",
       "      <td>Tennant Creek</td>\n",
       "      <td>2022</td>\n",
       "      <td>5</td>\n",
       "      <td>Theft and related offences (other than MV)</td>\n",
       "      <td>Theft and related offences (other than MV)</td>\n",
       "      <td>7</td>\n",
       "    </tr>\n",
       "  </tbody>\n",
       "</table>\n",
       "<p>14757 rows × 6 columns</p>\n",
       "</div>"
      ],
      "text/plain": [
       "      Reporting region  Year  Month number  \\\n",
       "0        Alice Springs  2008             1   \n",
       "1        Alice Springs  2008             1   \n",
       "2        Alice Springs  2008             1   \n",
       "3        Alice Springs  2008             1   \n",
       "4        Alice Springs  2008             1   \n",
       "...                ...   ...           ...   \n",
       "14752    Tennant Creek  2022             5   \n",
       "14753    Tennant Creek  2022             5   \n",
       "14754    Tennant Creek  2022             5   \n",
       "14755    Tennant Creek  2022             5   \n",
       "14756    Tennant Creek  2022             5   \n",
       "\n",
       "                                        Offence category  \\\n",
       "0      Abduction - harassment and other offences agai...   \n",
       "1      Abduction - harassment and other offences agai...   \n",
       "2                          Acts intended to cause injury   \n",
       "3                                   Commercial break-ins   \n",
       "4                                   Commercial break-ins   \n",
       "...                                                  ...   \n",
       "14752                   Motor theft and related offences   \n",
       "14753                   Motor theft and related offences   \n",
       "14754  Other Dangerous or negligent acts endangering ...   \n",
       "14755                           Property Damage Offences   \n",
       "14756         Theft and related offences (other than MV)   \n",
       "\n",
       "                                            Offence type  Number of offences  \n",
       "0             Deprivation of liberty /false imprisonment                   1  \n",
       "1                                  Threatening behaviour                   4  \n",
       "2                                                Assault                  95  \n",
       "3                            Commercial break-ins actual                  31  \n",
       "4                         Commercial break-ins attempted                   1  \n",
       "...                                                  ...                 ...  \n",
       "14752                     Illegal use of a motor vehicle                   1  \n",
       "14753           Theft of motor vehicle parts or contents                   2  \n",
       "14754  Other dangerous or negligent acts endangering ...                   2  \n",
       "14755                           Property damage offences                  35  \n",
       "14756         Theft and related offences (other than MV)                   7  \n",
       "\n",
       "[14757 rows x 6 columns]"
      ]
     },
     "execution_count": 8,
     "metadata": {},
     "output_type": "execute_result"
    }
   ],
   "source": [
    "region_month_year_offence_category = pd.DataFrame(nt_df.groupby(['Reporting region', 'Year', 'Month number', 'Offence category', 'Offence type'])['Number of offences'].sum().reset_index())\n",
    "region_month_year_offence_category"
   ]
  },
  {
   "cell_type": "code",
   "execution_count": 9,
   "id": "bf645923",
   "metadata": {},
   "outputs": [
    {
     "data": {
      "text/plain": [
       "array(['Alice Springs', 'Darwin', 'Katherine', 'NT Balance', 'Nhulunbuy',\n",
       "       'Palmerston', 'Tennant Creek'], dtype=object)"
      ]
     },
     "execution_count": 9,
     "metadata": {},
     "output_type": "execute_result"
    }
   ],
   "source": [
    "region_month_year_offence_category['Reporting region'].unique()"
   ]
  },
  {
   "cell_type": "code",
   "execution_count": 10,
   "id": "bf696f7a",
   "metadata": {},
   "outputs": [
    {
     "data": {
      "text/plain": [
       "array(['-', 'Alligator', 'Daly', 'Barkly', 'Victoria River',\n",
       "       'Yuendumu - Anmatjere', 'East Arnhem', 'Elsey', 'Gulf',\n",
       "       'Humpty Doo', 'Sandover - Plenty', 'Anindilyakwa',\n",
       "       'Petermann - Simpson', 'Tanami', 'Thamarrurr', 'Tiwi Islands',\n",
       "       'Weddell', 'West Arnhem', 'Howard Springs', 'Virginia', 'Unknown'],\n",
       "      dtype=object)"
      ]
     },
     "execution_count": 10,
     "metadata": {},
     "output_type": "execute_result"
    }
   ],
   "source": [
    "nt_df['Statistical Area 2'].unique()"
   ]
  },
  {
   "cell_type": "code",
   "execution_count": 11,
   "id": "9d3cc126",
   "metadata": {},
   "outputs": [],
   "source": [
    "region_population_unemployment = region_month_year_offence_category.drop(['Year', 'Month number', 'Offence category', 'Offence type'], axis = 1)"
   ]
  },
  {
   "cell_type": "code",
   "execution_count": 13,
   "id": "c8933d32",
   "metadata": {},
   "outputs": [],
   "source": [
    "region_population_unemployment_df = pd.DataFrame(region_population_unemployment.groupby('Reporting region').sum())"
   ]
  },
  {
   "cell_type": "code",
   "execution_count": 16,
   "id": "99a7f3b8",
   "metadata": {},
   "outputs": [],
   "source": [
    "region_population_unemployment_df = region_population_unemployment_df.reset_index()"
   ]
  },
  {
   "cell_type": "code",
   "execution_count": 18,
   "id": "da0bce43",
   "metadata": {},
   "outputs": [
    {
     "data": {
      "text/plain": [
       "Index(['Reporting region', 'Number of offences'], dtype='object')"
      ]
     },
     "execution_count": 18,
     "metadata": {},
     "output_type": "execute_result"
    }
   ],
   "source": [
    "region_population_unemployment_df.keys()"
   ]
  },
  {
   "cell_type": "code",
   "execution_count": 19,
   "id": "82871133",
   "metadata": {},
   "outputs": [
    {
     "data": {
      "text/html": [
       "<div>\n",
       "<style scoped>\n",
       "    .dataframe tbody tr th:only-of-type {\n",
       "        vertical-align: middle;\n",
       "    }\n",
       "\n",
       "    .dataframe tbody tr th {\n",
       "        vertical-align: top;\n",
       "    }\n",
       "\n",
       "    .dataframe thead th {\n",
       "        text-align: right;\n",
       "    }\n",
       "</style>\n",
       "<table border=\"1\" class=\"dataframe\">\n",
       "  <thead>\n",
       "    <tr style=\"text-align: right;\">\n",
       "      <th></th>\n",
       "      <th>Reporting region</th>\n",
       "      <th>Number of offences</th>\n",
       "    </tr>\n",
       "  </thead>\n",
       "  <tbody>\n",
       "    <tr>\n",
       "      <th>0</th>\n",
       "      <td>Alice Springs</td>\n",
       "      <td>94639</td>\n",
       "    </tr>\n",
       "    <tr>\n",
       "      <th>1</th>\n",
       "      <td>Darwin</td>\n",
       "      <td>145595</td>\n",
       "    </tr>\n",
       "    <tr>\n",
       "      <th>2</th>\n",
       "      <td>Katherine</td>\n",
       "      <td>24768</td>\n",
       "    </tr>\n",
       "    <tr>\n",
       "      <th>3</th>\n",
       "      <td>NT Balance</td>\n",
       "      <td>87229</td>\n",
       "    </tr>\n",
       "    <tr>\n",
       "      <th>4</th>\n",
       "      <td>Nhulunbuy</td>\n",
       "      <td>5295</td>\n",
       "    </tr>\n",
       "    <tr>\n",
       "      <th>5</th>\n",
       "      <td>Palmerston</td>\n",
       "      <td>47344</td>\n",
       "    </tr>\n",
       "    <tr>\n",
       "      <th>6</th>\n",
       "      <td>Tennant Creek</td>\n",
       "      <td>15671</td>\n",
       "    </tr>\n",
       "  </tbody>\n",
       "</table>\n",
       "</div>"
      ],
      "text/plain": [
       "  Reporting region  Number of offences\n",
       "0    Alice Springs               94639\n",
       "1           Darwin              145595\n",
       "2        Katherine               24768\n",
       "3       NT Balance               87229\n",
       "4        Nhulunbuy                5295\n",
       "5       Palmerston               47344\n",
       "6    Tennant Creek               15671"
      ]
     },
     "execution_count": 19,
     "metadata": {},
     "output_type": "execute_result"
    }
   ],
   "source": [
    "region_population_unemployment_df"
   ]
  },
  {
   "cell_type": "code",
   "execution_count": 20,
   "id": "13ed7645",
   "metadata": {},
   "outputs": [],
   "source": [
    "population = []\n",
    "for region in region_population_unemployment_df['Reporting region']:\n",
    "    if(region == 'Alice Springs'):\n",
    "        population.append(23736)\n",
    "    elif(region == 'Darwin'):\n",
    "        population.append(132045)\n",
    "    elif(region == 'Katherine'):\n",
    "        population.append(9717)\n",
    "    elif(region == 'NT Balance'):\n",
    "        population.append(4576)    \n",
    "    elif(region == 'Nhulunbuy'):\n",
    "        population.append(3240)\n",
    "    elif(region == 'Palmerston'):\n",
    "        population.append(29346)\n",
    "    elif(region == 'Tennant Creek'):\n",
    "        population.append(2991)"
   ]
  },
  {
   "cell_type": "code",
   "execution_count": 21,
   "id": "02b0b391",
   "metadata": {},
   "outputs": [
    {
     "data": {
      "text/plain": [
       "[23736, 132045, 9717, 4576, 3240, 29346, 2991]"
      ]
     },
     "execution_count": 21,
     "metadata": {},
     "output_type": "execute_result"
    }
   ],
   "source": [
    "population"
   ]
  },
  {
   "cell_type": "code",
   "execution_count": 22,
   "id": "371e0354",
   "metadata": {},
   "outputs": [],
   "source": [
    "unemployed = []\n",
    "for region in region_population_unemployment_df['Reporting region']:\n",
    "    if(region == 'Alice Springs'):\n",
    "        unemployed.append(430)\n",
    "    elif(region == 'Darwin'):\n",
    "        unemployed.append(3466)\n",
    "    elif(region == 'Katherine'):\n",
    "        unemployed.append(162)\n",
    "    elif(region == 'NT Balance'):\n",
    "        unemployed.append(4153)\n",
    "    elif(region == 'Nhulunbuy'):\n",
    "        unemployed.append(52)\n",
    "    elif(region == 'Palmerston'):\n",
    "        unemployed.append(922)\n",
    "    elif(region == 'Tennant Creek'):\n",
    "        unemployed.append(89)"
   ]
  },
  {
   "cell_type": "code",
   "execution_count": 23,
   "id": "42e8fb3c",
   "metadata": {},
   "outputs": [
    {
     "data": {
      "text/plain": [
       "[430, 3466, 162, 4153, 52, 922, 89]"
      ]
     },
     "execution_count": 23,
     "metadata": {},
     "output_type": "execute_result"
    }
   ],
   "source": [
    "unemployed"
   ]
  },
  {
   "cell_type": "code",
   "execution_count": 27,
   "id": "ac7503f3",
   "metadata": {},
   "outputs": [],
   "source": [
    "pop_unemp = pd.DataFrame({'population': population, 'unemployed': unemployed})"
   ]
  },
  {
   "cell_type": "code",
   "execution_count": 28,
   "id": "10689949",
   "metadata": {},
   "outputs": [
    {
     "data": {
      "text/html": [
       "<div>\n",
       "<style scoped>\n",
       "    .dataframe tbody tr th:only-of-type {\n",
       "        vertical-align: middle;\n",
       "    }\n",
       "\n",
       "    .dataframe tbody tr th {\n",
       "        vertical-align: top;\n",
       "    }\n",
       "\n",
       "    .dataframe thead th {\n",
       "        text-align: right;\n",
       "    }\n",
       "</style>\n",
       "<table border=\"1\" class=\"dataframe\">\n",
       "  <thead>\n",
       "    <tr style=\"text-align: right;\">\n",
       "      <th></th>\n",
       "      <th>population</th>\n",
       "      <th>unemployed</th>\n",
       "    </tr>\n",
       "  </thead>\n",
       "  <tbody>\n",
       "    <tr>\n",
       "      <th>0</th>\n",
       "      <td>23736</td>\n",
       "      <td>430</td>\n",
       "    </tr>\n",
       "    <tr>\n",
       "      <th>1</th>\n",
       "      <td>132045</td>\n",
       "      <td>3466</td>\n",
       "    </tr>\n",
       "    <tr>\n",
       "      <th>2</th>\n",
       "      <td>9717</td>\n",
       "      <td>162</td>\n",
       "    </tr>\n",
       "    <tr>\n",
       "      <th>3</th>\n",
       "      <td>4576</td>\n",
       "      <td>4153</td>\n",
       "    </tr>\n",
       "    <tr>\n",
       "      <th>4</th>\n",
       "      <td>3240</td>\n",
       "      <td>52</td>\n",
       "    </tr>\n",
       "    <tr>\n",
       "      <th>5</th>\n",
       "      <td>29346</td>\n",
       "      <td>922</td>\n",
       "    </tr>\n",
       "    <tr>\n",
       "      <th>6</th>\n",
       "      <td>2991</td>\n",
       "      <td>89</td>\n",
       "    </tr>\n",
       "  </tbody>\n",
       "</table>\n",
       "</div>"
      ],
      "text/plain": [
       "   population  unemployed\n",
       "0       23736         430\n",
       "1      132045        3466\n",
       "2        9717         162\n",
       "3        4576        4153\n",
       "4        3240          52\n",
       "5       29346         922\n",
       "6        2991          89"
      ]
     },
     "execution_count": 28,
     "metadata": {},
     "output_type": "execute_result"
    }
   ],
   "source": [
    "pop_unemp"
   ]
  },
  {
   "cell_type": "code",
   "execution_count": 29,
   "id": "2a1dc2ea",
   "metadata": {},
   "outputs": [],
   "source": [
    "region_population_unemployment_df = pd.concat([region_population_unemployment_df, pop_unemp], axis = 1)"
   ]
  },
  {
   "cell_type": "code",
   "execution_count": 30,
   "id": "c6d34546",
   "metadata": {},
   "outputs": [
    {
     "data": {
      "text/html": [
       "<div>\n",
       "<style scoped>\n",
       "    .dataframe tbody tr th:only-of-type {\n",
       "        vertical-align: middle;\n",
       "    }\n",
       "\n",
       "    .dataframe tbody tr th {\n",
       "        vertical-align: top;\n",
       "    }\n",
       "\n",
       "    .dataframe thead th {\n",
       "        text-align: right;\n",
       "    }\n",
       "</style>\n",
       "<table border=\"1\" class=\"dataframe\">\n",
       "  <thead>\n",
       "    <tr style=\"text-align: right;\">\n",
       "      <th></th>\n",
       "      <th>Reporting region</th>\n",
       "      <th>Number of offences</th>\n",
       "      <th>population</th>\n",
       "      <th>unemployed</th>\n",
       "    </tr>\n",
       "  </thead>\n",
       "  <tbody>\n",
       "    <tr>\n",
       "      <th>0</th>\n",
       "      <td>Alice Springs</td>\n",
       "      <td>94639</td>\n",
       "      <td>23736</td>\n",
       "      <td>430</td>\n",
       "    </tr>\n",
       "    <tr>\n",
       "      <th>1</th>\n",
       "      <td>Darwin</td>\n",
       "      <td>145595</td>\n",
       "      <td>132045</td>\n",
       "      <td>3466</td>\n",
       "    </tr>\n",
       "    <tr>\n",
       "      <th>2</th>\n",
       "      <td>Katherine</td>\n",
       "      <td>24768</td>\n",
       "      <td>9717</td>\n",
       "      <td>162</td>\n",
       "    </tr>\n",
       "    <tr>\n",
       "      <th>3</th>\n",
       "      <td>NT Balance</td>\n",
       "      <td>87229</td>\n",
       "      <td>4576</td>\n",
       "      <td>4153</td>\n",
       "    </tr>\n",
       "    <tr>\n",
       "      <th>4</th>\n",
       "      <td>Nhulunbuy</td>\n",
       "      <td>5295</td>\n",
       "      <td>3240</td>\n",
       "      <td>52</td>\n",
       "    </tr>\n",
       "    <tr>\n",
       "      <th>5</th>\n",
       "      <td>Palmerston</td>\n",
       "      <td>47344</td>\n",
       "      <td>29346</td>\n",
       "      <td>922</td>\n",
       "    </tr>\n",
       "    <tr>\n",
       "      <th>6</th>\n",
       "      <td>Tennant Creek</td>\n",
       "      <td>15671</td>\n",
       "      <td>2991</td>\n",
       "      <td>89</td>\n",
       "    </tr>\n",
       "  </tbody>\n",
       "</table>\n",
       "</div>"
      ],
      "text/plain": [
       "  Reporting region  Number of offences  population  unemployed\n",
       "0    Alice Springs               94639       23736         430\n",
       "1           Darwin              145595      132045        3466\n",
       "2        Katherine               24768        9717         162\n",
       "3       NT Balance               87229        4576        4153\n",
       "4        Nhulunbuy                5295        3240          52\n",
       "5       Palmerston               47344       29346         922\n",
       "6    Tennant Creek               15671        2991          89"
      ]
     },
     "execution_count": 30,
     "metadata": {},
     "output_type": "execute_result"
    }
   ],
   "source": [
    "region_population_unemployment_df"
   ]
  },
  {
   "cell_type": "code",
   "execution_count": 33,
   "id": "7e301579",
   "metadata": {},
   "outputs": [
    {
     "data": {
      "text/html": [
       "<div>\n",
       "<style scoped>\n",
       "    .dataframe tbody tr th:only-of-type {\n",
       "        vertical-align: middle;\n",
       "    }\n",
       "\n",
       "    .dataframe tbody tr th {\n",
       "        vertical-align: top;\n",
       "    }\n",
       "\n",
       "    .dataframe thead th {\n",
       "        text-align: right;\n",
       "    }\n",
       "</style>\n",
       "<table border=\"1\" class=\"dataframe\">\n",
       "  <thead>\n",
       "    <tr style=\"text-align: right;\">\n",
       "      <th></th>\n",
       "      <th>Offence category</th>\n",
       "      <th>Offence type</th>\n",
       "      <th>Number of offences</th>\n",
       "    </tr>\n",
       "  </thead>\n",
       "  <tbody>\n",
       "    <tr>\n",
       "      <th>0</th>\n",
       "      <td>Abduction - harassment and other offences agai...</td>\n",
       "      <td>Abduction and kidnapping</td>\n",
       "      <td>15</td>\n",
       "    </tr>\n",
       "    <tr>\n",
       "      <th>1</th>\n",
       "      <td>Abduction - harassment and other offences agai...</td>\n",
       "      <td>Deprivation of liberty /false imprisonment</td>\n",
       "      <td>610</td>\n",
       "    </tr>\n",
       "    <tr>\n",
       "      <th>2</th>\n",
       "      <td>Abduction - harassment and other offences agai...</td>\n",
       "      <td>Harassment and private nuisance</td>\n",
       "      <td>1088</td>\n",
       "    </tr>\n",
       "    <tr>\n",
       "      <th>3</th>\n",
       "      <td>Abduction - harassment and other offences agai...</td>\n",
       "      <td>Threatening behaviour</td>\n",
       "      <td>3314</td>\n",
       "    </tr>\n",
       "    <tr>\n",
       "      <th>4</th>\n",
       "      <td>Acts intended to cause injury</td>\n",
       "      <td>Assault</td>\n",
       "      <td>102368</td>\n",
       "    </tr>\n",
       "    <tr>\n",
       "      <th>5</th>\n",
       "      <td>Acts intended to cause injury</td>\n",
       "      <td>Other acts intended to cause injury</td>\n",
       "      <td>371</td>\n",
       "    </tr>\n",
       "    <tr>\n",
       "      <th>6</th>\n",
       "      <td>Commercial break-ins</td>\n",
       "      <td>Commercial break-ins actual</td>\n",
       "      <td>26171</td>\n",
       "    </tr>\n",
       "    <tr>\n",
       "      <th>7</th>\n",
       "      <td>Commercial break-ins</td>\n",
       "      <td>Commercial break-ins attempted</td>\n",
       "      <td>3429</td>\n",
       "    </tr>\n",
       "    <tr>\n",
       "      <th>8</th>\n",
       "      <td>Homicide and related Offences</td>\n",
       "      <td>Attempted Murder</td>\n",
       "      <td>45</td>\n",
       "    </tr>\n",
       "    <tr>\n",
       "      <th>9</th>\n",
       "      <td>Homicide and related Offences</td>\n",
       "      <td>Driving causing death</td>\n",
       "      <td>37</td>\n",
       "    </tr>\n",
       "    <tr>\n",
       "      <th>10</th>\n",
       "      <td>Homicide and related Offences</td>\n",
       "      <td>Manslaughter</td>\n",
       "      <td>45</td>\n",
       "    </tr>\n",
       "    <tr>\n",
       "      <th>11</th>\n",
       "      <td>Homicide and related Offences</td>\n",
       "      <td>Murder</td>\n",
       "      <td>121</td>\n",
       "    </tr>\n",
       "    <tr>\n",
       "      <th>12</th>\n",
       "      <td>House break-ins</td>\n",
       "      <td>House break-ins actual</td>\n",
       "      <td>25953</td>\n",
       "    </tr>\n",
       "    <tr>\n",
       "      <th>13</th>\n",
       "      <td>House break-ins</td>\n",
       "      <td>House break-ins attempted</td>\n",
       "      <td>3543</td>\n",
       "    </tr>\n",
       "    <tr>\n",
       "      <th>14</th>\n",
       "      <td>Motor theft and related offences</td>\n",
       "      <td>Illegal use of a motor vehicle</td>\n",
       "      <td>13289</td>\n",
       "    </tr>\n",
       "    <tr>\n",
       "      <th>15</th>\n",
       "      <td>Motor theft and related offences</td>\n",
       "      <td>Theft of motor vehicle parts or contents</td>\n",
       "      <td>16197</td>\n",
       "    </tr>\n",
       "    <tr>\n",
       "      <th>16</th>\n",
       "      <td>Other Dangerous or negligent acts endangering ...</td>\n",
       "      <td>Other dangerous or negligent acts endangering ...</td>\n",
       "      <td>1787</td>\n",
       "    </tr>\n",
       "    <tr>\n",
       "      <th>17</th>\n",
       "      <td>Property Damage Offences</td>\n",
       "      <td>Property damage offences</td>\n",
       "      <td>108292</td>\n",
       "    </tr>\n",
       "    <tr>\n",
       "      <th>18</th>\n",
       "      <td>Robbery - extortion and related offences</td>\n",
       "      <td>Blackmail and extortion</td>\n",
       "      <td>28</td>\n",
       "    </tr>\n",
       "    <tr>\n",
       "      <th>19</th>\n",
       "      <td>Robbery - extortion and related offences</td>\n",
       "      <td>Robbery</td>\n",
       "      <td>1781</td>\n",
       "    </tr>\n",
       "    <tr>\n",
       "      <th>20</th>\n",
       "      <td>Sexual Assault and related offences</td>\n",
       "      <td>Non-assaultive sexual offences</td>\n",
       "      <td>796</td>\n",
       "    </tr>\n",
       "    <tr>\n",
       "      <th>21</th>\n",
       "      <td>Sexual Assault and related offences</td>\n",
       "      <td>Sexual assault</td>\n",
       "      <td>5452</td>\n",
       "    </tr>\n",
       "    <tr>\n",
       "      <th>22</th>\n",
       "      <td>Theft and related offences (other than MV)</td>\n",
       "      <td>Theft and related offences (other than MV)</td>\n",
       "      <td>105809</td>\n",
       "    </tr>\n",
       "  </tbody>\n",
       "</table>\n",
       "</div>"
      ],
      "text/plain": [
       "                                     Offence category  \\\n",
       "0   Abduction - harassment and other offences agai...   \n",
       "1   Abduction - harassment and other offences agai...   \n",
       "2   Abduction - harassment and other offences agai...   \n",
       "3   Abduction - harassment and other offences agai...   \n",
       "4                       Acts intended to cause injury   \n",
       "5                       Acts intended to cause injury   \n",
       "6                                Commercial break-ins   \n",
       "7                                Commercial break-ins   \n",
       "8                       Homicide and related Offences   \n",
       "9                       Homicide and related Offences   \n",
       "10                      Homicide and related Offences   \n",
       "11                      Homicide and related Offences   \n",
       "12                                    House break-ins   \n",
       "13                                    House break-ins   \n",
       "14                   Motor theft and related offences   \n",
       "15                   Motor theft and related offences   \n",
       "16  Other Dangerous or negligent acts endangering ...   \n",
       "17                           Property Damage Offences   \n",
       "18           Robbery - extortion and related offences   \n",
       "19           Robbery - extortion and related offences   \n",
       "20                Sexual Assault and related offences   \n",
       "21                Sexual Assault and related offences   \n",
       "22         Theft and related offences (other than MV)   \n",
       "\n",
       "                                         Offence type  Number of offences  \n",
       "0                            Abduction and kidnapping                  15  \n",
       "1          Deprivation of liberty /false imprisonment                 610  \n",
       "2                     Harassment and private nuisance                1088  \n",
       "3                               Threatening behaviour                3314  \n",
       "4                                             Assault              102368  \n",
       "5                 Other acts intended to cause injury                 371  \n",
       "6                         Commercial break-ins actual               26171  \n",
       "7                      Commercial break-ins attempted                3429  \n",
       "8                                    Attempted Murder                  45  \n",
       "9                               Driving causing death                  37  \n",
       "10                                       Manslaughter                  45  \n",
       "11                                             Murder                 121  \n",
       "12                             House break-ins actual               25953  \n",
       "13                          House break-ins attempted                3543  \n",
       "14                     Illegal use of a motor vehicle               13289  \n",
       "15           Theft of motor vehicle parts or contents               16197  \n",
       "16  Other dangerous or negligent acts endangering ...                1787  \n",
       "17                           Property damage offences              108292  \n",
       "18                            Blackmail and extortion                  28  \n",
       "19                                            Robbery                1781  \n",
       "20                     Non-assaultive sexual offences                 796  \n",
       "21                                     Sexual assault                5452  \n",
       "22         Theft and related offences (other than MV)              105809  "
      ]
     },
     "execution_count": 33,
     "metadata": {},
     "output_type": "execute_result"
    }
   ],
   "source": [
    "offence_category_type = pd.DataFrame(nt_df.groupby(['Offence category','Offence type'])['Number of offences'].sum()).reset_index()\n",
    "offence_category_type"
   ]
  },
  {
   "cell_type": "code",
   "execution_count": null,
   "id": "1d1fe37b",
   "metadata": {},
   "outputs": [],
   "source": []
  },
  {
   "cell_type": "code",
   "execution_count": 34,
   "id": "637259ac",
   "metadata": {},
   "outputs": [
    {
     "data": {
      "text/html": [
       "<div>\n",
       "<style scoped>\n",
       "    .dataframe tbody tr th:only-of-type {\n",
       "        vertical-align: middle;\n",
       "    }\n",
       "\n",
       "    .dataframe tbody tr th {\n",
       "        vertical-align: top;\n",
       "    }\n",
       "\n",
       "    .dataframe thead th {\n",
       "        text-align: right;\n",
       "    }\n",
       "</style>\n",
       "<table border=\"1\" class=\"dataframe\">\n",
       "  <thead>\n",
       "    <tr style=\"text-align: right;\">\n",
       "      <th></th>\n",
       "      <th>Offence category</th>\n",
       "      <th>Number of offences</th>\n",
       "    </tr>\n",
       "  </thead>\n",
       "  <tbody>\n",
       "    <tr>\n",
       "      <th>0</th>\n",
       "      <td>Abduction - harassment and other offences agai...</td>\n",
       "      <td>5027</td>\n",
       "    </tr>\n",
       "    <tr>\n",
       "      <th>1</th>\n",
       "      <td>Acts intended to cause injury</td>\n",
       "      <td>102739</td>\n",
       "    </tr>\n",
       "    <tr>\n",
       "      <th>2</th>\n",
       "      <td>Commercial break-ins</td>\n",
       "      <td>29600</td>\n",
       "    </tr>\n",
       "    <tr>\n",
       "      <th>3</th>\n",
       "      <td>Homicide and related Offences</td>\n",
       "      <td>248</td>\n",
       "    </tr>\n",
       "    <tr>\n",
       "      <th>4</th>\n",
       "      <td>House break-ins</td>\n",
       "      <td>29496</td>\n",
       "    </tr>\n",
       "    <tr>\n",
       "      <th>5</th>\n",
       "      <td>Motor theft and related offences</td>\n",
       "      <td>29486</td>\n",
       "    </tr>\n",
       "    <tr>\n",
       "      <th>6</th>\n",
       "      <td>Other Dangerous or negligent acts endangering ...</td>\n",
       "      <td>1787</td>\n",
       "    </tr>\n",
       "    <tr>\n",
       "      <th>7</th>\n",
       "      <td>Property Damage Offences</td>\n",
       "      <td>108292</td>\n",
       "    </tr>\n",
       "    <tr>\n",
       "      <th>8</th>\n",
       "      <td>Robbery - extortion and related offences</td>\n",
       "      <td>1809</td>\n",
       "    </tr>\n",
       "    <tr>\n",
       "      <th>9</th>\n",
       "      <td>Sexual Assault and related offences</td>\n",
       "      <td>6248</td>\n",
       "    </tr>\n",
       "    <tr>\n",
       "      <th>10</th>\n",
       "      <td>Theft and related offences (other than MV)</td>\n",
       "      <td>105809</td>\n",
       "    </tr>\n",
       "  </tbody>\n",
       "</table>\n",
       "</div>"
      ],
      "text/plain": [
       "                                     Offence category  Number of offences\n",
       "0   Abduction - harassment and other offences agai...                5027\n",
       "1                       Acts intended to cause injury              102739\n",
       "2                                Commercial break-ins               29600\n",
       "3                       Homicide and related Offences                 248\n",
       "4                                     House break-ins               29496\n",
       "5                    Motor theft and related offences               29486\n",
       "6   Other Dangerous or negligent acts endangering ...                1787\n",
       "7                            Property Damage Offences              108292\n",
       "8            Robbery - extortion and related offences                1809\n",
       "9                 Sexual Assault and related offences                6248\n",
       "10         Theft and related offences (other than MV)              105809"
      ]
     },
     "execution_count": 34,
     "metadata": {},
     "output_type": "execute_result"
    }
   ],
   "source": [
    "offence_category = pd.DataFrame(nt_df.groupby('Offence category')['Number of offences'].sum()).reset_index()\n",
    "offence_category"
   ]
  },
  {
   "cell_type": "code",
   "execution_count": 35,
   "id": "388975cf",
   "metadata": {},
   "outputs": [],
   "source": [
    "#  Get longitude and latitude and concat / join "
   ]
  },
  {
   "cell_type": "code",
   "execution_count": 36,
   "id": "e1734bad",
   "metadata": {},
   "outputs": [
    {
     "data": {
      "text/html": [
       "<div>\n",
       "<style scoped>\n",
       "    .dataframe tbody tr th:only-of-type {\n",
       "        vertical-align: middle;\n",
       "    }\n",
       "\n",
       "    .dataframe tbody tr th {\n",
       "        vertical-align: top;\n",
       "    }\n",
       "\n",
       "    .dataframe thead th {\n",
       "        text-align: right;\n",
       "    }\n",
       "</style>\n",
       "<table border=\"1\" class=\"dataframe\">\n",
       "  <thead>\n",
       "    <tr style=\"text-align: right;\">\n",
       "      <th></th>\n",
       "      <th>Year</th>\n",
       "      <th>Month number</th>\n",
       "      <th>Number of offences</th>\n",
       "    </tr>\n",
       "  </thead>\n",
       "  <tbody>\n",
       "    <tr>\n",
       "      <th>count</th>\n",
       "      <td>3103.0</td>\n",
       "      <td>3103.000000</td>\n",
       "      <td>3103.000000</td>\n",
       "    </tr>\n",
       "    <tr>\n",
       "      <th>mean</th>\n",
       "      <td>2013.0</td>\n",
       "      <td>6.422172</td>\n",
       "      <td>8.638737</td>\n",
       "    </tr>\n",
       "    <tr>\n",
       "      <th>std</th>\n",
       "      <td>0.0</td>\n",
       "      <td>3.472883</td>\n",
       "      <td>23.206805</td>\n",
       "    </tr>\n",
       "    <tr>\n",
       "      <th>min</th>\n",
       "      <td>2013.0</td>\n",
       "      <td>1.000000</td>\n",
       "      <td>1.000000</td>\n",
       "    </tr>\n",
       "    <tr>\n",
       "      <th>25%</th>\n",
       "      <td>2013.0</td>\n",
       "      <td>3.000000</td>\n",
       "      <td>1.000000</td>\n",
       "    </tr>\n",
       "    <tr>\n",
       "      <th>50%</th>\n",
       "      <td>2013.0</td>\n",
       "      <td>6.000000</td>\n",
       "      <td>2.000000</td>\n",
       "    </tr>\n",
       "    <tr>\n",
       "      <th>75%</th>\n",
       "      <td>2013.0</td>\n",
       "      <td>9.000000</td>\n",
       "      <td>6.000000</td>\n",
       "    </tr>\n",
       "    <tr>\n",
       "      <th>max</th>\n",
       "      <td>2013.0</td>\n",
       "      <td>12.000000</td>\n",
       "      <td>304.000000</td>\n",
       "    </tr>\n",
       "  </tbody>\n",
       "</table>\n",
       "</div>"
      ],
      "text/plain": [
       "         Year  Month number  Number of offences\n",
       "count  3103.0   3103.000000         3103.000000\n",
       "mean   2013.0      6.422172            8.638737\n",
       "std       0.0      3.472883           23.206805\n",
       "min    2013.0      1.000000            1.000000\n",
       "25%    2013.0      3.000000            1.000000\n",
       "50%    2013.0      6.000000            2.000000\n",
       "75%    2013.0      9.000000            6.000000\n",
       "max    2013.0     12.000000          304.000000"
      ]
     },
     "execution_count": 36,
     "metadata": {},
     "output_type": "execute_result"
    }
   ],
   "source": [
    "nt_df[nt_df['Year'] == 2013].describe()"
   ]
  },
  {
   "cell_type": "markdown",
   "id": "7fdf9c68",
   "metadata": {},
   "source": [
    "[Current - Northern Territory Crime Statistics May 2022](https://data.nt.gov.au/dataset/current-northern-territory-crime-statistics-may-2022)\n",
    "\n",
    "[South Australian Government Data Directory](https://data.sa.gov.au/data/dataset/crime-statistics)\n",
    "\n",
    "[Australian Bureau of Statistics](https://www.abs.gov.au/census/find-census-data/search-by-area)"
   ]
  },
  {
   "cell_type": "markdown",
   "id": "6a60de88",
   "metadata": {},
   "source": [
    "Offences in the Northern Territory can show strong seasonal patterns, with predictable peaks and troughs at certain times of the year.  Therefore, comparisons should be made of the same months in different years, rather than consecutive months.  For trends, a 12-month rolling average or rolling sum is recommended in order to dampen the month-to-month variability and account for the seasonal cycles.\n",
    "\n",
    "Last update was July 1st 2022."
   ]
  },
  {
   "cell_type": "markdown",
   "id": "cbbe247e",
   "metadata": {},
   "source": [
    "In 2017, the governments of the UK, Germany and Canada issued travel advisories to their citizens travelling in Australia, singling out Alice Springs as a place where extra precautions should be taken: \"Take care in the town centre of Alice Springs at night. There have been a number of incidents of harassment, robberies and attacks (including sexual assault) on foreign tourists.\" (UK)."
   ]
  },
  {
   "cell_type": "markdown",
   "id": "58609c52",
   "metadata": {},
   "source": [
    "\"Foreign travellers warned about visiting Alice Springs\". The New Daily. 15 March 2017. Retrieved 9 October 2019."
   ]
  },
  {
   "cell_type": "markdown",
   "id": "b227d03d",
   "metadata": {},
   "source": [
    "Webb, Carolyn (15 March 2017). \"Foreign tourists warned on Alice Springs safety risks\". The Sydney Morning Herald. Retrieved 9 October 2019."
   ]
  },
  {
   "cell_type": "markdown",
   "id": "c24e082b",
   "metadata": {},
   "source": [
    "\"The Northern Territory is the Murder Capital of Australia.\" The Guardian. 18 June 2013.   https://www.theguardian.com/news/datablog/2013/jun/18/australia-new-crime-statistics. Retrieved 15 August 2021 "
   ]
  },
  {
   "cell_type": "markdown",
   "id": "8c11ce85",
   "metadata": {},
   "source": [
    "![Murder Capital of Australia](murder_capital.png)"
   ]
  },
  {
   "cell_type": "markdown",
   "id": "5e51f39c",
   "metadata": {},
   "source": [
    "Australia's Northern Territory has acquired quite a reputation due to *its consistently higher per capita rate for homicide and manslaughter than other Australian states and territories, as well as a high level of assaults.* ([Wikipedia](https://en.wikipedia.org/wiki/Crime_in_the_Northern_Territory)) Most of these were related to domestic violence and alcohol intake. "
   ]
  },
  {
   "cell_type": "markdown",
   "id": "0fea682a",
   "metadata": {},
   "source": [
    "The headline presented above came from an article which was written for the [Guardian](https://www.theguardian.com/news/datablog/2013/jun/18/australia-new-crime-statistics) by Nick Evershed on the 18th of June in 2013. He wrote that the Northern Territory's murder and assault rates are the highest in the country. "
   ]
  },
  {
   "cell_type": "markdown",
   "id": "586c025a",
   "metadata": {},
   "source": [
    "The aim of this exploratory data analysis is to look into the crime trends in Australia's Northern territory using the Pandas and Plotly. The dataset used was the most recently updated [Current - Northern Territory Crime Statistics May 2022](https://data.nt.gov.au/dataset/current-northern-territory-crime-statistics-may-2022) from the Northern Territory Government website."
   ]
  },
  {
   "cell_type": "markdown",
   "id": "657c1c04",
   "metadata": {},
   "source": [
    "<h2 style = 'color: blue'> Reported Offences in the Northern Territory </h2>"
   ]
  },
  {
   "cell_type": "code",
   "execution_count": 37,
   "id": "c30e07a4",
   "metadata": {},
   "outputs": [
    {
     "data": {
      "application/vnd.jupyter.widget-view+json": {
       "model_id": "d932b7c3f6484488a4f8f8f6a2f58b54",
       "version_major": 2,
       "version_minor": 0
      },
      "text/plain": [
       "interactive(children=(Checkbox(value=True, description='By_Region'), Dropdown(description='Region', options=('…"
      ]
     },
     "metadata": {},
     "output_type": "display_data"
    }
   ],
   "source": [
    "@interact\n",
    "def show_category_trend_by_region (By_Region = True,\n",
    "                                   Region = list(region_month_year_offence_category['Reporting region'].unique()), \n",
    "                                   By_Year = False,\n",
    "                                   Year = list(region_month_year_offence_category['Year'].unique()),\n",
    "                                   By_Month = False,\n",
    "                                   Month_Number = list(region_month_year_offence_category['Month number'].unique())):\n",
    "    \n",
    "    region_filter = region_month_year_offence_category['Reporting region'] == Region\n",
    "    year_filter = region_month_year_offence_category['Year'] == Year\n",
    "    month_filter = region_month_year_offence_category['Month number'] == Month_Number\n",
    "    \n",
    "    if By_Region:\n",
    "        if By_Month & By_Year:\n",
    "            region_month_year_offence_category[region_filter & year_filter & month_filter].iplot(kind = 'pie', values = 'Number of offences', labels = 'Offence category', title=f'Reported Offences in Month {Month_Number} of {Year} in {Region}')\n",
    "        elif By_Year and not By_Month:\n",
    "            region_month_year_offence_category[region_filter & year_filter].iplot(kind = 'pie', values = 'Number of offences', labels = 'Offence category', title=f'Reported Offences in {Year} in {Region}')    \n",
    "        elif By_Month and not By_Year:\n",
    "            region_month_year_offence_category[region_filter & month_filter].iplot(kind = 'pie', values = 'Number of offences', labels = 'Offence category', title=f'Reported Offences in Month {Month_Number} from 2008 to 2022 in {Region}')\n",
    "        else:\n",
    "            region_month_year_offence_category[region_filter].iplot(kind = 'pie', values = 'Number of offences', labels = 'Offence category', title=f'Reported Offences from 2008 to 2022 in {Region}')\n",
    "    else:\n",
    "        if By_Month & By_Year:\n",
    "            region_month_year_offence_category[year_filter & month_filter].iplot(kind = 'pie', values = 'Number of offences', labels = 'Offence category', title=f'Reported Offences in Month {Month_Number} of {Year}')\n",
    "        elif By_Year and not By_Month:\n",
    "            region_month_year_offence_category[year_filter].iplot(kind = 'pie', values = 'Number of offences', labels = 'Offence category', title=f'Reported Offences in {Year}')    \n",
    "        elif By_Month and not By_Year:\n",
    "            region_month_year_offence_category[month_filter].iplot(kind = 'pie', values = 'Number of offences', labels = 'Offence category', title=f'Reported Offences in Month {Month_Number} from 2008 to 2022')\n",
    "        else:\n",
    "            region_month_year_offence_category.iplot(kind = 'pie', values = 'Number of offences', labels = 'Offence category', title=f'Reported Offences from 2008 to 2022')\n"
   ]
  },
  {
   "cell_type": "code",
   "execution_count": 38,
   "id": "e41014c0",
   "metadata": {},
   "outputs": [
    {
     "data": {
      "application/vnd.jupyter.widget-view+json": {
       "model_id": "ff79b79fbebe4ee5a368737611361ee3",
       "version_major": 2,
       "version_minor": 0
      },
      "text/plain": [
       "interactive(children=(Dropdown(description='Category', options=('Abduction - harassment and other offences aga…"
      ]
     },
     "metadata": {},
     "output_type": "display_data"
    }
   ],
   "source": [
    "@interact\n",
    "def show_offence_type(Category = list(region_month_year_offence_category['Offence category'].unique()),\n",
    "                      By_Year = False,\n",
    "                      Year = list(region_month_year_offence_category['Year'].unique()),\n",
    "                      By_Month = False,\n",
    "                      Month_Number = list(region_month_year_offence_category['Month number'].unique())):\n",
    "    \n",
    "    category_filter = region_month_year_offence_category['Offence category'] == Category\n",
    "    year_filter = region_month_year_offence_category['Year'] == Year\n",
    "    month_filter = region_month_year_offence_category['Month number'] == Month_Number\n",
    "    \n",
    "    \n",
    "    if By_Month & By_Year:\n",
    "        region_month_year_offence_category[category_filter & year_filter & month_filter].iplot(kind = 'pie', values = 'Number of offences', labels = 'Offence type', title=f'Types of Reported {Category} in Month {Month_Number} of {Year}')\n",
    "    elif By_Year and not By_Month:\n",
    "        region_month_year_offence_category[category_filter & year_filter].iplot(kind = 'pie', values = 'Number of offences', labels = 'Offence type', title=f'Types of Reported {Category} in {Year}')    \n",
    "    elif By_Month and not By_Year:\n",
    "        region_month_year_offence_category[category_filter & month_filter].iplot(kind = 'pie', values = 'Number of offences', labels = 'Offence type', title=f'Types of Reported {Category} in Month {Month_Number} from 2008 to 2022')\n",
    "    else:\n",
    "        region_month_year_offence_category[category_filter].iplot(kind = 'pie', values = 'Number of offences', labels = 'Offence type', title=f'Types of Reported {Category} from 2008 to 2022')\n"
   ]
  },
  {
   "cell_type": "markdown",
   "id": "80debd85",
   "metadata": {},
   "source": [
    "> ### The top 3 reported offences in the Northern Territory from 2008 to 2022 are: \n",
    ">\n",
    "> - Property Damage Offences: 25.8%\n",
    "> - Theft and Related Offences (other than Motor Vehicle Theft): 25.2%\n",
    "> - Acts intended to cause injury: 24.4%\n",
    ">\n",
    "\n",
    "Homicide and related offences only make up 0.059% of the reported offences. With a total of 44,994 reported offences, this means that 248 incidences of homicide occurred in a span of 13.5 years, which can indicate that an average of 18 homicides are reported each year. "
   ]
  },
  {
   "cell_type": "markdown",
   "id": "ac056ba4",
   "metadata": {},
   "source": [
    "> ### The offence categories are subdivided into different types.\n",
    ">\n",
    "> - Looking at the different types of offences associated with homicide, it is interesting to see that from 2008 to 2022, only 48.8% was classified as murder, which means that only half of the homicide offences, were intentional. \n",
    "\n",
    " - 18.1% of the homicide offences fall under manslaughter, which means that it was not intentional. This mean that around 45 out of 248 incidents could be related to violence due to alcohol or negligent behaviour. \n",
    "\n",
    " - Considering that acts intended to cause injury and dangerous, negligent acts that endanger persons, abduction, and sexual assault make up more than a quarter of the reported offences, it is highly possible for these acts to lead to manslaughter.\n",
    "\n",
    " - Theft and break-ins, which make up half of the reported incidents, can also lead to manslaughter should struggles between the victim and thief occur. \n",
    "\n",
    " - 14.9% of the homicide cases were due to driving accidents (which can easily be caused by alcohol and negligent behaviour.)\n",
    "\n",
    " - Lastly, 18.1% of the cases reported were classified as attempted murder, which should mean that the victim did not die from it. "
   ]
  },
  {
   "cell_type": "code",
   "execution_count": 39,
   "id": "d475c6f1",
   "metadata": {},
   "outputs": [
    {
     "data": {
      "text/plain": [
       "count    44994.000000\n",
       "mean         9.346602\n",
       "std         26.984379\n",
       "min          1.000000\n",
       "25%          1.000000\n",
       "50%          3.000000\n",
       "75%          6.000000\n",
       "max        458.000000\n",
       "Name: Number of offences, dtype: float64"
      ]
     },
     "execution_count": 39,
     "metadata": {},
     "output_type": "execute_result"
    }
   ],
   "source": [
    "nt_df['Number of offences'].describe()"
   ]
  },
  {
   "cell_type": "code",
   "execution_count": 40,
   "id": "7afb7e1b",
   "metadata": {},
   "outputs": [
    {
     "data": {
      "text/html": [
       "<div>\n",
       "<style scoped>\n",
       "    .dataframe tbody tr th:only-of-type {\n",
       "        vertical-align: middle;\n",
       "    }\n",
       "\n",
       "    .dataframe tbody tr th {\n",
       "        vertical-align: top;\n",
       "    }\n",
       "\n",
       "    .dataframe thead th {\n",
       "        text-align: right;\n",
       "    }\n",
       "</style>\n",
       "<table border=\"1\" class=\"dataframe\">\n",
       "  <thead>\n",
       "    <tr style=\"text-align: right;\">\n",
       "      <th></th>\n",
       "      <th>As At</th>\n",
       "      <th>Year</th>\n",
       "      <th>Month number</th>\n",
       "      <th>Offence category</th>\n",
       "      <th>Offence type</th>\n",
       "      <th>Alcohol involvement</th>\n",
       "      <th>DV involvement</th>\n",
       "      <th>Reporting region</th>\n",
       "      <th>Statistical Area 2</th>\n",
       "      <th>Number of offences</th>\n",
       "    </tr>\n",
       "  </thead>\n",
       "  <tbody>\n",
       "    <tr>\n",
       "      <th>6111</th>\n",
       "      <td>1/07/2022</td>\n",
       "      <td>2010</td>\n",
       "      <td>1</td>\n",
       "      <td>Property Damage Offences</td>\n",
       "      <td>Property damage offences</td>\n",
       "      <td>-</td>\n",
       "      <td>-</td>\n",
       "      <td>Darwin</td>\n",
       "      <td>-</td>\n",
       "      <td>458</td>\n",
       "    </tr>\n",
       "  </tbody>\n",
       "</table>\n",
       "</div>"
      ],
      "text/plain": [
       "          As At  Year  Month number          Offence category  \\\n",
       "6111  1/07/2022  2010             1  Property Damage Offences   \n",
       "\n",
       "                  Offence type Alcohol involvement DV involvement  \\\n",
       "6111  Property damage offences                   -              -   \n",
       "\n",
       "     Reporting region Statistical Area 2  Number of offences  \n",
       "6111           Darwin                  -                 458  "
      ]
     },
     "execution_count": 40,
     "metadata": {},
     "output_type": "execute_result"
    }
   ],
   "source": [
    "nt_df[nt_df['Number of offences'] == 458]"
   ]
  },
  {
   "cell_type": "code",
   "execution_count": 41,
   "id": "5e591733",
   "metadata": {},
   "outputs": [
    {
     "data": {
      "application/vnd.jupyter.widget-view+json": {
       "model_id": "3121fecea3ff4e928c294eda7c925ce1",
       "version_major": 2,
       "version_minor": 0
      },
      "text/plain": [
       "interactive(children=(Dropdown(description='Category', options=('Abduction - harassment and other offences aga…"
      ]
     },
     "metadata": {},
     "output_type": "display_data"
    }
   ],
   "source": [
    "@interact\n",
    "def show_max_min_offence(Category = list(region_month_year_offence_category['Offence category'].unique())):\n",
    "    print(region_month_year_offence_category[region_month_year_offence_category['Offence category'] == Category]['Number of offences'].describe())"
   ]
  },
  {
   "cell_type": "markdown",
   "id": "6bba0e2b",
   "metadata": {},
   "source": [
    "<h2 style = 'color: blue'> Regional Trend </h2>\n",
    "\n",
    "> *In 2017, the governments of the UK, Germany and Canada issued travel advisories to their citizens travelling in Australia, singling out Alice Springs as a place where extra precautions should be taken: \"Take care in the town centre of Alice Springs at night. There have been a number of incidents of harassment, robberies and attacks (including sexual assault) on foreign tourists.\" (UK).*\n",
    ">\n",
    "> -- \"Foreign travellers warned about visiting Alice Springs\". The New Daily. 15 March 2017. Retrieved 9 October 2019.\n"
   ]
  },
  {
   "cell_type": "code",
   "execution_count": 42,
   "id": "9afe66b7",
   "metadata": {
    "scrolled": false
   },
   "outputs": [
    {
     "data": {
      "application/vnd.plotly.v1+json": {
       "config": {
        "plotlyServerURL": "https://plot.ly"
       },
       "data": [
        {
         "hovertemplate": "Reporting region=Alice Springs<br>Year=%{x}<br>Number of offences=%{y}<extra></extra>",
         "legendgroup": "Alice Springs",
         "line": {
          "color": "#636efa",
          "dash": "solid"
         },
         "marker": {
          "symbol": "circle"
         },
         "mode": "markers+lines",
         "name": "Alice Springs",
         "orientation": "v",
         "showlegend": true,
         "type": "scatter",
         "x": [
          2008,
          2009,
          2010,
          2011,
          2012,
          2013,
          2014,
          2015,
          2016,
          2017,
          2018,
          2019,
          2020,
          2021,
          2022
         ],
         "xaxis": "x",
         "y": [
          5312,
          5735,
          6989,
          6235,
          7418,
          5935,
          5410,
          5907,
          6244,
          6379,
          6887,
          6240,
          6657,
          8613,
          4678
         ],
         "yaxis": "y"
        },
        {
         "hovertemplate": "Reporting region=Darwin<br>Year=%{x}<br>Number of offences=%{y}<extra></extra>",
         "legendgroup": "Darwin",
         "line": {
          "color": "#EF553B",
          "dash": "solid"
         },
         "marker": {
          "symbol": "circle"
         },
         "mode": "markers+lines",
         "name": "Darwin",
         "orientation": "v",
         "showlegend": true,
         "type": "scatter",
         "x": [
          2008,
          2009,
          2010,
          2011,
          2012,
          2013,
          2014,
          2015,
          2016,
          2017,
          2018,
          2019,
          2020,
          2021,
          2022
         ],
         "xaxis": "x",
         "y": [
          12218,
          11359,
          11609,
          9954,
          10420,
          8947,
          10073,
          9891,
          9933,
          9780,
          9223,
          9368,
          8468,
          10009,
          4343
         ],
         "yaxis": "y"
        },
        {
         "hovertemplate": "Reporting region=Katherine<br>Year=%{x}<br>Number of offences=%{y}<extra></extra>",
         "legendgroup": "Katherine",
         "line": {
          "color": "#00cc96",
          "dash": "solid"
         },
         "marker": {
          "symbol": "circle"
         },
         "mode": "markers+lines",
         "name": "Katherine",
         "orientation": "v",
         "showlegend": true,
         "type": "scatter",
         "x": [
          2008,
          2009,
          2010,
          2011,
          2012,
          2013,
          2014,
          2015,
          2016,
          2017,
          2018,
          2019,
          2020,
          2021,
          2022
         ],
         "xaxis": "x",
         "y": [
          1654,
          2017,
          1886,
          1723,
          1769,
          1696,
          1799,
          1344,
          1415,
          1552,
          2027,
          1725,
          1606,
          1697,
          858
         ],
         "yaxis": "y"
        },
        {
         "hovertemplate": "Reporting region=NT Balance<br>Year=%{x}<br>Number of offences=%{y}<extra></extra>",
         "legendgroup": "NT Balance",
         "line": {
          "color": "#ab63fa",
          "dash": "solid"
         },
         "marker": {
          "symbol": "circle"
         },
         "mode": "markers+lines",
         "name": "NT Balance",
         "orientation": "v",
         "showlegend": true,
         "type": "scatter",
         "x": [
          2008,
          2009,
          2010,
          2011,
          2012,
          2013,
          2014,
          2015,
          2016,
          2017,
          2018,
          2019,
          2020,
          2021,
          2022
         ],
         "xaxis": "x",
         "y": [
          4332,
          4861,
          4868,
          5161,
          5837,
          5995,
          6096,
          6012,
          6194,
          6835,
          7076,
          6781,
          6538,
          7297,
          3346
         ],
         "yaxis": "y"
        },
        {
         "hovertemplate": "Reporting region=Nhulunbuy<br>Year=%{x}<br>Number of offences=%{y}<extra></extra>",
         "legendgroup": "Nhulunbuy",
         "line": {
          "color": "#FFA15A",
          "dash": "solid"
         },
         "marker": {
          "symbol": "circle"
         },
         "mode": "markers+lines",
         "name": "Nhulunbuy",
         "orientation": "v",
         "showlegend": true,
         "type": "scatter",
         "x": [
          2008,
          2009,
          2010,
          2011,
          2012,
          2013,
          2014,
          2015,
          2016,
          2017,
          2018,
          2019,
          2020,
          2021,
          2022
         ],
         "xaxis": "x",
         "y": [
          523,
          432,
          422,
          379,
          305,
          343,
          339,
          381,
          288,
          416,
          352,
          286,
          297,
          411,
          121
         ],
         "yaxis": "y"
        },
        {
         "hovertemplate": "Reporting region=Palmerston<br>Year=%{x}<br>Number of offences=%{y}<extra></extra>",
         "legendgroup": "Palmerston",
         "line": {
          "color": "#19d3f3",
          "dash": "solid"
         },
         "marker": {
          "symbol": "circle"
         },
         "mode": "markers+lines",
         "name": "Palmerston",
         "orientation": "v",
         "showlegend": true,
         "type": "scatter",
         "x": [
          2008,
          2009,
          2010,
          2011,
          2012,
          2013,
          2014,
          2015,
          2016,
          2017,
          2018,
          2019,
          2020,
          2021,
          2022
         ],
         "xaxis": "x",
         "y": [
          3537,
          3053,
          3591,
          2733,
          2918,
          2652,
          3275,
          3076,
          3467,
          3878,
          3876,
          3105,
          3244,
          3301,
          1638
         ],
         "yaxis": "y"
        },
        {
         "hovertemplate": "Reporting region=Tennant Creek<br>Year=%{x}<br>Number of offences=%{y}<extra></extra>",
         "legendgroup": "Tennant Creek",
         "line": {
          "color": "#FF6692",
          "dash": "solid"
         },
         "marker": {
          "symbol": "circle"
         },
         "mode": "markers+lines",
         "name": "Tennant Creek",
         "orientation": "v",
         "showlegend": true,
         "type": "scatter",
         "x": [
          2008,
          2009,
          2010,
          2011,
          2012,
          2013,
          2014,
          2015,
          2016,
          2017,
          2018,
          2019,
          2020,
          2021,
          2022
         ],
         "xaxis": "x",
         "y": [
          1091,
          1136,
          1173,
          1097,
          971,
          1238,
          672,
          729,
          865,
          1050,
          1107,
          1344,
          1277,
          1451,
          470
         ],
         "yaxis": "y"
        }
       ],
       "layout": {
        "legend": {
         "title": {
          "text": "Reporting region"
         },
         "tracegroupgap": 0
        },
        "margin": {
         "t": 60
        },
        "template": {
         "data": {
          "bar": [
           {
            "error_x": {
             "color": "#2a3f5f"
            },
            "error_y": {
             "color": "#2a3f5f"
            },
            "marker": {
             "line": {
              "color": "#E5ECF6",
              "width": 0.5
             },
             "pattern": {
              "fillmode": "overlay",
              "size": 10,
              "solidity": 0.2
             }
            },
            "type": "bar"
           }
          ],
          "barpolar": [
           {
            "marker": {
             "line": {
              "color": "#E5ECF6",
              "width": 0.5
             },
             "pattern": {
              "fillmode": "overlay",
              "size": 10,
              "solidity": 0.2
             }
            },
            "type": "barpolar"
           }
          ],
          "carpet": [
           {
            "aaxis": {
             "endlinecolor": "#2a3f5f",
             "gridcolor": "white",
             "linecolor": "white",
             "minorgridcolor": "white",
             "startlinecolor": "#2a3f5f"
            },
            "baxis": {
             "endlinecolor": "#2a3f5f",
             "gridcolor": "white",
             "linecolor": "white",
             "minorgridcolor": "white",
             "startlinecolor": "#2a3f5f"
            },
            "type": "carpet"
           }
          ],
          "choropleth": [
           {
            "colorbar": {
             "outlinewidth": 0,
             "ticks": ""
            },
            "type": "choropleth"
           }
          ],
          "contour": [
           {
            "colorbar": {
             "outlinewidth": 0,
             "ticks": ""
            },
            "colorscale": [
             [
              0,
              "#0d0887"
             ],
             [
              0.1111111111111111,
              "#46039f"
             ],
             [
              0.2222222222222222,
              "#7201a8"
             ],
             [
              0.3333333333333333,
              "#9c179e"
             ],
             [
              0.4444444444444444,
              "#bd3786"
             ],
             [
              0.5555555555555556,
              "#d8576b"
             ],
             [
              0.6666666666666666,
              "#ed7953"
             ],
             [
              0.7777777777777778,
              "#fb9f3a"
             ],
             [
              0.8888888888888888,
              "#fdca26"
             ],
             [
              1,
              "#f0f921"
             ]
            ],
            "type": "contour"
           }
          ],
          "contourcarpet": [
           {
            "colorbar": {
             "outlinewidth": 0,
             "ticks": ""
            },
            "type": "contourcarpet"
           }
          ],
          "heatmap": [
           {
            "colorbar": {
             "outlinewidth": 0,
             "ticks": ""
            },
            "colorscale": [
             [
              0,
              "#0d0887"
             ],
             [
              0.1111111111111111,
              "#46039f"
             ],
             [
              0.2222222222222222,
              "#7201a8"
             ],
             [
              0.3333333333333333,
              "#9c179e"
             ],
             [
              0.4444444444444444,
              "#bd3786"
             ],
             [
              0.5555555555555556,
              "#d8576b"
             ],
             [
              0.6666666666666666,
              "#ed7953"
             ],
             [
              0.7777777777777778,
              "#fb9f3a"
             ],
             [
              0.8888888888888888,
              "#fdca26"
             ],
             [
              1,
              "#f0f921"
             ]
            ],
            "type": "heatmap"
           }
          ],
          "heatmapgl": [
           {
            "colorbar": {
             "outlinewidth": 0,
             "ticks": ""
            },
            "colorscale": [
             [
              0,
              "#0d0887"
             ],
             [
              0.1111111111111111,
              "#46039f"
             ],
             [
              0.2222222222222222,
              "#7201a8"
             ],
             [
              0.3333333333333333,
              "#9c179e"
             ],
             [
              0.4444444444444444,
              "#bd3786"
             ],
             [
              0.5555555555555556,
              "#d8576b"
             ],
             [
              0.6666666666666666,
              "#ed7953"
             ],
             [
              0.7777777777777778,
              "#fb9f3a"
             ],
             [
              0.8888888888888888,
              "#fdca26"
             ],
             [
              1,
              "#f0f921"
             ]
            ],
            "type": "heatmapgl"
           }
          ],
          "histogram": [
           {
            "marker": {
             "pattern": {
              "fillmode": "overlay",
              "size": 10,
              "solidity": 0.2
             }
            },
            "type": "histogram"
           }
          ],
          "histogram2d": [
           {
            "colorbar": {
             "outlinewidth": 0,
             "ticks": ""
            },
            "colorscale": [
             [
              0,
              "#0d0887"
             ],
             [
              0.1111111111111111,
              "#46039f"
             ],
             [
              0.2222222222222222,
              "#7201a8"
             ],
             [
              0.3333333333333333,
              "#9c179e"
             ],
             [
              0.4444444444444444,
              "#bd3786"
             ],
             [
              0.5555555555555556,
              "#d8576b"
             ],
             [
              0.6666666666666666,
              "#ed7953"
             ],
             [
              0.7777777777777778,
              "#fb9f3a"
             ],
             [
              0.8888888888888888,
              "#fdca26"
             ],
             [
              1,
              "#f0f921"
             ]
            ],
            "type": "histogram2d"
           }
          ],
          "histogram2dcontour": [
           {
            "colorbar": {
             "outlinewidth": 0,
             "ticks": ""
            },
            "colorscale": [
             [
              0,
              "#0d0887"
             ],
             [
              0.1111111111111111,
              "#46039f"
             ],
             [
              0.2222222222222222,
              "#7201a8"
             ],
             [
              0.3333333333333333,
              "#9c179e"
             ],
             [
              0.4444444444444444,
              "#bd3786"
             ],
             [
              0.5555555555555556,
              "#d8576b"
             ],
             [
              0.6666666666666666,
              "#ed7953"
             ],
             [
              0.7777777777777778,
              "#fb9f3a"
             ],
             [
              0.8888888888888888,
              "#fdca26"
             ],
             [
              1,
              "#f0f921"
             ]
            ],
            "type": "histogram2dcontour"
           }
          ],
          "mesh3d": [
           {
            "colorbar": {
             "outlinewidth": 0,
             "ticks": ""
            },
            "type": "mesh3d"
           }
          ],
          "parcoords": [
           {
            "line": {
             "colorbar": {
              "outlinewidth": 0,
              "ticks": ""
             }
            },
            "type": "parcoords"
           }
          ],
          "pie": [
           {
            "automargin": true,
            "type": "pie"
           }
          ],
          "scatter": [
           {
            "fillpattern": {
             "fillmode": "overlay",
             "size": 10,
             "solidity": 0.2
            },
            "type": "scatter"
           }
          ],
          "scatter3d": [
           {
            "line": {
             "colorbar": {
              "outlinewidth": 0,
              "ticks": ""
             }
            },
            "marker": {
             "colorbar": {
              "outlinewidth": 0,
              "ticks": ""
             }
            },
            "type": "scatter3d"
           }
          ],
          "scattercarpet": [
           {
            "marker": {
             "colorbar": {
              "outlinewidth": 0,
              "ticks": ""
             }
            },
            "type": "scattercarpet"
           }
          ],
          "scattergeo": [
           {
            "marker": {
             "colorbar": {
              "outlinewidth": 0,
              "ticks": ""
             }
            },
            "type": "scattergeo"
           }
          ],
          "scattergl": [
           {
            "marker": {
             "colorbar": {
              "outlinewidth": 0,
              "ticks": ""
             }
            },
            "type": "scattergl"
           }
          ],
          "scattermapbox": [
           {
            "marker": {
             "colorbar": {
              "outlinewidth": 0,
              "ticks": ""
             }
            },
            "type": "scattermapbox"
           }
          ],
          "scatterpolar": [
           {
            "marker": {
             "colorbar": {
              "outlinewidth": 0,
              "ticks": ""
             }
            },
            "type": "scatterpolar"
           }
          ],
          "scatterpolargl": [
           {
            "marker": {
             "colorbar": {
              "outlinewidth": 0,
              "ticks": ""
             }
            },
            "type": "scatterpolargl"
           }
          ],
          "scatterternary": [
           {
            "marker": {
             "colorbar": {
              "outlinewidth": 0,
              "ticks": ""
             }
            },
            "type": "scatterternary"
           }
          ],
          "surface": [
           {
            "colorbar": {
             "outlinewidth": 0,
             "ticks": ""
            },
            "colorscale": [
             [
              0,
              "#0d0887"
             ],
             [
              0.1111111111111111,
              "#46039f"
             ],
             [
              0.2222222222222222,
              "#7201a8"
             ],
             [
              0.3333333333333333,
              "#9c179e"
             ],
             [
              0.4444444444444444,
              "#bd3786"
             ],
             [
              0.5555555555555556,
              "#d8576b"
             ],
             [
              0.6666666666666666,
              "#ed7953"
             ],
             [
              0.7777777777777778,
              "#fb9f3a"
             ],
             [
              0.8888888888888888,
              "#fdca26"
             ],
             [
              1,
              "#f0f921"
             ]
            ],
            "type": "surface"
           }
          ],
          "table": [
           {
            "cells": {
             "fill": {
              "color": "#EBF0F8"
             },
             "line": {
              "color": "white"
             }
            },
            "header": {
             "fill": {
              "color": "#C8D4E3"
             },
             "line": {
              "color": "white"
             }
            },
            "type": "table"
           }
          ]
         },
         "layout": {
          "annotationdefaults": {
           "arrowcolor": "#2a3f5f",
           "arrowhead": 0,
           "arrowwidth": 1
          },
          "autotypenumbers": "strict",
          "coloraxis": {
           "colorbar": {
            "outlinewidth": 0,
            "ticks": ""
           }
          },
          "colorscale": {
           "diverging": [
            [
             0,
             "#8e0152"
            ],
            [
             0.1,
             "#c51b7d"
            ],
            [
             0.2,
             "#de77ae"
            ],
            [
             0.3,
             "#f1b6da"
            ],
            [
             0.4,
             "#fde0ef"
            ],
            [
             0.5,
             "#f7f7f7"
            ],
            [
             0.6,
             "#e6f5d0"
            ],
            [
             0.7,
             "#b8e186"
            ],
            [
             0.8,
             "#7fbc41"
            ],
            [
             0.9,
             "#4d9221"
            ],
            [
             1,
             "#276419"
            ]
           ],
           "sequential": [
            [
             0,
             "#0d0887"
            ],
            [
             0.1111111111111111,
             "#46039f"
            ],
            [
             0.2222222222222222,
             "#7201a8"
            ],
            [
             0.3333333333333333,
             "#9c179e"
            ],
            [
             0.4444444444444444,
             "#bd3786"
            ],
            [
             0.5555555555555556,
             "#d8576b"
            ],
            [
             0.6666666666666666,
             "#ed7953"
            ],
            [
             0.7777777777777778,
             "#fb9f3a"
            ],
            [
             0.8888888888888888,
             "#fdca26"
            ],
            [
             1,
             "#f0f921"
            ]
           ],
           "sequentialminus": [
            [
             0,
             "#0d0887"
            ],
            [
             0.1111111111111111,
             "#46039f"
            ],
            [
             0.2222222222222222,
             "#7201a8"
            ],
            [
             0.3333333333333333,
             "#9c179e"
            ],
            [
             0.4444444444444444,
             "#bd3786"
            ],
            [
             0.5555555555555556,
             "#d8576b"
            ],
            [
             0.6666666666666666,
             "#ed7953"
            ],
            [
             0.7777777777777778,
             "#fb9f3a"
            ],
            [
             0.8888888888888888,
             "#fdca26"
            ],
            [
             1,
             "#f0f921"
            ]
           ]
          },
          "colorway": [
           "#636efa",
           "#EF553B",
           "#00cc96",
           "#ab63fa",
           "#FFA15A",
           "#19d3f3",
           "#FF6692",
           "#B6E880",
           "#FF97FF",
           "#FECB52"
          ],
          "font": {
           "color": "#2a3f5f"
          },
          "geo": {
           "bgcolor": "white",
           "lakecolor": "white",
           "landcolor": "#E5ECF6",
           "showlakes": true,
           "showland": true,
           "subunitcolor": "white"
          },
          "hoverlabel": {
           "align": "left"
          },
          "hovermode": "closest",
          "mapbox": {
           "style": "light"
          },
          "paper_bgcolor": "white",
          "plot_bgcolor": "#E5ECF6",
          "polar": {
           "angularaxis": {
            "gridcolor": "white",
            "linecolor": "white",
            "ticks": ""
           },
           "bgcolor": "#E5ECF6",
           "radialaxis": {
            "gridcolor": "white",
            "linecolor": "white",
            "ticks": ""
           }
          },
          "scene": {
           "xaxis": {
            "backgroundcolor": "#E5ECF6",
            "gridcolor": "white",
            "gridwidth": 2,
            "linecolor": "white",
            "showbackground": true,
            "ticks": "",
            "zerolinecolor": "white"
           },
           "yaxis": {
            "backgroundcolor": "#E5ECF6",
            "gridcolor": "white",
            "gridwidth": 2,
            "linecolor": "white",
            "showbackground": true,
            "ticks": "",
            "zerolinecolor": "white"
           },
           "zaxis": {
            "backgroundcolor": "#E5ECF6",
            "gridcolor": "white",
            "gridwidth": 2,
            "linecolor": "white",
            "showbackground": true,
            "ticks": "",
            "zerolinecolor": "white"
           }
          },
          "shapedefaults": {
           "line": {
            "color": "#2a3f5f"
           }
          },
          "ternary": {
           "aaxis": {
            "gridcolor": "white",
            "linecolor": "white",
            "ticks": ""
           },
           "baxis": {
            "gridcolor": "white",
            "linecolor": "white",
            "ticks": ""
           },
           "bgcolor": "#E5ECF6",
           "caxis": {
            "gridcolor": "white",
            "linecolor": "white",
            "ticks": ""
           }
          },
          "title": {
           "x": 0.05
          },
          "xaxis": {
           "automargin": true,
           "gridcolor": "white",
           "linecolor": "white",
           "ticks": "",
           "title": {
            "standoff": 15
           },
           "zerolinecolor": "white",
           "zerolinewidth": 2
          },
          "yaxis": {
           "automargin": true,
           "gridcolor": "white",
           "linecolor": "white",
           "ticks": "",
           "title": {
            "standoff": 15
           },
           "zerolinecolor": "white",
           "zerolinewidth": 2
          }
         }
        },
        "xaxis": {
         "anchor": "y",
         "domain": [
          0,
          1
         ],
         "title": {
          "text": "Year"
         }
        },
        "yaxis": {
         "anchor": "x",
         "domain": [
          0,
          1
         ],
         "title": {
          "text": "Number of offences"
         }
        }
       }
      },
      "text/html": [
       "<div>                            <div id=\"cbe4e2ba-b676-4156-97bd-ff36e5bb754b\" class=\"plotly-graph-div\" style=\"height:525px; width:100%;\"></div>            <script type=\"text/javascript\">                require([\"plotly\"], function(Plotly) {                    window.PLOTLYENV=window.PLOTLYENV || {};                                    if (document.getElementById(\"cbe4e2ba-b676-4156-97bd-ff36e5bb754b\")) {                    Plotly.newPlot(                        \"cbe4e2ba-b676-4156-97bd-ff36e5bb754b\",                        [{\"hovertemplate\":\"Reporting region=Alice Springs<br>Year=%{x}<br>Number of offences=%{y}<extra></extra>\",\"legendgroup\":\"Alice Springs\",\"line\":{\"color\":\"#636efa\",\"dash\":\"solid\"},\"marker\":{\"symbol\":\"circle\"},\"mode\":\"markers+lines\",\"name\":\"Alice Springs\",\"orientation\":\"v\",\"showlegend\":true,\"x\":[2008,2009,2010,2011,2012,2013,2014,2015,2016,2017,2018,2019,2020,2021,2022],\"xaxis\":\"x\",\"y\":[5312,5735,6989,6235,7418,5935,5410,5907,6244,6379,6887,6240,6657,8613,4678],\"yaxis\":\"y\",\"type\":\"scatter\"},{\"hovertemplate\":\"Reporting region=Darwin<br>Year=%{x}<br>Number of offences=%{y}<extra></extra>\",\"legendgroup\":\"Darwin\",\"line\":{\"color\":\"#EF553B\",\"dash\":\"solid\"},\"marker\":{\"symbol\":\"circle\"},\"mode\":\"markers+lines\",\"name\":\"Darwin\",\"orientation\":\"v\",\"showlegend\":true,\"x\":[2008,2009,2010,2011,2012,2013,2014,2015,2016,2017,2018,2019,2020,2021,2022],\"xaxis\":\"x\",\"y\":[12218,11359,11609,9954,10420,8947,10073,9891,9933,9780,9223,9368,8468,10009,4343],\"yaxis\":\"y\",\"type\":\"scatter\"},{\"hovertemplate\":\"Reporting region=Katherine<br>Year=%{x}<br>Number of offences=%{y}<extra></extra>\",\"legendgroup\":\"Katherine\",\"line\":{\"color\":\"#00cc96\",\"dash\":\"solid\"},\"marker\":{\"symbol\":\"circle\"},\"mode\":\"markers+lines\",\"name\":\"Katherine\",\"orientation\":\"v\",\"showlegend\":true,\"x\":[2008,2009,2010,2011,2012,2013,2014,2015,2016,2017,2018,2019,2020,2021,2022],\"xaxis\":\"x\",\"y\":[1654,2017,1886,1723,1769,1696,1799,1344,1415,1552,2027,1725,1606,1697,858],\"yaxis\":\"y\",\"type\":\"scatter\"},{\"hovertemplate\":\"Reporting region=NT Balance<br>Year=%{x}<br>Number of offences=%{y}<extra></extra>\",\"legendgroup\":\"NT Balance\",\"line\":{\"color\":\"#ab63fa\",\"dash\":\"solid\"},\"marker\":{\"symbol\":\"circle\"},\"mode\":\"markers+lines\",\"name\":\"NT Balance\",\"orientation\":\"v\",\"showlegend\":true,\"x\":[2008,2009,2010,2011,2012,2013,2014,2015,2016,2017,2018,2019,2020,2021,2022],\"xaxis\":\"x\",\"y\":[4332,4861,4868,5161,5837,5995,6096,6012,6194,6835,7076,6781,6538,7297,3346],\"yaxis\":\"y\",\"type\":\"scatter\"},{\"hovertemplate\":\"Reporting region=Nhulunbuy<br>Year=%{x}<br>Number of offences=%{y}<extra></extra>\",\"legendgroup\":\"Nhulunbuy\",\"line\":{\"color\":\"#FFA15A\",\"dash\":\"solid\"},\"marker\":{\"symbol\":\"circle\"},\"mode\":\"markers+lines\",\"name\":\"Nhulunbuy\",\"orientation\":\"v\",\"showlegend\":true,\"x\":[2008,2009,2010,2011,2012,2013,2014,2015,2016,2017,2018,2019,2020,2021,2022],\"xaxis\":\"x\",\"y\":[523,432,422,379,305,343,339,381,288,416,352,286,297,411,121],\"yaxis\":\"y\",\"type\":\"scatter\"},{\"hovertemplate\":\"Reporting region=Palmerston<br>Year=%{x}<br>Number of offences=%{y}<extra></extra>\",\"legendgroup\":\"Palmerston\",\"line\":{\"color\":\"#19d3f3\",\"dash\":\"solid\"},\"marker\":{\"symbol\":\"circle\"},\"mode\":\"markers+lines\",\"name\":\"Palmerston\",\"orientation\":\"v\",\"showlegend\":true,\"x\":[2008,2009,2010,2011,2012,2013,2014,2015,2016,2017,2018,2019,2020,2021,2022],\"xaxis\":\"x\",\"y\":[3537,3053,3591,2733,2918,2652,3275,3076,3467,3878,3876,3105,3244,3301,1638],\"yaxis\":\"y\",\"type\":\"scatter\"},{\"hovertemplate\":\"Reporting region=Tennant Creek<br>Year=%{x}<br>Number of offences=%{y}<extra></extra>\",\"legendgroup\":\"Tennant Creek\",\"line\":{\"color\":\"#FF6692\",\"dash\":\"solid\"},\"marker\":{\"symbol\":\"circle\"},\"mode\":\"markers+lines\",\"name\":\"Tennant Creek\",\"orientation\":\"v\",\"showlegend\":true,\"x\":[2008,2009,2010,2011,2012,2013,2014,2015,2016,2017,2018,2019,2020,2021,2022],\"xaxis\":\"x\",\"y\":[1091,1136,1173,1097,971,1238,672,729,865,1050,1107,1344,1277,1451,470],\"yaxis\":\"y\",\"type\":\"scatter\"}],                        {\"template\":{\"data\":{\"histogram2dcontour\":[{\"type\":\"histogram2dcontour\",\"colorbar\":{\"outlinewidth\":0,\"ticks\":\"\"},\"colorscale\":[[0.0,\"#0d0887\"],[0.1111111111111111,\"#46039f\"],[0.2222222222222222,\"#7201a8\"],[0.3333333333333333,\"#9c179e\"],[0.4444444444444444,\"#bd3786\"],[0.5555555555555556,\"#d8576b\"],[0.6666666666666666,\"#ed7953\"],[0.7777777777777778,\"#fb9f3a\"],[0.8888888888888888,\"#fdca26\"],[1.0,\"#f0f921\"]]}],\"choropleth\":[{\"type\":\"choropleth\",\"colorbar\":{\"outlinewidth\":0,\"ticks\":\"\"}}],\"histogram2d\":[{\"type\":\"histogram2d\",\"colorbar\":{\"outlinewidth\":0,\"ticks\":\"\"},\"colorscale\":[[0.0,\"#0d0887\"],[0.1111111111111111,\"#46039f\"],[0.2222222222222222,\"#7201a8\"],[0.3333333333333333,\"#9c179e\"],[0.4444444444444444,\"#bd3786\"],[0.5555555555555556,\"#d8576b\"],[0.6666666666666666,\"#ed7953\"],[0.7777777777777778,\"#fb9f3a\"],[0.8888888888888888,\"#fdca26\"],[1.0,\"#f0f921\"]]}],\"heatmap\":[{\"type\":\"heatmap\",\"colorbar\":{\"outlinewidth\":0,\"ticks\":\"\"},\"colorscale\":[[0.0,\"#0d0887\"],[0.1111111111111111,\"#46039f\"],[0.2222222222222222,\"#7201a8\"],[0.3333333333333333,\"#9c179e\"],[0.4444444444444444,\"#bd3786\"],[0.5555555555555556,\"#d8576b\"],[0.6666666666666666,\"#ed7953\"],[0.7777777777777778,\"#fb9f3a\"],[0.8888888888888888,\"#fdca26\"],[1.0,\"#f0f921\"]]}],\"heatmapgl\":[{\"type\":\"heatmapgl\",\"colorbar\":{\"outlinewidth\":0,\"ticks\":\"\"},\"colorscale\":[[0.0,\"#0d0887\"],[0.1111111111111111,\"#46039f\"],[0.2222222222222222,\"#7201a8\"],[0.3333333333333333,\"#9c179e\"],[0.4444444444444444,\"#bd3786\"],[0.5555555555555556,\"#d8576b\"],[0.6666666666666666,\"#ed7953\"],[0.7777777777777778,\"#fb9f3a\"],[0.8888888888888888,\"#fdca26\"],[1.0,\"#f0f921\"]]}],\"contourcarpet\":[{\"type\":\"contourcarpet\",\"colorbar\":{\"outlinewidth\":0,\"ticks\":\"\"}}],\"contour\":[{\"type\":\"contour\",\"colorbar\":{\"outlinewidth\":0,\"ticks\":\"\"},\"colorscale\":[[0.0,\"#0d0887\"],[0.1111111111111111,\"#46039f\"],[0.2222222222222222,\"#7201a8\"],[0.3333333333333333,\"#9c179e\"],[0.4444444444444444,\"#bd3786\"],[0.5555555555555556,\"#d8576b\"],[0.6666666666666666,\"#ed7953\"],[0.7777777777777778,\"#fb9f3a\"],[0.8888888888888888,\"#fdca26\"],[1.0,\"#f0f921\"]]}],\"surface\":[{\"type\":\"surface\",\"colorbar\":{\"outlinewidth\":0,\"ticks\":\"\"},\"colorscale\":[[0.0,\"#0d0887\"],[0.1111111111111111,\"#46039f\"],[0.2222222222222222,\"#7201a8\"],[0.3333333333333333,\"#9c179e\"],[0.4444444444444444,\"#bd3786\"],[0.5555555555555556,\"#d8576b\"],[0.6666666666666666,\"#ed7953\"],[0.7777777777777778,\"#fb9f3a\"],[0.8888888888888888,\"#fdca26\"],[1.0,\"#f0f921\"]]}],\"mesh3d\":[{\"type\":\"mesh3d\",\"colorbar\":{\"outlinewidth\":0,\"ticks\":\"\"}}],\"scatter\":[{\"fillpattern\":{\"fillmode\":\"overlay\",\"size\":10,\"solidity\":0.2},\"type\":\"scatter\"}],\"parcoords\":[{\"type\":\"parcoords\",\"line\":{\"colorbar\":{\"outlinewidth\":0,\"ticks\":\"\"}}}],\"scatterpolargl\":[{\"type\":\"scatterpolargl\",\"marker\":{\"colorbar\":{\"outlinewidth\":0,\"ticks\":\"\"}}}],\"bar\":[{\"error_x\":{\"color\":\"#2a3f5f\"},\"error_y\":{\"color\":\"#2a3f5f\"},\"marker\":{\"line\":{\"color\":\"#E5ECF6\",\"width\":0.5},\"pattern\":{\"fillmode\":\"overlay\",\"size\":10,\"solidity\":0.2}},\"type\":\"bar\"}],\"scattergeo\":[{\"type\":\"scattergeo\",\"marker\":{\"colorbar\":{\"outlinewidth\":0,\"ticks\":\"\"}}}],\"scatterpolar\":[{\"type\":\"scatterpolar\",\"marker\":{\"colorbar\":{\"outlinewidth\":0,\"ticks\":\"\"}}}],\"histogram\":[{\"marker\":{\"pattern\":{\"fillmode\":\"overlay\",\"size\":10,\"solidity\":0.2}},\"type\":\"histogram\"}],\"scattergl\":[{\"type\":\"scattergl\",\"marker\":{\"colorbar\":{\"outlinewidth\":0,\"ticks\":\"\"}}}],\"scatter3d\":[{\"type\":\"scatter3d\",\"line\":{\"colorbar\":{\"outlinewidth\":0,\"ticks\":\"\"}},\"marker\":{\"colorbar\":{\"outlinewidth\":0,\"ticks\":\"\"}}}],\"scattermapbox\":[{\"type\":\"scattermapbox\",\"marker\":{\"colorbar\":{\"outlinewidth\":0,\"ticks\":\"\"}}}],\"scatterternary\":[{\"type\":\"scatterternary\",\"marker\":{\"colorbar\":{\"outlinewidth\":0,\"ticks\":\"\"}}}],\"scattercarpet\":[{\"type\":\"scattercarpet\",\"marker\":{\"colorbar\":{\"outlinewidth\":0,\"ticks\":\"\"}}}],\"carpet\":[{\"aaxis\":{\"endlinecolor\":\"#2a3f5f\",\"gridcolor\":\"white\",\"linecolor\":\"white\",\"minorgridcolor\":\"white\",\"startlinecolor\":\"#2a3f5f\"},\"baxis\":{\"endlinecolor\":\"#2a3f5f\",\"gridcolor\":\"white\",\"linecolor\":\"white\",\"minorgridcolor\":\"white\",\"startlinecolor\":\"#2a3f5f\"},\"type\":\"carpet\"}],\"table\":[{\"cells\":{\"fill\":{\"color\":\"#EBF0F8\"},\"line\":{\"color\":\"white\"}},\"header\":{\"fill\":{\"color\":\"#C8D4E3\"},\"line\":{\"color\":\"white\"}},\"type\":\"table\"}],\"barpolar\":[{\"marker\":{\"line\":{\"color\":\"#E5ECF6\",\"width\":0.5},\"pattern\":{\"fillmode\":\"overlay\",\"size\":10,\"solidity\":0.2}},\"type\":\"barpolar\"}],\"pie\":[{\"automargin\":true,\"type\":\"pie\"}]},\"layout\":{\"autotypenumbers\":\"strict\",\"colorway\":[\"#636efa\",\"#EF553B\",\"#00cc96\",\"#ab63fa\",\"#FFA15A\",\"#19d3f3\",\"#FF6692\",\"#B6E880\",\"#FF97FF\",\"#FECB52\"],\"font\":{\"color\":\"#2a3f5f\"},\"hovermode\":\"closest\",\"hoverlabel\":{\"align\":\"left\"},\"paper_bgcolor\":\"white\",\"plot_bgcolor\":\"#E5ECF6\",\"polar\":{\"bgcolor\":\"#E5ECF6\",\"angularaxis\":{\"gridcolor\":\"white\",\"linecolor\":\"white\",\"ticks\":\"\"},\"radialaxis\":{\"gridcolor\":\"white\",\"linecolor\":\"white\",\"ticks\":\"\"}},\"ternary\":{\"bgcolor\":\"#E5ECF6\",\"aaxis\":{\"gridcolor\":\"white\",\"linecolor\":\"white\",\"ticks\":\"\"},\"baxis\":{\"gridcolor\":\"white\",\"linecolor\":\"white\",\"ticks\":\"\"},\"caxis\":{\"gridcolor\":\"white\",\"linecolor\":\"white\",\"ticks\":\"\"}},\"coloraxis\":{\"colorbar\":{\"outlinewidth\":0,\"ticks\":\"\"}},\"colorscale\":{\"sequential\":[[0.0,\"#0d0887\"],[0.1111111111111111,\"#46039f\"],[0.2222222222222222,\"#7201a8\"],[0.3333333333333333,\"#9c179e\"],[0.4444444444444444,\"#bd3786\"],[0.5555555555555556,\"#d8576b\"],[0.6666666666666666,\"#ed7953\"],[0.7777777777777778,\"#fb9f3a\"],[0.8888888888888888,\"#fdca26\"],[1.0,\"#f0f921\"]],\"sequentialminus\":[[0.0,\"#0d0887\"],[0.1111111111111111,\"#46039f\"],[0.2222222222222222,\"#7201a8\"],[0.3333333333333333,\"#9c179e\"],[0.4444444444444444,\"#bd3786\"],[0.5555555555555556,\"#d8576b\"],[0.6666666666666666,\"#ed7953\"],[0.7777777777777778,\"#fb9f3a\"],[0.8888888888888888,\"#fdca26\"],[1.0,\"#f0f921\"]],\"diverging\":[[0,\"#8e0152\"],[0.1,\"#c51b7d\"],[0.2,\"#de77ae\"],[0.3,\"#f1b6da\"],[0.4,\"#fde0ef\"],[0.5,\"#f7f7f7\"],[0.6,\"#e6f5d0\"],[0.7,\"#b8e186\"],[0.8,\"#7fbc41\"],[0.9,\"#4d9221\"],[1,\"#276419\"]]},\"xaxis\":{\"gridcolor\":\"white\",\"linecolor\":\"white\",\"ticks\":\"\",\"title\":{\"standoff\":15},\"zerolinecolor\":\"white\",\"automargin\":true,\"zerolinewidth\":2},\"yaxis\":{\"gridcolor\":\"white\",\"linecolor\":\"white\",\"ticks\":\"\",\"title\":{\"standoff\":15},\"zerolinecolor\":\"white\",\"automargin\":true,\"zerolinewidth\":2},\"scene\":{\"xaxis\":{\"backgroundcolor\":\"#E5ECF6\",\"gridcolor\":\"white\",\"linecolor\":\"white\",\"showbackground\":true,\"ticks\":\"\",\"zerolinecolor\":\"white\",\"gridwidth\":2},\"yaxis\":{\"backgroundcolor\":\"#E5ECF6\",\"gridcolor\":\"white\",\"linecolor\":\"white\",\"showbackground\":true,\"ticks\":\"\",\"zerolinecolor\":\"white\",\"gridwidth\":2},\"zaxis\":{\"backgroundcolor\":\"#E5ECF6\",\"gridcolor\":\"white\",\"linecolor\":\"white\",\"showbackground\":true,\"ticks\":\"\",\"zerolinecolor\":\"white\",\"gridwidth\":2}},\"shapedefaults\":{\"line\":{\"color\":\"#2a3f5f\"}},\"annotationdefaults\":{\"arrowcolor\":\"#2a3f5f\",\"arrowhead\":0,\"arrowwidth\":1},\"geo\":{\"bgcolor\":\"white\",\"landcolor\":\"#E5ECF6\",\"subunitcolor\":\"white\",\"showland\":true,\"showlakes\":true,\"lakecolor\":\"white\"},\"title\":{\"x\":0.05},\"mapbox\":{\"style\":\"light\"}}},\"xaxis\":{\"anchor\":\"y\",\"domain\":[0.0,1.0],\"title\":{\"text\":\"Year\"}},\"yaxis\":{\"anchor\":\"x\",\"domain\":[0.0,1.0],\"title\":{\"text\":\"Number of offences\"}},\"legend\":{\"title\":{\"text\":\"Reporting region\"},\"tracegroupgap\":0},\"margin\":{\"t\":60}},                        {\"responsive\": true}                    ).then(function(){\n",
       "                            \n",
       "var gd = document.getElementById('cbe4e2ba-b676-4156-97bd-ff36e5bb754b');\n",
       "var x = new MutationObserver(function (mutations, observer) {{\n",
       "        var display = window.getComputedStyle(gd).display;\n",
       "        if (!display || display === 'none') {{\n",
       "            console.log([gd, 'removed!']);\n",
       "            Plotly.purge(gd);\n",
       "            observer.disconnect();\n",
       "        }}\n",
       "}});\n",
       "\n",
       "// Listen for the removal of the full notebook cells\n",
       "var notebookContainer = gd.closest('#notebook-container');\n",
       "if (notebookContainer) {{\n",
       "    x.observe(notebookContainer, {childList: true});\n",
       "}}\n",
       "\n",
       "// Listen for the clearing of the current output cell\n",
       "var outputEl = gd.closest('.output');\n",
       "if (outputEl) {{\n",
       "    x.observe(outputEl, {childList: true});\n",
       "}}\n",
       "\n",
       "                        })                };                });            </script>        </div>"
      ]
     },
     "metadata": {},
     "output_type": "display_data"
    }
   ],
   "source": [
    "px.line(region_year_offences_df, x = 'Year', y = 'Number of offences', color = 'Reporting region', markers = True)"
   ]
  },
  {
   "cell_type": "code",
   "execution_count": 43,
   "id": "93a88bf2",
   "metadata": {},
   "outputs": [
    {
     "data": {
      "application/vnd.jupyter.widget-view+json": {
       "model_id": "bcd065ba13a946e9bd129690918d5f41",
       "version_major": 2,
       "version_minor": 0
      },
      "text/plain": [
       "interactive(children=(Dropdown(description='Category', options=('Abduction - harassment and other offences aga…"
      ]
     },
     "metadata": {},
     "output_type": "display_data"
    }
   ],
   "source": [
    "@interact\n",
    "def show_offences_percentage_reporting_region(Category = list(region_month_year_offence_category['Offence category'].unique())):\n",
    "    region_month_year_offence_category[region_month_year_offence_category['Offence category'] == Category].iplot(kind = 'pie', \n",
    "                                                                                                               values = 'Number of offences',\n",
    "                                                                                                                labels = 'Reporting region',\n",
    "                                                                                                                title = f'{Category} in NT Regions From 2008 to 2022')"
   ]
  },
  {
   "cell_type": "code",
   "execution_count": 44,
   "id": "de561b7b",
   "metadata": {},
   "outputs": [
    {
     "data": {
      "application/vnd.jupyter.widget-view+json": {
       "model_id": "dd72ab81a4044fc5856d6ac614f6bbfc",
       "version_major": 2,
       "version_minor": 0
      },
      "text/plain": [
       "interactive(children=(Dropdown(description='Region', options=('Alice Springs', 'Darwin', 'Katherine', 'NT Bala…"
      ]
     },
     "metadata": {},
     "output_type": "display_data"
    }
   ],
   "source": [
    "@interact\n",
    "def show_offences_per_reporting_region(Region = list(region_month_year_offence_category['Reporting region'].unique())):\n",
    "    region_month_year_offence_category[region_month_year_offence_category['Reporting region'] == Region].groupby('Offence category')['Number of offences'].sum().iplot(kind = 'barh',\n",
    "                                                                                                             xTitle = 'Month', \n",
    "                                                                                                             yTitle = 'Number of Offences',\n",
    "                                                                                                             title = f'Number of Offences in {Region} from 2008 - 2022')"
   ]
  },
  {
   "cell_type": "code",
   "execution_count": 45,
   "id": "62f41228",
   "metadata": {},
   "outputs": [
    {
     "data": {
      "application/vnd.plotly.v1+json": {
       "config": {
        "plotlyServerURL": "https://plot.ly"
       },
       "data": [
        {
         "hovertemplate": "Reporting region=Alice Springs<br>unemployed=%{x}<br>Number of offences=%{y}<br>population=%{marker.size}<extra></extra>",
         "legendgroup": "Alice Springs",
         "marker": {
          "color": "#636efa",
          "size": [
           23736
          ],
          "sizemode": "area",
          "sizeref": 330.1125,
          "symbol": "circle"
         },
         "mode": "markers",
         "name": "Alice Springs",
         "orientation": "v",
         "showlegend": true,
         "type": "scatter",
         "x": [
          430
         ],
         "xaxis": "x",
         "y": [
          94639
         ],
         "yaxis": "y"
        },
        {
         "hovertemplate": "Reporting region=Darwin<br>unemployed=%{x}<br>Number of offences=%{y}<br>population=%{marker.size}<extra></extra>",
         "legendgroup": "Darwin",
         "marker": {
          "color": "#EF553B",
          "size": [
           132045
          ],
          "sizemode": "area",
          "sizeref": 330.1125,
          "symbol": "circle"
         },
         "mode": "markers",
         "name": "Darwin",
         "orientation": "v",
         "showlegend": true,
         "type": "scatter",
         "x": [
          3466
         ],
         "xaxis": "x",
         "y": [
          145595
         ],
         "yaxis": "y"
        },
        {
         "hovertemplate": "Reporting region=Katherine<br>unemployed=%{x}<br>Number of offences=%{y}<br>population=%{marker.size}<extra></extra>",
         "legendgroup": "Katherine",
         "marker": {
          "color": "#00cc96",
          "size": [
           9717
          ],
          "sizemode": "area",
          "sizeref": 330.1125,
          "symbol": "circle"
         },
         "mode": "markers",
         "name": "Katherine",
         "orientation": "v",
         "showlegend": true,
         "type": "scatter",
         "x": [
          162
         ],
         "xaxis": "x",
         "y": [
          24768
         ],
         "yaxis": "y"
        },
        {
         "hovertemplate": "Reporting region=NT Balance<br>unemployed=%{x}<br>Number of offences=%{y}<br>population=%{marker.size}<extra></extra>",
         "legendgroup": "NT Balance",
         "marker": {
          "color": "#ab63fa",
          "size": [
           4576
          ],
          "sizemode": "area",
          "sizeref": 330.1125,
          "symbol": "circle"
         },
         "mode": "markers",
         "name": "NT Balance",
         "orientation": "v",
         "showlegend": true,
         "type": "scatter",
         "x": [
          4153
         ],
         "xaxis": "x",
         "y": [
          87229
         ],
         "yaxis": "y"
        },
        {
         "hovertemplate": "Reporting region=Nhulunbuy<br>unemployed=%{x}<br>Number of offences=%{y}<br>population=%{marker.size}<extra></extra>",
         "legendgroup": "Nhulunbuy",
         "marker": {
          "color": "#FFA15A",
          "size": [
           3240
          ],
          "sizemode": "area",
          "sizeref": 330.1125,
          "symbol": "circle"
         },
         "mode": "markers",
         "name": "Nhulunbuy",
         "orientation": "v",
         "showlegend": true,
         "type": "scatter",
         "x": [
          52
         ],
         "xaxis": "x",
         "y": [
          5295
         ],
         "yaxis": "y"
        },
        {
         "hovertemplate": "Reporting region=Palmerston<br>unemployed=%{x}<br>Number of offences=%{y}<br>population=%{marker.size}<extra></extra>",
         "legendgroup": "Palmerston",
         "marker": {
          "color": "#19d3f3",
          "size": [
           29346
          ],
          "sizemode": "area",
          "sizeref": 330.1125,
          "symbol": "circle"
         },
         "mode": "markers",
         "name": "Palmerston",
         "orientation": "v",
         "showlegend": true,
         "type": "scatter",
         "x": [
          922
         ],
         "xaxis": "x",
         "y": [
          47344
         ],
         "yaxis": "y"
        },
        {
         "hovertemplate": "Reporting region=Tennant Creek<br>unemployed=%{x}<br>Number of offences=%{y}<br>population=%{marker.size}<extra></extra>",
         "legendgroup": "Tennant Creek",
         "marker": {
          "color": "#FF6692",
          "size": [
           2991
          ],
          "sizemode": "area",
          "sizeref": 330.1125,
          "symbol": "circle"
         },
         "mode": "markers",
         "name": "Tennant Creek",
         "orientation": "v",
         "showlegend": true,
         "type": "scatter",
         "x": [
          89
         ],
         "xaxis": "x",
         "y": [
          15671
         ],
         "yaxis": "y"
        }
       ],
       "layout": {
        "legend": {
         "itemsizing": "constant",
         "title": {
          "text": "Reporting region"
         },
         "tracegroupgap": 0
        },
        "template": {
         "data": {
          "bar": [
           {
            "error_x": {
             "color": "#2a3f5f"
            },
            "error_y": {
             "color": "#2a3f5f"
            },
            "marker": {
             "line": {
              "color": "#E5ECF6",
              "width": 0.5
             },
             "pattern": {
              "fillmode": "overlay",
              "size": 10,
              "solidity": 0.2
             }
            },
            "type": "bar"
           }
          ],
          "barpolar": [
           {
            "marker": {
             "line": {
              "color": "#E5ECF6",
              "width": 0.5
             },
             "pattern": {
              "fillmode": "overlay",
              "size": 10,
              "solidity": 0.2
             }
            },
            "type": "barpolar"
           }
          ],
          "carpet": [
           {
            "aaxis": {
             "endlinecolor": "#2a3f5f",
             "gridcolor": "white",
             "linecolor": "white",
             "minorgridcolor": "white",
             "startlinecolor": "#2a3f5f"
            },
            "baxis": {
             "endlinecolor": "#2a3f5f",
             "gridcolor": "white",
             "linecolor": "white",
             "minorgridcolor": "white",
             "startlinecolor": "#2a3f5f"
            },
            "type": "carpet"
           }
          ],
          "choropleth": [
           {
            "colorbar": {
             "outlinewidth": 0,
             "ticks": ""
            },
            "type": "choropleth"
           }
          ],
          "contour": [
           {
            "colorbar": {
             "outlinewidth": 0,
             "ticks": ""
            },
            "colorscale": [
             [
              0,
              "#0d0887"
             ],
             [
              0.1111111111111111,
              "#46039f"
             ],
             [
              0.2222222222222222,
              "#7201a8"
             ],
             [
              0.3333333333333333,
              "#9c179e"
             ],
             [
              0.4444444444444444,
              "#bd3786"
             ],
             [
              0.5555555555555556,
              "#d8576b"
             ],
             [
              0.6666666666666666,
              "#ed7953"
             ],
             [
              0.7777777777777778,
              "#fb9f3a"
             ],
             [
              0.8888888888888888,
              "#fdca26"
             ],
             [
              1,
              "#f0f921"
             ]
            ],
            "type": "contour"
           }
          ],
          "contourcarpet": [
           {
            "colorbar": {
             "outlinewidth": 0,
             "ticks": ""
            },
            "type": "contourcarpet"
           }
          ],
          "heatmap": [
           {
            "colorbar": {
             "outlinewidth": 0,
             "ticks": ""
            },
            "colorscale": [
             [
              0,
              "#0d0887"
             ],
             [
              0.1111111111111111,
              "#46039f"
             ],
             [
              0.2222222222222222,
              "#7201a8"
             ],
             [
              0.3333333333333333,
              "#9c179e"
             ],
             [
              0.4444444444444444,
              "#bd3786"
             ],
             [
              0.5555555555555556,
              "#d8576b"
             ],
             [
              0.6666666666666666,
              "#ed7953"
             ],
             [
              0.7777777777777778,
              "#fb9f3a"
             ],
             [
              0.8888888888888888,
              "#fdca26"
             ],
             [
              1,
              "#f0f921"
             ]
            ],
            "type": "heatmap"
           }
          ],
          "heatmapgl": [
           {
            "colorbar": {
             "outlinewidth": 0,
             "ticks": ""
            },
            "colorscale": [
             [
              0,
              "#0d0887"
             ],
             [
              0.1111111111111111,
              "#46039f"
             ],
             [
              0.2222222222222222,
              "#7201a8"
             ],
             [
              0.3333333333333333,
              "#9c179e"
             ],
             [
              0.4444444444444444,
              "#bd3786"
             ],
             [
              0.5555555555555556,
              "#d8576b"
             ],
             [
              0.6666666666666666,
              "#ed7953"
             ],
             [
              0.7777777777777778,
              "#fb9f3a"
             ],
             [
              0.8888888888888888,
              "#fdca26"
             ],
             [
              1,
              "#f0f921"
             ]
            ],
            "type": "heatmapgl"
           }
          ],
          "histogram": [
           {
            "marker": {
             "pattern": {
              "fillmode": "overlay",
              "size": 10,
              "solidity": 0.2
             }
            },
            "type": "histogram"
           }
          ],
          "histogram2d": [
           {
            "colorbar": {
             "outlinewidth": 0,
             "ticks": ""
            },
            "colorscale": [
             [
              0,
              "#0d0887"
             ],
             [
              0.1111111111111111,
              "#46039f"
             ],
             [
              0.2222222222222222,
              "#7201a8"
             ],
             [
              0.3333333333333333,
              "#9c179e"
             ],
             [
              0.4444444444444444,
              "#bd3786"
             ],
             [
              0.5555555555555556,
              "#d8576b"
             ],
             [
              0.6666666666666666,
              "#ed7953"
             ],
             [
              0.7777777777777778,
              "#fb9f3a"
             ],
             [
              0.8888888888888888,
              "#fdca26"
             ],
             [
              1,
              "#f0f921"
             ]
            ],
            "type": "histogram2d"
           }
          ],
          "histogram2dcontour": [
           {
            "colorbar": {
             "outlinewidth": 0,
             "ticks": ""
            },
            "colorscale": [
             [
              0,
              "#0d0887"
             ],
             [
              0.1111111111111111,
              "#46039f"
             ],
             [
              0.2222222222222222,
              "#7201a8"
             ],
             [
              0.3333333333333333,
              "#9c179e"
             ],
             [
              0.4444444444444444,
              "#bd3786"
             ],
             [
              0.5555555555555556,
              "#d8576b"
             ],
             [
              0.6666666666666666,
              "#ed7953"
             ],
             [
              0.7777777777777778,
              "#fb9f3a"
             ],
             [
              0.8888888888888888,
              "#fdca26"
             ],
             [
              1,
              "#f0f921"
             ]
            ],
            "type": "histogram2dcontour"
           }
          ],
          "mesh3d": [
           {
            "colorbar": {
             "outlinewidth": 0,
             "ticks": ""
            },
            "type": "mesh3d"
           }
          ],
          "parcoords": [
           {
            "line": {
             "colorbar": {
              "outlinewidth": 0,
              "ticks": ""
             }
            },
            "type": "parcoords"
           }
          ],
          "pie": [
           {
            "automargin": true,
            "type": "pie"
           }
          ],
          "scatter": [
           {
            "fillpattern": {
             "fillmode": "overlay",
             "size": 10,
             "solidity": 0.2
            },
            "type": "scatter"
           }
          ],
          "scatter3d": [
           {
            "line": {
             "colorbar": {
              "outlinewidth": 0,
              "ticks": ""
             }
            },
            "marker": {
             "colorbar": {
              "outlinewidth": 0,
              "ticks": ""
             }
            },
            "type": "scatter3d"
           }
          ],
          "scattercarpet": [
           {
            "marker": {
             "colorbar": {
              "outlinewidth": 0,
              "ticks": ""
             }
            },
            "type": "scattercarpet"
           }
          ],
          "scattergeo": [
           {
            "marker": {
             "colorbar": {
              "outlinewidth": 0,
              "ticks": ""
             }
            },
            "type": "scattergeo"
           }
          ],
          "scattergl": [
           {
            "marker": {
             "colorbar": {
              "outlinewidth": 0,
              "ticks": ""
             }
            },
            "type": "scattergl"
           }
          ],
          "scattermapbox": [
           {
            "marker": {
             "colorbar": {
              "outlinewidth": 0,
              "ticks": ""
             }
            },
            "type": "scattermapbox"
           }
          ],
          "scatterpolar": [
           {
            "marker": {
             "colorbar": {
              "outlinewidth": 0,
              "ticks": ""
             }
            },
            "type": "scatterpolar"
           }
          ],
          "scatterpolargl": [
           {
            "marker": {
             "colorbar": {
              "outlinewidth": 0,
              "ticks": ""
             }
            },
            "type": "scatterpolargl"
           }
          ],
          "scatterternary": [
           {
            "marker": {
             "colorbar": {
              "outlinewidth": 0,
              "ticks": ""
             }
            },
            "type": "scatterternary"
           }
          ],
          "surface": [
           {
            "colorbar": {
             "outlinewidth": 0,
             "ticks": ""
            },
            "colorscale": [
             [
              0,
              "#0d0887"
             ],
             [
              0.1111111111111111,
              "#46039f"
             ],
             [
              0.2222222222222222,
              "#7201a8"
             ],
             [
              0.3333333333333333,
              "#9c179e"
             ],
             [
              0.4444444444444444,
              "#bd3786"
             ],
             [
              0.5555555555555556,
              "#d8576b"
             ],
             [
              0.6666666666666666,
              "#ed7953"
             ],
             [
              0.7777777777777778,
              "#fb9f3a"
             ],
             [
              0.8888888888888888,
              "#fdca26"
             ],
             [
              1,
              "#f0f921"
             ]
            ],
            "type": "surface"
           }
          ],
          "table": [
           {
            "cells": {
             "fill": {
              "color": "#EBF0F8"
             },
             "line": {
              "color": "white"
             }
            },
            "header": {
             "fill": {
              "color": "#C8D4E3"
             },
             "line": {
              "color": "white"
             }
            },
            "type": "table"
           }
          ]
         },
         "layout": {
          "annotationdefaults": {
           "arrowcolor": "#2a3f5f",
           "arrowhead": 0,
           "arrowwidth": 1
          },
          "autotypenumbers": "strict",
          "coloraxis": {
           "colorbar": {
            "outlinewidth": 0,
            "ticks": ""
           }
          },
          "colorscale": {
           "diverging": [
            [
             0,
             "#8e0152"
            ],
            [
             0.1,
             "#c51b7d"
            ],
            [
             0.2,
             "#de77ae"
            ],
            [
             0.3,
             "#f1b6da"
            ],
            [
             0.4,
             "#fde0ef"
            ],
            [
             0.5,
             "#f7f7f7"
            ],
            [
             0.6,
             "#e6f5d0"
            ],
            [
             0.7,
             "#b8e186"
            ],
            [
             0.8,
             "#7fbc41"
            ],
            [
             0.9,
             "#4d9221"
            ],
            [
             1,
             "#276419"
            ]
           ],
           "sequential": [
            [
             0,
             "#0d0887"
            ],
            [
             0.1111111111111111,
             "#46039f"
            ],
            [
             0.2222222222222222,
             "#7201a8"
            ],
            [
             0.3333333333333333,
             "#9c179e"
            ],
            [
             0.4444444444444444,
             "#bd3786"
            ],
            [
             0.5555555555555556,
             "#d8576b"
            ],
            [
             0.6666666666666666,
             "#ed7953"
            ],
            [
             0.7777777777777778,
             "#fb9f3a"
            ],
            [
             0.8888888888888888,
             "#fdca26"
            ],
            [
             1,
             "#f0f921"
            ]
           ],
           "sequentialminus": [
            [
             0,
             "#0d0887"
            ],
            [
             0.1111111111111111,
             "#46039f"
            ],
            [
             0.2222222222222222,
             "#7201a8"
            ],
            [
             0.3333333333333333,
             "#9c179e"
            ],
            [
             0.4444444444444444,
             "#bd3786"
            ],
            [
             0.5555555555555556,
             "#d8576b"
            ],
            [
             0.6666666666666666,
             "#ed7953"
            ],
            [
             0.7777777777777778,
             "#fb9f3a"
            ],
            [
             0.8888888888888888,
             "#fdca26"
            ],
            [
             1,
             "#f0f921"
            ]
           ]
          },
          "colorway": [
           "#636efa",
           "#EF553B",
           "#00cc96",
           "#ab63fa",
           "#FFA15A",
           "#19d3f3",
           "#FF6692",
           "#B6E880",
           "#FF97FF",
           "#FECB52"
          ],
          "font": {
           "color": "#2a3f5f"
          },
          "geo": {
           "bgcolor": "white",
           "lakecolor": "white",
           "landcolor": "#E5ECF6",
           "showlakes": true,
           "showland": true,
           "subunitcolor": "white"
          },
          "hoverlabel": {
           "align": "left"
          },
          "hovermode": "closest",
          "mapbox": {
           "style": "light"
          },
          "paper_bgcolor": "white",
          "plot_bgcolor": "#E5ECF6",
          "polar": {
           "angularaxis": {
            "gridcolor": "white",
            "linecolor": "white",
            "ticks": ""
           },
           "bgcolor": "#E5ECF6",
           "radialaxis": {
            "gridcolor": "white",
            "linecolor": "white",
            "ticks": ""
           }
          },
          "scene": {
           "xaxis": {
            "backgroundcolor": "#E5ECF6",
            "gridcolor": "white",
            "gridwidth": 2,
            "linecolor": "white",
            "showbackground": true,
            "ticks": "",
            "zerolinecolor": "white"
           },
           "yaxis": {
            "backgroundcolor": "#E5ECF6",
            "gridcolor": "white",
            "gridwidth": 2,
            "linecolor": "white",
            "showbackground": true,
            "ticks": "",
            "zerolinecolor": "white"
           },
           "zaxis": {
            "backgroundcolor": "#E5ECF6",
            "gridcolor": "white",
            "gridwidth": 2,
            "linecolor": "white",
            "showbackground": true,
            "ticks": "",
            "zerolinecolor": "white"
           }
          },
          "shapedefaults": {
           "line": {
            "color": "#2a3f5f"
           }
          },
          "ternary": {
           "aaxis": {
            "gridcolor": "white",
            "linecolor": "white",
            "ticks": ""
           },
           "baxis": {
            "gridcolor": "white",
            "linecolor": "white",
            "ticks": ""
           },
           "bgcolor": "#E5ECF6",
           "caxis": {
            "gridcolor": "white",
            "linecolor": "white",
            "ticks": ""
           }
          },
          "title": {
           "x": 0.05
          },
          "xaxis": {
           "automargin": true,
           "gridcolor": "white",
           "linecolor": "white",
           "ticks": "",
           "title": {
            "standoff": 15
           },
           "zerolinecolor": "white",
           "zerolinewidth": 2
          },
          "yaxis": {
           "automargin": true,
           "gridcolor": "white",
           "linecolor": "white",
           "ticks": "",
           "title": {
            "standoff": 15
           },
           "zerolinecolor": "white",
           "zerolinewidth": 2
          }
         }
        },
        "title": {
         "text": "Population vs Unemployment vs Number of Offenses"
        },
        "xaxis": {
         "anchor": "y",
         "domain": [
          0,
          1
         ],
         "title": {
          "text": "unemployed"
         }
        },
        "yaxis": {
         "anchor": "x",
         "domain": [
          0,
          1
         ],
         "title": {
          "text": "Number of offences"
         }
        }
       }
      },
      "text/html": [
       "<div>                            <div id=\"f8a7b721-c8cb-4bf4-b7b5-be64324740a1\" class=\"plotly-graph-div\" style=\"height:525px; width:100%;\"></div>            <script type=\"text/javascript\">                require([\"plotly\"], function(Plotly) {                    window.PLOTLYENV=window.PLOTLYENV || {};                                    if (document.getElementById(\"f8a7b721-c8cb-4bf4-b7b5-be64324740a1\")) {                    Plotly.newPlot(                        \"f8a7b721-c8cb-4bf4-b7b5-be64324740a1\",                        [{\"hovertemplate\":\"Reporting region=Alice Springs<br>unemployed=%{x}<br>Number of offences=%{y}<br>population=%{marker.size}<extra></extra>\",\"legendgroup\":\"Alice Springs\",\"marker\":{\"color\":\"#636efa\",\"size\":[23736],\"sizemode\":\"area\",\"sizeref\":330.1125,\"symbol\":\"circle\"},\"mode\":\"markers\",\"name\":\"Alice Springs\",\"orientation\":\"v\",\"showlegend\":true,\"x\":[430],\"xaxis\":\"x\",\"y\":[94639],\"yaxis\":\"y\",\"type\":\"scatter\"},{\"hovertemplate\":\"Reporting region=Darwin<br>unemployed=%{x}<br>Number of offences=%{y}<br>population=%{marker.size}<extra></extra>\",\"legendgroup\":\"Darwin\",\"marker\":{\"color\":\"#EF553B\",\"size\":[132045],\"sizemode\":\"area\",\"sizeref\":330.1125,\"symbol\":\"circle\"},\"mode\":\"markers\",\"name\":\"Darwin\",\"orientation\":\"v\",\"showlegend\":true,\"x\":[3466],\"xaxis\":\"x\",\"y\":[145595],\"yaxis\":\"y\",\"type\":\"scatter\"},{\"hovertemplate\":\"Reporting region=Katherine<br>unemployed=%{x}<br>Number of offences=%{y}<br>population=%{marker.size}<extra></extra>\",\"legendgroup\":\"Katherine\",\"marker\":{\"color\":\"#00cc96\",\"size\":[9717],\"sizemode\":\"area\",\"sizeref\":330.1125,\"symbol\":\"circle\"},\"mode\":\"markers\",\"name\":\"Katherine\",\"orientation\":\"v\",\"showlegend\":true,\"x\":[162],\"xaxis\":\"x\",\"y\":[24768],\"yaxis\":\"y\",\"type\":\"scatter\"},{\"hovertemplate\":\"Reporting region=NT Balance<br>unemployed=%{x}<br>Number of offences=%{y}<br>population=%{marker.size}<extra></extra>\",\"legendgroup\":\"NT Balance\",\"marker\":{\"color\":\"#ab63fa\",\"size\":[4576],\"sizemode\":\"area\",\"sizeref\":330.1125,\"symbol\":\"circle\"},\"mode\":\"markers\",\"name\":\"NT Balance\",\"orientation\":\"v\",\"showlegend\":true,\"x\":[4153],\"xaxis\":\"x\",\"y\":[87229],\"yaxis\":\"y\",\"type\":\"scatter\"},{\"hovertemplate\":\"Reporting region=Nhulunbuy<br>unemployed=%{x}<br>Number of offences=%{y}<br>population=%{marker.size}<extra></extra>\",\"legendgroup\":\"Nhulunbuy\",\"marker\":{\"color\":\"#FFA15A\",\"size\":[3240],\"sizemode\":\"area\",\"sizeref\":330.1125,\"symbol\":\"circle\"},\"mode\":\"markers\",\"name\":\"Nhulunbuy\",\"orientation\":\"v\",\"showlegend\":true,\"x\":[52],\"xaxis\":\"x\",\"y\":[5295],\"yaxis\":\"y\",\"type\":\"scatter\"},{\"hovertemplate\":\"Reporting region=Palmerston<br>unemployed=%{x}<br>Number of offences=%{y}<br>population=%{marker.size}<extra></extra>\",\"legendgroup\":\"Palmerston\",\"marker\":{\"color\":\"#19d3f3\",\"size\":[29346],\"sizemode\":\"area\",\"sizeref\":330.1125,\"symbol\":\"circle\"},\"mode\":\"markers\",\"name\":\"Palmerston\",\"orientation\":\"v\",\"showlegend\":true,\"x\":[922],\"xaxis\":\"x\",\"y\":[47344],\"yaxis\":\"y\",\"type\":\"scatter\"},{\"hovertemplate\":\"Reporting region=Tennant Creek<br>unemployed=%{x}<br>Number of offences=%{y}<br>population=%{marker.size}<extra></extra>\",\"legendgroup\":\"Tennant Creek\",\"marker\":{\"color\":\"#FF6692\",\"size\":[2991],\"sizemode\":\"area\",\"sizeref\":330.1125,\"symbol\":\"circle\"},\"mode\":\"markers\",\"name\":\"Tennant Creek\",\"orientation\":\"v\",\"showlegend\":true,\"x\":[89],\"xaxis\":\"x\",\"y\":[15671],\"yaxis\":\"y\",\"type\":\"scatter\"}],                        {\"template\":{\"data\":{\"histogram2dcontour\":[{\"type\":\"histogram2dcontour\",\"colorbar\":{\"outlinewidth\":0,\"ticks\":\"\"},\"colorscale\":[[0.0,\"#0d0887\"],[0.1111111111111111,\"#46039f\"],[0.2222222222222222,\"#7201a8\"],[0.3333333333333333,\"#9c179e\"],[0.4444444444444444,\"#bd3786\"],[0.5555555555555556,\"#d8576b\"],[0.6666666666666666,\"#ed7953\"],[0.7777777777777778,\"#fb9f3a\"],[0.8888888888888888,\"#fdca26\"],[1.0,\"#f0f921\"]]}],\"choropleth\":[{\"type\":\"choropleth\",\"colorbar\":{\"outlinewidth\":0,\"ticks\":\"\"}}],\"histogram2d\":[{\"type\":\"histogram2d\",\"colorbar\":{\"outlinewidth\":0,\"ticks\":\"\"},\"colorscale\":[[0.0,\"#0d0887\"],[0.1111111111111111,\"#46039f\"],[0.2222222222222222,\"#7201a8\"],[0.3333333333333333,\"#9c179e\"],[0.4444444444444444,\"#bd3786\"],[0.5555555555555556,\"#d8576b\"],[0.6666666666666666,\"#ed7953\"],[0.7777777777777778,\"#fb9f3a\"],[0.8888888888888888,\"#fdca26\"],[1.0,\"#f0f921\"]]}],\"heatmap\":[{\"type\":\"heatmap\",\"colorbar\":{\"outlinewidth\":0,\"ticks\":\"\"},\"colorscale\":[[0.0,\"#0d0887\"],[0.1111111111111111,\"#46039f\"],[0.2222222222222222,\"#7201a8\"],[0.3333333333333333,\"#9c179e\"],[0.4444444444444444,\"#bd3786\"],[0.5555555555555556,\"#d8576b\"],[0.6666666666666666,\"#ed7953\"],[0.7777777777777778,\"#fb9f3a\"],[0.8888888888888888,\"#fdca26\"],[1.0,\"#f0f921\"]]}],\"heatmapgl\":[{\"type\":\"heatmapgl\",\"colorbar\":{\"outlinewidth\":0,\"ticks\":\"\"},\"colorscale\":[[0.0,\"#0d0887\"],[0.1111111111111111,\"#46039f\"],[0.2222222222222222,\"#7201a8\"],[0.3333333333333333,\"#9c179e\"],[0.4444444444444444,\"#bd3786\"],[0.5555555555555556,\"#d8576b\"],[0.6666666666666666,\"#ed7953\"],[0.7777777777777778,\"#fb9f3a\"],[0.8888888888888888,\"#fdca26\"],[1.0,\"#f0f921\"]]}],\"contourcarpet\":[{\"type\":\"contourcarpet\",\"colorbar\":{\"outlinewidth\":0,\"ticks\":\"\"}}],\"contour\":[{\"type\":\"contour\",\"colorbar\":{\"outlinewidth\":0,\"ticks\":\"\"},\"colorscale\":[[0.0,\"#0d0887\"],[0.1111111111111111,\"#46039f\"],[0.2222222222222222,\"#7201a8\"],[0.3333333333333333,\"#9c179e\"],[0.4444444444444444,\"#bd3786\"],[0.5555555555555556,\"#d8576b\"],[0.6666666666666666,\"#ed7953\"],[0.7777777777777778,\"#fb9f3a\"],[0.8888888888888888,\"#fdca26\"],[1.0,\"#f0f921\"]]}],\"surface\":[{\"type\":\"surface\",\"colorbar\":{\"outlinewidth\":0,\"ticks\":\"\"},\"colorscale\":[[0.0,\"#0d0887\"],[0.1111111111111111,\"#46039f\"],[0.2222222222222222,\"#7201a8\"],[0.3333333333333333,\"#9c179e\"],[0.4444444444444444,\"#bd3786\"],[0.5555555555555556,\"#d8576b\"],[0.6666666666666666,\"#ed7953\"],[0.7777777777777778,\"#fb9f3a\"],[0.8888888888888888,\"#fdca26\"],[1.0,\"#f0f921\"]]}],\"mesh3d\":[{\"type\":\"mesh3d\",\"colorbar\":{\"outlinewidth\":0,\"ticks\":\"\"}}],\"scatter\":[{\"fillpattern\":{\"fillmode\":\"overlay\",\"size\":10,\"solidity\":0.2},\"type\":\"scatter\"}],\"parcoords\":[{\"type\":\"parcoords\",\"line\":{\"colorbar\":{\"outlinewidth\":0,\"ticks\":\"\"}}}],\"scatterpolargl\":[{\"type\":\"scatterpolargl\",\"marker\":{\"colorbar\":{\"outlinewidth\":0,\"ticks\":\"\"}}}],\"bar\":[{\"error_x\":{\"color\":\"#2a3f5f\"},\"error_y\":{\"color\":\"#2a3f5f\"},\"marker\":{\"line\":{\"color\":\"#E5ECF6\",\"width\":0.5},\"pattern\":{\"fillmode\":\"overlay\",\"size\":10,\"solidity\":0.2}},\"type\":\"bar\"}],\"scattergeo\":[{\"type\":\"scattergeo\",\"marker\":{\"colorbar\":{\"outlinewidth\":0,\"ticks\":\"\"}}}],\"scatterpolar\":[{\"type\":\"scatterpolar\",\"marker\":{\"colorbar\":{\"outlinewidth\":0,\"ticks\":\"\"}}}],\"histogram\":[{\"marker\":{\"pattern\":{\"fillmode\":\"overlay\",\"size\":10,\"solidity\":0.2}},\"type\":\"histogram\"}],\"scattergl\":[{\"type\":\"scattergl\",\"marker\":{\"colorbar\":{\"outlinewidth\":0,\"ticks\":\"\"}}}],\"scatter3d\":[{\"type\":\"scatter3d\",\"line\":{\"colorbar\":{\"outlinewidth\":0,\"ticks\":\"\"}},\"marker\":{\"colorbar\":{\"outlinewidth\":0,\"ticks\":\"\"}}}],\"scattermapbox\":[{\"type\":\"scattermapbox\",\"marker\":{\"colorbar\":{\"outlinewidth\":0,\"ticks\":\"\"}}}],\"scatterternary\":[{\"type\":\"scatterternary\",\"marker\":{\"colorbar\":{\"outlinewidth\":0,\"ticks\":\"\"}}}],\"scattercarpet\":[{\"type\":\"scattercarpet\",\"marker\":{\"colorbar\":{\"outlinewidth\":0,\"ticks\":\"\"}}}],\"carpet\":[{\"aaxis\":{\"endlinecolor\":\"#2a3f5f\",\"gridcolor\":\"white\",\"linecolor\":\"white\",\"minorgridcolor\":\"white\",\"startlinecolor\":\"#2a3f5f\"},\"baxis\":{\"endlinecolor\":\"#2a3f5f\",\"gridcolor\":\"white\",\"linecolor\":\"white\",\"minorgridcolor\":\"white\",\"startlinecolor\":\"#2a3f5f\"},\"type\":\"carpet\"}],\"table\":[{\"cells\":{\"fill\":{\"color\":\"#EBF0F8\"},\"line\":{\"color\":\"white\"}},\"header\":{\"fill\":{\"color\":\"#C8D4E3\"},\"line\":{\"color\":\"white\"}},\"type\":\"table\"}],\"barpolar\":[{\"marker\":{\"line\":{\"color\":\"#E5ECF6\",\"width\":0.5},\"pattern\":{\"fillmode\":\"overlay\",\"size\":10,\"solidity\":0.2}},\"type\":\"barpolar\"}],\"pie\":[{\"automargin\":true,\"type\":\"pie\"}]},\"layout\":{\"autotypenumbers\":\"strict\",\"colorway\":[\"#636efa\",\"#EF553B\",\"#00cc96\",\"#ab63fa\",\"#FFA15A\",\"#19d3f3\",\"#FF6692\",\"#B6E880\",\"#FF97FF\",\"#FECB52\"],\"font\":{\"color\":\"#2a3f5f\"},\"hovermode\":\"closest\",\"hoverlabel\":{\"align\":\"left\"},\"paper_bgcolor\":\"white\",\"plot_bgcolor\":\"#E5ECF6\",\"polar\":{\"bgcolor\":\"#E5ECF6\",\"angularaxis\":{\"gridcolor\":\"white\",\"linecolor\":\"white\",\"ticks\":\"\"},\"radialaxis\":{\"gridcolor\":\"white\",\"linecolor\":\"white\",\"ticks\":\"\"}},\"ternary\":{\"bgcolor\":\"#E5ECF6\",\"aaxis\":{\"gridcolor\":\"white\",\"linecolor\":\"white\",\"ticks\":\"\"},\"baxis\":{\"gridcolor\":\"white\",\"linecolor\":\"white\",\"ticks\":\"\"},\"caxis\":{\"gridcolor\":\"white\",\"linecolor\":\"white\",\"ticks\":\"\"}},\"coloraxis\":{\"colorbar\":{\"outlinewidth\":0,\"ticks\":\"\"}},\"colorscale\":{\"sequential\":[[0.0,\"#0d0887\"],[0.1111111111111111,\"#46039f\"],[0.2222222222222222,\"#7201a8\"],[0.3333333333333333,\"#9c179e\"],[0.4444444444444444,\"#bd3786\"],[0.5555555555555556,\"#d8576b\"],[0.6666666666666666,\"#ed7953\"],[0.7777777777777778,\"#fb9f3a\"],[0.8888888888888888,\"#fdca26\"],[1.0,\"#f0f921\"]],\"sequentialminus\":[[0.0,\"#0d0887\"],[0.1111111111111111,\"#46039f\"],[0.2222222222222222,\"#7201a8\"],[0.3333333333333333,\"#9c179e\"],[0.4444444444444444,\"#bd3786\"],[0.5555555555555556,\"#d8576b\"],[0.6666666666666666,\"#ed7953\"],[0.7777777777777778,\"#fb9f3a\"],[0.8888888888888888,\"#fdca26\"],[1.0,\"#f0f921\"]],\"diverging\":[[0,\"#8e0152\"],[0.1,\"#c51b7d\"],[0.2,\"#de77ae\"],[0.3,\"#f1b6da\"],[0.4,\"#fde0ef\"],[0.5,\"#f7f7f7\"],[0.6,\"#e6f5d0\"],[0.7,\"#b8e186\"],[0.8,\"#7fbc41\"],[0.9,\"#4d9221\"],[1,\"#276419\"]]},\"xaxis\":{\"gridcolor\":\"white\",\"linecolor\":\"white\",\"ticks\":\"\",\"title\":{\"standoff\":15},\"zerolinecolor\":\"white\",\"automargin\":true,\"zerolinewidth\":2},\"yaxis\":{\"gridcolor\":\"white\",\"linecolor\":\"white\",\"ticks\":\"\",\"title\":{\"standoff\":15},\"zerolinecolor\":\"white\",\"automargin\":true,\"zerolinewidth\":2},\"scene\":{\"xaxis\":{\"backgroundcolor\":\"#E5ECF6\",\"gridcolor\":\"white\",\"linecolor\":\"white\",\"showbackground\":true,\"ticks\":\"\",\"zerolinecolor\":\"white\",\"gridwidth\":2},\"yaxis\":{\"backgroundcolor\":\"#E5ECF6\",\"gridcolor\":\"white\",\"linecolor\":\"white\",\"showbackground\":true,\"ticks\":\"\",\"zerolinecolor\":\"white\",\"gridwidth\":2},\"zaxis\":{\"backgroundcolor\":\"#E5ECF6\",\"gridcolor\":\"white\",\"linecolor\":\"white\",\"showbackground\":true,\"ticks\":\"\",\"zerolinecolor\":\"white\",\"gridwidth\":2}},\"shapedefaults\":{\"line\":{\"color\":\"#2a3f5f\"}},\"annotationdefaults\":{\"arrowcolor\":\"#2a3f5f\",\"arrowhead\":0,\"arrowwidth\":1},\"geo\":{\"bgcolor\":\"white\",\"landcolor\":\"#E5ECF6\",\"subunitcolor\":\"white\",\"showland\":true,\"showlakes\":true,\"lakecolor\":\"white\"},\"title\":{\"x\":0.05},\"mapbox\":{\"style\":\"light\"}}},\"xaxis\":{\"anchor\":\"y\",\"domain\":[0.0,1.0],\"title\":{\"text\":\"unemployed\"}},\"yaxis\":{\"anchor\":\"x\",\"domain\":[0.0,1.0],\"title\":{\"text\":\"Number of offences\"}},\"legend\":{\"title\":{\"text\":\"Reporting region\"},\"tracegroupgap\":0,\"itemsizing\":\"constant\"},\"title\":{\"text\":\"Population vs Unemployment vs Number of Offenses\"}},                        {\"responsive\": true}                    ).then(function(){\n",
       "                            \n",
       "var gd = document.getElementById('f8a7b721-c8cb-4bf4-b7b5-be64324740a1');\n",
       "var x = new MutationObserver(function (mutations, observer) {{\n",
       "        var display = window.getComputedStyle(gd).display;\n",
       "        if (!display || display === 'none') {{\n",
       "            console.log([gd, 'removed!']);\n",
       "            Plotly.purge(gd);\n",
       "            observer.disconnect();\n",
       "        }}\n",
       "}});\n",
       "\n",
       "// Listen for the removal of the full notebook cells\n",
       "var notebookContainer = gd.closest('#notebook-container');\n",
       "if (notebookContainer) {{\n",
       "    x.observe(notebookContainer, {childList: true});\n",
       "}}\n",
       "\n",
       "// Listen for the clearing of the current output cell\n",
       "var outputEl = gd.closest('.output');\n",
       "if (outputEl) {{\n",
       "    x.observe(outputEl, {childList: true});\n",
       "}}\n",
       "\n",
       "                        })                };                });            </script>        </div>"
      ]
     },
     "metadata": {},
     "output_type": "display_data"
    }
   ],
   "source": [
    "px.scatter(region_population_unemployment_df, x = 'unemployed', y = 'Number of offences', size = 'population', color = 'Reporting region', title = 'Population vs Unemployment vs Number of Offenses' )"
   ]
  },
  {
   "cell_type": "markdown",
   "id": "ea0d33ad",
   "metadata": {},
   "source": [
    "<h2 style = 'color: blue'> Yearly Trend </h2>\n",
    "\n",
    "According to the source of the data, [Current - Northern Territory Crime Statistics May 2022](https://data.nt.gov.au/dataset/current-northern-territory-crime-statistics-may-2022), the *offences in the Northern Territory can show **strong seasonal patterns, with predictable peaks and troughs at certain times of the year.**  Therefore, comparisons should be made of the same months in different years, rather than consecutive months.  For trends, a 12-month rolling average or rolling sum is recommended in order to dampen the month-to-month variability and account for the seasonal cycles.*"
   ]
  },
  {
   "cell_type": "code",
   "execution_count": 46,
   "id": "9aa0991c",
   "metadata": {},
   "outputs": [
    {
     "data": {
      "application/vnd.jupyter.widget-view+json": {
       "model_id": "3bc25c6370ea42d3bd79be06b369d9ef",
       "version_major": 2,
       "version_minor": 0
      },
      "text/plain": [
       "interactive(children=(IntSlider(value=2015, description='Year', max=2022, min=2008), Output()), _dom_classes=(…"
      ]
     },
     "metadata": {},
     "output_type": "display_data"
    }
   ],
   "source": [
    "@interact\n",
    "def show_yearly_crime_count(Year=(2008, 2022, 1)):\n",
    "    \n",
    "    monthly_sum = nt_df[nt_df['Year']==Year].groupby('Month number')['Number of offences'].sum()\n",
    "    yearly_mean = nt_df[nt_df['Year']==Year].groupby('Month number')['Number of offences'].sum().mean()\n",
    "    monthly_variance = monthly_sum - yearly_mean\n",
    "    maximum_sum = nt_df[nt_df['Year']==Year].groupby('Month number')['Number of offences'].sum().max()\n",
    "    minimum_sum = nt_df[nt_df['Year']==Year].groupby('Month number')['Number of offences'].sum().min()\n",
    "    years = nt_df['Year'].unique\n",
    "    \n",
    "    yearly_count = pd.DataFrame(monthly_sum)\n",
    "    yearly_count['Mean'] = yearly_mean\n",
    "    yearly_count['Variance'] = monthly_variance \n",
    "    yearly_count['Percent Variance'] = monthly_variance / yearly_mean * 100\n",
    "    \n",
    "    yearly_max_min = pd.DataFrame([maximum_sum, minimum_sum])\n",
    "    \n",
    "    if len(yearly_count.index) > 5:\n",
    "        yearly_count.index = ['Jan', 'Feb', 'March', 'April', 'May', 'June', 'July', 'Aug', 'Sept', 'Oct', 'Nov', 'Dec']\n",
    "    else:\n",
    "        yearly_count.index = ['Jan', 'Feb', 'March', 'April', 'May']\n",
    "                 \n",
    "\n",
    "    yearly_count.iplot(kind='bar',\n",
    "                       barmode='group', \n",
    "                       title=f'Number of Offences, Mean & Variance For Each Month in {Year}'\n",
    "                      )\n",
    "    \n",
    "    display(yearly_count)\n",
    "    "
   ]
  },
  {
   "cell_type": "code",
   "execution_count": 47,
   "id": "ec10dfbe",
   "metadata": {},
   "outputs": [
    {
     "data": {
      "application/vnd.jupyter.widget-view+json": {
       "model_id": "b696cf2e51ea4b149848ad495e6b49b4",
       "version_major": 2,
       "version_minor": 0
      },
      "text/plain": [
       "interactive(children=(Dropdown(description='Month', options=(('January', 1), ('February', 2), ('March', 3), ('…"
      ]
     },
     "metadata": {},
     "output_type": "display_data"
    }
   ],
   "source": [
    "@interact\n",
    "def show_monthly_crime_count(Month=[('January', 1), ('February', 2), ('March', 3), ('April', 4), ('May', 5), ('June', 6), ('July', 7), ('August', 8), ('September', 9), ('October', 10), ('November', 11), ('December', 12)]):\n",
    "    \n",
    "\n",
    "    monthly_sum_per_year = nt_df[nt_df['Month number'] == Month].groupby('Year')['Number of offences'].sum()\n",
    "    mean_by_month = nt_df[nt_df['Month number'] == Month].groupby('Year')['Number of offences'].sum().mean()\n",
    "    variance_by_month = monthly_sum_per_year - mean_by_month\n",
    "    \n",
    "    monthly_count = pd.DataFrame(monthly_sum_per_year)\n",
    "    monthly_count['Mean'] = mean_by_month\n",
    "    monthly_count['Variance'] = variance_by_month \n",
    "    monthly_count['Percent Variance'] = variance_by_month / mean_by_month * 100\n",
    "\n",
    "    monthly_count.iplot(kind='bar',\n",
    "                       barmode='group', \n",
    "                       title=f'Number of Offences, Mean & Variance for Each Month Grouped By Year'\n",
    "                      )\n",
    "    \n",
    "    display(monthly_count)\n",
    "\n"
   ]
  },
  {
   "cell_type": "code",
   "execution_count": 48,
   "id": "b402dcb9",
   "metadata": {},
   "outputs": [],
   "source": [
    "years = nt_df['Year'].unique()\n",
    "months = nt_df['Month number'].unique()\n",
    "offence_sum = []\n",
    "\n",
    "for month in months: \n",
    "    offence_sum.append(nt_df[nt_df['Month number'] == month].groupby('Year')['Number of offences'].sum())\n",
    "\n",
    "Offence_sum_df = pd.DataFrame(offence_sum)\n",
    "Offence_sum_df = Offence_sum_df.set_index(months)\n",
    "Offence_sum_df[2022] = Offence_sum_df[2022].fillna(0)"
   ]
  },
  {
   "cell_type": "code",
   "execution_count": 49,
   "id": "72ad3d8d",
   "metadata": {},
   "outputs": [],
   "source": [
    "Offence_sum_df = Offence_sum_df.transpose()"
   ]
  },
  {
   "cell_type": "code",
   "execution_count": 50,
   "id": "205ac400",
   "metadata": {},
   "outputs": [],
   "source": [
    "Offence_sum_df = Offence_sum_df.stack().reset_index()"
   ]
  },
  {
   "cell_type": "code",
   "execution_count": 51,
   "id": "9819a898",
   "metadata": {},
   "outputs": [],
   "source": [
    "Offence_sum_df = Offence_sum_df.rename(columns={'level_1': 'Month', 0: 'Number of Offences'})"
   ]
  },
  {
   "cell_type": "code",
   "execution_count": 52,
   "id": "25141e02",
   "metadata": {},
   "outputs": [
    {
     "data": {
      "text/html": [
       "<div>\n",
       "<style scoped>\n",
       "    .dataframe tbody tr th:only-of-type {\n",
       "        vertical-align: middle;\n",
       "    }\n",
       "\n",
       "    .dataframe tbody tr th {\n",
       "        vertical-align: top;\n",
       "    }\n",
       "\n",
       "    .dataframe thead th {\n",
       "        text-align: right;\n",
       "    }\n",
       "</style>\n",
       "<table border=\"1\" class=\"dataframe\">\n",
       "  <thead>\n",
       "    <tr style=\"text-align: right;\">\n",
       "      <th></th>\n",
       "      <th>Year</th>\n",
       "      <th>Month</th>\n",
       "      <th>Number of Offences</th>\n",
       "    </tr>\n",
       "  </thead>\n",
       "  <tbody>\n",
       "    <tr>\n",
       "      <th>0</th>\n",
       "      <td>2008</td>\n",
       "      <td>1</td>\n",
       "      <td>2420.0</td>\n",
       "    </tr>\n",
       "    <tr>\n",
       "      <th>1</th>\n",
       "      <td>2008</td>\n",
       "      <td>2</td>\n",
       "      <td>2417.0</td>\n",
       "    </tr>\n",
       "    <tr>\n",
       "      <th>2</th>\n",
       "      <td>2008</td>\n",
       "      <td>3</td>\n",
       "      <td>2630.0</td>\n",
       "    </tr>\n",
       "    <tr>\n",
       "      <th>3</th>\n",
       "      <td>2008</td>\n",
       "      <td>4</td>\n",
       "      <td>2583.0</td>\n",
       "    </tr>\n",
       "    <tr>\n",
       "      <th>4</th>\n",
       "      <td>2008</td>\n",
       "      <td>5</td>\n",
       "      <td>2262.0</td>\n",
       "    </tr>\n",
       "    <tr>\n",
       "      <th>...</th>\n",
       "      <td>...</td>\n",
       "      <td>...</td>\n",
       "      <td>...</td>\n",
       "    </tr>\n",
       "    <tr>\n",
       "      <th>175</th>\n",
       "      <td>2022</td>\n",
       "      <td>8</td>\n",
       "      <td>0.0</td>\n",
       "    </tr>\n",
       "    <tr>\n",
       "      <th>176</th>\n",
       "      <td>2022</td>\n",
       "      <td>9</td>\n",
       "      <td>0.0</td>\n",
       "    </tr>\n",
       "    <tr>\n",
       "      <th>177</th>\n",
       "      <td>2022</td>\n",
       "      <td>10</td>\n",
       "      <td>0.0</td>\n",
       "    </tr>\n",
       "    <tr>\n",
       "      <th>178</th>\n",
       "      <td>2022</td>\n",
       "      <td>11</td>\n",
       "      <td>0.0</td>\n",
       "    </tr>\n",
       "    <tr>\n",
       "      <th>179</th>\n",
       "      <td>2022</td>\n",
       "      <td>12</td>\n",
       "      <td>0.0</td>\n",
       "    </tr>\n",
       "  </tbody>\n",
       "</table>\n",
       "<p>180 rows × 3 columns</p>\n",
       "</div>"
      ],
      "text/plain": [
       "     Year  Month  Number of Offences\n",
       "0    2008      1              2420.0\n",
       "1    2008      2              2417.0\n",
       "2    2008      3              2630.0\n",
       "3    2008      4              2583.0\n",
       "4    2008      5              2262.0\n",
       "..    ...    ...                 ...\n",
       "175  2022      8                 0.0\n",
       "176  2022      9                 0.0\n",
       "177  2022     10                 0.0\n",
       "178  2022     11                 0.0\n",
       "179  2022     12                 0.0\n",
       "\n",
       "[180 rows x 3 columns]"
      ]
     },
     "execution_count": 52,
     "metadata": {},
     "output_type": "execute_result"
    }
   ],
   "source": [
    "Offence_sum_df "
   ]
  },
  {
   "cell_type": "code",
   "execution_count": 53,
   "id": "b22bbd8e",
   "metadata": {
    "scrolled": false
   },
   "outputs": [
    {
     "data": {
      "application/vnd.plotly.v1+json": {
       "config": {
        "plotlyServerURL": "https://plot.ly"
       },
       "data": [
        {
         "alignmentgroup": "True",
         "box": {
          "visible": true
         },
         "hovertemplate": "Month=%{x}<br>Number of Offences=%{y}<extra></extra>",
         "legendgroup": "1",
         "marker": {
          "color": "#636efa"
         },
         "name": "1",
         "offsetgroup": "1",
         "orientation": "v",
         "points": "all",
         "scalegroup": "True",
         "showlegend": true,
         "type": "violin",
         "x": [
          1,
          1,
          1,
          1,
          1,
          1,
          1,
          1,
          1,
          1,
          1,
          1,
          1,
          1
         ],
         "x0": " ",
         "xaxis": "x",
         "y": [
          2420,
          2669,
          3072,
          2533,
          2880,
          2488,
          2305,
          2776,
          2503,
          3103,
          2906,
          2874,
          2924,
          2901
         ],
         "y0": " ",
         "yaxis": "y"
        },
        {
         "alignmentgroup": "True",
         "box": {
          "visible": true
         },
         "hovertemplate": "Month=%{x}<br>Number of Offences=%{y}<extra></extra>",
         "legendgroup": "2",
         "marker": {
          "color": "#EF553B"
         },
         "name": "2",
         "offsetgroup": "2",
         "orientation": "v",
         "points": "all",
         "scalegroup": "True",
         "showlegend": true,
         "type": "violin",
         "x": [
          2,
          2,
          2,
          2,
          2,
          2,
          2,
          2,
          2,
          2,
          2,
          2,
          2,
          2
         ],
         "x0": " ",
         "xaxis": "x",
         "y": [
          2417,
          2183,
          2565,
          2494,
          2578,
          2301,
          1963,
          2103,
          2337,
          2622,
          2637,
          2220,
          2948,
          2523
         ],
         "y0": " ",
         "yaxis": "y"
        },
        {
         "alignmentgroup": "True",
         "box": {
          "visible": true
         },
         "hovertemplate": "Month=%{x}<br>Number of Offences=%{y}<extra></extra>",
         "legendgroup": "3",
         "marker": {
          "color": "#00cc96"
         },
         "name": "3",
         "offsetgroup": "3",
         "orientation": "v",
         "points": "all",
         "scalegroup": "True",
         "showlegend": true,
         "type": "violin",
         "x": [
          3,
          3,
          3,
          3,
          3,
          3,
          3,
          3,
          3,
          3,
          3,
          3,
          3,
          3
         ],
         "x0": " ",
         "xaxis": "x",
         "y": [
          2630,
          2451,
          2809,
          2367,
          2788,
          2555,
          2451,
          2466,
          2340,
          2560,
          2588,
          2615,
          2991,
          2993
         ],
         "y0": " ",
         "yaxis": "y"
        },
        {
         "alignmentgroup": "True",
         "box": {
          "visible": true
         },
         "hovertemplate": "Month=%{x}<br>Number of Offences=%{y}<extra></extra>",
         "legendgroup": "4",
         "marker": {
          "color": "#ab63fa"
         },
         "name": "4",
         "offsetgroup": "4",
         "orientation": "v",
         "points": "all",
         "scalegroup": "True",
         "showlegend": true,
         "type": "violin",
         "x": [
          4,
          4,
          4,
          4,
          4,
          4,
          4,
          4,
          4,
          4,
          4,
          4,
          4,
          4
         ],
         "x0": " ",
         "xaxis": "x",
         "y": [
          2583,
          2345,
          2611,
          2228,
          2862,
          2339,
          2429,
          2321,
          2287,
          2225,
          2718,
          2324,
          1782,
          2713
         ],
         "y0": " ",
         "yaxis": "y"
        },
        {
         "alignmentgroup": "True",
         "box": {
          "visible": true
         },
         "hovertemplate": "Month=%{x}<br>Number of Offences=%{y}<extra></extra>",
         "legendgroup": "5",
         "marker": {
          "color": "#FFA15A"
         },
         "name": "5",
         "offsetgroup": "5",
         "orientation": "v",
         "points": "all",
         "scalegroup": "True",
         "showlegend": true,
         "type": "violin",
         "x": [
          5,
          5,
          5,
          5,
          5,
          5,
          5,
          5,
          5,
          5,
          5,
          5,
          5,
          5
         ],
         "x0": " ",
         "xaxis": "x",
         "y": [
          2262,
          2268,
          2654,
          2095,
          2526,
          2276,
          2328,
          2130,
          2336,
          2534,
          2556,
          2464,
          1571,
          2680
         ],
         "y0": " ",
         "yaxis": "y"
        },
        {
         "alignmentgroup": "True",
         "box": {
          "visible": true
         },
         "hovertemplate": "Month=%{x}<br>Number of Offences=%{y}<extra></extra>",
         "legendgroup": "6",
         "marker": {
          "color": "#19d3f3"
         },
         "name": "6",
         "offsetgroup": "6",
         "orientation": "v",
         "points": "all",
         "scalegroup": "True",
         "showlegend": true,
         "type": "violin",
         "x": [
          6,
          6,
          6,
          6,
          6,
          6,
          6,
          6,
          6,
          6,
          6,
          6,
          6,
          6
         ],
         "x0": " ",
         "xaxis": "x",
         "y": [
          2276,
          2217,
          2279,
          1990,
          2087,
          2224,
          2364,
          2310,
          2284,
          2160,
          2146,
          1991,
          1632,
          2284
         ],
         "y0": " ",
         "yaxis": "y"
        },
        {
         "alignmentgroup": "True",
         "box": {
          "visible": true
         },
         "hovertemplate": "Month=%{x}<br>Number of Offences=%{y}<extra></extra>",
         "legendgroup": "7",
         "marker": {
          "color": "#FF6692"
         },
         "name": "7",
         "offsetgroup": "7",
         "orientation": "v",
         "points": "all",
         "scalegroup": "True",
         "showlegend": true,
         "type": "violin",
         "x": [
          7,
          7,
          7,
          7,
          7,
          7,
          7,
          7,
          7,
          7,
          7,
          7,
          7,
          7
         ],
         "x0": " ",
         "xaxis": "x",
         "y": [
          2204,
          2174,
          2536,
          2195,
          2360,
          2375,
          2352,
          2042,
          2271,
          2218,
          2481,
          2063,
          1688,
          2377
         ],
         "y0": " ",
         "yaxis": "y"
        },
        {
         "alignmentgroup": "True",
         "box": {
          "visible": true
         },
         "hovertemplate": "Month=%{x}<br>Number of Offences=%{y}<extra></extra>",
         "legendgroup": "8",
         "marker": {
          "color": "#B6E880"
         },
         "name": "8",
         "offsetgroup": "8",
         "orientation": "v",
         "points": "all",
         "scalegroup": "True",
         "showlegend": true,
         "type": "violin",
         "x": [
          8,
          8,
          8,
          8,
          8,
          8,
          8,
          8,
          8,
          8,
          8,
          8,
          8,
          8
         ],
         "x0": " ",
         "xaxis": "x",
         "y": [
          2198,
          2144,
          2212,
          1991,
          1954,
          2022,
          2196,
          2114,
          2178,
          2394,
          2428,
          2266,
          1894,
          2779
         ],
         "y0": " ",
         "yaxis": "y"
        },
        {
         "alignmentgroup": "True",
         "box": {
          "visible": true
         },
         "hovertemplate": "Month=%{x}<br>Number of Offences=%{y}<extra></extra>",
         "legendgroup": "9",
         "marker": {
          "color": "#FF97FF"
         },
         "name": "9",
         "offsetgroup": "9",
         "orientation": "v",
         "points": "all",
         "scalegroup": "True",
         "showlegend": true,
         "type": "violin",
         "x": [
          9,
          9,
          9,
          9,
          9,
          9,
          9,
          9,
          9,
          9,
          9,
          9,
          9,
          9
         ],
         "x0": " ",
         "xaxis": "x",
         "y": [
          2228,
          2410,
          2489,
          2078,
          2198,
          1922,
          2093,
          2131,
          2256,
          2236,
          2511,
          2154,
          2297,
          2852
         ],
         "y0": " ",
         "yaxis": "y"
        },
        {
         "alignmentgroup": "True",
         "box": {
          "visible": true
         },
         "hovertemplate": "Month=%{x}<br>Number of Offences=%{y}<extra></extra>",
         "legendgroup": "10",
         "marker": {
          "color": "#FECB52"
         },
         "name": "10",
         "offsetgroup": "10",
         "orientation": "v",
         "points": "all",
         "scalegroup": "True",
         "showlegend": true,
         "type": "violin",
         "x": [
          10,
          10,
          10,
          10,
          10,
          10,
          10,
          10,
          10,
          10,
          10,
          10,
          10,
          10
         ],
         "x0": " ",
         "xaxis": "x",
         "y": [
          2498,
          2661,
          2624,
          2186,
          2465,
          1980,
          2221,
          2237,
          2439,
          2533,
          2529,
          2645,
          2820,
          2983
         ],
         "y0": " ",
         "yaxis": "y"
        },
        {
         "alignmentgroup": "True",
         "box": {
          "visible": true
         },
         "hovertemplate": "Month=%{x}<br>Number of Offences=%{y}<extra></extra>",
         "legendgroup": "11",
         "marker": {
          "color": "#636efa"
         },
         "name": "11",
         "offsetgroup": "11",
         "orientation": "v",
         "points": "all",
         "scalegroup": "True",
         "showlegend": true,
         "type": "violin",
         "x": [
          11,
          11,
          11,
          11,
          11,
          11,
          11,
          11,
          11,
          11,
          11,
          11,
          11,
          11
         ],
         "x0": " ",
         "xaxis": "x",
         "y": [
          2609,
          2467,
          2311,
          2430,
          2449,
          2182,
          2288,
          2277,
          2469,
          2419,
          2478,
          2606,
          2816,
          2923
         ],
         "y0": " ",
         "yaxis": "y"
        },
        {
         "alignmentgroup": "True",
         "box": {
          "visible": true
         },
         "hovertemplate": "Month=%{x}<br>Number of Offences=%{y}<extra></extra>",
         "legendgroup": "12",
         "marker": {
          "color": "#EF553B"
         },
         "name": "12",
         "offsetgroup": "12",
         "orientation": "v",
         "points": "all",
         "scalegroup": "True",
         "showlegend": true,
         "type": "violin",
         "x": [
          12,
          12,
          12,
          12,
          12,
          12,
          12,
          12,
          12,
          12,
          12,
          12,
          12,
          12
         ],
         "x0": " ",
         "xaxis": "x",
         "y": [
          2342,
          2604,
          2376,
          2695,
          2491,
          2142,
          2674,
          2433,
          2706,
          2886,
          2570,
          2627,
          2724,
          2771
         ],
         "y0": " ",
         "yaxis": "y"
        }
       ],
       "layout": {
        "legend": {
         "title": {
          "text": "Month"
         },
         "tracegroupgap": 0
        },
        "template": {
         "data": {
          "bar": [
           {
            "error_x": {
             "color": "#2a3f5f"
            },
            "error_y": {
             "color": "#2a3f5f"
            },
            "marker": {
             "line": {
              "color": "#E5ECF6",
              "width": 0.5
             },
             "pattern": {
              "fillmode": "overlay",
              "size": 10,
              "solidity": 0.2
             }
            },
            "type": "bar"
           }
          ],
          "barpolar": [
           {
            "marker": {
             "line": {
              "color": "#E5ECF6",
              "width": 0.5
             },
             "pattern": {
              "fillmode": "overlay",
              "size": 10,
              "solidity": 0.2
             }
            },
            "type": "barpolar"
           }
          ],
          "carpet": [
           {
            "aaxis": {
             "endlinecolor": "#2a3f5f",
             "gridcolor": "white",
             "linecolor": "white",
             "minorgridcolor": "white",
             "startlinecolor": "#2a3f5f"
            },
            "baxis": {
             "endlinecolor": "#2a3f5f",
             "gridcolor": "white",
             "linecolor": "white",
             "minorgridcolor": "white",
             "startlinecolor": "#2a3f5f"
            },
            "type": "carpet"
           }
          ],
          "choropleth": [
           {
            "colorbar": {
             "outlinewidth": 0,
             "ticks": ""
            },
            "type": "choropleth"
           }
          ],
          "contour": [
           {
            "colorbar": {
             "outlinewidth": 0,
             "ticks": ""
            },
            "colorscale": [
             [
              0,
              "#0d0887"
             ],
             [
              0.1111111111111111,
              "#46039f"
             ],
             [
              0.2222222222222222,
              "#7201a8"
             ],
             [
              0.3333333333333333,
              "#9c179e"
             ],
             [
              0.4444444444444444,
              "#bd3786"
             ],
             [
              0.5555555555555556,
              "#d8576b"
             ],
             [
              0.6666666666666666,
              "#ed7953"
             ],
             [
              0.7777777777777778,
              "#fb9f3a"
             ],
             [
              0.8888888888888888,
              "#fdca26"
             ],
             [
              1,
              "#f0f921"
             ]
            ],
            "type": "contour"
           }
          ],
          "contourcarpet": [
           {
            "colorbar": {
             "outlinewidth": 0,
             "ticks": ""
            },
            "type": "contourcarpet"
           }
          ],
          "heatmap": [
           {
            "colorbar": {
             "outlinewidth": 0,
             "ticks": ""
            },
            "colorscale": [
             [
              0,
              "#0d0887"
             ],
             [
              0.1111111111111111,
              "#46039f"
             ],
             [
              0.2222222222222222,
              "#7201a8"
             ],
             [
              0.3333333333333333,
              "#9c179e"
             ],
             [
              0.4444444444444444,
              "#bd3786"
             ],
             [
              0.5555555555555556,
              "#d8576b"
             ],
             [
              0.6666666666666666,
              "#ed7953"
             ],
             [
              0.7777777777777778,
              "#fb9f3a"
             ],
             [
              0.8888888888888888,
              "#fdca26"
             ],
             [
              1,
              "#f0f921"
             ]
            ],
            "type": "heatmap"
           }
          ],
          "heatmapgl": [
           {
            "colorbar": {
             "outlinewidth": 0,
             "ticks": ""
            },
            "colorscale": [
             [
              0,
              "#0d0887"
             ],
             [
              0.1111111111111111,
              "#46039f"
             ],
             [
              0.2222222222222222,
              "#7201a8"
             ],
             [
              0.3333333333333333,
              "#9c179e"
             ],
             [
              0.4444444444444444,
              "#bd3786"
             ],
             [
              0.5555555555555556,
              "#d8576b"
             ],
             [
              0.6666666666666666,
              "#ed7953"
             ],
             [
              0.7777777777777778,
              "#fb9f3a"
             ],
             [
              0.8888888888888888,
              "#fdca26"
             ],
             [
              1,
              "#f0f921"
             ]
            ],
            "type": "heatmapgl"
           }
          ],
          "histogram": [
           {
            "marker": {
             "pattern": {
              "fillmode": "overlay",
              "size": 10,
              "solidity": 0.2
             }
            },
            "type": "histogram"
           }
          ],
          "histogram2d": [
           {
            "colorbar": {
             "outlinewidth": 0,
             "ticks": ""
            },
            "colorscale": [
             [
              0,
              "#0d0887"
             ],
             [
              0.1111111111111111,
              "#46039f"
             ],
             [
              0.2222222222222222,
              "#7201a8"
             ],
             [
              0.3333333333333333,
              "#9c179e"
             ],
             [
              0.4444444444444444,
              "#bd3786"
             ],
             [
              0.5555555555555556,
              "#d8576b"
             ],
             [
              0.6666666666666666,
              "#ed7953"
             ],
             [
              0.7777777777777778,
              "#fb9f3a"
             ],
             [
              0.8888888888888888,
              "#fdca26"
             ],
             [
              1,
              "#f0f921"
             ]
            ],
            "type": "histogram2d"
           }
          ],
          "histogram2dcontour": [
           {
            "colorbar": {
             "outlinewidth": 0,
             "ticks": ""
            },
            "colorscale": [
             [
              0,
              "#0d0887"
             ],
             [
              0.1111111111111111,
              "#46039f"
             ],
             [
              0.2222222222222222,
              "#7201a8"
             ],
             [
              0.3333333333333333,
              "#9c179e"
             ],
             [
              0.4444444444444444,
              "#bd3786"
             ],
             [
              0.5555555555555556,
              "#d8576b"
             ],
             [
              0.6666666666666666,
              "#ed7953"
             ],
             [
              0.7777777777777778,
              "#fb9f3a"
             ],
             [
              0.8888888888888888,
              "#fdca26"
             ],
             [
              1,
              "#f0f921"
             ]
            ],
            "type": "histogram2dcontour"
           }
          ],
          "mesh3d": [
           {
            "colorbar": {
             "outlinewidth": 0,
             "ticks": ""
            },
            "type": "mesh3d"
           }
          ],
          "parcoords": [
           {
            "line": {
             "colorbar": {
              "outlinewidth": 0,
              "ticks": ""
             }
            },
            "type": "parcoords"
           }
          ],
          "pie": [
           {
            "automargin": true,
            "type": "pie"
           }
          ],
          "scatter": [
           {
            "fillpattern": {
             "fillmode": "overlay",
             "size": 10,
             "solidity": 0.2
            },
            "type": "scatter"
           }
          ],
          "scatter3d": [
           {
            "line": {
             "colorbar": {
              "outlinewidth": 0,
              "ticks": ""
             }
            },
            "marker": {
             "colorbar": {
              "outlinewidth": 0,
              "ticks": ""
             }
            },
            "type": "scatter3d"
           }
          ],
          "scattercarpet": [
           {
            "marker": {
             "colorbar": {
              "outlinewidth": 0,
              "ticks": ""
             }
            },
            "type": "scattercarpet"
           }
          ],
          "scattergeo": [
           {
            "marker": {
             "colorbar": {
              "outlinewidth": 0,
              "ticks": ""
             }
            },
            "type": "scattergeo"
           }
          ],
          "scattergl": [
           {
            "marker": {
             "colorbar": {
              "outlinewidth": 0,
              "ticks": ""
             }
            },
            "type": "scattergl"
           }
          ],
          "scattermapbox": [
           {
            "marker": {
             "colorbar": {
              "outlinewidth": 0,
              "ticks": ""
             }
            },
            "type": "scattermapbox"
           }
          ],
          "scatterpolar": [
           {
            "marker": {
             "colorbar": {
              "outlinewidth": 0,
              "ticks": ""
             }
            },
            "type": "scatterpolar"
           }
          ],
          "scatterpolargl": [
           {
            "marker": {
             "colorbar": {
              "outlinewidth": 0,
              "ticks": ""
             }
            },
            "type": "scatterpolargl"
           }
          ],
          "scatterternary": [
           {
            "marker": {
             "colorbar": {
              "outlinewidth": 0,
              "ticks": ""
             }
            },
            "type": "scatterternary"
           }
          ],
          "surface": [
           {
            "colorbar": {
             "outlinewidth": 0,
             "ticks": ""
            },
            "colorscale": [
             [
              0,
              "#0d0887"
             ],
             [
              0.1111111111111111,
              "#46039f"
             ],
             [
              0.2222222222222222,
              "#7201a8"
             ],
             [
              0.3333333333333333,
              "#9c179e"
             ],
             [
              0.4444444444444444,
              "#bd3786"
             ],
             [
              0.5555555555555556,
              "#d8576b"
             ],
             [
              0.6666666666666666,
              "#ed7953"
             ],
             [
              0.7777777777777778,
              "#fb9f3a"
             ],
             [
              0.8888888888888888,
              "#fdca26"
             ],
             [
              1,
              "#f0f921"
             ]
            ],
            "type": "surface"
           }
          ],
          "table": [
           {
            "cells": {
             "fill": {
              "color": "#EBF0F8"
             },
             "line": {
              "color": "white"
             }
            },
            "header": {
             "fill": {
              "color": "#C8D4E3"
             },
             "line": {
              "color": "white"
             }
            },
            "type": "table"
           }
          ]
         },
         "layout": {
          "annotationdefaults": {
           "arrowcolor": "#2a3f5f",
           "arrowhead": 0,
           "arrowwidth": 1
          },
          "autotypenumbers": "strict",
          "coloraxis": {
           "colorbar": {
            "outlinewidth": 0,
            "ticks": ""
           }
          },
          "colorscale": {
           "diverging": [
            [
             0,
             "#8e0152"
            ],
            [
             0.1,
             "#c51b7d"
            ],
            [
             0.2,
             "#de77ae"
            ],
            [
             0.3,
             "#f1b6da"
            ],
            [
             0.4,
             "#fde0ef"
            ],
            [
             0.5,
             "#f7f7f7"
            ],
            [
             0.6,
             "#e6f5d0"
            ],
            [
             0.7,
             "#b8e186"
            ],
            [
             0.8,
             "#7fbc41"
            ],
            [
             0.9,
             "#4d9221"
            ],
            [
             1,
             "#276419"
            ]
           ],
           "sequential": [
            [
             0,
             "#0d0887"
            ],
            [
             0.1111111111111111,
             "#46039f"
            ],
            [
             0.2222222222222222,
             "#7201a8"
            ],
            [
             0.3333333333333333,
             "#9c179e"
            ],
            [
             0.4444444444444444,
             "#bd3786"
            ],
            [
             0.5555555555555556,
             "#d8576b"
            ],
            [
             0.6666666666666666,
             "#ed7953"
            ],
            [
             0.7777777777777778,
             "#fb9f3a"
            ],
            [
             0.8888888888888888,
             "#fdca26"
            ],
            [
             1,
             "#f0f921"
            ]
           ],
           "sequentialminus": [
            [
             0,
             "#0d0887"
            ],
            [
             0.1111111111111111,
             "#46039f"
            ],
            [
             0.2222222222222222,
             "#7201a8"
            ],
            [
             0.3333333333333333,
             "#9c179e"
            ],
            [
             0.4444444444444444,
             "#bd3786"
            ],
            [
             0.5555555555555556,
             "#d8576b"
            ],
            [
             0.6666666666666666,
             "#ed7953"
            ],
            [
             0.7777777777777778,
             "#fb9f3a"
            ],
            [
             0.8888888888888888,
             "#fdca26"
            ],
            [
             1,
             "#f0f921"
            ]
           ]
          },
          "colorway": [
           "#636efa",
           "#EF553B",
           "#00cc96",
           "#ab63fa",
           "#FFA15A",
           "#19d3f3",
           "#FF6692",
           "#B6E880",
           "#FF97FF",
           "#FECB52"
          ],
          "font": {
           "color": "#2a3f5f"
          },
          "geo": {
           "bgcolor": "white",
           "lakecolor": "white",
           "landcolor": "#E5ECF6",
           "showlakes": true,
           "showland": true,
           "subunitcolor": "white"
          },
          "hoverlabel": {
           "align": "left"
          },
          "hovermode": "closest",
          "mapbox": {
           "style": "light"
          },
          "paper_bgcolor": "white",
          "plot_bgcolor": "#E5ECF6",
          "polar": {
           "angularaxis": {
            "gridcolor": "white",
            "linecolor": "white",
            "ticks": ""
           },
           "bgcolor": "#E5ECF6",
           "radialaxis": {
            "gridcolor": "white",
            "linecolor": "white",
            "ticks": ""
           }
          },
          "scene": {
           "xaxis": {
            "backgroundcolor": "#E5ECF6",
            "gridcolor": "white",
            "gridwidth": 2,
            "linecolor": "white",
            "showbackground": true,
            "ticks": "",
            "zerolinecolor": "white"
           },
           "yaxis": {
            "backgroundcolor": "#E5ECF6",
            "gridcolor": "white",
            "gridwidth": 2,
            "linecolor": "white",
            "showbackground": true,
            "ticks": "",
            "zerolinecolor": "white"
           },
           "zaxis": {
            "backgroundcolor": "#E5ECF6",
            "gridcolor": "white",
            "gridwidth": 2,
            "linecolor": "white",
            "showbackground": true,
            "ticks": "",
            "zerolinecolor": "white"
           }
          },
          "shapedefaults": {
           "line": {
            "color": "#2a3f5f"
           }
          },
          "ternary": {
           "aaxis": {
            "gridcolor": "white",
            "linecolor": "white",
            "ticks": ""
           },
           "baxis": {
            "gridcolor": "white",
            "linecolor": "white",
            "ticks": ""
           },
           "bgcolor": "#E5ECF6",
           "caxis": {
            "gridcolor": "white",
            "linecolor": "white",
            "ticks": ""
           }
          },
          "title": {
           "x": 0.05
          },
          "xaxis": {
           "automargin": true,
           "gridcolor": "white",
           "linecolor": "white",
           "ticks": "",
           "title": {
            "standoff": 15
           },
           "zerolinecolor": "white",
           "zerolinewidth": 2
          },
          "yaxis": {
           "automargin": true,
           "gridcolor": "white",
           "linecolor": "white",
           "ticks": "",
           "title": {
            "standoff": 15
           },
           "zerolinecolor": "white",
           "zerolinewidth": 2
          }
         }
        },
        "title": {
         "text": "A Comparison of Reported Offences By Month From 2008 to 2021"
        },
        "violinmode": "overlay",
        "xaxis": {
         "anchor": "y",
         "categoryarray": [
          1,
          2,
          3,
          4,
          5,
          6,
          7,
          8,
          9,
          10,
          11,
          12
         ],
         "categoryorder": "array",
         "domain": [
          0,
          1
         ],
         "title": {
          "text": "Month"
         }
        },
        "yaxis": {
         "anchor": "x",
         "domain": [
          0,
          1
         ],
         "title": {
          "text": "Number of Offences"
         }
        }
       }
      },
      "text/html": [
       "<div>                            <div id=\"47cddb5c-56c5-4380-9e38-8566669cd13a\" class=\"plotly-graph-div\" style=\"height:525px; width:100%;\"></div>            <script type=\"text/javascript\">                require([\"plotly\"], function(Plotly) {                    window.PLOTLYENV=window.PLOTLYENV || {};                                    if (document.getElementById(\"47cddb5c-56c5-4380-9e38-8566669cd13a\")) {                    Plotly.newPlot(                        \"47cddb5c-56c5-4380-9e38-8566669cd13a\",                        [{\"alignmentgroup\":\"True\",\"box\":{\"visible\":true},\"hovertemplate\":\"Month=%{x}<br>Number of Offences=%{y}<extra></extra>\",\"legendgroup\":\"1\",\"marker\":{\"color\":\"#636efa\"},\"name\":\"1\",\"offsetgroup\":\"1\",\"orientation\":\"v\",\"points\":\"all\",\"scalegroup\":\"True\",\"showlegend\":true,\"x\":[1,1,1,1,1,1,1,1,1,1,1,1,1,1],\"x0\":\" \",\"xaxis\":\"x\",\"y\":[2420.0,2669.0,3072.0,2533.0,2880.0,2488.0,2305.0,2776.0,2503.0,3103.0,2906.0,2874.0,2924.0,2901.0],\"y0\":\" \",\"yaxis\":\"y\",\"type\":\"violin\"},{\"alignmentgroup\":\"True\",\"box\":{\"visible\":true},\"hovertemplate\":\"Month=%{x}<br>Number of Offences=%{y}<extra></extra>\",\"legendgroup\":\"2\",\"marker\":{\"color\":\"#EF553B\"},\"name\":\"2\",\"offsetgroup\":\"2\",\"orientation\":\"v\",\"points\":\"all\",\"scalegroup\":\"True\",\"showlegend\":true,\"x\":[2,2,2,2,2,2,2,2,2,2,2,2,2,2],\"x0\":\" \",\"xaxis\":\"x\",\"y\":[2417.0,2183.0,2565.0,2494.0,2578.0,2301.0,1963.0,2103.0,2337.0,2622.0,2637.0,2220.0,2948.0,2523.0],\"y0\":\" \",\"yaxis\":\"y\",\"type\":\"violin\"},{\"alignmentgroup\":\"True\",\"box\":{\"visible\":true},\"hovertemplate\":\"Month=%{x}<br>Number of Offences=%{y}<extra></extra>\",\"legendgroup\":\"3\",\"marker\":{\"color\":\"#00cc96\"},\"name\":\"3\",\"offsetgroup\":\"3\",\"orientation\":\"v\",\"points\":\"all\",\"scalegroup\":\"True\",\"showlegend\":true,\"x\":[3,3,3,3,3,3,3,3,3,3,3,3,3,3],\"x0\":\" \",\"xaxis\":\"x\",\"y\":[2630.0,2451.0,2809.0,2367.0,2788.0,2555.0,2451.0,2466.0,2340.0,2560.0,2588.0,2615.0,2991.0,2993.0],\"y0\":\" \",\"yaxis\":\"y\",\"type\":\"violin\"},{\"alignmentgroup\":\"True\",\"box\":{\"visible\":true},\"hovertemplate\":\"Month=%{x}<br>Number of Offences=%{y}<extra></extra>\",\"legendgroup\":\"4\",\"marker\":{\"color\":\"#ab63fa\"},\"name\":\"4\",\"offsetgroup\":\"4\",\"orientation\":\"v\",\"points\":\"all\",\"scalegroup\":\"True\",\"showlegend\":true,\"x\":[4,4,4,4,4,4,4,4,4,4,4,4,4,4],\"x0\":\" \",\"xaxis\":\"x\",\"y\":[2583.0,2345.0,2611.0,2228.0,2862.0,2339.0,2429.0,2321.0,2287.0,2225.0,2718.0,2324.0,1782.0,2713.0],\"y0\":\" \",\"yaxis\":\"y\",\"type\":\"violin\"},{\"alignmentgroup\":\"True\",\"box\":{\"visible\":true},\"hovertemplate\":\"Month=%{x}<br>Number of Offences=%{y}<extra></extra>\",\"legendgroup\":\"5\",\"marker\":{\"color\":\"#FFA15A\"},\"name\":\"5\",\"offsetgroup\":\"5\",\"orientation\":\"v\",\"points\":\"all\",\"scalegroup\":\"True\",\"showlegend\":true,\"x\":[5,5,5,5,5,5,5,5,5,5,5,5,5,5],\"x0\":\" \",\"xaxis\":\"x\",\"y\":[2262.0,2268.0,2654.0,2095.0,2526.0,2276.0,2328.0,2130.0,2336.0,2534.0,2556.0,2464.0,1571.0,2680.0],\"y0\":\" \",\"yaxis\":\"y\",\"type\":\"violin\"},{\"alignmentgroup\":\"True\",\"box\":{\"visible\":true},\"hovertemplate\":\"Month=%{x}<br>Number of Offences=%{y}<extra></extra>\",\"legendgroup\":\"6\",\"marker\":{\"color\":\"#19d3f3\"},\"name\":\"6\",\"offsetgroup\":\"6\",\"orientation\":\"v\",\"points\":\"all\",\"scalegroup\":\"True\",\"showlegend\":true,\"x\":[6,6,6,6,6,6,6,6,6,6,6,6,6,6],\"x0\":\" \",\"xaxis\":\"x\",\"y\":[2276.0,2217.0,2279.0,1990.0,2087.0,2224.0,2364.0,2310.0,2284.0,2160.0,2146.0,1991.0,1632.0,2284.0],\"y0\":\" \",\"yaxis\":\"y\",\"type\":\"violin\"},{\"alignmentgroup\":\"True\",\"box\":{\"visible\":true},\"hovertemplate\":\"Month=%{x}<br>Number of Offences=%{y}<extra></extra>\",\"legendgroup\":\"7\",\"marker\":{\"color\":\"#FF6692\"},\"name\":\"7\",\"offsetgroup\":\"7\",\"orientation\":\"v\",\"points\":\"all\",\"scalegroup\":\"True\",\"showlegend\":true,\"x\":[7,7,7,7,7,7,7,7,7,7,7,7,7,7],\"x0\":\" \",\"xaxis\":\"x\",\"y\":[2204.0,2174.0,2536.0,2195.0,2360.0,2375.0,2352.0,2042.0,2271.0,2218.0,2481.0,2063.0,1688.0,2377.0],\"y0\":\" \",\"yaxis\":\"y\",\"type\":\"violin\"},{\"alignmentgroup\":\"True\",\"box\":{\"visible\":true},\"hovertemplate\":\"Month=%{x}<br>Number of Offences=%{y}<extra></extra>\",\"legendgroup\":\"8\",\"marker\":{\"color\":\"#B6E880\"},\"name\":\"8\",\"offsetgroup\":\"8\",\"orientation\":\"v\",\"points\":\"all\",\"scalegroup\":\"True\",\"showlegend\":true,\"x\":[8,8,8,8,8,8,8,8,8,8,8,8,8,8],\"x0\":\" \",\"xaxis\":\"x\",\"y\":[2198.0,2144.0,2212.0,1991.0,1954.0,2022.0,2196.0,2114.0,2178.0,2394.0,2428.0,2266.0,1894.0,2779.0],\"y0\":\" \",\"yaxis\":\"y\",\"type\":\"violin\"},{\"alignmentgroup\":\"True\",\"box\":{\"visible\":true},\"hovertemplate\":\"Month=%{x}<br>Number of Offences=%{y}<extra></extra>\",\"legendgroup\":\"9\",\"marker\":{\"color\":\"#FF97FF\"},\"name\":\"9\",\"offsetgroup\":\"9\",\"orientation\":\"v\",\"points\":\"all\",\"scalegroup\":\"True\",\"showlegend\":true,\"x\":[9,9,9,9,9,9,9,9,9,9,9,9,9,9],\"x0\":\" \",\"xaxis\":\"x\",\"y\":[2228.0,2410.0,2489.0,2078.0,2198.0,1922.0,2093.0,2131.0,2256.0,2236.0,2511.0,2154.0,2297.0,2852.0],\"y0\":\" \",\"yaxis\":\"y\",\"type\":\"violin\"},{\"alignmentgroup\":\"True\",\"box\":{\"visible\":true},\"hovertemplate\":\"Month=%{x}<br>Number of Offences=%{y}<extra></extra>\",\"legendgroup\":\"10\",\"marker\":{\"color\":\"#FECB52\"},\"name\":\"10\",\"offsetgroup\":\"10\",\"orientation\":\"v\",\"points\":\"all\",\"scalegroup\":\"True\",\"showlegend\":true,\"x\":[10,10,10,10,10,10,10,10,10,10,10,10,10,10],\"x0\":\" \",\"xaxis\":\"x\",\"y\":[2498.0,2661.0,2624.0,2186.0,2465.0,1980.0,2221.0,2237.0,2439.0,2533.0,2529.0,2645.0,2820.0,2983.0],\"y0\":\" \",\"yaxis\":\"y\",\"type\":\"violin\"},{\"alignmentgroup\":\"True\",\"box\":{\"visible\":true},\"hovertemplate\":\"Month=%{x}<br>Number of Offences=%{y}<extra></extra>\",\"legendgroup\":\"11\",\"marker\":{\"color\":\"#636efa\"},\"name\":\"11\",\"offsetgroup\":\"11\",\"orientation\":\"v\",\"points\":\"all\",\"scalegroup\":\"True\",\"showlegend\":true,\"x\":[11,11,11,11,11,11,11,11,11,11,11,11,11,11],\"x0\":\" \",\"xaxis\":\"x\",\"y\":[2609.0,2467.0,2311.0,2430.0,2449.0,2182.0,2288.0,2277.0,2469.0,2419.0,2478.0,2606.0,2816.0,2923.0],\"y0\":\" \",\"yaxis\":\"y\",\"type\":\"violin\"},{\"alignmentgroup\":\"True\",\"box\":{\"visible\":true},\"hovertemplate\":\"Month=%{x}<br>Number of Offences=%{y}<extra></extra>\",\"legendgroup\":\"12\",\"marker\":{\"color\":\"#EF553B\"},\"name\":\"12\",\"offsetgroup\":\"12\",\"orientation\":\"v\",\"points\":\"all\",\"scalegroup\":\"True\",\"showlegend\":true,\"x\":[12,12,12,12,12,12,12,12,12,12,12,12,12,12],\"x0\":\" \",\"xaxis\":\"x\",\"y\":[2342.0,2604.0,2376.0,2695.0,2491.0,2142.0,2674.0,2433.0,2706.0,2886.0,2570.0,2627.0,2724.0,2771.0],\"y0\":\" \",\"yaxis\":\"y\",\"type\":\"violin\"}],                        {\"template\":{\"data\":{\"histogram2dcontour\":[{\"type\":\"histogram2dcontour\",\"colorbar\":{\"outlinewidth\":0,\"ticks\":\"\"},\"colorscale\":[[0.0,\"#0d0887\"],[0.1111111111111111,\"#46039f\"],[0.2222222222222222,\"#7201a8\"],[0.3333333333333333,\"#9c179e\"],[0.4444444444444444,\"#bd3786\"],[0.5555555555555556,\"#d8576b\"],[0.6666666666666666,\"#ed7953\"],[0.7777777777777778,\"#fb9f3a\"],[0.8888888888888888,\"#fdca26\"],[1.0,\"#f0f921\"]]}],\"choropleth\":[{\"type\":\"choropleth\",\"colorbar\":{\"outlinewidth\":0,\"ticks\":\"\"}}],\"histogram2d\":[{\"type\":\"histogram2d\",\"colorbar\":{\"outlinewidth\":0,\"ticks\":\"\"},\"colorscale\":[[0.0,\"#0d0887\"],[0.1111111111111111,\"#46039f\"],[0.2222222222222222,\"#7201a8\"],[0.3333333333333333,\"#9c179e\"],[0.4444444444444444,\"#bd3786\"],[0.5555555555555556,\"#d8576b\"],[0.6666666666666666,\"#ed7953\"],[0.7777777777777778,\"#fb9f3a\"],[0.8888888888888888,\"#fdca26\"],[1.0,\"#f0f921\"]]}],\"heatmap\":[{\"type\":\"heatmap\",\"colorbar\":{\"outlinewidth\":0,\"ticks\":\"\"},\"colorscale\":[[0.0,\"#0d0887\"],[0.1111111111111111,\"#46039f\"],[0.2222222222222222,\"#7201a8\"],[0.3333333333333333,\"#9c179e\"],[0.4444444444444444,\"#bd3786\"],[0.5555555555555556,\"#d8576b\"],[0.6666666666666666,\"#ed7953\"],[0.7777777777777778,\"#fb9f3a\"],[0.8888888888888888,\"#fdca26\"],[1.0,\"#f0f921\"]]}],\"heatmapgl\":[{\"type\":\"heatmapgl\",\"colorbar\":{\"outlinewidth\":0,\"ticks\":\"\"},\"colorscale\":[[0.0,\"#0d0887\"],[0.1111111111111111,\"#46039f\"],[0.2222222222222222,\"#7201a8\"],[0.3333333333333333,\"#9c179e\"],[0.4444444444444444,\"#bd3786\"],[0.5555555555555556,\"#d8576b\"],[0.6666666666666666,\"#ed7953\"],[0.7777777777777778,\"#fb9f3a\"],[0.8888888888888888,\"#fdca26\"],[1.0,\"#f0f921\"]]}],\"contourcarpet\":[{\"type\":\"contourcarpet\",\"colorbar\":{\"outlinewidth\":0,\"ticks\":\"\"}}],\"contour\":[{\"type\":\"contour\",\"colorbar\":{\"outlinewidth\":0,\"ticks\":\"\"},\"colorscale\":[[0.0,\"#0d0887\"],[0.1111111111111111,\"#46039f\"],[0.2222222222222222,\"#7201a8\"],[0.3333333333333333,\"#9c179e\"],[0.4444444444444444,\"#bd3786\"],[0.5555555555555556,\"#d8576b\"],[0.6666666666666666,\"#ed7953\"],[0.7777777777777778,\"#fb9f3a\"],[0.8888888888888888,\"#fdca26\"],[1.0,\"#f0f921\"]]}],\"surface\":[{\"type\":\"surface\",\"colorbar\":{\"outlinewidth\":0,\"ticks\":\"\"},\"colorscale\":[[0.0,\"#0d0887\"],[0.1111111111111111,\"#46039f\"],[0.2222222222222222,\"#7201a8\"],[0.3333333333333333,\"#9c179e\"],[0.4444444444444444,\"#bd3786\"],[0.5555555555555556,\"#d8576b\"],[0.6666666666666666,\"#ed7953\"],[0.7777777777777778,\"#fb9f3a\"],[0.8888888888888888,\"#fdca26\"],[1.0,\"#f0f921\"]]}],\"mesh3d\":[{\"type\":\"mesh3d\",\"colorbar\":{\"outlinewidth\":0,\"ticks\":\"\"}}],\"scatter\":[{\"fillpattern\":{\"fillmode\":\"overlay\",\"size\":10,\"solidity\":0.2},\"type\":\"scatter\"}],\"parcoords\":[{\"type\":\"parcoords\",\"line\":{\"colorbar\":{\"outlinewidth\":0,\"ticks\":\"\"}}}],\"scatterpolargl\":[{\"type\":\"scatterpolargl\",\"marker\":{\"colorbar\":{\"outlinewidth\":0,\"ticks\":\"\"}}}],\"bar\":[{\"error_x\":{\"color\":\"#2a3f5f\"},\"error_y\":{\"color\":\"#2a3f5f\"},\"marker\":{\"line\":{\"color\":\"#E5ECF6\",\"width\":0.5},\"pattern\":{\"fillmode\":\"overlay\",\"size\":10,\"solidity\":0.2}},\"type\":\"bar\"}],\"scattergeo\":[{\"type\":\"scattergeo\",\"marker\":{\"colorbar\":{\"outlinewidth\":0,\"ticks\":\"\"}}}],\"scatterpolar\":[{\"type\":\"scatterpolar\",\"marker\":{\"colorbar\":{\"outlinewidth\":0,\"ticks\":\"\"}}}],\"histogram\":[{\"marker\":{\"pattern\":{\"fillmode\":\"overlay\",\"size\":10,\"solidity\":0.2}},\"type\":\"histogram\"}],\"scattergl\":[{\"type\":\"scattergl\",\"marker\":{\"colorbar\":{\"outlinewidth\":0,\"ticks\":\"\"}}}],\"scatter3d\":[{\"type\":\"scatter3d\",\"line\":{\"colorbar\":{\"outlinewidth\":0,\"ticks\":\"\"}},\"marker\":{\"colorbar\":{\"outlinewidth\":0,\"ticks\":\"\"}}}],\"scattermapbox\":[{\"type\":\"scattermapbox\",\"marker\":{\"colorbar\":{\"outlinewidth\":0,\"ticks\":\"\"}}}],\"scatterternary\":[{\"type\":\"scatterternary\",\"marker\":{\"colorbar\":{\"outlinewidth\":0,\"ticks\":\"\"}}}],\"scattercarpet\":[{\"type\":\"scattercarpet\",\"marker\":{\"colorbar\":{\"outlinewidth\":0,\"ticks\":\"\"}}}],\"carpet\":[{\"aaxis\":{\"endlinecolor\":\"#2a3f5f\",\"gridcolor\":\"white\",\"linecolor\":\"white\",\"minorgridcolor\":\"white\",\"startlinecolor\":\"#2a3f5f\"},\"baxis\":{\"endlinecolor\":\"#2a3f5f\",\"gridcolor\":\"white\",\"linecolor\":\"white\",\"minorgridcolor\":\"white\",\"startlinecolor\":\"#2a3f5f\"},\"type\":\"carpet\"}],\"table\":[{\"cells\":{\"fill\":{\"color\":\"#EBF0F8\"},\"line\":{\"color\":\"white\"}},\"header\":{\"fill\":{\"color\":\"#C8D4E3\"},\"line\":{\"color\":\"white\"}},\"type\":\"table\"}],\"barpolar\":[{\"marker\":{\"line\":{\"color\":\"#E5ECF6\",\"width\":0.5},\"pattern\":{\"fillmode\":\"overlay\",\"size\":10,\"solidity\":0.2}},\"type\":\"barpolar\"}],\"pie\":[{\"automargin\":true,\"type\":\"pie\"}]},\"layout\":{\"autotypenumbers\":\"strict\",\"colorway\":[\"#636efa\",\"#EF553B\",\"#00cc96\",\"#ab63fa\",\"#FFA15A\",\"#19d3f3\",\"#FF6692\",\"#B6E880\",\"#FF97FF\",\"#FECB52\"],\"font\":{\"color\":\"#2a3f5f\"},\"hovermode\":\"closest\",\"hoverlabel\":{\"align\":\"left\"},\"paper_bgcolor\":\"white\",\"plot_bgcolor\":\"#E5ECF6\",\"polar\":{\"bgcolor\":\"#E5ECF6\",\"angularaxis\":{\"gridcolor\":\"white\",\"linecolor\":\"white\",\"ticks\":\"\"},\"radialaxis\":{\"gridcolor\":\"white\",\"linecolor\":\"white\",\"ticks\":\"\"}},\"ternary\":{\"bgcolor\":\"#E5ECF6\",\"aaxis\":{\"gridcolor\":\"white\",\"linecolor\":\"white\",\"ticks\":\"\"},\"baxis\":{\"gridcolor\":\"white\",\"linecolor\":\"white\",\"ticks\":\"\"},\"caxis\":{\"gridcolor\":\"white\",\"linecolor\":\"white\",\"ticks\":\"\"}},\"coloraxis\":{\"colorbar\":{\"outlinewidth\":0,\"ticks\":\"\"}},\"colorscale\":{\"sequential\":[[0.0,\"#0d0887\"],[0.1111111111111111,\"#46039f\"],[0.2222222222222222,\"#7201a8\"],[0.3333333333333333,\"#9c179e\"],[0.4444444444444444,\"#bd3786\"],[0.5555555555555556,\"#d8576b\"],[0.6666666666666666,\"#ed7953\"],[0.7777777777777778,\"#fb9f3a\"],[0.8888888888888888,\"#fdca26\"],[1.0,\"#f0f921\"]],\"sequentialminus\":[[0.0,\"#0d0887\"],[0.1111111111111111,\"#46039f\"],[0.2222222222222222,\"#7201a8\"],[0.3333333333333333,\"#9c179e\"],[0.4444444444444444,\"#bd3786\"],[0.5555555555555556,\"#d8576b\"],[0.6666666666666666,\"#ed7953\"],[0.7777777777777778,\"#fb9f3a\"],[0.8888888888888888,\"#fdca26\"],[1.0,\"#f0f921\"]],\"diverging\":[[0,\"#8e0152\"],[0.1,\"#c51b7d\"],[0.2,\"#de77ae\"],[0.3,\"#f1b6da\"],[0.4,\"#fde0ef\"],[0.5,\"#f7f7f7\"],[0.6,\"#e6f5d0\"],[0.7,\"#b8e186\"],[0.8,\"#7fbc41\"],[0.9,\"#4d9221\"],[1,\"#276419\"]]},\"xaxis\":{\"gridcolor\":\"white\",\"linecolor\":\"white\",\"ticks\":\"\",\"title\":{\"standoff\":15},\"zerolinecolor\":\"white\",\"automargin\":true,\"zerolinewidth\":2},\"yaxis\":{\"gridcolor\":\"white\",\"linecolor\":\"white\",\"ticks\":\"\",\"title\":{\"standoff\":15},\"zerolinecolor\":\"white\",\"automargin\":true,\"zerolinewidth\":2},\"scene\":{\"xaxis\":{\"backgroundcolor\":\"#E5ECF6\",\"gridcolor\":\"white\",\"linecolor\":\"white\",\"showbackground\":true,\"ticks\":\"\",\"zerolinecolor\":\"white\",\"gridwidth\":2},\"yaxis\":{\"backgroundcolor\":\"#E5ECF6\",\"gridcolor\":\"white\",\"linecolor\":\"white\",\"showbackground\":true,\"ticks\":\"\",\"zerolinecolor\":\"white\",\"gridwidth\":2},\"zaxis\":{\"backgroundcolor\":\"#E5ECF6\",\"gridcolor\":\"white\",\"linecolor\":\"white\",\"showbackground\":true,\"ticks\":\"\",\"zerolinecolor\":\"white\",\"gridwidth\":2}},\"shapedefaults\":{\"line\":{\"color\":\"#2a3f5f\"}},\"annotationdefaults\":{\"arrowcolor\":\"#2a3f5f\",\"arrowhead\":0,\"arrowwidth\":1},\"geo\":{\"bgcolor\":\"white\",\"landcolor\":\"#E5ECF6\",\"subunitcolor\":\"white\",\"showland\":true,\"showlakes\":true,\"lakecolor\":\"white\"},\"title\":{\"x\":0.05},\"mapbox\":{\"style\":\"light\"}}},\"xaxis\":{\"anchor\":\"y\",\"domain\":[0.0,1.0],\"title\":{\"text\":\"Month\"},\"categoryorder\":\"array\",\"categoryarray\":[1,2,3,4,5,6,7,8,9,10,11,12]},\"yaxis\":{\"anchor\":\"x\",\"domain\":[0.0,1.0],\"title\":{\"text\":\"Number of Offences\"}},\"legend\":{\"title\":{\"text\":\"Month\"},\"tracegroupgap\":0},\"title\":{\"text\":\"A Comparison of Reported Offences By Month From 2008 to 2021\"},\"violinmode\":\"overlay\"},                        {\"responsive\": true}                    ).then(function(){\n",
       "                            \n",
       "var gd = document.getElementById('47cddb5c-56c5-4380-9e38-8566669cd13a');\n",
       "var x = new MutationObserver(function (mutations, observer) {{\n",
       "        var display = window.getComputedStyle(gd).display;\n",
       "        if (!display || display === 'none') {{\n",
       "            console.log([gd, 'removed!']);\n",
       "            Plotly.purge(gd);\n",
       "            observer.disconnect();\n",
       "        }}\n",
       "}});\n",
       "\n",
       "// Listen for the removal of the full notebook cells\n",
       "var notebookContainer = gd.closest('#notebook-container');\n",
       "if (notebookContainer) {{\n",
       "    x.observe(notebookContainer, {childList: true});\n",
       "}}\n",
       "\n",
       "// Listen for the clearing of the current output cell\n",
       "var outputEl = gd.closest('.output');\n",
       "if (outputEl) {{\n",
       "    x.observe(outputEl, {childList: true});\n",
       "}}\n",
       "\n",
       "                        })                };                });            </script>        </div>"
      ]
     },
     "metadata": {},
     "output_type": "display_data"
    }
   ],
   "source": [
    "fig1 = px.violin(Offence_sum_df[Offence_sum_df['Year'] != 2022], \n",
    "                x=\"Month\", \n",
    "                y=\"Number of Offences\", \n",
    "                color='Month', \n",
    "                box=True, \n",
    "                points='all',\n",
    "                title = 'A Comparison of Reported Offences By Month From 2008 to 2021')\n",
    "\n",
    "fig1.show()\n"
   ]
  },
  {
   "cell_type": "code",
   "execution_count": 54,
   "id": "93fbdce7",
   "metadata": {
    "scrolled": false
   },
   "outputs": [
    {
     "data": {
      "application/vnd.plotly.v1+json": {
       "config": {
        "plotlyServerURL": "https://plot.ly"
       },
       "data": [
        {
         "alignmentgroup": "True",
         "box": {
          "visible": true
         },
         "hovertemplate": "Month=%{x}<br>Number of Offences=%{y}<extra></extra>",
         "legendgroup": "1",
         "marker": {
          "color": "#636efa"
         },
         "name": "1",
         "offsetgroup": "1",
         "orientation": "v",
         "points": "all",
         "scalegroup": "True",
         "showlegend": true,
         "type": "violin",
         "x": [
          1,
          1,
          1,
          1,
          1,
          1,
          1,
          1,
          1,
          1,
          1,
          1,
          1
         ],
         "x0": " ",
         "xaxis": "x",
         "y": [
          2420,
          2669,
          3072,
          2533,
          2880,
          2488,
          2305,
          2776,
          2503,
          3103,
          2906,
          2874,
          2901
         ],
         "y0": " ",
         "yaxis": "y"
        },
        {
         "alignmentgroup": "True",
         "box": {
          "visible": true
         },
         "hovertemplate": "Month=%{x}<br>Number of Offences=%{y}<extra></extra>",
         "legendgroup": "2",
         "marker": {
          "color": "#EF553B"
         },
         "name": "2",
         "offsetgroup": "2",
         "orientation": "v",
         "points": "all",
         "scalegroup": "True",
         "showlegend": true,
         "type": "violin",
         "x": [
          2,
          2,
          2,
          2,
          2,
          2,
          2,
          2,
          2,
          2,
          2,
          2,
          2
         ],
         "x0": " ",
         "xaxis": "x",
         "y": [
          2417,
          2183,
          2565,
          2494,
          2578,
          2301,
          1963,
          2103,
          2337,
          2622,
          2637,
          2220,
          2523
         ],
         "y0": " ",
         "yaxis": "y"
        },
        {
         "alignmentgroup": "True",
         "box": {
          "visible": true
         },
         "hovertemplate": "Month=%{x}<br>Number of Offences=%{y}<extra></extra>",
         "legendgroup": "3",
         "marker": {
          "color": "#00cc96"
         },
         "name": "3",
         "offsetgroup": "3",
         "orientation": "v",
         "points": "all",
         "scalegroup": "True",
         "showlegend": true,
         "type": "violin",
         "x": [
          3,
          3,
          3,
          3,
          3,
          3,
          3,
          3,
          3,
          3,
          3,
          3,
          3
         ],
         "x0": " ",
         "xaxis": "x",
         "y": [
          2630,
          2451,
          2809,
          2367,
          2788,
          2555,
          2451,
          2466,
          2340,
          2560,
          2588,
          2615,
          2993
         ],
         "y0": " ",
         "yaxis": "y"
        },
        {
         "alignmentgroup": "True",
         "box": {
          "visible": true
         },
         "hovertemplate": "Month=%{x}<br>Number of Offences=%{y}<extra></extra>",
         "legendgroup": "4",
         "marker": {
          "color": "#ab63fa"
         },
         "name": "4",
         "offsetgroup": "4",
         "orientation": "v",
         "points": "all",
         "scalegroup": "True",
         "showlegend": true,
         "type": "violin",
         "x": [
          4,
          4,
          4,
          4,
          4,
          4,
          4,
          4,
          4,
          4,
          4,
          4,
          4
         ],
         "x0": " ",
         "xaxis": "x",
         "y": [
          2583,
          2345,
          2611,
          2228,
          2862,
          2339,
          2429,
          2321,
          2287,
          2225,
          2718,
          2324,
          2713
         ],
         "y0": " ",
         "yaxis": "y"
        },
        {
         "alignmentgroup": "True",
         "box": {
          "visible": true
         },
         "hovertemplate": "Month=%{x}<br>Number of Offences=%{y}<extra></extra>",
         "legendgroup": "5",
         "marker": {
          "color": "#FFA15A"
         },
         "name": "5",
         "offsetgroup": "5",
         "orientation": "v",
         "points": "all",
         "scalegroup": "True",
         "showlegend": true,
         "type": "violin",
         "x": [
          5,
          5,
          5,
          5,
          5,
          5,
          5,
          5,
          5,
          5,
          5,
          5,
          5
         ],
         "x0": " ",
         "xaxis": "x",
         "y": [
          2262,
          2268,
          2654,
          2095,
          2526,
          2276,
          2328,
          2130,
          2336,
          2534,
          2556,
          2464,
          2680
         ],
         "y0": " ",
         "yaxis": "y"
        },
        {
         "alignmentgroup": "True",
         "box": {
          "visible": true
         },
         "hovertemplate": "Month=%{x}<br>Number of Offences=%{y}<extra></extra>",
         "legendgroup": "6",
         "marker": {
          "color": "#19d3f3"
         },
         "name": "6",
         "offsetgroup": "6",
         "orientation": "v",
         "points": "all",
         "scalegroup": "True",
         "showlegend": true,
         "type": "violin",
         "x": [
          6,
          6,
          6,
          6,
          6,
          6,
          6,
          6,
          6,
          6,
          6,
          6,
          6
         ],
         "x0": " ",
         "xaxis": "x",
         "y": [
          2276,
          2217,
          2279,
          1990,
          2087,
          2224,
          2364,
          2310,
          2284,
          2160,
          2146,
          1991,
          2284
         ],
         "y0": " ",
         "yaxis": "y"
        },
        {
         "alignmentgroup": "True",
         "box": {
          "visible": true
         },
         "hovertemplate": "Month=%{x}<br>Number of Offences=%{y}<extra></extra>",
         "legendgroup": "7",
         "marker": {
          "color": "#FF6692"
         },
         "name": "7",
         "offsetgroup": "7",
         "orientation": "v",
         "points": "all",
         "scalegroup": "True",
         "showlegend": true,
         "type": "violin",
         "x": [
          7,
          7,
          7,
          7,
          7,
          7,
          7,
          7,
          7,
          7,
          7,
          7,
          7
         ],
         "x0": " ",
         "xaxis": "x",
         "y": [
          2204,
          2174,
          2536,
          2195,
          2360,
          2375,
          2352,
          2042,
          2271,
          2218,
          2481,
          2063,
          2377
         ],
         "y0": " ",
         "yaxis": "y"
        },
        {
         "alignmentgroup": "True",
         "box": {
          "visible": true
         },
         "hovertemplate": "Month=%{x}<br>Number of Offences=%{y}<extra></extra>",
         "legendgroup": "8",
         "marker": {
          "color": "#B6E880"
         },
         "name": "8",
         "offsetgroup": "8",
         "orientation": "v",
         "points": "all",
         "scalegroup": "True",
         "showlegend": true,
         "type": "violin",
         "x": [
          8,
          8,
          8,
          8,
          8,
          8,
          8,
          8,
          8,
          8,
          8,
          8,
          8
         ],
         "x0": " ",
         "xaxis": "x",
         "y": [
          2198,
          2144,
          2212,
          1991,
          1954,
          2022,
          2196,
          2114,
          2178,
          2394,
          2428,
          2266,
          2779
         ],
         "y0": " ",
         "yaxis": "y"
        },
        {
         "alignmentgroup": "True",
         "box": {
          "visible": true
         },
         "hovertemplate": "Month=%{x}<br>Number of Offences=%{y}<extra></extra>",
         "legendgroup": "9",
         "marker": {
          "color": "#FF97FF"
         },
         "name": "9",
         "offsetgroup": "9",
         "orientation": "v",
         "points": "all",
         "scalegroup": "True",
         "showlegend": true,
         "type": "violin",
         "x": [
          9,
          9,
          9,
          9,
          9,
          9,
          9,
          9,
          9,
          9,
          9,
          9,
          9
         ],
         "x0": " ",
         "xaxis": "x",
         "y": [
          2228,
          2410,
          2489,
          2078,
          2198,
          1922,
          2093,
          2131,
          2256,
          2236,
          2511,
          2154,
          2852
         ],
         "y0": " ",
         "yaxis": "y"
        },
        {
         "alignmentgroup": "True",
         "box": {
          "visible": true
         },
         "hovertemplate": "Month=%{x}<br>Number of Offences=%{y}<extra></extra>",
         "legendgroup": "10",
         "marker": {
          "color": "#FECB52"
         },
         "name": "10",
         "offsetgroup": "10",
         "orientation": "v",
         "points": "all",
         "scalegroup": "True",
         "showlegend": true,
         "type": "violin",
         "x": [
          10,
          10,
          10,
          10,
          10,
          10,
          10,
          10,
          10,
          10,
          10,
          10,
          10
         ],
         "x0": " ",
         "xaxis": "x",
         "y": [
          2498,
          2661,
          2624,
          2186,
          2465,
          1980,
          2221,
          2237,
          2439,
          2533,
          2529,
          2645,
          2983
         ],
         "y0": " ",
         "yaxis": "y"
        },
        {
         "alignmentgroup": "True",
         "box": {
          "visible": true
         },
         "hovertemplate": "Month=%{x}<br>Number of Offences=%{y}<extra></extra>",
         "legendgroup": "11",
         "marker": {
          "color": "#636efa"
         },
         "name": "11",
         "offsetgroup": "11",
         "orientation": "v",
         "points": "all",
         "scalegroup": "True",
         "showlegend": true,
         "type": "violin",
         "x": [
          11,
          11,
          11,
          11,
          11,
          11,
          11,
          11,
          11,
          11,
          11,
          11,
          11
         ],
         "x0": " ",
         "xaxis": "x",
         "y": [
          2609,
          2467,
          2311,
          2430,
          2449,
          2182,
          2288,
          2277,
          2469,
          2419,
          2478,
          2606,
          2923
         ],
         "y0": " ",
         "yaxis": "y"
        },
        {
         "alignmentgroup": "True",
         "box": {
          "visible": true
         },
         "hovertemplate": "Month=%{x}<br>Number of Offences=%{y}<extra></extra>",
         "legendgroup": "12",
         "marker": {
          "color": "#EF553B"
         },
         "name": "12",
         "offsetgroup": "12",
         "orientation": "v",
         "points": "all",
         "scalegroup": "True",
         "showlegend": true,
         "type": "violin",
         "x": [
          12,
          12,
          12,
          12,
          12,
          12,
          12,
          12,
          12,
          12,
          12,
          12,
          12
         ],
         "x0": " ",
         "xaxis": "x",
         "y": [
          2342,
          2604,
          2376,
          2695,
          2491,
          2142,
          2674,
          2433,
          2706,
          2886,
          2570,
          2627,
          2771
         ],
         "y0": " ",
         "yaxis": "y"
        }
       ],
       "layout": {
        "legend": {
         "title": {
          "text": "Month"
         },
         "tracegroupgap": 0
        },
        "template": {
         "data": {
          "bar": [
           {
            "error_x": {
             "color": "#2a3f5f"
            },
            "error_y": {
             "color": "#2a3f5f"
            },
            "marker": {
             "line": {
              "color": "#E5ECF6",
              "width": 0.5
             },
             "pattern": {
              "fillmode": "overlay",
              "size": 10,
              "solidity": 0.2
             }
            },
            "type": "bar"
           }
          ],
          "barpolar": [
           {
            "marker": {
             "line": {
              "color": "#E5ECF6",
              "width": 0.5
             },
             "pattern": {
              "fillmode": "overlay",
              "size": 10,
              "solidity": 0.2
             }
            },
            "type": "barpolar"
           }
          ],
          "carpet": [
           {
            "aaxis": {
             "endlinecolor": "#2a3f5f",
             "gridcolor": "white",
             "linecolor": "white",
             "minorgridcolor": "white",
             "startlinecolor": "#2a3f5f"
            },
            "baxis": {
             "endlinecolor": "#2a3f5f",
             "gridcolor": "white",
             "linecolor": "white",
             "minorgridcolor": "white",
             "startlinecolor": "#2a3f5f"
            },
            "type": "carpet"
           }
          ],
          "choropleth": [
           {
            "colorbar": {
             "outlinewidth": 0,
             "ticks": ""
            },
            "type": "choropleth"
           }
          ],
          "contour": [
           {
            "colorbar": {
             "outlinewidth": 0,
             "ticks": ""
            },
            "colorscale": [
             [
              0,
              "#0d0887"
             ],
             [
              0.1111111111111111,
              "#46039f"
             ],
             [
              0.2222222222222222,
              "#7201a8"
             ],
             [
              0.3333333333333333,
              "#9c179e"
             ],
             [
              0.4444444444444444,
              "#bd3786"
             ],
             [
              0.5555555555555556,
              "#d8576b"
             ],
             [
              0.6666666666666666,
              "#ed7953"
             ],
             [
              0.7777777777777778,
              "#fb9f3a"
             ],
             [
              0.8888888888888888,
              "#fdca26"
             ],
             [
              1,
              "#f0f921"
             ]
            ],
            "type": "contour"
           }
          ],
          "contourcarpet": [
           {
            "colorbar": {
             "outlinewidth": 0,
             "ticks": ""
            },
            "type": "contourcarpet"
           }
          ],
          "heatmap": [
           {
            "colorbar": {
             "outlinewidth": 0,
             "ticks": ""
            },
            "colorscale": [
             [
              0,
              "#0d0887"
             ],
             [
              0.1111111111111111,
              "#46039f"
             ],
             [
              0.2222222222222222,
              "#7201a8"
             ],
             [
              0.3333333333333333,
              "#9c179e"
             ],
             [
              0.4444444444444444,
              "#bd3786"
             ],
             [
              0.5555555555555556,
              "#d8576b"
             ],
             [
              0.6666666666666666,
              "#ed7953"
             ],
             [
              0.7777777777777778,
              "#fb9f3a"
             ],
             [
              0.8888888888888888,
              "#fdca26"
             ],
             [
              1,
              "#f0f921"
             ]
            ],
            "type": "heatmap"
           }
          ],
          "heatmapgl": [
           {
            "colorbar": {
             "outlinewidth": 0,
             "ticks": ""
            },
            "colorscale": [
             [
              0,
              "#0d0887"
             ],
             [
              0.1111111111111111,
              "#46039f"
             ],
             [
              0.2222222222222222,
              "#7201a8"
             ],
             [
              0.3333333333333333,
              "#9c179e"
             ],
             [
              0.4444444444444444,
              "#bd3786"
             ],
             [
              0.5555555555555556,
              "#d8576b"
             ],
             [
              0.6666666666666666,
              "#ed7953"
             ],
             [
              0.7777777777777778,
              "#fb9f3a"
             ],
             [
              0.8888888888888888,
              "#fdca26"
             ],
             [
              1,
              "#f0f921"
             ]
            ],
            "type": "heatmapgl"
           }
          ],
          "histogram": [
           {
            "marker": {
             "pattern": {
              "fillmode": "overlay",
              "size": 10,
              "solidity": 0.2
             }
            },
            "type": "histogram"
           }
          ],
          "histogram2d": [
           {
            "colorbar": {
             "outlinewidth": 0,
             "ticks": ""
            },
            "colorscale": [
             [
              0,
              "#0d0887"
             ],
             [
              0.1111111111111111,
              "#46039f"
             ],
             [
              0.2222222222222222,
              "#7201a8"
             ],
             [
              0.3333333333333333,
              "#9c179e"
             ],
             [
              0.4444444444444444,
              "#bd3786"
             ],
             [
              0.5555555555555556,
              "#d8576b"
             ],
             [
              0.6666666666666666,
              "#ed7953"
             ],
             [
              0.7777777777777778,
              "#fb9f3a"
             ],
             [
              0.8888888888888888,
              "#fdca26"
             ],
             [
              1,
              "#f0f921"
             ]
            ],
            "type": "histogram2d"
           }
          ],
          "histogram2dcontour": [
           {
            "colorbar": {
             "outlinewidth": 0,
             "ticks": ""
            },
            "colorscale": [
             [
              0,
              "#0d0887"
             ],
             [
              0.1111111111111111,
              "#46039f"
             ],
             [
              0.2222222222222222,
              "#7201a8"
             ],
             [
              0.3333333333333333,
              "#9c179e"
             ],
             [
              0.4444444444444444,
              "#bd3786"
             ],
             [
              0.5555555555555556,
              "#d8576b"
             ],
             [
              0.6666666666666666,
              "#ed7953"
             ],
             [
              0.7777777777777778,
              "#fb9f3a"
             ],
             [
              0.8888888888888888,
              "#fdca26"
             ],
             [
              1,
              "#f0f921"
             ]
            ],
            "type": "histogram2dcontour"
           }
          ],
          "mesh3d": [
           {
            "colorbar": {
             "outlinewidth": 0,
             "ticks": ""
            },
            "type": "mesh3d"
           }
          ],
          "parcoords": [
           {
            "line": {
             "colorbar": {
              "outlinewidth": 0,
              "ticks": ""
             }
            },
            "type": "parcoords"
           }
          ],
          "pie": [
           {
            "automargin": true,
            "type": "pie"
           }
          ],
          "scatter": [
           {
            "fillpattern": {
             "fillmode": "overlay",
             "size": 10,
             "solidity": 0.2
            },
            "type": "scatter"
           }
          ],
          "scatter3d": [
           {
            "line": {
             "colorbar": {
              "outlinewidth": 0,
              "ticks": ""
             }
            },
            "marker": {
             "colorbar": {
              "outlinewidth": 0,
              "ticks": ""
             }
            },
            "type": "scatter3d"
           }
          ],
          "scattercarpet": [
           {
            "marker": {
             "colorbar": {
              "outlinewidth": 0,
              "ticks": ""
             }
            },
            "type": "scattercarpet"
           }
          ],
          "scattergeo": [
           {
            "marker": {
             "colorbar": {
              "outlinewidth": 0,
              "ticks": ""
             }
            },
            "type": "scattergeo"
           }
          ],
          "scattergl": [
           {
            "marker": {
             "colorbar": {
              "outlinewidth": 0,
              "ticks": ""
             }
            },
            "type": "scattergl"
           }
          ],
          "scattermapbox": [
           {
            "marker": {
             "colorbar": {
              "outlinewidth": 0,
              "ticks": ""
             }
            },
            "type": "scattermapbox"
           }
          ],
          "scatterpolar": [
           {
            "marker": {
             "colorbar": {
              "outlinewidth": 0,
              "ticks": ""
             }
            },
            "type": "scatterpolar"
           }
          ],
          "scatterpolargl": [
           {
            "marker": {
             "colorbar": {
              "outlinewidth": 0,
              "ticks": ""
             }
            },
            "type": "scatterpolargl"
           }
          ],
          "scatterternary": [
           {
            "marker": {
             "colorbar": {
              "outlinewidth": 0,
              "ticks": ""
             }
            },
            "type": "scatterternary"
           }
          ],
          "surface": [
           {
            "colorbar": {
             "outlinewidth": 0,
             "ticks": ""
            },
            "colorscale": [
             [
              0,
              "#0d0887"
             ],
             [
              0.1111111111111111,
              "#46039f"
             ],
             [
              0.2222222222222222,
              "#7201a8"
             ],
             [
              0.3333333333333333,
              "#9c179e"
             ],
             [
              0.4444444444444444,
              "#bd3786"
             ],
             [
              0.5555555555555556,
              "#d8576b"
             ],
             [
              0.6666666666666666,
              "#ed7953"
             ],
             [
              0.7777777777777778,
              "#fb9f3a"
             ],
             [
              0.8888888888888888,
              "#fdca26"
             ],
             [
              1,
              "#f0f921"
             ]
            ],
            "type": "surface"
           }
          ],
          "table": [
           {
            "cells": {
             "fill": {
              "color": "#EBF0F8"
             },
             "line": {
              "color": "white"
             }
            },
            "header": {
             "fill": {
              "color": "#C8D4E3"
             },
             "line": {
              "color": "white"
             }
            },
            "type": "table"
           }
          ]
         },
         "layout": {
          "annotationdefaults": {
           "arrowcolor": "#2a3f5f",
           "arrowhead": 0,
           "arrowwidth": 1
          },
          "autotypenumbers": "strict",
          "coloraxis": {
           "colorbar": {
            "outlinewidth": 0,
            "ticks": ""
           }
          },
          "colorscale": {
           "diverging": [
            [
             0,
             "#8e0152"
            ],
            [
             0.1,
             "#c51b7d"
            ],
            [
             0.2,
             "#de77ae"
            ],
            [
             0.3,
             "#f1b6da"
            ],
            [
             0.4,
             "#fde0ef"
            ],
            [
             0.5,
             "#f7f7f7"
            ],
            [
             0.6,
             "#e6f5d0"
            ],
            [
             0.7,
             "#b8e186"
            ],
            [
             0.8,
             "#7fbc41"
            ],
            [
             0.9,
             "#4d9221"
            ],
            [
             1,
             "#276419"
            ]
           ],
           "sequential": [
            [
             0,
             "#0d0887"
            ],
            [
             0.1111111111111111,
             "#46039f"
            ],
            [
             0.2222222222222222,
             "#7201a8"
            ],
            [
             0.3333333333333333,
             "#9c179e"
            ],
            [
             0.4444444444444444,
             "#bd3786"
            ],
            [
             0.5555555555555556,
             "#d8576b"
            ],
            [
             0.6666666666666666,
             "#ed7953"
            ],
            [
             0.7777777777777778,
             "#fb9f3a"
            ],
            [
             0.8888888888888888,
             "#fdca26"
            ],
            [
             1,
             "#f0f921"
            ]
           ],
           "sequentialminus": [
            [
             0,
             "#0d0887"
            ],
            [
             0.1111111111111111,
             "#46039f"
            ],
            [
             0.2222222222222222,
             "#7201a8"
            ],
            [
             0.3333333333333333,
             "#9c179e"
            ],
            [
             0.4444444444444444,
             "#bd3786"
            ],
            [
             0.5555555555555556,
             "#d8576b"
            ],
            [
             0.6666666666666666,
             "#ed7953"
            ],
            [
             0.7777777777777778,
             "#fb9f3a"
            ],
            [
             0.8888888888888888,
             "#fdca26"
            ],
            [
             1,
             "#f0f921"
            ]
           ]
          },
          "colorway": [
           "#636efa",
           "#EF553B",
           "#00cc96",
           "#ab63fa",
           "#FFA15A",
           "#19d3f3",
           "#FF6692",
           "#B6E880",
           "#FF97FF",
           "#FECB52"
          ],
          "font": {
           "color": "#2a3f5f"
          },
          "geo": {
           "bgcolor": "white",
           "lakecolor": "white",
           "landcolor": "#E5ECF6",
           "showlakes": true,
           "showland": true,
           "subunitcolor": "white"
          },
          "hoverlabel": {
           "align": "left"
          },
          "hovermode": "closest",
          "mapbox": {
           "style": "light"
          },
          "paper_bgcolor": "white",
          "plot_bgcolor": "#E5ECF6",
          "polar": {
           "angularaxis": {
            "gridcolor": "white",
            "linecolor": "white",
            "ticks": ""
           },
           "bgcolor": "#E5ECF6",
           "radialaxis": {
            "gridcolor": "white",
            "linecolor": "white",
            "ticks": ""
           }
          },
          "scene": {
           "xaxis": {
            "backgroundcolor": "#E5ECF6",
            "gridcolor": "white",
            "gridwidth": 2,
            "linecolor": "white",
            "showbackground": true,
            "ticks": "",
            "zerolinecolor": "white"
           },
           "yaxis": {
            "backgroundcolor": "#E5ECF6",
            "gridcolor": "white",
            "gridwidth": 2,
            "linecolor": "white",
            "showbackground": true,
            "ticks": "",
            "zerolinecolor": "white"
           },
           "zaxis": {
            "backgroundcolor": "#E5ECF6",
            "gridcolor": "white",
            "gridwidth": 2,
            "linecolor": "white",
            "showbackground": true,
            "ticks": "",
            "zerolinecolor": "white"
           }
          },
          "shapedefaults": {
           "line": {
            "color": "#2a3f5f"
           }
          },
          "ternary": {
           "aaxis": {
            "gridcolor": "white",
            "linecolor": "white",
            "ticks": ""
           },
           "baxis": {
            "gridcolor": "white",
            "linecolor": "white",
            "ticks": ""
           },
           "bgcolor": "#E5ECF6",
           "caxis": {
            "gridcolor": "white",
            "linecolor": "white",
            "ticks": ""
           }
          },
          "title": {
           "x": 0.05
          },
          "xaxis": {
           "automargin": true,
           "gridcolor": "white",
           "linecolor": "white",
           "ticks": "",
           "title": {
            "standoff": 15
           },
           "zerolinecolor": "white",
           "zerolinewidth": 2
          },
          "yaxis": {
           "automargin": true,
           "gridcolor": "white",
           "linecolor": "white",
           "ticks": "",
           "title": {
            "standoff": 15
           },
           "zerolinecolor": "white",
           "zerolinewidth": 2
          }
         }
        },
        "title": {
         "text": "A Comparison of Reported Offences By Month From 2008 to 2019, 2021 "
        },
        "violinmode": "overlay",
        "xaxis": {
         "anchor": "y",
         "categoryarray": [
          1,
          2,
          3,
          4,
          5,
          6,
          7,
          8,
          9,
          10,
          11,
          12
         ],
         "categoryorder": "array",
         "domain": [
          0,
          1
         ],
         "title": {
          "text": "Month"
         }
        },
        "yaxis": {
         "anchor": "x",
         "domain": [
          0,
          1
         ],
         "title": {
          "text": "Number of Offences"
         }
        }
       }
      },
      "text/html": [
       "<div>                            <div id=\"2526cf04-1c9e-474a-904b-d4fb97bcfeb2\" class=\"plotly-graph-div\" style=\"height:525px; width:100%;\"></div>            <script type=\"text/javascript\">                require([\"plotly\"], function(Plotly) {                    window.PLOTLYENV=window.PLOTLYENV || {};                                    if (document.getElementById(\"2526cf04-1c9e-474a-904b-d4fb97bcfeb2\")) {                    Plotly.newPlot(                        \"2526cf04-1c9e-474a-904b-d4fb97bcfeb2\",                        [{\"alignmentgroup\":\"True\",\"box\":{\"visible\":true},\"hovertemplate\":\"Month=%{x}<br>Number of Offences=%{y}<extra></extra>\",\"legendgroup\":\"1\",\"marker\":{\"color\":\"#636efa\"},\"name\":\"1\",\"offsetgroup\":\"1\",\"orientation\":\"v\",\"points\":\"all\",\"scalegroup\":\"True\",\"showlegend\":true,\"x\":[1,1,1,1,1,1,1,1,1,1,1,1,1],\"x0\":\" \",\"xaxis\":\"x\",\"y\":[2420.0,2669.0,3072.0,2533.0,2880.0,2488.0,2305.0,2776.0,2503.0,3103.0,2906.0,2874.0,2901.0],\"y0\":\" \",\"yaxis\":\"y\",\"type\":\"violin\"},{\"alignmentgroup\":\"True\",\"box\":{\"visible\":true},\"hovertemplate\":\"Month=%{x}<br>Number of Offences=%{y}<extra></extra>\",\"legendgroup\":\"2\",\"marker\":{\"color\":\"#EF553B\"},\"name\":\"2\",\"offsetgroup\":\"2\",\"orientation\":\"v\",\"points\":\"all\",\"scalegroup\":\"True\",\"showlegend\":true,\"x\":[2,2,2,2,2,2,2,2,2,2,2,2,2],\"x0\":\" \",\"xaxis\":\"x\",\"y\":[2417.0,2183.0,2565.0,2494.0,2578.0,2301.0,1963.0,2103.0,2337.0,2622.0,2637.0,2220.0,2523.0],\"y0\":\" \",\"yaxis\":\"y\",\"type\":\"violin\"},{\"alignmentgroup\":\"True\",\"box\":{\"visible\":true},\"hovertemplate\":\"Month=%{x}<br>Number of Offences=%{y}<extra></extra>\",\"legendgroup\":\"3\",\"marker\":{\"color\":\"#00cc96\"},\"name\":\"3\",\"offsetgroup\":\"3\",\"orientation\":\"v\",\"points\":\"all\",\"scalegroup\":\"True\",\"showlegend\":true,\"x\":[3,3,3,3,3,3,3,3,3,3,3,3,3],\"x0\":\" \",\"xaxis\":\"x\",\"y\":[2630.0,2451.0,2809.0,2367.0,2788.0,2555.0,2451.0,2466.0,2340.0,2560.0,2588.0,2615.0,2993.0],\"y0\":\" \",\"yaxis\":\"y\",\"type\":\"violin\"},{\"alignmentgroup\":\"True\",\"box\":{\"visible\":true},\"hovertemplate\":\"Month=%{x}<br>Number of Offences=%{y}<extra></extra>\",\"legendgroup\":\"4\",\"marker\":{\"color\":\"#ab63fa\"},\"name\":\"4\",\"offsetgroup\":\"4\",\"orientation\":\"v\",\"points\":\"all\",\"scalegroup\":\"True\",\"showlegend\":true,\"x\":[4,4,4,4,4,4,4,4,4,4,4,4,4],\"x0\":\" \",\"xaxis\":\"x\",\"y\":[2583.0,2345.0,2611.0,2228.0,2862.0,2339.0,2429.0,2321.0,2287.0,2225.0,2718.0,2324.0,2713.0],\"y0\":\" \",\"yaxis\":\"y\",\"type\":\"violin\"},{\"alignmentgroup\":\"True\",\"box\":{\"visible\":true},\"hovertemplate\":\"Month=%{x}<br>Number of Offences=%{y}<extra></extra>\",\"legendgroup\":\"5\",\"marker\":{\"color\":\"#FFA15A\"},\"name\":\"5\",\"offsetgroup\":\"5\",\"orientation\":\"v\",\"points\":\"all\",\"scalegroup\":\"True\",\"showlegend\":true,\"x\":[5,5,5,5,5,5,5,5,5,5,5,5,5],\"x0\":\" \",\"xaxis\":\"x\",\"y\":[2262.0,2268.0,2654.0,2095.0,2526.0,2276.0,2328.0,2130.0,2336.0,2534.0,2556.0,2464.0,2680.0],\"y0\":\" \",\"yaxis\":\"y\",\"type\":\"violin\"},{\"alignmentgroup\":\"True\",\"box\":{\"visible\":true},\"hovertemplate\":\"Month=%{x}<br>Number of Offences=%{y}<extra></extra>\",\"legendgroup\":\"6\",\"marker\":{\"color\":\"#19d3f3\"},\"name\":\"6\",\"offsetgroup\":\"6\",\"orientation\":\"v\",\"points\":\"all\",\"scalegroup\":\"True\",\"showlegend\":true,\"x\":[6,6,6,6,6,6,6,6,6,6,6,6,6],\"x0\":\" \",\"xaxis\":\"x\",\"y\":[2276.0,2217.0,2279.0,1990.0,2087.0,2224.0,2364.0,2310.0,2284.0,2160.0,2146.0,1991.0,2284.0],\"y0\":\" \",\"yaxis\":\"y\",\"type\":\"violin\"},{\"alignmentgroup\":\"True\",\"box\":{\"visible\":true},\"hovertemplate\":\"Month=%{x}<br>Number of Offences=%{y}<extra></extra>\",\"legendgroup\":\"7\",\"marker\":{\"color\":\"#FF6692\"},\"name\":\"7\",\"offsetgroup\":\"7\",\"orientation\":\"v\",\"points\":\"all\",\"scalegroup\":\"True\",\"showlegend\":true,\"x\":[7,7,7,7,7,7,7,7,7,7,7,7,7],\"x0\":\" \",\"xaxis\":\"x\",\"y\":[2204.0,2174.0,2536.0,2195.0,2360.0,2375.0,2352.0,2042.0,2271.0,2218.0,2481.0,2063.0,2377.0],\"y0\":\" \",\"yaxis\":\"y\",\"type\":\"violin\"},{\"alignmentgroup\":\"True\",\"box\":{\"visible\":true},\"hovertemplate\":\"Month=%{x}<br>Number of Offences=%{y}<extra></extra>\",\"legendgroup\":\"8\",\"marker\":{\"color\":\"#B6E880\"},\"name\":\"8\",\"offsetgroup\":\"8\",\"orientation\":\"v\",\"points\":\"all\",\"scalegroup\":\"True\",\"showlegend\":true,\"x\":[8,8,8,8,8,8,8,8,8,8,8,8,8],\"x0\":\" \",\"xaxis\":\"x\",\"y\":[2198.0,2144.0,2212.0,1991.0,1954.0,2022.0,2196.0,2114.0,2178.0,2394.0,2428.0,2266.0,2779.0],\"y0\":\" \",\"yaxis\":\"y\",\"type\":\"violin\"},{\"alignmentgroup\":\"True\",\"box\":{\"visible\":true},\"hovertemplate\":\"Month=%{x}<br>Number of Offences=%{y}<extra></extra>\",\"legendgroup\":\"9\",\"marker\":{\"color\":\"#FF97FF\"},\"name\":\"9\",\"offsetgroup\":\"9\",\"orientation\":\"v\",\"points\":\"all\",\"scalegroup\":\"True\",\"showlegend\":true,\"x\":[9,9,9,9,9,9,9,9,9,9,9,9,9],\"x0\":\" \",\"xaxis\":\"x\",\"y\":[2228.0,2410.0,2489.0,2078.0,2198.0,1922.0,2093.0,2131.0,2256.0,2236.0,2511.0,2154.0,2852.0],\"y0\":\" \",\"yaxis\":\"y\",\"type\":\"violin\"},{\"alignmentgroup\":\"True\",\"box\":{\"visible\":true},\"hovertemplate\":\"Month=%{x}<br>Number of Offences=%{y}<extra></extra>\",\"legendgroup\":\"10\",\"marker\":{\"color\":\"#FECB52\"},\"name\":\"10\",\"offsetgroup\":\"10\",\"orientation\":\"v\",\"points\":\"all\",\"scalegroup\":\"True\",\"showlegend\":true,\"x\":[10,10,10,10,10,10,10,10,10,10,10,10,10],\"x0\":\" \",\"xaxis\":\"x\",\"y\":[2498.0,2661.0,2624.0,2186.0,2465.0,1980.0,2221.0,2237.0,2439.0,2533.0,2529.0,2645.0,2983.0],\"y0\":\" \",\"yaxis\":\"y\",\"type\":\"violin\"},{\"alignmentgroup\":\"True\",\"box\":{\"visible\":true},\"hovertemplate\":\"Month=%{x}<br>Number of Offences=%{y}<extra></extra>\",\"legendgroup\":\"11\",\"marker\":{\"color\":\"#636efa\"},\"name\":\"11\",\"offsetgroup\":\"11\",\"orientation\":\"v\",\"points\":\"all\",\"scalegroup\":\"True\",\"showlegend\":true,\"x\":[11,11,11,11,11,11,11,11,11,11,11,11,11],\"x0\":\" \",\"xaxis\":\"x\",\"y\":[2609.0,2467.0,2311.0,2430.0,2449.0,2182.0,2288.0,2277.0,2469.0,2419.0,2478.0,2606.0,2923.0],\"y0\":\" \",\"yaxis\":\"y\",\"type\":\"violin\"},{\"alignmentgroup\":\"True\",\"box\":{\"visible\":true},\"hovertemplate\":\"Month=%{x}<br>Number of Offences=%{y}<extra></extra>\",\"legendgroup\":\"12\",\"marker\":{\"color\":\"#EF553B\"},\"name\":\"12\",\"offsetgroup\":\"12\",\"orientation\":\"v\",\"points\":\"all\",\"scalegroup\":\"True\",\"showlegend\":true,\"x\":[12,12,12,12,12,12,12,12,12,12,12,12,12],\"x0\":\" \",\"xaxis\":\"x\",\"y\":[2342.0,2604.0,2376.0,2695.0,2491.0,2142.0,2674.0,2433.0,2706.0,2886.0,2570.0,2627.0,2771.0],\"y0\":\" \",\"yaxis\":\"y\",\"type\":\"violin\"}],                        {\"template\":{\"data\":{\"histogram2dcontour\":[{\"type\":\"histogram2dcontour\",\"colorbar\":{\"outlinewidth\":0,\"ticks\":\"\"},\"colorscale\":[[0.0,\"#0d0887\"],[0.1111111111111111,\"#46039f\"],[0.2222222222222222,\"#7201a8\"],[0.3333333333333333,\"#9c179e\"],[0.4444444444444444,\"#bd3786\"],[0.5555555555555556,\"#d8576b\"],[0.6666666666666666,\"#ed7953\"],[0.7777777777777778,\"#fb9f3a\"],[0.8888888888888888,\"#fdca26\"],[1.0,\"#f0f921\"]]}],\"choropleth\":[{\"type\":\"choropleth\",\"colorbar\":{\"outlinewidth\":0,\"ticks\":\"\"}}],\"histogram2d\":[{\"type\":\"histogram2d\",\"colorbar\":{\"outlinewidth\":0,\"ticks\":\"\"},\"colorscale\":[[0.0,\"#0d0887\"],[0.1111111111111111,\"#46039f\"],[0.2222222222222222,\"#7201a8\"],[0.3333333333333333,\"#9c179e\"],[0.4444444444444444,\"#bd3786\"],[0.5555555555555556,\"#d8576b\"],[0.6666666666666666,\"#ed7953\"],[0.7777777777777778,\"#fb9f3a\"],[0.8888888888888888,\"#fdca26\"],[1.0,\"#f0f921\"]]}],\"heatmap\":[{\"type\":\"heatmap\",\"colorbar\":{\"outlinewidth\":0,\"ticks\":\"\"},\"colorscale\":[[0.0,\"#0d0887\"],[0.1111111111111111,\"#46039f\"],[0.2222222222222222,\"#7201a8\"],[0.3333333333333333,\"#9c179e\"],[0.4444444444444444,\"#bd3786\"],[0.5555555555555556,\"#d8576b\"],[0.6666666666666666,\"#ed7953\"],[0.7777777777777778,\"#fb9f3a\"],[0.8888888888888888,\"#fdca26\"],[1.0,\"#f0f921\"]]}],\"heatmapgl\":[{\"type\":\"heatmapgl\",\"colorbar\":{\"outlinewidth\":0,\"ticks\":\"\"},\"colorscale\":[[0.0,\"#0d0887\"],[0.1111111111111111,\"#46039f\"],[0.2222222222222222,\"#7201a8\"],[0.3333333333333333,\"#9c179e\"],[0.4444444444444444,\"#bd3786\"],[0.5555555555555556,\"#d8576b\"],[0.6666666666666666,\"#ed7953\"],[0.7777777777777778,\"#fb9f3a\"],[0.8888888888888888,\"#fdca26\"],[1.0,\"#f0f921\"]]}],\"contourcarpet\":[{\"type\":\"contourcarpet\",\"colorbar\":{\"outlinewidth\":0,\"ticks\":\"\"}}],\"contour\":[{\"type\":\"contour\",\"colorbar\":{\"outlinewidth\":0,\"ticks\":\"\"},\"colorscale\":[[0.0,\"#0d0887\"],[0.1111111111111111,\"#46039f\"],[0.2222222222222222,\"#7201a8\"],[0.3333333333333333,\"#9c179e\"],[0.4444444444444444,\"#bd3786\"],[0.5555555555555556,\"#d8576b\"],[0.6666666666666666,\"#ed7953\"],[0.7777777777777778,\"#fb9f3a\"],[0.8888888888888888,\"#fdca26\"],[1.0,\"#f0f921\"]]}],\"surface\":[{\"type\":\"surface\",\"colorbar\":{\"outlinewidth\":0,\"ticks\":\"\"},\"colorscale\":[[0.0,\"#0d0887\"],[0.1111111111111111,\"#46039f\"],[0.2222222222222222,\"#7201a8\"],[0.3333333333333333,\"#9c179e\"],[0.4444444444444444,\"#bd3786\"],[0.5555555555555556,\"#d8576b\"],[0.6666666666666666,\"#ed7953\"],[0.7777777777777778,\"#fb9f3a\"],[0.8888888888888888,\"#fdca26\"],[1.0,\"#f0f921\"]]}],\"mesh3d\":[{\"type\":\"mesh3d\",\"colorbar\":{\"outlinewidth\":0,\"ticks\":\"\"}}],\"scatter\":[{\"fillpattern\":{\"fillmode\":\"overlay\",\"size\":10,\"solidity\":0.2},\"type\":\"scatter\"}],\"parcoords\":[{\"type\":\"parcoords\",\"line\":{\"colorbar\":{\"outlinewidth\":0,\"ticks\":\"\"}}}],\"scatterpolargl\":[{\"type\":\"scatterpolargl\",\"marker\":{\"colorbar\":{\"outlinewidth\":0,\"ticks\":\"\"}}}],\"bar\":[{\"error_x\":{\"color\":\"#2a3f5f\"},\"error_y\":{\"color\":\"#2a3f5f\"},\"marker\":{\"line\":{\"color\":\"#E5ECF6\",\"width\":0.5},\"pattern\":{\"fillmode\":\"overlay\",\"size\":10,\"solidity\":0.2}},\"type\":\"bar\"}],\"scattergeo\":[{\"type\":\"scattergeo\",\"marker\":{\"colorbar\":{\"outlinewidth\":0,\"ticks\":\"\"}}}],\"scatterpolar\":[{\"type\":\"scatterpolar\",\"marker\":{\"colorbar\":{\"outlinewidth\":0,\"ticks\":\"\"}}}],\"histogram\":[{\"marker\":{\"pattern\":{\"fillmode\":\"overlay\",\"size\":10,\"solidity\":0.2}},\"type\":\"histogram\"}],\"scattergl\":[{\"type\":\"scattergl\",\"marker\":{\"colorbar\":{\"outlinewidth\":0,\"ticks\":\"\"}}}],\"scatter3d\":[{\"type\":\"scatter3d\",\"line\":{\"colorbar\":{\"outlinewidth\":0,\"ticks\":\"\"}},\"marker\":{\"colorbar\":{\"outlinewidth\":0,\"ticks\":\"\"}}}],\"scattermapbox\":[{\"type\":\"scattermapbox\",\"marker\":{\"colorbar\":{\"outlinewidth\":0,\"ticks\":\"\"}}}],\"scatterternary\":[{\"type\":\"scatterternary\",\"marker\":{\"colorbar\":{\"outlinewidth\":0,\"ticks\":\"\"}}}],\"scattercarpet\":[{\"type\":\"scattercarpet\",\"marker\":{\"colorbar\":{\"outlinewidth\":0,\"ticks\":\"\"}}}],\"carpet\":[{\"aaxis\":{\"endlinecolor\":\"#2a3f5f\",\"gridcolor\":\"white\",\"linecolor\":\"white\",\"minorgridcolor\":\"white\",\"startlinecolor\":\"#2a3f5f\"},\"baxis\":{\"endlinecolor\":\"#2a3f5f\",\"gridcolor\":\"white\",\"linecolor\":\"white\",\"minorgridcolor\":\"white\",\"startlinecolor\":\"#2a3f5f\"},\"type\":\"carpet\"}],\"table\":[{\"cells\":{\"fill\":{\"color\":\"#EBF0F8\"},\"line\":{\"color\":\"white\"}},\"header\":{\"fill\":{\"color\":\"#C8D4E3\"},\"line\":{\"color\":\"white\"}},\"type\":\"table\"}],\"barpolar\":[{\"marker\":{\"line\":{\"color\":\"#E5ECF6\",\"width\":0.5},\"pattern\":{\"fillmode\":\"overlay\",\"size\":10,\"solidity\":0.2}},\"type\":\"barpolar\"}],\"pie\":[{\"automargin\":true,\"type\":\"pie\"}]},\"layout\":{\"autotypenumbers\":\"strict\",\"colorway\":[\"#636efa\",\"#EF553B\",\"#00cc96\",\"#ab63fa\",\"#FFA15A\",\"#19d3f3\",\"#FF6692\",\"#B6E880\",\"#FF97FF\",\"#FECB52\"],\"font\":{\"color\":\"#2a3f5f\"},\"hovermode\":\"closest\",\"hoverlabel\":{\"align\":\"left\"},\"paper_bgcolor\":\"white\",\"plot_bgcolor\":\"#E5ECF6\",\"polar\":{\"bgcolor\":\"#E5ECF6\",\"angularaxis\":{\"gridcolor\":\"white\",\"linecolor\":\"white\",\"ticks\":\"\"},\"radialaxis\":{\"gridcolor\":\"white\",\"linecolor\":\"white\",\"ticks\":\"\"}},\"ternary\":{\"bgcolor\":\"#E5ECF6\",\"aaxis\":{\"gridcolor\":\"white\",\"linecolor\":\"white\",\"ticks\":\"\"},\"baxis\":{\"gridcolor\":\"white\",\"linecolor\":\"white\",\"ticks\":\"\"},\"caxis\":{\"gridcolor\":\"white\",\"linecolor\":\"white\",\"ticks\":\"\"}},\"coloraxis\":{\"colorbar\":{\"outlinewidth\":0,\"ticks\":\"\"}},\"colorscale\":{\"sequential\":[[0.0,\"#0d0887\"],[0.1111111111111111,\"#46039f\"],[0.2222222222222222,\"#7201a8\"],[0.3333333333333333,\"#9c179e\"],[0.4444444444444444,\"#bd3786\"],[0.5555555555555556,\"#d8576b\"],[0.6666666666666666,\"#ed7953\"],[0.7777777777777778,\"#fb9f3a\"],[0.8888888888888888,\"#fdca26\"],[1.0,\"#f0f921\"]],\"sequentialminus\":[[0.0,\"#0d0887\"],[0.1111111111111111,\"#46039f\"],[0.2222222222222222,\"#7201a8\"],[0.3333333333333333,\"#9c179e\"],[0.4444444444444444,\"#bd3786\"],[0.5555555555555556,\"#d8576b\"],[0.6666666666666666,\"#ed7953\"],[0.7777777777777778,\"#fb9f3a\"],[0.8888888888888888,\"#fdca26\"],[1.0,\"#f0f921\"]],\"diverging\":[[0,\"#8e0152\"],[0.1,\"#c51b7d\"],[0.2,\"#de77ae\"],[0.3,\"#f1b6da\"],[0.4,\"#fde0ef\"],[0.5,\"#f7f7f7\"],[0.6,\"#e6f5d0\"],[0.7,\"#b8e186\"],[0.8,\"#7fbc41\"],[0.9,\"#4d9221\"],[1,\"#276419\"]]},\"xaxis\":{\"gridcolor\":\"white\",\"linecolor\":\"white\",\"ticks\":\"\",\"title\":{\"standoff\":15},\"zerolinecolor\":\"white\",\"automargin\":true,\"zerolinewidth\":2},\"yaxis\":{\"gridcolor\":\"white\",\"linecolor\":\"white\",\"ticks\":\"\",\"title\":{\"standoff\":15},\"zerolinecolor\":\"white\",\"automargin\":true,\"zerolinewidth\":2},\"scene\":{\"xaxis\":{\"backgroundcolor\":\"#E5ECF6\",\"gridcolor\":\"white\",\"linecolor\":\"white\",\"showbackground\":true,\"ticks\":\"\",\"zerolinecolor\":\"white\",\"gridwidth\":2},\"yaxis\":{\"backgroundcolor\":\"#E5ECF6\",\"gridcolor\":\"white\",\"linecolor\":\"white\",\"showbackground\":true,\"ticks\":\"\",\"zerolinecolor\":\"white\",\"gridwidth\":2},\"zaxis\":{\"backgroundcolor\":\"#E5ECF6\",\"gridcolor\":\"white\",\"linecolor\":\"white\",\"showbackground\":true,\"ticks\":\"\",\"zerolinecolor\":\"white\",\"gridwidth\":2}},\"shapedefaults\":{\"line\":{\"color\":\"#2a3f5f\"}},\"annotationdefaults\":{\"arrowcolor\":\"#2a3f5f\",\"arrowhead\":0,\"arrowwidth\":1},\"geo\":{\"bgcolor\":\"white\",\"landcolor\":\"#E5ECF6\",\"subunitcolor\":\"white\",\"showland\":true,\"showlakes\":true,\"lakecolor\":\"white\"},\"title\":{\"x\":0.05},\"mapbox\":{\"style\":\"light\"}}},\"xaxis\":{\"anchor\":\"y\",\"domain\":[0.0,1.0],\"title\":{\"text\":\"Month\"},\"categoryorder\":\"array\",\"categoryarray\":[1,2,3,4,5,6,7,8,9,10,11,12]},\"yaxis\":{\"anchor\":\"x\",\"domain\":[0.0,1.0],\"title\":{\"text\":\"Number of Offences\"}},\"legend\":{\"title\":{\"text\":\"Month\"},\"tracegroupgap\":0},\"title\":{\"text\":\"A Comparison of Reported Offences By Month From 2008 to 2019, 2021 \"},\"violinmode\":\"overlay\"},                        {\"responsive\": true}                    ).then(function(){\n",
       "                            \n",
       "var gd = document.getElementById('2526cf04-1c9e-474a-904b-d4fb97bcfeb2');\n",
       "var x = new MutationObserver(function (mutations, observer) {{\n",
       "        var display = window.getComputedStyle(gd).display;\n",
       "        if (!display || display === 'none') {{\n",
       "            console.log([gd, 'removed!']);\n",
       "            Plotly.purge(gd);\n",
       "            observer.disconnect();\n",
       "        }}\n",
       "}});\n",
       "\n",
       "// Listen for the removal of the full notebook cells\n",
       "var notebookContainer = gd.closest('#notebook-container');\n",
       "if (notebookContainer) {{\n",
       "    x.observe(notebookContainer, {childList: true});\n",
       "}}\n",
       "\n",
       "// Listen for the clearing of the current output cell\n",
       "var outputEl = gd.closest('.output');\n",
       "if (outputEl) {{\n",
       "    x.observe(outputEl, {childList: true});\n",
       "}}\n",
       "\n",
       "                        })                };                });            </script>        </div>"
      ]
     },
     "metadata": {},
     "output_type": "display_data"
    }
   ],
   "source": [
    "Offence_sum_df_no_2020 = Offence_sum_df[(Offence_sum_df['Year'] != 2020) & (Offence_sum_df['Year'] != 2022)] \n",
    "fig1 = px.violin(Offence_sum_df_no_2020, \n",
    "                x=\"Month\", \n",
    "                y=\"Number of Offences\", \n",
    "                color='Month', \n",
    "                box=True, \n",
    "                points='all',\n",
    "                title = 'A Comparison of Reported Offences By Month From 2008 to 2019, 2021 ')\n",
    "\n",
    "fig1.show()"
   ]
  },
  {
   "cell_type": "code",
   "execution_count": 55,
   "id": "fbc1e7d6",
   "metadata": {},
   "outputs": [],
   "source": [
    "year_month_df = pd.DataFrame(nt_df.groupby(['Year', 'Month number']).agg({'Number of offences': ['mean', 'min', 'max', 'sum']}))"
   ]
  },
  {
   "cell_type": "code",
   "execution_count": 56,
   "id": "ecdc5660",
   "metadata": {},
   "outputs": [
    {
     "data": {
      "text/html": [
       "<div>\n",
       "<style scoped>\n",
       "    .dataframe tbody tr th:only-of-type {\n",
       "        vertical-align: middle;\n",
       "    }\n",
       "\n",
       "    .dataframe tbody tr th {\n",
       "        vertical-align: top;\n",
       "    }\n",
       "\n",
       "    .dataframe thead tr th {\n",
       "        text-align: left;\n",
       "    }\n",
       "</style>\n",
       "<table border=\"1\" class=\"dataframe\">\n",
       "  <thead>\n",
       "    <tr>\n",
       "      <th></th>\n",
       "      <th>Year</th>\n",
       "      <th>Month number</th>\n",
       "      <th colspan=\"4\" halign=\"left\">Number of offences</th>\n",
       "    </tr>\n",
       "    <tr>\n",
       "      <th></th>\n",
       "      <th></th>\n",
       "      <th></th>\n",
       "      <th>mean</th>\n",
       "      <th>min</th>\n",
       "      <th>max</th>\n",
       "      <th>sum</th>\n",
       "    </tr>\n",
       "  </thead>\n",
       "  <tbody>\n",
       "    <tr>\n",
       "      <th>0</th>\n",
       "      <td>2008</td>\n",
       "      <td>1</td>\n",
       "      <td>9.718876</td>\n",
       "      <td>1</td>\n",
       "      <td>340</td>\n",
       "      <td>2420</td>\n",
       "    </tr>\n",
       "    <tr>\n",
       "      <th>1</th>\n",
       "      <td>2008</td>\n",
       "      <td>2</td>\n",
       "      <td>10.155462</td>\n",
       "      <td>1</td>\n",
       "      <td>333</td>\n",
       "      <td>2417</td>\n",
       "    </tr>\n",
       "    <tr>\n",
       "      <th>2</th>\n",
       "      <td>2008</td>\n",
       "      <td>3</td>\n",
       "      <td>11.385281</td>\n",
       "      <td>1</td>\n",
       "      <td>392</td>\n",
       "      <td>2630</td>\n",
       "    </tr>\n",
       "    <tr>\n",
       "      <th>3</th>\n",
       "      <td>2008</td>\n",
       "      <td>4</td>\n",
       "      <td>10.373494</td>\n",
       "      <td>1</td>\n",
       "      <td>360</td>\n",
       "      <td>2583</td>\n",
       "    </tr>\n",
       "    <tr>\n",
       "      <th>4</th>\n",
       "      <td>2008</td>\n",
       "      <td>5</td>\n",
       "      <td>9.425000</td>\n",
       "      <td>1</td>\n",
       "      <td>316</td>\n",
       "      <td>2262</td>\n",
       "    </tr>\n",
       "    <tr>\n",
       "      <th>...</th>\n",
       "      <td>...</td>\n",
       "      <td>...</td>\n",
       "      <td>...</td>\n",
       "      <td>...</td>\n",
       "      <td>...</td>\n",
       "      <td>...</td>\n",
       "    </tr>\n",
       "    <tr>\n",
       "      <th>168</th>\n",
       "      <td>2022</td>\n",
       "      <td>1</td>\n",
       "      <td>11.501706</td>\n",
       "      <td>1</td>\n",
       "      <td>311</td>\n",
       "      <td>3370</td>\n",
       "    </tr>\n",
       "    <tr>\n",
       "      <th>169</th>\n",
       "      <td>2022</td>\n",
       "      <td>2</td>\n",
       "      <td>10.142857</td>\n",
       "      <td>1</td>\n",
       "      <td>248</td>\n",
       "      <td>2698</td>\n",
       "    </tr>\n",
       "    <tr>\n",
       "      <th>170</th>\n",
       "      <td>2022</td>\n",
       "      <td>3</td>\n",
       "      <td>11.464164</td>\n",
       "      <td>1</td>\n",
       "      <td>296</td>\n",
       "      <td>3359</td>\n",
       "    </tr>\n",
       "    <tr>\n",
       "      <th>171</th>\n",
       "      <td>2022</td>\n",
       "      <td>4</td>\n",
       "      <td>11.698582</td>\n",
       "      <td>1</td>\n",
       "      <td>320</td>\n",
       "      <td>3299</td>\n",
       "    </tr>\n",
       "    <tr>\n",
       "      <th>172</th>\n",
       "      <td>2022</td>\n",
       "      <td>5</td>\n",
       "      <td>9.884058</td>\n",
       "      <td>1</td>\n",
       "      <td>258</td>\n",
       "      <td>2728</td>\n",
       "    </tr>\n",
       "  </tbody>\n",
       "</table>\n",
       "<p>173 rows × 6 columns</p>\n",
       "</div>"
      ],
      "text/plain": [
       "     Year Month number Number of offences               \n",
       "                                     mean min  max   sum\n",
       "0    2008            1           9.718876   1  340  2420\n",
       "1    2008            2          10.155462   1  333  2417\n",
       "2    2008            3          11.385281   1  392  2630\n",
       "3    2008            4          10.373494   1  360  2583\n",
       "4    2008            5           9.425000   1  316  2262\n",
       "..    ...          ...                ...  ..  ...   ...\n",
       "168  2022            1          11.501706   1  311  3370\n",
       "169  2022            2          10.142857   1  248  2698\n",
       "170  2022            3          11.464164   1  296  3359\n",
       "171  2022            4          11.698582   1  320  3299\n",
       "172  2022            5           9.884058   1  258  2728\n",
       "\n",
       "[173 rows x 6 columns]"
      ]
     },
     "execution_count": 56,
     "metadata": {},
     "output_type": "execute_result"
    }
   ],
   "source": [
    "year_month_df.reset_index()"
   ]
  },
  {
   "cell_type": "code",
   "execution_count": 57,
   "id": "27d57962",
   "metadata": {},
   "outputs": [],
   "source": [
    "year_df = pd.DataFrame(nt_df.groupby('Year').agg({'Number of offences': ['mean', 'min', 'max', 'sum']}))"
   ]
  },
  {
   "cell_type": "code",
   "execution_count": 58,
   "id": "2e4c90b0",
   "metadata": {},
   "outputs": [
    {
     "data": {
      "text/html": [
       "<div>\n",
       "<style scoped>\n",
       "    .dataframe tbody tr th:only-of-type {\n",
       "        vertical-align: middle;\n",
       "    }\n",
       "\n",
       "    .dataframe tbody tr th {\n",
       "        vertical-align: top;\n",
       "    }\n",
       "\n",
       "    .dataframe thead tr th {\n",
       "        text-align: left;\n",
       "    }\n",
       "\n",
       "    .dataframe thead tr:last-of-type th {\n",
       "        text-align: right;\n",
       "    }\n",
       "</style>\n",
       "<table border=\"1\" class=\"dataframe\">\n",
       "  <thead>\n",
       "    <tr>\n",
       "      <th></th>\n",
       "      <th colspan=\"4\" halign=\"left\">Number of offences</th>\n",
       "    </tr>\n",
       "    <tr>\n",
       "      <th></th>\n",
       "      <th>mean</th>\n",
       "      <th>min</th>\n",
       "      <th>max</th>\n",
       "      <th>sum</th>\n",
       "    </tr>\n",
       "    <tr>\n",
       "      <th>Year</th>\n",
       "      <th></th>\n",
       "      <th></th>\n",
       "      <th></th>\n",
       "      <th></th>\n",
       "    </tr>\n",
       "  </thead>\n",
       "  <tbody>\n",
       "    <tr>\n",
       "      <th>2008</th>\n",
       "      <td>9.991983</td>\n",
       "      <td>1</td>\n",
       "      <td>392</td>\n",
       "      <td>28667</td>\n",
       "    </tr>\n",
       "    <tr>\n",
       "      <th>2009</th>\n",
       "      <td>9.383984</td>\n",
       "      <td>1</td>\n",
       "      <td>347</td>\n",
       "      <td>28593</td>\n",
       "    </tr>\n",
       "    <tr>\n",
       "      <th>2010</th>\n",
       "      <td>10.196327</td>\n",
       "      <td>1</td>\n",
       "      <td>458</td>\n",
       "      <td>30538</td>\n",
       "    </tr>\n",
       "    <tr>\n",
       "      <th>2011</th>\n",
       "      <td>9.118316</td>\n",
       "      <td>1</td>\n",
       "      <td>319</td>\n",
       "      <td>27282</td>\n",
       "    </tr>\n",
       "    <tr>\n",
       "      <th>2012</th>\n",
       "      <td>9.679295</td>\n",
       "      <td>1</td>\n",
       "      <td>312</td>\n",
       "      <td>29638</td>\n",
       "    </tr>\n",
       "    <tr>\n",
       "      <th>2013</th>\n",
       "      <td>8.638737</td>\n",
       "      <td>1</td>\n",
       "      <td>304</td>\n",
       "      <td>26806</td>\n",
       "    </tr>\n",
       "    <tr>\n",
       "      <th>2014</th>\n",
       "      <td>8.883751</td>\n",
       "      <td>1</td>\n",
       "      <td>313</td>\n",
       "      <td>27664</td>\n",
       "    </tr>\n",
       "    <tr>\n",
       "      <th>2015</th>\n",
       "      <td>8.928805</td>\n",
       "      <td>1</td>\n",
       "      <td>359</td>\n",
       "      <td>27340</td>\n",
       "    </tr>\n",
       "    <tr>\n",
       "      <th>2016</th>\n",
       "      <td>8.994934</td>\n",
       "      <td>1</td>\n",
       "      <td>306</td>\n",
       "      <td>28406</td>\n",
       "    </tr>\n",
       "    <tr>\n",
       "      <th>2017</th>\n",
       "      <td>9.199754</td>\n",
       "      <td>1</td>\n",
       "      <td>290</td>\n",
       "      <td>29890</td>\n",
       "    </tr>\n",
       "    <tr>\n",
       "      <th>2018</th>\n",
       "      <td>9.384946</td>\n",
       "      <td>1</td>\n",
       "      <td>311</td>\n",
       "      <td>30548</td>\n",
       "    </tr>\n",
       "    <tr>\n",
       "      <th>2019</th>\n",
       "      <td>9.097761</td>\n",
       "      <td>1</td>\n",
       "      <td>304</td>\n",
       "      <td>28849</td>\n",
       "    </tr>\n",
       "    <tr>\n",
       "      <th>2020</th>\n",
       "      <td>8.893920</td>\n",
       "      <td>1</td>\n",
       "      <td>297</td>\n",
       "      <td>28087</td>\n",
       "    </tr>\n",
       "    <tr>\n",
       "      <th>2021</th>\n",
       "      <td>9.787698</td>\n",
       "      <td>1</td>\n",
       "      <td>346</td>\n",
       "      <td>32779</td>\n",
       "    </tr>\n",
       "    <tr>\n",
       "      <th>2022</th>\n",
       "      <td>10.960284</td>\n",
       "      <td>1</td>\n",
       "      <td>320</td>\n",
       "      <td>15454</td>\n",
       "    </tr>\n",
       "  </tbody>\n",
       "</table>\n",
       "</div>"
      ],
      "text/plain": [
       "     Number of offences                \n",
       "                   mean min  max    sum\n",
       "Year                                   \n",
       "2008           9.991983   1  392  28667\n",
       "2009           9.383984   1  347  28593\n",
       "2010          10.196327   1  458  30538\n",
       "2011           9.118316   1  319  27282\n",
       "2012           9.679295   1  312  29638\n",
       "2013           8.638737   1  304  26806\n",
       "2014           8.883751   1  313  27664\n",
       "2015           8.928805   1  359  27340\n",
       "2016           8.994934   1  306  28406\n",
       "2017           9.199754   1  290  29890\n",
       "2018           9.384946   1  311  30548\n",
       "2019           9.097761   1  304  28849\n",
       "2020           8.893920   1  297  28087\n",
       "2021           9.787698   1  346  32779\n",
       "2022          10.960284   1  320  15454"
      ]
     },
     "execution_count": 58,
     "metadata": {},
     "output_type": "execute_result"
    }
   ],
   "source": [
    "year_df"
   ]
  },
  {
   "cell_type": "code",
   "execution_count": 59,
   "id": "64e499e7",
   "metadata": {},
   "outputs": [
    {
     "data": {
      "text/plain": [
       "MultiIndex([('Number of offences', 'mean'),\n",
       "            ('Number of offences',  'min'),\n",
       "            ('Number of offences',  'max'),\n",
       "            ('Number of offences',  'sum')],\n",
       "           )"
      ]
     },
     "execution_count": 59,
     "metadata": {},
     "output_type": "execute_result"
    }
   ],
   "source": [
    "year_df.keys()"
   ]
  },
  {
   "cell_type": "code",
   "execution_count": 60,
   "id": "de9a9e70",
   "metadata": {},
   "outputs": [
    {
     "data": {
      "text/plain": [
       "Int64Index([2008, 2009, 2010, 2011, 2012, 2013, 2014, 2015, 2016, 2017, 2018,\n",
       "            2019, 2020, 2021, 2022],\n",
       "           dtype='int64', name='Year')"
      ]
     },
     "execution_count": 60,
     "metadata": {},
     "output_type": "execute_result"
    }
   ],
   "source": [
    "year_df.index"
   ]
  },
  {
   "cell_type": "code",
   "execution_count": 61,
   "id": "dff16b28",
   "metadata": {},
   "outputs": [
    {
     "data": {
      "text/html": [
       "<div>\n",
       "<style scoped>\n",
       "    .dataframe tbody tr th:only-of-type {\n",
       "        vertical-align: middle;\n",
       "    }\n",
       "\n",
       "    .dataframe tbody tr th {\n",
       "        vertical-align: top;\n",
       "    }\n",
       "\n",
       "    .dataframe thead tr th {\n",
       "        text-align: left;\n",
       "    }\n",
       "\n",
       "    .dataframe thead tr:last-of-type th {\n",
       "        text-align: right;\n",
       "    }\n",
       "</style>\n",
       "<table border=\"1\" class=\"dataframe\">\n",
       "  <thead>\n",
       "    <tr>\n",
       "      <th></th>\n",
       "      <th colspan=\"4\" halign=\"left\">Number of offences</th>\n",
       "    </tr>\n",
       "    <tr>\n",
       "      <th></th>\n",
       "      <th>mean</th>\n",
       "      <th>min</th>\n",
       "      <th>max</th>\n",
       "      <th>sum</th>\n",
       "    </tr>\n",
       "    <tr>\n",
       "      <th>Year</th>\n",
       "      <th></th>\n",
       "      <th></th>\n",
       "      <th></th>\n",
       "      <th></th>\n",
       "    </tr>\n",
       "  </thead>\n",
       "  <tbody>\n",
       "    <tr>\n",
       "      <th>2008</th>\n",
       "      <td>9.991983</td>\n",
       "      <td>1</td>\n",
       "      <td>392</td>\n",
       "      <td>28667</td>\n",
       "    </tr>\n",
       "  </tbody>\n",
       "</table>\n",
       "</div>"
      ],
      "text/plain": [
       "     Number of offences                \n",
       "                   mean min  max    sum\n",
       "Year                                   \n",
       "2008           9.991983   1  392  28667"
      ]
     },
     "execution_count": 61,
     "metadata": {},
     "output_type": "execute_result"
    }
   ],
   "source": [
    "year_df[year_df.index == 2008]"
   ]
  },
  {
   "cell_type": "code",
   "execution_count": null,
   "id": "10ab2407",
   "metadata": {},
   "outputs": [],
   "source": []
  },
  {
   "cell_type": "markdown",
   "id": "f6e5fc03",
   "metadata": {},
   "source": [
    "<p style='color: red'> The number of offences is the number of offences recorded per region per statistical area. The highest number of offences ever recorded is 458 property damage offences in Darwin in January 2010. </p>\n",
    "\n",
    "* group together reporting region and statistical area.\n",
    "* statistical area with maximum offences\n",
    "* look into the type of offence prevalent in statistical area.\n",
    "* look into the maximum offences per region."
   ]
  },
  {
   "cell_type": "code",
   "execution_count": 62,
   "id": "cf0a6cc6",
   "metadata": {},
   "outputs": [
    {
     "data": {
      "text/html": [
       "<div>\n",
       "<style scoped>\n",
       "    .dataframe tbody tr th:only-of-type {\n",
       "        vertical-align: middle;\n",
       "    }\n",
       "\n",
       "    .dataframe tbody tr th {\n",
       "        vertical-align: top;\n",
       "    }\n",
       "\n",
       "    .dataframe thead th {\n",
       "        text-align: right;\n",
       "    }\n",
       "</style>\n",
       "<table border=\"1\" class=\"dataframe\">\n",
       "  <thead>\n",
       "    <tr style=\"text-align: right;\">\n",
       "      <th></th>\n",
       "      <th>As At</th>\n",
       "      <th>Year</th>\n",
       "      <th>Month number</th>\n",
       "      <th>Offence category</th>\n",
       "      <th>Offence type</th>\n",
       "      <th>Alcohol involvement</th>\n",
       "      <th>DV involvement</th>\n",
       "      <th>Reporting region</th>\n",
       "      <th>Statistical Area 2</th>\n",
       "      <th>Number of offences</th>\n",
       "    </tr>\n",
       "  </thead>\n",
       "  <tbody>\n",
       "    <tr>\n",
       "      <th>6111</th>\n",
       "      <td>1/07/2022</td>\n",
       "      <td>2010</td>\n",
       "      <td>1</td>\n",
       "      <td>Property Damage Offences</td>\n",
       "      <td>Property damage offences</td>\n",
       "      <td>-</td>\n",
       "      <td>-</td>\n",
       "      <td>Darwin</td>\n",
       "      <td>-</td>\n",
       "      <td>458</td>\n",
       "    </tr>\n",
       "  </tbody>\n",
       "</table>\n",
       "</div>"
      ],
      "text/plain": [
       "          As At  Year  Month number          Offence category  \\\n",
       "6111  1/07/2022  2010             1  Property Damage Offences   \n",
       "\n",
       "                  Offence type Alcohol involvement DV involvement  \\\n",
       "6111  Property damage offences                   -              -   \n",
       "\n",
       "     Reporting region Statistical Area 2  Number of offences  \n",
       "6111           Darwin                  -                 458  "
      ]
     },
     "execution_count": 62,
     "metadata": {},
     "output_type": "execute_result"
    }
   ],
   "source": [
    "nt_df[nt_df['Number of offences'] == 458]"
   ]
  },
  {
   "cell_type": "code",
   "execution_count": 63,
   "id": "75de536a",
   "metadata": {},
   "outputs": [
    {
     "data": {
      "text/html": [
       "<div>\n",
       "<style scoped>\n",
       "    .dataframe tbody tr th:only-of-type {\n",
       "        vertical-align: middle;\n",
       "    }\n",
       "\n",
       "    .dataframe tbody tr th {\n",
       "        vertical-align: top;\n",
       "    }\n",
       "\n",
       "    .dataframe thead th {\n",
       "        text-align: right;\n",
       "    }\n",
       "</style>\n",
       "<table border=\"1\" class=\"dataframe\">\n",
       "  <thead>\n",
       "    <tr style=\"text-align: right;\">\n",
       "      <th></th>\n",
       "      <th>As At</th>\n",
       "      <th>Year</th>\n",
       "      <th>Month number</th>\n",
       "      <th>Offence category</th>\n",
       "      <th>Offence type</th>\n",
       "      <th>Alcohol involvement</th>\n",
       "      <th>DV involvement</th>\n",
       "      <th>Reporting region</th>\n",
       "      <th>Statistical Area 2</th>\n",
       "      <th>Number of offences</th>\n",
       "    </tr>\n",
       "  </thead>\n",
       "  <tbody>\n",
       "    <tr>\n",
       "      <th>6110</th>\n",
       "      <td>1/07/2022</td>\n",
       "      <td>2010</td>\n",
       "      <td>1</td>\n",
       "      <td>Property Damage Offences</td>\n",
       "      <td>Property damage offences</td>\n",
       "      <td>-</td>\n",
       "      <td>-</td>\n",
       "      <td>Alice Springs</td>\n",
       "      <td>-</td>\n",
       "      <td>200</td>\n",
       "    </tr>\n",
       "    <tr>\n",
       "      <th>6111</th>\n",
       "      <td>1/07/2022</td>\n",
       "      <td>2010</td>\n",
       "      <td>1</td>\n",
       "      <td>Property Damage Offences</td>\n",
       "      <td>Property damage offences</td>\n",
       "      <td>-</td>\n",
       "      <td>-</td>\n",
       "      <td>Darwin</td>\n",
       "      <td>-</td>\n",
       "      <td>458</td>\n",
       "    </tr>\n",
       "    <tr>\n",
       "      <th>6112</th>\n",
       "      <td>1/07/2022</td>\n",
       "      <td>2010</td>\n",
       "      <td>1</td>\n",
       "      <td>Property Damage Offences</td>\n",
       "      <td>Property damage offences</td>\n",
       "      <td>-</td>\n",
       "      <td>-</td>\n",
       "      <td>Katherine</td>\n",
       "      <td>-</td>\n",
       "      <td>22</td>\n",
       "    </tr>\n",
       "    <tr>\n",
       "      <th>6113</th>\n",
       "      <td>1/07/2022</td>\n",
       "      <td>2010</td>\n",
       "      <td>1</td>\n",
       "      <td>Property Damage Offences</td>\n",
       "      <td>Property damage offences</td>\n",
       "      <td>-</td>\n",
       "      <td>-</td>\n",
       "      <td>Nhulunbuy</td>\n",
       "      <td>-</td>\n",
       "      <td>6</td>\n",
       "    </tr>\n",
       "    <tr>\n",
       "      <th>6114</th>\n",
       "      <td>1/07/2022</td>\n",
       "      <td>2010</td>\n",
       "      <td>1</td>\n",
       "      <td>Property Damage Offences</td>\n",
       "      <td>Property damage offences</td>\n",
       "      <td>-</td>\n",
       "      <td>-</td>\n",
       "      <td>NT Balance</td>\n",
       "      <td>Alligator</td>\n",
       "      <td>13</td>\n",
       "    </tr>\n",
       "    <tr>\n",
       "      <th>6115</th>\n",
       "      <td>1/07/2022</td>\n",
       "      <td>2010</td>\n",
       "      <td>1</td>\n",
       "      <td>Property Damage Offences</td>\n",
       "      <td>Property damage offences</td>\n",
       "      <td>-</td>\n",
       "      <td>-</td>\n",
       "      <td>NT Balance</td>\n",
       "      <td>Anindilyakwa</td>\n",
       "      <td>3</td>\n",
       "    </tr>\n",
       "    <tr>\n",
       "      <th>6116</th>\n",
       "      <td>1/07/2022</td>\n",
       "      <td>2010</td>\n",
       "      <td>1</td>\n",
       "      <td>Property Damage Offences</td>\n",
       "      <td>Property damage offences</td>\n",
       "      <td>-</td>\n",
       "      <td>-</td>\n",
       "      <td>NT Balance</td>\n",
       "      <td>Barkly</td>\n",
       "      <td>3</td>\n",
       "    </tr>\n",
       "    <tr>\n",
       "      <th>6117</th>\n",
       "      <td>1/07/2022</td>\n",
       "      <td>2010</td>\n",
       "      <td>1</td>\n",
       "      <td>Property Damage Offences</td>\n",
       "      <td>Property damage offences</td>\n",
       "      <td>-</td>\n",
       "      <td>-</td>\n",
       "      <td>NT Balance</td>\n",
       "      <td>Daly</td>\n",
       "      <td>2</td>\n",
       "    </tr>\n",
       "    <tr>\n",
       "      <th>6118</th>\n",
       "      <td>1/07/2022</td>\n",
       "      <td>2010</td>\n",
       "      <td>1</td>\n",
       "      <td>Property Damage Offences</td>\n",
       "      <td>Property damage offences</td>\n",
       "      <td>-</td>\n",
       "      <td>-</td>\n",
       "      <td>NT Balance</td>\n",
       "      <td>East Arnhem</td>\n",
       "      <td>7</td>\n",
       "    </tr>\n",
       "    <tr>\n",
       "      <th>6119</th>\n",
       "      <td>1/07/2022</td>\n",
       "      <td>2010</td>\n",
       "      <td>1</td>\n",
       "      <td>Property Damage Offences</td>\n",
       "      <td>Property damage offences</td>\n",
       "      <td>-</td>\n",
       "      <td>-</td>\n",
       "      <td>NT Balance</td>\n",
       "      <td>Elsey</td>\n",
       "      <td>2</td>\n",
       "    </tr>\n",
       "    <tr>\n",
       "      <th>6120</th>\n",
       "      <td>1/07/2022</td>\n",
       "      <td>2010</td>\n",
       "      <td>1</td>\n",
       "      <td>Property Damage Offences</td>\n",
       "      <td>Property damage offences</td>\n",
       "      <td>-</td>\n",
       "      <td>-</td>\n",
       "      <td>NT Balance</td>\n",
       "      <td>Gulf</td>\n",
       "      <td>4</td>\n",
       "    </tr>\n",
       "    <tr>\n",
       "      <th>6121</th>\n",
       "      <td>1/07/2022</td>\n",
       "      <td>2010</td>\n",
       "      <td>1</td>\n",
       "      <td>Property Damage Offences</td>\n",
       "      <td>Property damage offences</td>\n",
       "      <td>-</td>\n",
       "      <td>-</td>\n",
       "      <td>NT Balance</td>\n",
       "      <td>Howard Springs</td>\n",
       "      <td>2</td>\n",
       "    </tr>\n",
       "    <tr>\n",
       "      <th>6122</th>\n",
       "      <td>1/07/2022</td>\n",
       "      <td>2010</td>\n",
       "      <td>1</td>\n",
       "      <td>Property Damage Offences</td>\n",
       "      <td>Property damage offences</td>\n",
       "      <td>-</td>\n",
       "      <td>-</td>\n",
       "      <td>NT Balance</td>\n",
       "      <td>Humpty Doo</td>\n",
       "      <td>12</td>\n",
       "    </tr>\n",
       "    <tr>\n",
       "      <th>6123</th>\n",
       "      <td>1/07/2022</td>\n",
       "      <td>2010</td>\n",
       "      <td>1</td>\n",
       "      <td>Property Damage Offences</td>\n",
       "      <td>Property damage offences</td>\n",
       "      <td>-</td>\n",
       "      <td>-</td>\n",
       "      <td>NT Balance</td>\n",
       "      <td>Petermann - Simpson</td>\n",
       "      <td>4</td>\n",
       "    </tr>\n",
       "    <tr>\n",
       "      <th>6124</th>\n",
       "      <td>1/07/2022</td>\n",
       "      <td>2010</td>\n",
       "      <td>1</td>\n",
       "      <td>Property Damage Offences</td>\n",
       "      <td>Property damage offences</td>\n",
       "      <td>-</td>\n",
       "      <td>-</td>\n",
       "      <td>NT Balance</td>\n",
       "      <td>Sandover - Plenty</td>\n",
       "      <td>1</td>\n",
       "    </tr>\n",
       "    <tr>\n",
       "      <th>6125</th>\n",
       "      <td>1/07/2022</td>\n",
       "      <td>2010</td>\n",
       "      <td>1</td>\n",
       "      <td>Property Damage Offences</td>\n",
       "      <td>Property damage offences</td>\n",
       "      <td>-</td>\n",
       "      <td>-</td>\n",
       "      <td>NT Balance</td>\n",
       "      <td>Tanami</td>\n",
       "      <td>9</td>\n",
       "    </tr>\n",
       "    <tr>\n",
       "      <th>6126</th>\n",
       "      <td>1/07/2022</td>\n",
       "      <td>2010</td>\n",
       "      <td>1</td>\n",
       "      <td>Property Damage Offences</td>\n",
       "      <td>Property damage offences</td>\n",
       "      <td>-</td>\n",
       "      <td>-</td>\n",
       "      <td>NT Balance</td>\n",
       "      <td>Thamarrurr</td>\n",
       "      <td>9</td>\n",
       "    </tr>\n",
       "    <tr>\n",
       "      <th>6127</th>\n",
       "      <td>1/07/2022</td>\n",
       "      <td>2010</td>\n",
       "      <td>1</td>\n",
       "      <td>Property Damage Offences</td>\n",
       "      <td>Property damage offences</td>\n",
       "      <td>-</td>\n",
       "      <td>-</td>\n",
       "      <td>NT Balance</td>\n",
       "      <td>Tiwi Islands</td>\n",
       "      <td>4</td>\n",
       "    </tr>\n",
       "    <tr>\n",
       "      <th>6128</th>\n",
       "      <td>1/07/2022</td>\n",
       "      <td>2010</td>\n",
       "      <td>1</td>\n",
       "      <td>Property Damage Offences</td>\n",
       "      <td>Property damage offences</td>\n",
       "      <td>-</td>\n",
       "      <td>-</td>\n",
       "      <td>NT Balance</td>\n",
       "      <td>Victoria River</td>\n",
       "      <td>3</td>\n",
       "    </tr>\n",
       "    <tr>\n",
       "      <th>6129</th>\n",
       "      <td>1/07/2022</td>\n",
       "      <td>2010</td>\n",
       "      <td>1</td>\n",
       "      <td>Property Damage Offences</td>\n",
       "      <td>Property damage offences</td>\n",
       "      <td>-</td>\n",
       "      <td>-</td>\n",
       "      <td>NT Balance</td>\n",
       "      <td>Virginia</td>\n",
       "      <td>1</td>\n",
       "    </tr>\n",
       "    <tr>\n",
       "      <th>6130</th>\n",
       "      <td>1/07/2022</td>\n",
       "      <td>2010</td>\n",
       "      <td>1</td>\n",
       "      <td>Property Damage Offences</td>\n",
       "      <td>Property damage offences</td>\n",
       "      <td>-</td>\n",
       "      <td>-</td>\n",
       "      <td>NT Balance</td>\n",
       "      <td>Weddell</td>\n",
       "      <td>1</td>\n",
       "    </tr>\n",
       "    <tr>\n",
       "      <th>6131</th>\n",
       "      <td>1/07/2022</td>\n",
       "      <td>2010</td>\n",
       "      <td>1</td>\n",
       "      <td>Property Damage Offences</td>\n",
       "      <td>Property damage offences</td>\n",
       "      <td>-</td>\n",
       "      <td>-</td>\n",
       "      <td>NT Balance</td>\n",
       "      <td>West Arnhem</td>\n",
       "      <td>3</td>\n",
       "    </tr>\n",
       "    <tr>\n",
       "      <th>6132</th>\n",
       "      <td>1/07/2022</td>\n",
       "      <td>2010</td>\n",
       "      <td>1</td>\n",
       "      <td>Property Damage Offences</td>\n",
       "      <td>Property damage offences</td>\n",
       "      <td>-</td>\n",
       "      <td>-</td>\n",
       "      <td>NT Balance</td>\n",
       "      <td>Yuendumu - Anmatjere</td>\n",
       "      <td>6</td>\n",
       "    </tr>\n",
       "    <tr>\n",
       "      <th>6133</th>\n",
       "      <td>1/07/2022</td>\n",
       "      <td>2010</td>\n",
       "      <td>1</td>\n",
       "      <td>Property Damage Offences</td>\n",
       "      <td>Property damage offences</td>\n",
       "      <td>-</td>\n",
       "      <td>-</td>\n",
       "      <td>Palmerston</td>\n",
       "      <td>-</td>\n",
       "      <td>127</td>\n",
       "    </tr>\n",
       "    <tr>\n",
       "      <th>6134</th>\n",
       "      <td>1/07/2022</td>\n",
       "      <td>2010</td>\n",
       "      <td>1</td>\n",
       "      <td>Property Damage Offences</td>\n",
       "      <td>Property damage offences</td>\n",
       "      <td>-</td>\n",
       "      <td>-</td>\n",
       "      <td>Tennant Creek</td>\n",
       "      <td>-</td>\n",
       "      <td>37</td>\n",
       "    </tr>\n",
       "  </tbody>\n",
       "</table>\n",
       "</div>"
      ],
      "text/plain": [
       "          As At  Year  Month number          Offence category  \\\n",
       "6110  1/07/2022  2010             1  Property Damage Offences   \n",
       "6111  1/07/2022  2010             1  Property Damage Offences   \n",
       "6112  1/07/2022  2010             1  Property Damage Offences   \n",
       "6113  1/07/2022  2010             1  Property Damage Offences   \n",
       "6114  1/07/2022  2010             1  Property Damage Offences   \n",
       "6115  1/07/2022  2010             1  Property Damage Offences   \n",
       "6116  1/07/2022  2010             1  Property Damage Offences   \n",
       "6117  1/07/2022  2010             1  Property Damage Offences   \n",
       "6118  1/07/2022  2010             1  Property Damage Offences   \n",
       "6119  1/07/2022  2010             1  Property Damage Offences   \n",
       "6120  1/07/2022  2010             1  Property Damage Offences   \n",
       "6121  1/07/2022  2010             1  Property Damage Offences   \n",
       "6122  1/07/2022  2010             1  Property Damage Offences   \n",
       "6123  1/07/2022  2010             1  Property Damage Offences   \n",
       "6124  1/07/2022  2010             1  Property Damage Offences   \n",
       "6125  1/07/2022  2010             1  Property Damage Offences   \n",
       "6126  1/07/2022  2010             1  Property Damage Offences   \n",
       "6127  1/07/2022  2010             1  Property Damage Offences   \n",
       "6128  1/07/2022  2010             1  Property Damage Offences   \n",
       "6129  1/07/2022  2010             1  Property Damage Offences   \n",
       "6130  1/07/2022  2010             1  Property Damage Offences   \n",
       "6131  1/07/2022  2010             1  Property Damage Offences   \n",
       "6132  1/07/2022  2010             1  Property Damage Offences   \n",
       "6133  1/07/2022  2010             1  Property Damage Offences   \n",
       "6134  1/07/2022  2010             1  Property Damage Offences   \n",
       "\n",
       "                  Offence type Alcohol involvement DV involvement  \\\n",
       "6110  Property damage offences                   -              -   \n",
       "6111  Property damage offences                   -              -   \n",
       "6112  Property damage offences                   -              -   \n",
       "6113  Property damage offences                   -              -   \n",
       "6114  Property damage offences                   -              -   \n",
       "6115  Property damage offences                   -              -   \n",
       "6116  Property damage offences                   -              -   \n",
       "6117  Property damage offences                   -              -   \n",
       "6118  Property damage offences                   -              -   \n",
       "6119  Property damage offences                   -              -   \n",
       "6120  Property damage offences                   -              -   \n",
       "6121  Property damage offences                   -              -   \n",
       "6122  Property damage offences                   -              -   \n",
       "6123  Property damage offences                   -              -   \n",
       "6124  Property damage offences                   -              -   \n",
       "6125  Property damage offences                   -              -   \n",
       "6126  Property damage offences                   -              -   \n",
       "6127  Property damage offences                   -              -   \n",
       "6128  Property damage offences                   -              -   \n",
       "6129  Property damage offences                   -              -   \n",
       "6130  Property damage offences                   -              -   \n",
       "6131  Property damage offences                   -              -   \n",
       "6132  Property damage offences                   -              -   \n",
       "6133  Property damage offences                   -              -   \n",
       "6134  Property damage offences                   -              -   \n",
       "\n",
       "     Reporting region    Statistical Area 2  Number of offences  \n",
       "6110    Alice Springs                     -                 200  \n",
       "6111           Darwin                     -                 458  \n",
       "6112        Katherine                     -                  22  \n",
       "6113        Nhulunbuy                     -                   6  \n",
       "6114       NT Balance             Alligator                  13  \n",
       "6115       NT Balance          Anindilyakwa                   3  \n",
       "6116       NT Balance                Barkly                   3  \n",
       "6117       NT Balance                  Daly                   2  \n",
       "6118       NT Balance           East Arnhem                   7  \n",
       "6119       NT Balance                 Elsey                   2  \n",
       "6120       NT Balance                  Gulf                   4  \n",
       "6121       NT Balance        Howard Springs                   2  \n",
       "6122       NT Balance            Humpty Doo                  12  \n",
       "6123       NT Balance   Petermann - Simpson                   4  \n",
       "6124       NT Balance     Sandover - Plenty                   1  \n",
       "6125       NT Balance                Tanami                   9  \n",
       "6126       NT Balance            Thamarrurr                   9  \n",
       "6127       NT Balance          Tiwi Islands                   4  \n",
       "6128       NT Balance        Victoria River                   3  \n",
       "6129       NT Balance              Virginia                   1  \n",
       "6130       NT Balance               Weddell                   1  \n",
       "6131       NT Balance           West Arnhem                   3  \n",
       "6132       NT Balance  Yuendumu - Anmatjere                   6  \n",
       "6133       Palmerston                     -                 127  \n",
       "6134    Tennant Creek                     -                  37  "
      ]
     },
     "execution_count": 63,
     "metadata": {},
     "output_type": "execute_result"
    }
   ],
   "source": [
    "nt_df[(nt_df['Year'] == 2010) & (nt_df['Month number'] == 1) & \n",
    "      (nt_df['Offence category'] == 'Property Damage Offences')]"
   ]
  },
  {
   "cell_type": "code",
   "execution_count": 64,
   "id": "9a4aae29",
   "metadata": {},
   "outputs": [
    {
     "data": {
      "text/plain": [
       "(44994, 10)"
      ]
     },
     "execution_count": 64,
     "metadata": {},
     "output_type": "execute_result"
    }
   ],
   "source": [
    "nt_df.shape"
   ]
  },
  {
   "cell_type": "code",
   "execution_count": 65,
   "id": "27eaafbb",
   "metadata": {},
   "outputs": [
    {
     "name": "stdout",
     "output_type": "stream",
     "text": [
      "<class 'pandas.core.frame.DataFrame'>\n",
      "RangeIndex: 44994 entries, 0 to 44993\n",
      "Data columns (total 10 columns):\n",
      " #   Column               Non-Null Count  Dtype \n",
      "---  ------               --------------  ----- \n",
      " 0   As At                44994 non-null  object\n",
      " 1   Year                 44994 non-null  int64 \n",
      " 2   Month number         44994 non-null  int64 \n",
      " 3   Offence category     44994 non-null  object\n",
      " 4   Offence type         44994 non-null  object\n",
      " 5   Alcohol involvement  44994 non-null  object\n",
      " 6   DV involvement       44994 non-null  object\n",
      " 7   Reporting region     44994 non-null  object\n",
      " 8   Statistical Area 2   44994 non-null  object\n",
      " 9   Number of offences   44994 non-null  int64 \n",
      "dtypes: int64(3), object(7)\n",
      "memory usage: 3.4+ MB\n"
     ]
    }
   ],
   "source": [
    "nt_df.info()"
   ]
  },
  {
   "cell_type": "code",
   "execution_count": 66,
   "id": "b3dd6b8d",
   "metadata": {},
   "outputs": [],
   "source": [
    "nt_df = nt_df.drop('As At', axis = 1)"
   ]
  },
  {
   "cell_type": "code",
   "execution_count": 67,
   "id": "c8cb20fd",
   "metadata": {},
   "outputs": [
    {
     "data": {
      "text/plain": [
       "Index(['Year', 'Month number', 'Offence category', 'Offence type',\n",
       "       'Alcohol involvement', 'DV involvement', 'Reporting region',\n",
       "       'Statistical Area 2', 'Number of offences'],\n",
       "      dtype='object')"
      ]
     },
     "execution_count": 67,
     "metadata": {},
     "output_type": "execute_result"
    }
   ],
   "source": [
    "nt_df.keys()"
   ]
  },
  {
   "cell_type": "markdown",
   "id": "3850349b",
   "metadata": {},
   "source": [
    "<h1 style=\"color:blue\">Offence Category Counts</h1>\n",
    "\n",
    "<span style=\"color:blue\"> Although it is a relief that homicide and related offences have the least amount of occurences, it is quite alarming that acts intended to cause injury has the highest count among the crimes reported.</span> "
   ]
  },
  {
   "cell_type": "code",
   "execution_count": 68,
   "id": "6ca4dc55",
   "metadata": {},
   "outputs": [
    {
     "data": {
      "text/plain": [
       "Offence category\n",
       "Abduction - harassment and other offences against the person      5027\n",
       "Acts intended to cause injury                                   102739\n",
       "Commercial break-ins                                             29600\n",
       "Homicide and related Offences                                      248\n",
       "House break-ins                                                  29496\n",
       "Motor theft and related offences                                 29486\n",
       "Other Dangerous or negligent acts endangering persons             1787\n",
       "Property Damage Offences                                        108292\n",
       "Robbery - extortion and related offences                          1809\n",
       "Sexual Assault and related offences                               6248\n",
       "Theft and related offences (other than MV)                      105809\n",
       "Name: Number of offences, dtype: int64"
      ]
     },
     "execution_count": 68,
     "metadata": {},
     "output_type": "execute_result"
    }
   ],
   "source": [
    "nt_df.groupby('Offence category')['Number of offences'].sum()"
   ]
  },
  {
   "cell_type": "code",
   "execution_count": 69,
   "id": "5e504705",
   "metadata": {},
   "outputs": [
    {
     "data": {
      "application/vnd.jupyter.widget-view+json": {
       "model_id": "f7422e1a43754638b246daab164766ab",
       "version_major": 2,
       "version_minor": 0
      },
      "text/plain": [
       "interactive(children=(Dropdown(description='Region', options=('Alice Springs', 'NT Balance', 'Tennant Creek', …"
      ]
     },
     "metadata": {},
     "output_type": "display_data"
    }
   ],
   "source": [
    "@interact\n",
    "def show_offences_per_reporting_region(Region = list(nt_df['Reporting region'].unique())):\n",
    "    display(HTML(f'<h2 style =\"color:purple\"> Offences in {Region} from 2008 - 2022 <h2>'))\n",
    "    nt_df[nt_df['Reporting region'] == Region].groupby('Offence category')['Number of offences'].sum().iplot(kind = 'barh',\n",
    "                                                                                                             xTitle = 'Month', \n",
    "                                                                                                             yTitle = 'Number of Offences')"
   ]
  },
  {
   "cell_type": "code",
   "execution_count": 70,
   "id": "a1445408",
   "metadata": {},
   "outputs": [
    {
     "data": {
      "text/plain": [
       "<AxesSubplot:ylabel='Offence category'>"
      ]
     },
     "execution_count": 70,
     "metadata": {},
     "output_type": "execute_result"
    },
    {
     "data": {
      "image/png": "[encoded data removed]",
      "text/plain": [
       "<Figure size 432x288 with 1 Axes>"
      ]
     },
     "metadata": {
      "needs_background": "light"
     },
     "output_type": "display_data"
    }
   ],
   "source": [
    "nt_df.groupby('Offence category')['Number of offences'].sum().plot(kind = 'barh')"
   ]
  },
  {
   "cell_type": "code",
   "execution_count": 71,
   "id": "0bd618a6",
   "metadata": {},
   "outputs": [
    {
     "data": {
      "text/plain": [
       "<AxesSubplot:ylabel='Offence category'>"
      ]
     },
     "execution_count": 71,
     "metadata": {},
     "output_type": "execute_result"
    },
    {
     "data": {
      "image/png": "[encoded data removed]",
      "text/plain": [
       "<Figure size 432x288 with 1 Axes>"
      ]
     },
     "metadata": {
      "needs_background": "light"
     },
     "output_type": "display_data"
    }
   ],
   "source": [
    "nt_df[nt_df['Year'] == 2013].groupby('Offence category')['Number of offences'].sum().plot(kind = 'barh')"
   ]
  },
  {
   "cell_type": "code",
   "execution_count": 72,
   "id": "0b335b4c",
   "metadata": {},
   "outputs": [
    {
     "data": {
      "text/plain": [
       "Offence category\n",
       "Abduction - harassment and other offences against the person      5027\n",
       "Acts intended to cause injury                                   102739\n",
       "Commercial break-ins                                             29600\n",
       "Homicide and related Offences                                      248\n",
       "House break-ins                                                  29496\n",
       "Motor theft and related offences                                 29486\n",
       "Other Dangerous or negligent acts endangering persons             1787\n",
       "Property Damage Offences                                        108292\n",
       "Robbery - extortion and related offences                          1809\n",
       "Sexual Assault and related offences                               6248\n",
       "Theft and related offences (other than MV)                      105809\n",
       "Name: Number of offences, dtype: int64"
      ]
     },
     "execution_count": 72,
     "metadata": {},
     "output_type": "execute_result"
    }
   ],
   "source": [
    "nt_df.groupby('Offence category')['Number of offences'].sum()"
   ]
  },
  {
   "cell_type": "markdown",
   "id": "c9433923",
   "metadata": {},
   "source": [
    "<h1 style='color:blue'> Which region has the highest number of offences? </h1> \n",
    "<p style='color:blue'> The pie chart below shows that majority of the cases reported occurred in NT Balance.</p>"
   ]
  },
  {
   "cell_type": "markdown",
   "id": "d90051d4",
   "metadata": {},
   "source": [
    "<p style='color: red'> There were 28,878 cases out of the total cases that were left blank. It can be assumed here that the alcohol involvement was unknown. Replace all - with Alcohol involvement unknown</p>"
   ]
  },
  {
   "cell_type": "code",
   "execution_count": 73,
   "id": "bd0acbdf",
   "metadata": {},
   "outputs": [
    {
     "data": {
      "text/plain": [
       "Alcohol involvement\n",
       "-                              318173\n",
       "Alcohol involved                56349\n",
       "Alcohol involvement unknown     19642\n",
       "No alcohol involved             26377\n",
       "Name: Number of offences, dtype: int64"
      ]
     },
     "execution_count": 73,
     "metadata": {},
     "output_type": "execute_result"
    }
   ],
   "source": [
    "nt_df.groupby('Alcohol involvement')['Number of offences'].sum()"
   ]
  },
  {
   "cell_type": "markdown",
   "id": "8a13161f",
   "metadata": {},
   "source": [
    "<p style='color: red'> There were 28,878 cases out of the total cases that were left blank. It can be assumed here that the domestic violence involvement was unknown. Replace all - with Domestic violence involvement unknown</p>"
   ]
  },
  {
   "cell_type": "code",
   "execution_count": 59,
   "id": "774d655f",
   "metadata": {},
   "outputs": [
    {
     "data": {
      "text/plain": [
       "DV involvement\n",
       "-         318173\n",
       "DV         59546\n",
       "Non-DV     42822\n",
       "Name: Number of offences, dtype: int64"
      ]
     },
     "execution_count": 59,
     "metadata": {},
     "output_type": "execute_result"
    }
   ],
   "source": [
    "nt_df.groupby('DV involvement')['Number of offences'].sum()"
   ]
  }
 ],
 "metadata": {
  "kernelspec": {
   "display_name": "Python 3 (ipykernel)",
   "language": "python",
   "name": "python3"
  },
  "language_info": {
   "codemirror_mode": {
    "name": "ipython",
    "version": 3
   },
   "file_extension": ".py",
   "mimetype": "text/x-python",
   "name": "python",
   "nbconvert_exporter": "python",
   "pygments_lexer": "ipython3",
   "version": "3.9.12"
  }
 },
 "nbformat": 4,
 "nbformat_minor": 5
}
