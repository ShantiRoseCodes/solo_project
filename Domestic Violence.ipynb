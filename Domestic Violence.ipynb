{
 "cells": [
  {
   "cell_type": "markdown",
   "id": "7fdf9c68",
   "metadata": {},
   "source": [
    "[Current - Northern Territory Crime Statistics May 2022](https://data.nt.gov.au/dataset/current-northern-territory-crime-statistics-may-2022)"
   ]
  },
  {
   "cell_type": "markdown",
   "id": "6a60de88",
   "metadata": {},
   "source": [
    "Offences in the Northern Territory can show strong seasonal patterns, with predictable peaks and troughs at certain times of the year.  Therefore, comparisons should be made of the same months in different years, rather than consecutive months.  For trends, a 12-month rolling average or rolling sum is recommended in order to dampen the month-to-month variability and account for the seasonal cycles.\n",
    "\n",
    "Last update was July 1st 2022."
   ]
  },
  {
   "cell_type": "code",
   "execution_count": 61,
   "id": "9ee98643",
   "metadata": {},
   "outputs": [
    {
     "data": {
      "text/html": [
       "        <script type=\"text/javascript\">\n",
       "        window.PlotlyConfig = {MathJaxConfig: 'local'};\n",
       "        if (window.MathJax && window.MathJax.Hub && window.MathJax.Hub.Config) {window.MathJax.Hub.Config({SVG: {font: \"STIX-Web\"}});}\n",
       "        if (typeof require !== 'undefined') {\n",
       "        require.undef(\"plotly\");\n",
       "        requirejs.config({\n",
       "            paths: {\n",
       "                'plotly': ['https://cdn.plot.ly/plotly-2.14.0.min']\n",
       "            }\n",
       "        });\n",
       "        require(['plotly'], function(Plotly) {\n",
       "            window._Plotly = Plotly;\n",
       "        });\n",
       "        }\n",
       "        </script>\n",
       "        "
      ]
     },
     "metadata": {},
     "output_type": "display_data"
    },
    {
     "data": {
      "text/html": [
       "        <script type=\"text/javascript\">\n",
       "        window.PlotlyConfig = {MathJaxConfig: 'local'};\n",
       "        if (window.MathJax && window.MathJax.Hub && window.MathJax.Hub.Config) {window.MathJax.Hub.Config({SVG: {font: \"STIX-Web\"}});}\n",
       "        if (typeof require !== 'undefined') {\n",
       "        require.undef(\"plotly\");\n",
       "        requirejs.config({\n",
       "            paths: {\n",
       "                'plotly': ['https://cdn.plot.ly/plotly-2.14.0.min']\n",
       "            }\n",
       "        });\n",
       "        require(['plotly'], function(Plotly) {\n",
       "            window._Plotly = Plotly;\n",
       "        });\n",
       "        }\n",
       "        </script>\n",
       "        "
      ]
     },
     "metadata": {},
     "output_type": "display_data"
    }
   ],
   "source": [
    "# Standard Data Science Helpers\n",
    "import numpy as np\n",
    "import pandas as pd\n",
    "import scipy\n",
    "\n",
    "import chart_studio.plotly as py\n",
    "import plotly.graph_objs as go\n",
    "from plotly.offline import iplot, init_notebook_mode\n",
    "init_notebook_mode(connected=True)\n",
    "\n",
    "import cufflinks as cf\n",
    "cf.go_offline(connected=True)\n",
    "cf.set_config_file(colorscale='plotly', world_readable=True)\n",
    "\n",
    "# Extra options\n",
    "pd.options.display.max_rows = 30\n",
    "pd.options.display.max_columns = 25\n",
    "\n",
    "# Show all code cells outputs\n",
    "from IPython.core.interactiveshell import InteractiveShell\n",
    "InteractiveShell.ast_node_interactivity = 'all'\n",
    "\n",
    "import os\n",
    "from IPython.display import Image, display, HTML"
   ]
  },
  {
   "cell_type": "code",
   "execution_count": 2,
   "id": "6156d0b4",
   "metadata": {},
   "outputs": [],
   "source": [
    "dv_df = pd.read_csv('nt_crime_statistics_may_2022.csv')"
   ]
  },
  {
   "cell_type": "code",
   "execution_count": 3,
   "id": "afc9bd4b",
   "metadata": {},
   "outputs": [
    {
     "data": {
      "text/html": [
       "<div>\n",
       "<style scoped>\n",
       "    .dataframe tbody tr th:only-of-type {\n",
       "        vertical-align: middle;\n",
       "    }\n",
       "\n",
       "    .dataframe tbody tr th {\n",
       "        vertical-align: top;\n",
       "    }\n",
       "\n",
       "    .dataframe thead th {\n",
       "        text-align: right;\n",
       "    }\n",
       "</style>\n",
       "<table border=\"1\" class=\"dataframe\">\n",
       "  <thead>\n",
       "    <tr style=\"text-align: right;\">\n",
       "      <th></th>\n",
       "      <th>As At</th>\n",
       "      <th>Year</th>\n",
       "      <th>Month number</th>\n",
       "      <th>Offence category</th>\n",
       "      <th>Offence type</th>\n",
       "      <th>Alcohol involvement</th>\n",
       "      <th>DV involvement</th>\n",
       "      <th>Reporting region</th>\n",
       "      <th>Statistical Area 2</th>\n",
       "      <th>Number of offences</th>\n",
       "    </tr>\n",
       "  </thead>\n",
       "  <tbody>\n",
       "    <tr>\n",
       "      <th>0</th>\n",
       "      <td>1/07/2022</td>\n",
       "      <td>2008</td>\n",
       "      <td>1</td>\n",
       "      <td>Abduction - harassment and other offences agai...</td>\n",
       "      <td>Deprivation of liberty /false imprisonment</td>\n",
       "      <td>-</td>\n",
       "      <td>-</td>\n",
       "      <td>Alice Springs</td>\n",
       "      <td>-</td>\n",
       "      <td>1</td>\n",
       "    </tr>\n",
       "    <tr>\n",
       "      <th>1</th>\n",
       "      <td>1/07/2022</td>\n",
       "      <td>2008</td>\n",
       "      <td>1</td>\n",
       "      <td>Abduction - harassment and other offences agai...</td>\n",
       "      <td>Deprivation of liberty /false imprisonment</td>\n",
       "      <td>-</td>\n",
       "      <td>-</td>\n",
       "      <td>NT Balance</td>\n",
       "      <td>Alligator</td>\n",
       "      <td>1</td>\n",
       "    </tr>\n",
       "    <tr>\n",
       "      <th>2</th>\n",
       "      <td>1/07/2022</td>\n",
       "      <td>2008</td>\n",
       "      <td>1</td>\n",
       "      <td>Abduction - harassment and other offences agai...</td>\n",
       "      <td>Deprivation of liberty /false imprisonment</td>\n",
       "      <td>-</td>\n",
       "      <td>-</td>\n",
       "      <td>Tennant Creek</td>\n",
       "      <td>-</td>\n",
       "      <td>1</td>\n",
       "    </tr>\n",
       "    <tr>\n",
       "      <th>3</th>\n",
       "      <td>1/07/2022</td>\n",
       "      <td>2008</td>\n",
       "      <td>1</td>\n",
       "      <td>Abduction - harassment and other offences agai...</td>\n",
       "      <td>Harassment and private nuisance</td>\n",
       "      <td>-</td>\n",
       "      <td>-</td>\n",
       "      <td>NT Balance</td>\n",
       "      <td>Alligator</td>\n",
       "      <td>2</td>\n",
       "    </tr>\n",
       "    <tr>\n",
       "      <th>4</th>\n",
       "      <td>1/07/2022</td>\n",
       "      <td>2008</td>\n",
       "      <td>1</td>\n",
       "      <td>Abduction - harassment and other offences agai...</td>\n",
       "      <td>Harassment and private nuisance</td>\n",
       "      <td>-</td>\n",
       "      <td>-</td>\n",
       "      <td>NT Balance</td>\n",
       "      <td>Daly</td>\n",
       "      <td>1</td>\n",
       "    </tr>\n",
       "  </tbody>\n",
       "</table>\n",
       "</div>"
      ],
      "text/plain": [
       "       As At  Year  Month number  \\\n",
       "0  1/07/2022  2008             1   \n",
       "1  1/07/2022  2008             1   \n",
       "2  1/07/2022  2008             1   \n",
       "3  1/07/2022  2008             1   \n",
       "4  1/07/2022  2008             1   \n",
       "\n",
       "                                    Offence category  \\\n",
       "0  Abduction - harassment and other offences agai...   \n",
       "1  Abduction - harassment and other offences agai...   \n",
       "2  Abduction - harassment and other offences agai...   \n",
       "3  Abduction - harassment and other offences agai...   \n",
       "4  Abduction - harassment and other offences agai...   \n",
       "\n",
       "                                 Offence type Alcohol involvement  \\\n",
       "0  Deprivation of liberty /false imprisonment                   -   \n",
       "1  Deprivation of liberty /false imprisonment                   -   \n",
       "2  Deprivation of liberty /false imprisonment                   -   \n",
       "3             Harassment and private nuisance                   -   \n",
       "4             Harassment and private nuisance                   -   \n",
       "\n",
       "  DV involvement Reporting region  Statistical Area 2  Number of offences  \n",
       "0              -     Alice Springs                  -                   1  \n",
       "1              -        NT Balance          Alligator                   1  \n",
       "2              -     Tennant Creek                  -                   1  \n",
       "3              -        NT Balance          Alligator                   2  \n",
       "4              -        NT Balance               Daly                   1  "
      ]
     },
     "execution_count": 3,
     "metadata": {},
     "output_type": "execute_result"
    }
   ],
   "source": [
    "dv_df.head()"
   ]
  },
  {
   "cell_type": "code",
   "execution_count": 4,
   "id": "2a94a4e6",
   "metadata": {},
   "outputs": [
    {
     "data": {
      "text/html": [
       "<div>\n",
       "<style scoped>\n",
       "    .dataframe tbody tr th:only-of-type {\n",
       "        vertical-align: middle;\n",
       "    }\n",
       "\n",
       "    .dataframe tbody tr th {\n",
       "        vertical-align: top;\n",
       "    }\n",
       "\n",
       "    .dataframe thead th {\n",
       "        text-align: right;\n",
       "    }\n",
       "</style>\n",
       "<table border=\"1\" class=\"dataframe\">\n",
       "  <thead>\n",
       "    <tr style=\"text-align: right;\">\n",
       "      <th></th>\n",
       "      <th>As At</th>\n",
       "      <th>Year</th>\n",
       "      <th>Month number</th>\n",
       "      <th>Offence category</th>\n",
       "      <th>Offence type</th>\n",
       "      <th>Alcohol involvement</th>\n",
       "      <th>DV involvement</th>\n",
       "      <th>Reporting region</th>\n",
       "      <th>Statistical Area 2</th>\n",
       "      <th>Number of offences</th>\n",
       "    </tr>\n",
       "  </thead>\n",
       "  <tbody>\n",
       "    <tr>\n",
       "      <th>44989</th>\n",
       "      <td>1/07/2022</td>\n",
       "      <td>2022</td>\n",
       "      <td>5</td>\n",
       "      <td>Theft and related offences (other than MV)</td>\n",
       "      <td>Theft and related offences (other than MV)</td>\n",
       "      <td>-</td>\n",
       "      <td>-</td>\n",
       "      <td>NT Balance</td>\n",
       "      <td>Weddell</td>\n",
       "      <td>5</td>\n",
       "    </tr>\n",
       "    <tr>\n",
       "      <th>44990</th>\n",
       "      <td>1/07/2022</td>\n",
       "      <td>2022</td>\n",
       "      <td>5</td>\n",
       "      <td>Theft and related offences (other than MV)</td>\n",
       "      <td>Theft and related offences (other than MV)</td>\n",
       "      <td>-</td>\n",
       "      <td>-</td>\n",
       "      <td>NT Balance</td>\n",
       "      <td>West Arnhem</td>\n",
       "      <td>8</td>\n",
       "    </tr>\n",
       "    <tr>\n",
       "      <th>44991</th>\n",
       "      <td>1/07/2022</td>\n",
       "      <td>2022</td>\n",
       "      <td>5</td>\n",
       "      <td>Theft and related offences (other than MV)</td>\n",
       "      <td>Theft and related offences (other than MV)</td>\n",
       "      <td>-</td>\n",
       "      <td>-</td>\n",
       "      <td>NT Balance</td>\n",
       "      <td>Yuendumu - Anmatjere</td>\n",
       "      <td>8</td>\n",
       "    </tr>\n",
       "    <tr>\n",
       "      <th>44992</th>\n",
       "      <td>1/07/2022</td>\n",
       "      <td>2022</td>\n",
       "      <td>5</td>\n",
       "      <td>Theft and related offences (other than MV)</td>\n",
       "      <td>Theft and related offences (other than MV)</td>\n",
       "      <td>-</td>\n",
       "      <td>-</td>\n",
       "      <td>Palmerston</td>\n",
       "      <td>-</td>\n",
       "      <td>70</td>\n",
       "    </tr>\n",
       "    <tr>\n",
       "      <th>44993</th>\n",
       "      <td>1/07/2022</td>\n",
       "      <td>2022</td>\n",
       "      <td>5</td>\n",
       "      <td>Theft and related offences (other than MV)</td>\n",
       "      <td>Theft and related offences (other than MV)</td>\n",
       "      <td>-</td>\n",
       "      <td>-</td>\n",
       "      <td>Tennant Creek</td>\n",
       "      <td>-</td>\n",
       "      <td>7</td>\n",
       "    </tr>\n",
       "  </tbody>\n",
       "</table>\n",
       "</div>"
      ],
      "text/plain": [
       "           As At  Year  Month number  \\\n",
       "44989  1/07/2022  2022             5   \n",
       "44990  1/07/2022  2022             5   \n",
       "44991  1/07/2022  2022             5   \n",
       "44992  1/07/2022  2022             5   \n",
       "44993  1/07/2022  2022             5   \n",
       "\n",
       "                                 Offence category  \\\n",
       "44989  Theft and related offences (other than MV)   \n",
       "44990  Theft and related offences (other than MV)   \n",
       "44991  Theft and related offences (other than MV)   \n",
       "44992  Theft and related offences (other than MV)   \n",
       "44993  Theft and related offences (other than MV)   \n",
       "\n",
       "                                     Offence type Alcohol involvement  \\\n",
       "44989  Theft and related offences (other than MV)                   -   \n",
       "44990  Theft and related offences (other than MV)                   -   \n",
       "44991  Theft and related offences (other than MV)                   -   \n",
       "44992  Theft and related offences (other than MV)                   -   \n",
       "44993  Theft and related offences (other than MV)                   -   \n",
       "\n",
       "      DV involvement Reporting region     Statistical Area 2  \\\n",
       "44989              -        NT Balance               Weddell   \n",
       "44990              -        NT Balance           West Arnhem   \n",
       "44991              -        NT Balance  Yuendumu - Anmatjere   \n",
       "44992              -        Palmerston                     -   \n",
       "44993              -     Tennant Creek                     -   \n",
       "\n",
       "       Number of offences  \n",
       "44989                   5  \n",
       "44990                   8  \n",
       "44991                   8  \n",
       "44992                  70  \n",
       "44993                   7  "
      ]
     },
     "execution_count": 4,
     "metadata": {},
     "output_type": "execute_result"
    }
   ],
   "source": [
    "dv_df.tail()"
   ]
  },
  {
   "cell_type": "code",
   "execution_count": 5,
   "id": "d475c6f1",
   "metadata": {},
   "outputs": [
    {
     "data": {
      "text/html": [
       "<div>\n",
       "<style scoped>\n",
       "    .dataframe tbody tr th:only-of-type {\n",
       "        vertical-align: middle;\n",
       "    }\n",
       "\n",
       "    .dataframe tbody tr th {\n",
       "        vertical-align: top;\n",
       "    }\n",
       "\n",
       "    .dataframe thead th {\n",
       "        text-align: right;\n",
       "    }\n",
       "</style>\n",
       "<table border=\"1\" class=\"dataframe\">\n",
       "  <thead>\n",
       "    <tr style=\"text-align: right;\">\n",
       "      <th></th>\n",
       "      <th>Year</th>\n",
       "      <th>Month number</th>\n",
       "      <th>Number of offences</th>\n",
       "    </tr>\n",
       "  </thead>\n",
       "  <tbody>\n",
       "    <tr>\n",
       "      <th>count</th>\n",
       "      <td>44994.000000</td>\n",
       "      <td>44994.000000</td>\n",
       "      <td>44994.000000</td>\n",
       "    </tr>\n",
       "    <tr>\n",
       "      <th>mean</th>\n",
       "      <td>2014.867649</td>\n",
       "      <td>6.410366</td>\n",
       "      <td>9.346602</td>\n",
       "    </tr>\n",
       "    <tr>\n",
       "      <th>std</th>\n",
       "      <td>4.163936</td>\n",
       "      <td>3.495179</td>\n",
       "      <td>26.984379</td>\n",
       "    </tr>\n",
       "    <tr>\n",
       "      <th>min</th>\n",
       "      <td>2008.000000</td>\n",
       "      <td>1.000000</td>\n",
       "      <td>1.000000</td>\n",
       "    </tr>\n",
       "    <tr>\n",
       "      <th>25%</th>\n",
       "      <td>2011.000000</td>\n",
       "      <td>3.000000</td>\n",
       "      <td>1.000000</td>\n",
       "    </tr>\n",
       "    <tr>\n",
       "      <th>50%</th>\n",
       "      <td>2015.000000</td>\n",
       "      <td>6.000000</td>\n",
       "      <td>3.000000</td>\n",
       "    </tr>\n",
       "    <tr>\n",
       "      <th>75%</th>\n",
       "      <td>2018.000000</td>\n",
       "      <td>10.000000</td>\n",
       "      <td>6.000000</td>\n",
       "    </tr>\n",
       "    <tr>\n",
       "      <th>max</th>\n",
       "      <td>2022.000000</td>\n",
       "      <td>12.000000</td>\n",
       "      <td>458.000000</td>\n",
       "    </tr>\n",
       "  </tbody>\n",
       "</table>\n",
       "</div>"
      ],
      "text/plain": [
       "               Year  Month number  Number of offences\n",
       "count  44994.000000  44994.000000        44994.000000\n",
       "mean    2014.867649      6.410366            9.346602\n",
       "std        4.163936      3.495179           26.984379\n",
       "min     2008.000000      1.000000            1.000000\n",
       "25%     2011.000000      3.000000            1.000000\n",
       "50%     2015.000000      6.000000            3.000000\n",
       "75%     2018.000000     10.000000            6.000000\n",
       "max     2022.000000     12.000000          458.000000"
      ]
     },
     "execution_count": 5,
     "metadata": {},
     "output_type": "execute_result"
    }
   ],
   "source": [
    "dv_df.describe()"
   ]
  },
  {
   "cell_type": "markdown",
   "id": "f6e5fc03",
   "metadata": {},
   "source": [
    "<p style='color: red'> The number of offences is the number of offences recorded per region per statistical area. The highest number of offences ever recorded is 458 property damage offences in Darwin in January 2010. </p>\n",
    "\n",
    "* group together reporting region and statistical area.\n",
    "* statistical area with maximum offences\n",
    "* look into the type of offence prevalent in statistical area.\n",
    "* look into the maximum offences per region."
   ]
  },
  {
   "cell_type": "code",
   "execution_count": 66,
   "id": "cf0a6cc6",
   "metadata": {},
   "outputs": [
    {
     "data": {
      "text/html": [
       "<div>\n",
       "<style scoped>\n",
       "    .dataframe tbody tr th:only-of-type {\n",
       "        vertical-align: middle;\n",
       "    }\n",
       "\n",
       "    .dataframe tbody tr th {\n",
       "        vertical-align: top;\n",
       "    }\n",
       "\n",
       "    .dataframe thead th {\n",
       "        text-align: right;\n",
       "    }\n",
       "</style>\n",
       "<table border=\"1\" class=\"dataframe\">\n",
       "  <thead>\n",
       "    <tr style=\"text-align: right;\">\n",
       "      <th></th>\n",
       "      <th>Year</th>\n",
       "      <th>Month number</th>\n",
       "      <th>Offence category</th>\n",
       "      <th>Offence type</th>\n",
       "      <th>Alcohol involvement</th>\n",
       "      <th>DV involvement</th>\n",
       "      <th>Reporting region</th>\n",
       "      <th>Statistical Area 2</th>\n",
       "      <th>Number of offences</th>\n",
       "    </tr>\n",
       "  </thead>\n",
       "  <tbody>\n",
       "    <tr>\n",
       "      <th>6111</th>\n",
       "      <td>2010</td>\n",
       "      <td>1</td>\n",
       "      <td>Property Damage Offences</td>\n",
       "      <td>Property damage offences</td>\n",
       "      <td>-</td>\n",
       "      <td>-</td>\n",
       "      <td>Darwin</td>\n",
       "      <td>-</td>\n",
       "      <td>458</td>\n",
       "    </tr>\n",
       "  </tbody>\n",
       "</table>\n",
       "</div>"
      ],
      "text/plain": [
       "      Year  Month number          Offence category              Offence type  \\\n",
       "6111  2010             1  Property Damage Offences  Property damage offences   \n",
       "\n",
       "     Alcohol involvement DV involvement Reporting region  Statistical Area 2  \\\n",
       "6111                   -              -            Darwin                  -   \n",
       "\n",
       "      Number of offences  \n",
       "6111                 458  "
      ]
     },
     "execution_count": 66,
     "metadata": {},
     "output_type": "execute_result"
    }
   ],
   "source": [
    "dv_df[dv_df['Number of offences'] == 458]"
   ]
  },
  {
   "cell_type": "code",
   "execution_count": 71,
   "id": "75de536a",
   "metadata": {},
   "outputs": [
    {
     "data": {
      "text/html": [
       "<div>\n",
       "<style scoped>\n",
       "    .dataframe tbody tr th:only-of-type {\n",
       "        vertical-align: middle;\n",
       "    }\n",
       "\n",
       "    .dataframe tbody tr th {\n",
       "        vertical-align: top;\n",
       "    }\n",
       "\n",
       "    .dataframe thead th {\n",
       "        text-align: right;\n",
       "    }\n",
       "</style>\n",
       "<table border=\"1\" class=\"dataframe\">\n",
       "  <thead>\n",
       "    <tr style=\"text-align: right;\">\n",
       "      <th></th>\n",
       "      <th>Year</th>\n",
       "      <th>Month number</th>\n",
       "      <th>Offence category</th>\n",
       "      <th>Offence type</th>\n",
       "      <th>Alcohol involvement</th>\n",
       "      <th>DV involvement</th>\n",
       "      <th>Reporting region</th>\n",
       "      <th>Statistical Area 2</th>\n",
       "      <th>Number of offences</th>\n",
       "    </tr>\n",
       "  </thead>\n",
       "  <tbody>\n",
       "    <tr>\n",
       "      <th>6110</th>\n",
       "      <td>2010</td>\n",
       "      <td>1</td>\n",
       "      <td>Property Damage Offences</td>\n",
       "      <td>Property damage offences</td>\n",
       "      <td>-</td>\n",
       "      <td>-</td>\n",
       "      <td>Alice Springs</td>\n",
       "      <td>-</td>\n",
       "      <td>200</td>\n",
       "    </tr>\n",
       "    <tr>\n",
       "      <th>6111</th>\n",
       "      <td>2010</td>\n",
       "      <td>1</td>\n",
       "      <td>Property Damage Offences</td>\n",
       "      <td>Property damage offences</td>\n",
       "      <td>-</td>\n",
       "      <td>-</td>\n",
       "      <td>Darwin</td>\n",
       "      <td>-</td>\n",
       "      <td>458</td>\n",
       "    </tr>\n",
       "    <tr>\n",
       "      <th>6112</th>\n",
       "      <td>2010</td>\n",
       "      <td>1</td>\n",
       "      <td>Property Damage Offences</td>\n",
       "      <td>Property damage offences</td>\n",
       "      <td>-</td>\n",
       "      <td>-</td>\n",
       "      <td>Katherine</td>\n",
       "      <td>-</td>\n",
       "      <td>22</td>\n",
       "    </tr>\n",
       "    <tr>\n",
       "      <th>6113</th>\n",
       "      <td>2010</td>\n",
       "      <td>1</td>\n",
       "      <td>Property Damage Offences</td>\n",
       "      <td>Property damage offences</td>\n",
       "      <td>-</td>\n",
       "      <td>-</td>\n",
       "      <td>Nhulunbuy</td>\n",
       "      <td>-</td>\n",
       "      <td>6</td>\n",
       "    </tr>\n",
       "    <tr>\n",
       "      <th>6114</th>\n",
       "      <td>2010</td>\n",
       "      <td>1</td>\n",
       "      <td>Property Damage Offences</td>\n",
       "      <td>Property damage offences</td>\n",
       "      <td>-</td>\n",
       "      <td>-</td>\n",
       "      <td>NT Balance</td>\n",
       "      <td>Alligator</td>\n",
       "      <td>13</td>\n",
       "    </tr>\n",
       "    <tr>\n",
       "      <th>6115</th>\n",
       "      <td>2010</td>\n",
       "      <td>1</td>\n",
       "      <td>Property Damage Offences</td>\n",
       "      <td>Property damage offences</td>\n",
       "      <td>-</td>\n",
       "      <td>-</td>\n",
       "      <td>NT Balance</td>\n",
       "      <td>Anindilyakwa</td>\n",
       "      <td>3</td>\n",
       "    </tr>\n",
       "    <tr>\n",
       "      <th>6116</th>\n",
       "      <td>2010</td>\n",
       "      <td>1</td>\n",
       "      <td>Property Damage Offences</td>\n",
       "      <td>Property damage offences</td>\n",
       "      <td>-</td>\n",
       "      <td>-</td>\n",
       "      <td>NT Balance</td>\n",
       "      <td>Barkly</td>\n",
       "      <td>3</td>\n",
       "    </tr>\n",
       "    <tr>\n",
       "      <th>6117</th>\n",
       "      <td>2010</td>\n",
       "      <td>1</td>\n",
       "      <td>Property Damage Offences</td>\n",
       "      <td>Property damage offences</td>\n",
       "      <td>-</td>\n",
       "      <td>-</td>\n",
       "      <td>NT Balance</td>\n",
       "      <td>Daly</td>\n",
       "      <td>2</td>\n",
       "    </tr>\n",
       "    <tr>\n",
       "      <th>6118</th>\n",
       "      <td>2010</td>\n",
       "      <td>1</td>\n",
       "      <td>Property Damage Offences</td>\n",
       "      <td>Property damage offences</td>\n",
       "      <td>-</td>\n",
       "      <td>-</td>\n",
       "      <td>NT Balance</td>\n",
       "      <td>East Arnhem</td>\n",
       "      <td>7</td>\n",
       "    </tr>\n",
       "    <tr>\n",
       "      <th>6119</th>\n",
       "      <td>2010</td>\n",
       "      <td>1</td>\n",
       "      <td>Property Damage Offences</td>\n",
       "      <td>Property damage offences</td>\n",
       "      <td>-</td>\n",
       "      <td>-</td>\n",
       "      <td>NT Balance</td>\n",
       "      <td>Elsey</td>\n",
       "      <td>2</td>\n",
       "    </tr>\n",
       "    <tr>\n",
       "      <th>6120</th>\n",
       "      <td>2010</td>\n",
       "      <td>1</td>\n",
       "      <td>Property Damage Offences</td>\n",
       "      <td>Property damage offences</td>\n",
       "      <td>-</td>\n",
       "      <td>-</td>\n",
       "      <td>NT Balance</td>\n",
       "      <td>Gulf</td>\n",
       "      <td>4</td>\n",
       "    </tr>\n",
       "    <tr>\n",
       "      <th>6121</th>\n",
       "      <td>2010</td>\n",
       "      <td>1</td>\n",
       "      <td>Property Damage Offences</td>\n",
       "      <td>Property damage offences</td>\n",
       "      <td>-</td>\n",
       "      <td>-</td>\n",
       "      <td>NT Balance</td>\n",
       "      <td>Howard Springs</td>\n",
       "      <td>2</td>\n",
       "    </tr>\n",
       "    <tr>\n",
       "      <th>6122</th>\n",
       "      <td>2010</td>\n",
       "      <td>1</td>\n",
       "      <td>Property Damage Offences</td>\n",
       "      <td>Property damage offences</td>\n",
       "      <td>-</td>\n",
       "      <td>-</td>\n",
       "      <td>NT Balance</td>\n",
       "      <td>Humpty Doo</td>\n",
       "      <td>12</td>\n",
       "    </tr>\n",
       "    <tr>\n",
       "      <th>6123</th>\n",
       "      <td>2010</td>\n",
       "      <td>1</td>\n",
       "      <td>Property Damage Offences</td>\n",
       "      <td>Property damage offences</td>\n",
       "      <td>-</td>\n",
       "      <td>-</td>\n",
       "      <td>NT Balance</td>\n",
       "      <td>Petermann - Simpson</td>\n",
       "      <td>4</td>\n",
       "    </tr>\n",
       "    <tr>\n",
       "      <th>6124</th>\n",
       "      <td>2010</td>\n",
       "      <td>1</td>\n",
       "      <td>Property Damage Offences</td>\n",
       "      <td>Property damage offences</td>\n",
       "      <td>-</td>\n",
       "      <td>-</td>\n",
       "      <td>NT Balance</td>\n",
       "      <td>Sandover - Plenty</td>\n",
       "      <td>1</td>\n",
       "    </tr>\n",
       "    <tr>\n",
       "      <th>6125</th>\n",
       "      <td>2010</td>\n",
       "      <td>1</td>\n",
       "      <td>Property Damage Offences</td>\n",
       "      <td>Property damage offences</td>\n",
       "      <td>-</td>\n",
       "      <td>-</td>\n",
       "      <td>NT Balance</td>\n",
       "      <td>Tanami</td>\n",
       "      <td>9</td>\n",
       "    </tr>\n",
       "    <tr>\n",
       "      <th>6126</th>\n",
       "      <td>2010</td>\n",
       "      <td>1</td>\n",
       "      <td>Property Damage Offences</td>\n",
       "      <td>Property damage offences</td>\n",
       "      <td>-</td>\n",
       "      <td>-</td>\n",
       "      <td>NT Balance</td>\n",
       "      <td>Thamarrurr</td>\n",
       "      <td>9</td>\n",
       "    </tr>\n",
       "    <tr>\n",
       "      <th>6127</th>\n",
       "      <td>2010</td>\n",
       "      <td>1</td>\n",
       "      <td>Property Damage Offences</td>\n",
       "      <td>Property damage offences</td>\n",
       "      <td>-</td>\n",
       "      <td>-</td>\n",
       "      <td>NT Balance</td>\n",
       "      <td>Tiwi Islands</td>\n",
       "      <td>4</td>\n",
       "    </tr>\n",
       "    <tr>\n",
       "      <th>6128</th>\n",
       "      <td>2010</td>\n",
       "      <td>1</td>\n",
       "      <td>Property Damage Offences</td>\n",
       "      <td>Property damage offences</td>\n",
       "      <td>-</td>\n",
       "      <td>-</td>\n",
       "      <td>NT Balance</td>\n",
       "      <td>Victoria River</td>\n",
       "      <td>3</td>\n",
       "    </tr>\n",
       "    <tr>\n",
       "      <th>6129</th>\n",
       "      <td>2010</td>\n",
       "      <td>1</td>\n",
       "      <td>Property Damage Offences</td>\n",
       "      <td>Property damage offences</td>\n",
       "      <td>-</td>\n",
       "      <td>-</td>\n",
       "      <td>NT Balance</td>\n",
       "      <td>Virginia</td>\n",
       "      <td>1</td>\n",
       "    </tr>\n",
       "    <tr>\n",
       "      <th>6130</th>\n",
       "      <td>2010</td>\n",
       "      <td>1</td>\n",
       "      <td>Property Damage Offences</td>\n",
       "      <td>Property damage offences</td>\n",
       "      <td>-</td>\n",
       "      <td>-</td>\n",
       "      <td>NT Balance</td>\n",
       "      <td>Weddell</td>\n",
       "      <td>1</td>\n",
       "    </tr>\n",
       "    <tr>\n",
       "      <th>6131</th>\n",
       "      <td>2010</td>\n",
       "      <td>1</td>\n",
       "      <td>Property Damage Offences</td>\n",
       "      <td>Property damage offences</td>\n",
       "      <td>-</td>\n",
       "      <td>-</td>\n",
       "      <td>NT Balance</td>\n",
       "      <td>West Arnhem</td>\n",
       "      <td>3</td>\n",
       "    </tr>\n",
       "    <tr>\n",
       "      <th>6132</th>\n",
       "      <td>2010</td>\n",
       "      <td>1</td>\n",
       "      <td>Property Damage Offences</td>\n",
       "      <td>Property damage offences</td>\n",
       "      <td>-</td>\n",
       "      <td>-</td>\n",
       "      <td>NT Balance</td>\n",
       "      <td>Yuendumu - Anmatjere</td>\n",
       "      <td>6</td>\n",
       "    </tr>\n",
       "    <tr>\n",
       "      <th>6133</th>\n",
       "      <td>2010</td>\n",
       "      <td>1</td>\n",
       "      <td>Property Damage Offences</td>\n",
       "      <td>Property damage offences</td>\n",
       "      <td>-</td>\n",
       "      <td>-</td>\n",
       "      <td>Palmerston</td>\n",
       "      <td>-</td>\n",
       "      <td>127</td>\n",
       "    </tr>\n",
       "    <tr>\n",
       "      <th>6134</th>\n",
       "      <td>2010</td>\n",
       "      <td>1</td>\n",
       "      <td>Property Damage Offences</td>\n",
       "      <td>Property damage offences</td>\n",
       "      <td>-</td>\n",
       "      <td>-</td>\n",
       "      <td>Tennant Creek</td>\n",
       "      <td>-</td>\n",
       "      <td>37</td>\n",
       "    </tr>\n",
       "  </tbody>\n",
       "</table>\n",
       "</div>"
      ],
      "text/plain": [
       "      Year  Month number          Offence category              Offence type  \\\n",
       "6110  2010             1  Property Damage Offences  Property damage offences   \n",
       "6111  2010             1  Property Damage Offences  Property damage offences   \n",
       "6112  2010             1  Property Damage Offences  Property damage offences   \n",
       "6113  2010             1  Property Damage Offences  Property damage offences   \n",
       "6114  2010             1  Property Damage Offences  Property damage offences   \n",
       "6115  2010             1  Property Damage Offences  Property damage offences   \n",
       "6116  2010             1  Property Damage Offences  Property damage offences   \n",
       "6117  2010             1  Property Damage Offences  Property damage offences   \n",
       "6118  2010             1  Property Damage Offences  Property damage offences   \n",
       "6119  2010             1  Property Damage Offences  Property damage offences   \n",
       "6120  2010             1  Property Damage Offences  Property damage offences   \n",
       "6121  2010             1  Property Damage Offences  Property damage offences   \n",
       "6122  2010             1  Property Damage Offences  Property damage offences   \n",
       "6123  2010             1  Property Damage Offences  Property damage offences   \n",
       "6124  2010             1  Property Damage Offences  Property damage offences   \n",
       "6125  2010             1  Property Damage Offences  Property damage offences   \n",
       "6126  2010             1  Property Damage Offences  Property damage offences   \n",
       "6127  2010             1  Property Damage Offences  Property damage offences   \n",
       "6128  2010             1  Property Damage Offences  Property damage offences   \n",
       "6129  2010             1  Property Damage Offences  Property damage offences   \n",
       "6130  2010             1  Property Damage Offences  Property damage offences   \n",
       "6131  2010             1  Property Damage Offences  Property damage offences   \n",
       "6132  2010             1  Property Damage Offences  Property damage offences   \n",
       "6133  2010             1  Property Damage Offences  Property damage offences   \n",
       "6134  2010             1  Property Damage Offences  Property damage offences   \n",
       "\n",
       "     Alcohol involvement DV involvement Reporting region   \\\n",
       "6110                   -              -     Alice Springs   \n",
       "6111                   -              -            Darwin   \n",
       "6112                   -              -         Katherine   \n",
       "6113                   -              -         Nhulunbuy   \n",
       "6114                   -              -        NT Balance   \n",
       "6115                   -              -        NT Balance   \n",
       "6116                   -              -        NT Balance   \n",
       "6117                   -              -        NT Balance   \n",
       "6118                   -              -        NT Balance   \n",
       "6119                   -              -        NT Balance   \n",
       "6120                   -              -        NT Balance   \n",
       "6121                   -              -        NT Balance   \n",
       "6122                   -              -        NT Balance   \n",
       "6123                   -              -        NT Balance   \n",
       "6124                   -              -        NT Balance   \n",
       "6125                   -              -        NT Balance   \n",
       "6126                   -              -        NT Balance   \n",
       "6127                   -              -        NT Balance   \n",
       "6128                   -              -        NT Balance   \n",
       "6129                   -              -        NT Balance   \n",
       "6130                   -              -        NT Balance   \n",
       "6131                   -              -        NT Balance   \n",
       "6132                   -              -        NT Balance   \n",
       "6133                   -              -        Palmerston   \n",
       "6134                   -              -     Tennant Creek   \n",
       "\n",
       "        Statistical Area 2  Number of offences  \n",
       "6110                     -                 200  \n",
       "6111                     -                 458  \n",
       "6112                     -                  22  \n",
       "6113                     -                   6  \n",
       "6114             Alligator                  13  \n",
       "6115          Anindilyakwa                   3  \n",
       "6116                Barkly                   3  \n",
       "6117                  Daly                   2  \n",
       "6118           East Arnhem                   7  \n",
       "6119                 Elsey                   2  \n",
       "6120                  Gulf                   4  \n",
       "6121        Howard Springs                   2  \n",
       "6122            Humpty Doo                  12  \n",
       "6123   Petermann - Simpson                   4  \n",
       "6124     Sandover - Plenty                   1  \n",
       "6125                Tanami                   9  \n",
       "6126            Thamarrurr                   9  \n",
       "6127          Tiwi Islands                   4  \n",
       "6128        Victoria River                   3  \n",
       "6129              Virginia                   1  \n",
       "6130               Weddell                   1  \n",
       "6131           West Arnhem                   3  \n",
       "6132  Yuendumu - Anmatjere                   6  \n",
       "6133                     -                 127  \n",
       "6134                     -                  37  "
      ]
     },
     "execution_count": 71,
     "metadata": {},
     "output_type": "execute_result"
    }
   ],
   "source": [
    "dv_df[(dv_df['Year'] == 2010) & (dv_df['Month number'] == 1) & (dv_df['Offence category'] == 'Property Damage Offences')]"
   ]
  },
  {
   "cell_type": "code",
   "execution_count": 27,
   "id": "9a4aae29",
   "metadata": {},
   "outputs": [
    {
     "data": {
      "text/plain": [
       "(44994, 10)"
      ]
     },
     "execution_count": 27,
     "metadata": {},
     "output_type": "execute_result"
    }
   ],
   "source": [
    "dv_df.shape"
   ]
  },
  {
   "cell_type": "code",
   "execution_count": 6,
   "id": "27eaafbb",
   "metadata": {},
   "outputs": [
    {
     "name": "stdout",
     "output_type": "stream",
     "text": [
      "<class 'pandas.core.frame.DataFrame'>\n",
      "RangeIndex: 44994 entries, 0 to 44993\n",
      "Data columns (total 10 columns):\n",
      " #   Column               Non-Null Count  Dtype \n",
      "---  ------               --------------  ----- \n",
      " 0   As At                44994 non-null  object\n",
      " 1   Year                 44994 non-null  int64 \n",
      " 2   Month number         44994 non-null  int64 \n",
      " 3   Offence category     44994 non-null  object\n",
      " 4   Offence type         44994 non-null  object\n",
      " 5   Alcohol involvement  44994 non-null  object\n",
      " 6   DV involvement       44994 non-null  object\n",
      " 7   Reporting region     44994 non-null  object\n",
      " 8   Statistical Area 2   44994 non-null  object\n",
      " 9   Number of offences   44994 non-null  int64 \n",
      "dtypes: int64(3), object(7)\n",
      "memory usage: 3.4+ MB\n"
     ]
    }
   ],
   "source": [
    "dv_df.info()"
   ]
  },
  {
   "cell_type": "code",
   "execution_count": 30,
   "id": "b3dd6b8d",
   "metadata": {},
   "outputs": [],
   "source": [
    "dv_df = dv_df.drop('As At', axis = 1)"
   ]
  },
  {
   "cell_type": "code",
   "execution_count": 31,
   "id": "c8cb20fd",
   "metadata": {},
   "outputs": [
    {
     "data": {
      "text/plain": [
       "Index(['Year', 'Month number', 'Offence category', 'Offence type',\n",
       "       'Alcohol involvement', 'DV involvement', 'Reporting region ',\n",
       "       'Statistical Area 2', 'Number of offences'],\n",
       "      dtype='object')"
      ]
     },
     "execution_count": 31,
     "metadata": {},
     "output_type": "execute_result"
    }
   ],
   "source": [
    "dv_df.keys()"
   ]
  },
  {
   "cell_type": "code",
   "execution_count": 7,
   "id": "5e797bca",
   "metadata": {},
   "outputs": [
    {
     "data": {
      "text/plain": [
       "Offence category                                            \n",
       "Acts intended to cause injury                                   16411\n",
       "Commercial break-ins                                             5007\n",
       "Motor theft and related offences                                 4240\n",
       "Property Damage Offences                                         4210\n",
       "Theft and related offences (other than MV)                       4155\n",
       "House break-ins                                                  4086\n",
       "Abduction - harassment and other offences against the person     2690\n",
       "Sexual Assault and related offences                              2318\n",
       "Other Dangerous or negligent acts endangering persons            1008\n",
       "Robbery - extortion and related offences                          633\n",
       "Homicide and related Offences                                     236\n",
       "dtype: int64"
      ]
     },
     "execution_count": 7,
     "metadata": {},
     "output_type": "execute_result"
    }
   ],
   "source": [
    "dv_df[['Offence category']].value_counts()"
   ]
  },
  {
   "cell_type": "markdown",
   "id": "3850349b",
   "metadata": {},
   "source": [
    "<h1 style=\"color:blue\">Offence Category Counts</h1>\n",
    "\n",
    "<span style=\"color:blue\"> Although it is a relief that homicide and related offences have the least amount of occurences, it is quite alarming that acts intended to cause injury has the highest count among the crimes reported.</span> "
   ]
  },
  {
   "cell_type": "code",
   "execution_count": 33,
   "id": "83ff6b84",
   "metadata": {},
   "outputs": [
    {
     "data": {
      "text/plain": [
       "<AxesSubplot:ylabel='Offence category'>"
      ]
     },
     "execution_count": 33,
     "metadata": {},
     "output_type": "execute_result"
    },
    {
     "data": {
      "image/png": "[encoded data removed]",
      "text/plain": [
       "<Figure size 432x288 with 1 Axes>"
      ]
     },
     "metadata": {
      "needs_background": "light"
     },
     "output_type": "display_data"
    }
   ],
   "source": [
    "dv_df[['Offence category']].value_counts().plot(kind='barh')"
   ]
  },
  {
   "cell_type": "markdown",
   "id": "c9433923",
   "metadata": {},
   "source": [
    "<h1 style='color:blue'> Which region has the highest number of offences? </h1> \n",
    "<p style='color:blue'> The pie chart below shows that majority of the cases reported occurred in NT Balance.</p>"
   ]
  },
  {
   "cell_type": "code",
   "execution_count": 37,
   "id": "0326cd0c",
   "metadata": {},
   "outputs": [
    {
     "data": {
      "text/plain": [
       "<AxesSubplot:ylabel='Regions'>"
      ]
     },
     "execution_count": 37,
     "metadata": {},
     "output_type": "execute_result"
    },
    {
     "data": {
      "image/png": "[encoded data removed]",
      "text/plain": [
       "<Figure size 432x288 with 1 Axes>"
      ]
     },
     "metadata": {},
     "output_type": "display_data"
    }
   ],
   "source": [
    "dv_df[['Reporting region ']].value_counts().plot(kind = 'pie', ylabel='Regions')"
   ]
  },
  {
   "cell_type": "markdown",
   "id": "d90051d4",
   "metadata": {},
   "source": [
    "<p style='color: red'> There were 28,878 cases out of the total cases that were left blank. It can be assumed here that the alcohol involvement was unknown. Replace all - with Alcohol involvement unknown</p>"
   ]
  },
  {
   "cell_type": "code",
   "execution_count": 12,
   "id": "bd0acbdf",
   "metadata": {},
   "outputs": [
    {
     "data": {
      "text/plain": [
       "Alcohol involvement        \n",
       "-                              28878\n",
       "Alcohol involved                5952\n",
       "No alcohol involved             5925\n",
       "Alcohol involvement unknown     4239\n",
       "dtype: int64"
      ]
     },
     "execution_count": 12,
     "metadata": {},
     "output_type": "execute_result"
    }
   ],
   "source": [
    "dv_df[['Alcohol involvement']].value_counts()"
   ]
  },
  {
   "cell_type": "markdown",
   "id": "8a13161f",
   "metadata": {},
   "source": [
    "<p style='color: red'> There were 28,878 cases out of the total cases that were left blank. It can be assumed here that the domestic violence involvement was unknown. Replace all - with Domestic violence involvement unknown</p>"
   ]
  },
  {
   "cell_type": "code",
   "execution_count": 13,
   "id": "774d655f",
   "metadata": {},
   "outputs": [
    {
     "data": {
      "text/plain": [
       "DV involvement\n",
       "-                 28878\n",
       "DV                 8965\n",
       "Non-DV             7151\n",
       "dtype: int64"
      ]
     },
     "execution_count": 13,
     "metadata": {},
     "output_type": "execute_result"
    }
   ],
   "source": [
    "dv_df[['DV involvement']].value_counts()"
   ]
  },
  {
   "cell_type": "code",
   "execution_count": null,
   "id": "ceaa6d29",
   "metadata": {},
   "outputs": [],
   "source": []
  },
  {
   "cell_type": "code",
   "execution_count": 14,
   "id": "4e0640d8",
   "metadata": {},
   "outputs": [],
   "source": [
    "# look into crime by date\n",
    "#  look into crime by territory\n",
    "#  crime by season"
   ]
  },
  {
   "cell_type": "code",
   "execution_count": 58,
   "id": "17e14a03",
   "metadata": {},
   "outputs": [
    {
     "data": {
      "text/plain": [
       "2008    2869\n",
       "2009    3047\n",
       "2010    2995\n",
       "2011    2992\n",
       "2012    3062\n",
       "2013    3103\n",
       "2014    3114\n",
       "2015    3062\n",
       "2016    3158\n",
       "2017    3249\n",
       "2018    3255\n",
       "2019    3171\n",
       "2020    3158\n",
       "2021    3349\n",
       "2022    1410\n",
       "Name: Year, dtype: int64"
      ]
     },
     "execution_count": 58,
     "metadata": {},
     "output_type": "execute_result"
    }
   ],
   "source": [
    "dv_df['Year'].sort_values().value_counts(sort = False)"
   ]
  },
  {
   "cell_type": "code",
   "execution_count": 51,
   "id": "5e504705",
   "metadata": {},
   "outputs": [
    {
     "data": {
      "text/plain": [
       "Acts intended to cause injury                                   493\n",
       "Commercial break-ins                                            179\n",
       "House break-ins                                                 153\n",
       "Motor theft and related offences                                132\n",
       "Property Damage Offences                                        126\n",
       "Theft and related offences (other than MV)                      126\n",
       "Abduction - harassment and other offences against the person     72\n",
       "Sexual Assault and related offences                              62\n",
       "Other Dangerous or negligent acts endangering persons            32\n",
       "Robbery - extortion and related offences                         24\n",
       "Homicide and related Offences                                    11\n",
       "Name: Offence category, dtype: int64"
      ]
     },
     "execution_count": 51,
     "metadata": {},
     "output_type": "execute_result"
    }
   ],
   "source": [
    "dv_df[dv_df['Year'] == 2022]['Offence category'].value_counts()"
   ]
  },
  {
   "cell_type": "markdown",
   "id": "a87d07c4",
   "metadata": {},
   "source": [
    "<p style='color: red'> Metadata states that the number of offences fluctuate depending on season but there is not much deviation in the number of offences reported for each month from 2008 - 2022.</p>\n",
    "* Create a widget that shows bar graph per year. \n",
    "* Create bar graph with month in different colors showing crime fluctuation by month and year."
   ]
  },
  {
   "cell_type": "code",
   "execution_count": 52,
   "id": "2fb5571d",
   "metadata": {},
   "outputs": [
    {
     "data": {
      "text/plain": [
       "1    293\n",
       "2    266\n",
       "3    293\n",
       "4    282\n",
       "5    276\n",
       "Name: Month number, dtype: int64"
      ]
     },
     "execution_count": 52,
     "metadata": {},
     "output_type": "execute_result"
    }
   ],
   "source": [
    "dv_df[dv_df['Year'] == 2022]['Month number'].value_counts(sort = False)"
   ]
  },
  {
   "cell_type": "code",
   "execution_count": 53,
   "id": "e287c275",
   "metadata": {},
   "outputs": [
    {
     "data": {
      "text/plain": [
       "<AxesSubplot:>"
      ]
     },
     "execution_count": 53,
     "metadata": {},
     "output_type": "execute_result"
    },
    {
     "data": {
      "image/png": "[encoded data removed]",
      "text/plain": [
       "<Figure size 432x288 with 1 Axes>"
      ]
     },
     "metadata": {
      "needs_background": "light"
     },
     "output_type": "display_data"
    }
   ],
   "source": [
    "dv_df[dv_df['Year'] == 2022]['Month number'].value_counts(sort = False).plot(kind = 'bar')"
   ]
  },
  {
   "cell_type": "code",
   "execution_count": 55,
   "id": "0301843c",
   "metadata": {},
   "outputs": [
    {
     "data": {
      "text/plain": [
       "<AxesSubplot:>"
      ]
     },
     "execution_count": 55,
     "metadata": {},
     "output_type": "execute_result"
    },
    {
     "data": {
      "image/png": "[encoded data removed]",
      "text/plain": [
       "<Figure size 432x288 with 1 Axes>"
      ]
     },
     "metadata": {
      "needs_background": "light"
     },
     "output_type": "display_data"
    }
   ],
   "source": [
    "dv_df[dv_df['Year'] == 2021]['Month number'].value_counts(sort = False).plot(kind = 'bar')"
   ]
  },
  {
   "cell_type": "code",
   "execution_count": 56,
   "id": "05c9f1fb",
   "metadata": {},
   "outputs": [
    {
     "data": {
      "text/plain": [
       "<AxesSubplot:>"
      ]
     },
     "execution_count": 56,
     "metadata": {},
     "output_type": "execute_result"
    },
    {
     "data": {
      "image/png": "[encoded data removed]",
      "text/plain": [
       "<Figure size 432x288 with 1 Axes>"
      ]
     },
     "metadata": {
      "needs_background": "light"
     },
     "output_type": "display_data"
    }
   ],
   "source": [
    "dv_df[dv_df['Year'] == 2020]['Month number'].value_counts(sort = False).plot(kind = 'bar')"
   ]
  },
  {
   "cell_type": "code",
   "execution_count": 57,
   "id": "0ef7f2b8",
   "metadata": {},
   "outputs": [
    {
     "data": {
      "text/plain": [
       "<AxesSubplot:>"
      ]
     },
     "execution_count": 57,
     "metadata": {},
     "output_type": "execute_result"
    },
    {
     "data": {
      "image/png": "[encoded data removed]",
      "text/plain": [
       "<Figure size 432x288 with 1 Axes>"
      ]
     },
     "metadata": {
      "needs_background": "light"
     },
     "output_type": "display_data"
    }
   ],
   "source": [
    "dv_df[dv_df['Year'] == 2019]['Month number'].value_counts(sort = False).plot(kind = 'bar')"
   ]
  },
  {
   "cell_type": "code",
   "execution_count": 59,
   "id": "97c96c3c",
   "metadata": {},
   "outputs": [
    {
     "data": {
      "text/plain": [
       "<AxesSubplot:>"
      ]
     },
     "execution_count": 59,
     "metadata": {},
     "output_type": "execute_result"
    },
    {
     "data": {
      "image/png": "[encoded data removed]",
      "text/plain": [
       "<Figure size 432x288 with 1 Axes>"
      ]
     },
     "metadata": {
      "needs_background": "light"
     },
     "output_type": "display_data"
    }
   ],
   "source": [
    "dv_df[dv_df['Year'] == 2018]['Month number'].value_counts(sort = False).plot(kind = 'bar')"
   ]
  },
  {
   "cell_type": "code",
   "execution_count": 60,
   "id": "2b15f3a0",
   "metadata": {},
   "outputs": [
    {
     "data": {
      "text/plain": [
       "<AxesSubplot:>"
      ]
     },
     "execution_count": 60,
     "metadata": {},
     "output_type": "execute_result"
    },
    {
     "data": {
      "image/png": "[encoded data removed]",
      "text/plain": [
       "<Figure size 432x288 with 1 Axes>"
      ]
     },
     "metadata": {
      "needs_background": "light"
     },
     "output_type": "display_data"
    }
   ],
   "source": [
    "dv_df[dv_df['Year'] == 2017]['Month number'].value_counts(sort = False).plot(kind = 'bar')"
   ]
  },
  {
   "cell_type": "code",
   "execution_count": 62,
   "id": "c54dc5e6",
   "metadata": {},
   "outputs": [
    {
     "data": {
      "text/plain": [
       "<AxesSubplot:>"
      ]
     },
     "execution_count": 62,
     "metadata": {},
     "output_type": "execute_result"
    },
    {
     "data": {
      "image/png": "[encoded data removed]",
      "text/plain": [
       "<Figure size 432x288 with 1 Axes>"
      ]
     },
     "metadata": {
      "needs_background": "light"
     },
     "output_type": "display_data"
    }
   ],
   "source": [
    "dv_df[dv_df['Year'] == 2016]['Month number'].value_counts(sort = False).plot(kind = 'bar')"
   ]
  },
  {
   "cell_type": "code",
   "execution_count": 63,
   "id": "93d6bb7b",
   "metadata": {},
   "outputs": [
    {
     "data": {
      "text/plain": [
       "<AxesSubplot:>"
      ]
     },
     "execution_count": 63,
     "metadata": {},
     "output_type": "execute_result"
    },
    {
     "data": {
      "image/png": "[encoded data removed]",
      "text/plain": [
       "<Figure size 432x288 with 1 Axes>"
      ]
     },
     "metadata": {
      "needs_background": "light"
     },
     "output_type": "display_data"
    }
   ],
   "source": [
    "dv_df[dv_df['Year'] == 2015]['Month number'].value_counts(sort = False).plot(kind = 'bar')"
   ]
  },
  {
   "cell_type": "code",
   "execution_count": 64,
   "id": "5a774b1b",
   "metadata": {},
   "outputs": [
    {
     "data": {
      "text/plain": [
       "<AxesSubplot:>"
      ]
     },
     "execution_count": 64,
     "metadata": {},
     "output_type": "execute_result"
    },
    {
     "data": {
      "image/png": "[encoded data removed]",
      "text/plain": [
       "<Figure size 432x288 with 1 Axes>"
      ]
     },
     "metadata": {
      "needs_background": "light"
     },
     "output_type": "display_data"
    }
   ],
   "source": [
    "dv_df[dv_df['Year'] == 2014]['Month number'].value_counts(sort = False).plot(kind = 'bar')"
   ]
  },
  {
   "cell_type": "code",
   "execution_count": null,
   "id": "324c0de8",
   "metadata": {},
   "outputs": [],
   "source": []
  },
  {
   "cell_type": "code",
   "execution_count": null,
   "id": "656caee1",
   "metadata": {},
   "outputs": [],
   "source": []
  }
 ],
 "metadata": {
  "kernelspec": {
   "display_name": "Python 3 (ipykernel)",
   "language": "python",
   "name": "python3"
  },
  "language_info": {
   "codemirror_mode": {
    "name": "ipython",
    "version": 3
   },
   "file_extension": ".py",
   "mimetype": "text/x-python",
   "name": "python",
   "nbconvert_exporter": "python",
   "pygments_lexer": "ipython3",
   "version": "3.9.12"
  }
 },
 "nbformat": 4,
 "nbformat_minor": 5
}
