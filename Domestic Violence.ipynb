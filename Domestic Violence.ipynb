{
 "cells": [
  {
   "cell_type": "code",
   "execution_count": 1,
   "id": "9ee98643",
   "metadata": {},
   "outputs": [
    {
     "data": {
      "text/html": [
       "        <script type=\"text/javascript\">\n",
       "        window.PlotlyConfig = {MathJaxConfig: 'local'};\n",
       "        if (window.MathJax && window.MathJax.Hub && window.MathJax.Hub.Config) {window.MathJax.Hub.Config({SVG: {font: \"STIX-Web\"}});}\n",
       "        if (typeof require !== 'undefined') {\n",
       "        require.undef(\"plotly\");\n",
       "        requirejs.config({\n",
       "            paths: {\n",
       "                'plotly': ['https://cdn.plot.ly/plotly-2.14.0.min']\n",
       "            }\n",
       "        });\n",
       "        require(['plotly'], function(Plotly) {\n",
       "            window._Plotly = Plotly;\n",
       "        });\n",
       "        }\n",
       "        </script>\n",
       "        "
      ]
     },
     "metadata": {},
     "output_type": "display_data"
    },
    {
     "data": {
      "text/html": [
       "        <script type=\"text/javascript\">\n",
       "        window.PlotlyConfig = {MathJaxConfig: 'local'};\n",
       "        if (window.MathJax && window.MathJax.Hub && window.MathJax.Hub.Config) {window.MathJax.Hub.Config({SVG: {font: \"STIX-Web\"}});}\n",
       "        if (typeof require !== 'undefined') {\n",
       "        require.undef(\"plotly\");\n",
       "        requirejs.config({\n",
       "            paths: {\n",
       "                'plotly': ['https://cdn.plot.ly/plotly-2.14.0.min']\n",
       "            }\n",
       "        });\n",
       "        require(['plotly'], function(Plotly) {\n",
       "            window._Plotly = Plotly;\n",
       "        });\n",
       "        }\n",
       "        </script>\n",
       "        "
      ]
     },
     "metadata": {},
     "output_type": "display_data"
    }
   ],
   "source": [
    "# Standard Data Science Helpers\n",
    "import numpy as np\n",
    "import pandas as pd\n",
    "import scipy\n",
    "\n",
    "import plotly.graph_objs as go\n",
    "import plotly.graph_objects as go\n",
    "\n",
    "from ipywidgets import widgets\n",
    "\n",
    "import chart_studio.plotly as py\n",
    "\n",
    "from plotly.offline import iplot, init_notebook_mode\n",
    "init_notebook_mode(connected=True)\n",
    "\n",
    "import cufflinks as cf\n",
    "cf.go_offline(connected=True)\n",
    "cf.set_config_file(colorscale='plotly', world_readable=True)\n",
    "\n",
    "# Extra options\n",
    "pd.options.display.max_rows = 30\n",
    "pd.options.display.max_columns = 25\n",
    "\n",
    "# Show all code cells outputs\n",
    "from IPython.core.interactiveshell import InteractiveShell\n",
    "InteractiveShell.ast_node_interactivity = 'all'\n",
    "\n",
    "import os\n",
    "from IPython.display import Image, display, HTML\n",
    "\n",
    "import ipywidgets as widgets\n",
    "from ipywidgets import interact, interact_manual"
   ]
  },
  {
   "cell_type": "code",
   "execution_count": 2,
   "id": "6156d0b4",
   "metadata": {},
   "outputs": [],
   "source": [
    "nt_df = pd.read_csv('nt_crime_statistics_may_2022.csv')\n",
    "# might use Southern Australia data for comparison\n",
    "sa_df = pd.read_csv('2013-14-data_sa_crime.csv') "
   ]
  },
  {
   "cell_type": "code",
   "execution_count": 94,
   "id": "9cfcbbae",
   "metadata": {},
   "outputs": [],
   "source": [
    "nt_df.columns = [colname.strip() for colname in nt_df.columns]"
   ]
  },
  {
   "cell_type": "code",
   "execution_count": null,
   "id": "0dbc2a28",
   "metadata": {},
   "outputs": [],
   "source": [
    "#  Get longitude and latitude and concat / join "
   ]
  },
  {
   "cell_type": "code",
   "execution_count": 6,
   "id": "e1734bad",
   "metadata": {},
   "outputs": [
    {
     "data": {
      "text/html": [
       "<div>\n",
       "<style scoped>\n",
       "    .dataframe tbody tr th:only-of-type {\n",
       "        vertical-align: middle;\n",
       "    }\n",
       "\n",
       "    .dataframe tbody tr th {\n",
       "        vertical-align: top;\n",
       "    }\n",
       "\n",
       "    .dataframe thead th {\n",
       "        text-align: right;\n",
       "    }\n",
       "</style>\n",
       "<table border=\"1\" class=\"dataframe\">\n",
       "  <thead>\n",
       "    <tr style=\"text-align: right;\">\n",
       "      <th></th>\n",
       "      <th>Year</th>\n",
       "      <th>Month number</th>\n",
       "      <th>Number of offences</th>\n",
       "    </tr>\n",
       "  </thead>\n",
       "  <tbody>\n",
       "    <tr>\n",
       "      <th>count</th>\n",
       "      <td>3103.0</td>\n",
       "      <td>3103.000000</td>\n",
       "      <td>3103.000000</td>\n",
       "    </tr>\n",
       "    <tr>\n",
       "      <th>mean</th>\n",
       "      <td>2013.0</td>\n",
       "      <td>6.422172</td>\n",
       "      <td>8.638737</td>\n",
       "    </tr>\n",
       "    <tr>\n",
       "      <th>std</th>\n",
       "      <td>0.0</td>\n",
       "      <td>3.472883</td>\n",
       "      <td>23.206805</td>\n",
       "    </tr>\n",
       "    <tr>\n",
       "      <th>min</th>\n",
       "      <td>2013.0</td>\n",
       "      <td>1.000000</td>\n",
       "      <td>1.000000</td>\n",
       "    </tr>\n",
       "    <tr>\n",
       "      <th>25%</th>\n",
       "      <td>2013.0</td>\n",
       "      <td>3.000000</td>\n",
       "      <td>1.000000</td>\n",
       "    </tr>\n",
       "    <tr>\n",
       "      <th>50%</th>\n",
       "      <td>2013.0</td>\n",
       "      <td>6.000000</td>\n",
       "      <td>2.000000</td>\n",
       "    </tr>\n",
       "    <tr>\n",
       "      <th>75%</th>\n",
       "      <td>2013.0</td>\n",
       "      <td>9.000000</td>\n",
       "      <td>6.000000</td>\n",
       "    </tr>\n",
       "    <tr>\n",
       "      <th>max</th>\n",
       "      <td>2013.0</td>\n",
       "      <td>12.000000</td>\n",
       "      <td>304.000000</td>\n",
       "    </tr>\n",
       "  </tbody>\n",
       "</table>\n",
       "</div>"
      ],
      "text/plain": [
       "         Year  Month number  Number of offences\n",
       "count  3103.0   3103.000000         3103.000000\n",
       "mean   2013.0      6.422172            8.638737\n",
       "std       0.0      3.472883           23.206805\n",
       "min    2013.0      1.000000            1.000000\n",
       "25%    2013.0      3.000000            1.000000\n",
       "50%    2013.0      6.000000            2.000000\n",
       "75%    2013.0      9.000000            6.000000\n",
       "max    2013.0     12.000000          304.000000"
      ]
     },
     "execution_count": 6,
     "metadata": {},
     "output_type": "execute_result"
    }
   ],
   "source": [
    "nt_df[nt_df['Year'] == 2013].describe()"
   ]
  },
  {
   "cell_type": "markdown",
   "id": "7fdf9c68",
   "metadata": {},
   "source": [
    "[Current - Northern Territory Crime Statistics May 2022](https://data.nt.gov.au/dataset/current-northern-territory-crime-statistics-may-2022)\n",
    "\n",
    "[South Australian Government Data Directory](https://data.sa.gov.au/data/dataset/crime-statistics)"
   ]
  },
  {
   "cell_type": "markdown",
   "id": "6a60de88",
   "metadata": {},
   "source": [
    "Offences in the Northern Territory can show strong seasonal patterns, with predictable peaks and troughs at certain times of the year.  Therefore, comparisons should be made of the same months in different years, rather than consecutive months.  For trends, a 12-month rolling average or rolling sum is recommended in order to dampen the month-to-month variability and account for the seasonal cycles.\n",
    "\n",
    "Last update was July 1st 2022."
   ]
  },
  {
   "cell_type": "markdown",
   "id": "cbbe247e",
   "metadata": {},
   "source": [
    "In 2017, the governments of the UK, Germany and Canada issued travel advisories to their citizens travelling in Australia, singling out Alice Springs as a place where extra precautions should be taken: \"Take care in the town centre of Alice Springs at night. There have been a number of incidents of harassment, robberies and attacks (including sexual assault) on foreign tourists.\" (UK)."
   ]
  },
  {
   "cell_type": "markdown",
   "id": "58609c52",
   "metadata": {},
   "source": [
    "\"Foreign travellers warned about visiting Alice Springs\". The New Daily. 15 March 2017. Retrieved 9 October 2019."
   ]
  },
  {
   "cell_type": "markdown",
   "id": "b227d03d",
   "metadata": {},
   "source": [
    "Webb, Carolyn (15 March 2017). \"Foreign tourists warned on Alice Springs safety risks\". The Sydney Morning Herald. Retrieved 9 October 2019."
   ]
  },
  {
   "cell_type": "markdown",
   "id": "c24e082b",
   "metadata": {},
   "source": [
    "\"The Northern Territory is the Murder Capital of Australia.\" The Guardian. 18 June 2013.   https://www.theguardian.com/news/datablog/2013/jun/18/australia-new-crime-statistics. Retrieved 15 August 2021 "
   ]
  },
  {
   "cell_type": "markdown",
   "id": "8c11ce85",
   "metadata": {},
   "source": [
    "![Murder Capital of Australia](murder_capital.png)"
   ]
  },
  {
   "cell_type": "markdown",
   "id": "06f9fb08",
   "metadata": {},
   "source": [
    "Australia's Northern Territory has acquired quite a reputation due to *its consistently higher per capita rate for homicide and manslaughter than other Australian states and territories, as well as a high level of assaults.* ([Wikipedia](https://en.wikipedia.org/wiki/Crime_in_the_Northern_Territory)) Most of these were related to domestic violence and alcohol intake. "
   ]
  },
  {
   "cell_type": "markdown",
   "id": "8a073038",
   "metadata": {},
   "source": [
    "The headline presented above came from an article which was written for the [Guardian](https://www.theguardian.com/news/datablog/2013/jun/18/australia-new-crime-statistics) by Nick Evershed on the 18th of June in 2013. He wrote that the Northern Territory's murder and assault rates are the highest in the country. "
   ]
  },
  {
   "cell_type": "markdown",
   "id": "11cff517",
   "metadata": {},
   "source": [
    "The aim of this exploratory data analysis is to look into the crime trends in Australia's Northern territory using the Pandas dataframe and data visualization tools like MatPlotLib and Plotly. The dataset used was the most recently updated [Current - Northern Territory Crime Statistics May 2022](https://data.nt.gov.au/dataset/current-northern-territory-crime-statistics-may-2022) from the Northern Territory Government website."
   ]
  },
  {
   "cell_type": "code",
   "execution_count": 100,
   "id": "d475c6f1",
   "metadata": {},
   "outputs": [
    {
     "name": "stdout",
     "output_type": "stream",
     "text": [
      "count    44994.000000\n",
      "mean         9.346602\n",
      "std         26.984379\n",
      "min          1.000000\n",
      "25%          1.000000\n",
      "50%          3.000000\n",
      "75%          6.000000\n",
      "max        458.000000\n",
      "Name: Number of offences, dtype: float64\n"
     ]
    }
   ],
   "source": [
    "print(nt_df['Number of offences'].describe())"
   ]
  },
  {
   "cell_type": "markdown",
   "id": "adc6f768",
   "metadata": {},
   "source": [
    "<h3 style = 'color: blue'> Yearly Trend </h3>\n",
    "\n",
    "According to the source of the data, [Current - Northern Territory Crime Statistics May 2022](https://data.nt.gov.au/dataset/current-northern-territory-crime-statistics-may-2022), the *offences in the Northern Territory can show **strong seasonal patterns, with predictable peaks and troughs at certain times of the year.**  Therefore, comparisons should be made of the same months in different years, rather than consecutive months.  For trends, a 12-month rolling average or rolling sum is recommended in order to dampen the month-to-month variability and account for the seasonal cycles.*"
   ]
  },
  {
   "cell_type": "code",
   "execution_count": 208,
   "id": "e5353fb3",
   "metadata": {},
   "outputs": [
    {
     "data": {
      "application/vnd.jupyter.widget-view+json": {
       "model_id": "c84bd699146249d5be48ec528f39e783",
       "version_major": 2,
       "version_minor": 0
      },
      "text/plain": [
       "interactive(children=(IntSlider(value=2015, description='Year', max=2022, min=2008), Output()), _dom_classes=(…"
      ]
     },
     "metadata": {},
     "output_type": "display_data"
    }
   ],
   "source": [
    "@interact\n",
    "def show_yearly_crime_count(Year=(2008, 2022, 1)):\n",
    "    display_sum = nt_df[nt_df['Year']==Year].groupby('Month number')['Number of offences'].sum()\n",
    "    display_mean = nt_df[nt_df['Year']==Year].groupby('Month number')['Number of offences'].sum().mean()\n",
    "    display_variance = display_sum - display_mean\n",
    "    yearly_count = pd.DataFrame(display_sum)\n",
    "    yearly_count['Mean'] = display_mean\n",
    "    yearly_count['Variance'] = display_variance \n",
    "    yearly_count['Percent Variance'] = display_variance / display_mean * 100\n",
    "    \n",
    "    if len(yearly_count.index) > 5:\n",
    "        yearly_count.index = ['Jan', 'Feb', 'March', 'April', 'May', 'June', 'July', 'Aug', 'Sept', 'Oct', 'Nov', 'Dec']\n",
    "    else:\n",
    "        yearly_count.index = ['Jan', 'Feb', 'March', 'April', 'May']\n",
    "\n",
    "    yearly_count.iplot(kind='bar',\n",
    "                       barmode='group', \n",
    "                       title=f'Number of Offences, Mean & Variance For Each Month in {Year}'\n",
    "                      )\n"
   ]
  },
  {
   "cell_type": "code",
   "execution_count": 185,
   "id": "c1394d22",
   "metadata": {},
   "outputs": [
    {
     "name": "stdout",
     "output_type": "stream",
     "text": [
      "Month number\n",
      "1     2906\n",
      "2     2637\n",
      "3     2588\n",
      "4     2718\n",
      "5     2556\n",
      "6     2146\n",
      "7     2481\n",
      "8     2428\n",
      "9     2511\n",
      "10    2529\n",
      "11    2478\n",
      "12    2570\n",
      "Name: Number of offences, dtype: int64\n",
      "2545.6666666666665\n"
     ]
    },
    {
     "data": {
      "text/html": [
       "<div>\n",
       "<style scoped>\n",
       "    .dataframe tbody tr th:only-of-type {\n",
       "        vertical-align: middle;\n",
       "    }\n",
       "\n",
       "    .dataframe tbody tr th {\n",
       "        vertical-align: top;\n",
       "    }\n",
       "\n",
       "    .dataframe thead th {\n",
       "        text-align: right;\n",
       "    }\n",
       "</style>\n",
       "<table border=\"1\" class=\"dataframe\">\n",
       "  <thead>\n",
       "    <tr style=\"text-align: right;\">\n",
       "      <th></th>\n",
       "      <th>Number of offences</th>\n",
       "      <th>Median</th>\n",
       "    </tr>\n",
       "    <tr>\n",
       "      <th>Month number</th>\n",
       "      <th></th>\n",
       "      <th></th>\n",
       "    </tr>\n",
       "  </thead>\n",
       "  <tbody>\n",
       "    <tr>\n",
       "      <th>1</th>\n",
       "      <td>2906</td>\n",
       "      <td>2545.666667</td>\n",
       "    </tr>\n",
       "    <tr>\n",
       "      <th>2</th>\n",
       "      <td>2637</td>\n",
       "      <td>2545.666667</td>\n",
       "    </tr>\n",
       "    <tr>\n",
       "      <th>3</th>\n",
       "      <td>2588</td>\n",
       "      <td>2545.666667</td>\n",
       "    </tr>\n",
       "    <tr>\n",
       "      <th>4</th>\n",
       "      <td>2718</td>\n",
       "      <td>2545.666667</td>\n",
       "    </tr>\n",
       "    <tr>\n",
       "      <th>5</th>\n",
       "      <td>2556</td>\n",
       "      <td>2545.666667</td>\n",
       "    </tr>\n",
       "    <tr>\n",
       "      <th>6</th>\n",
       "      <td>2146</td>\n",
       "      <td>2545.666667</td>\n",
       "    </tr>\n",
       "    <tr>\n",
       "      <th>7</th>\n",
       "      <td>2481</td>\n",
       "      <td>2545.666667</td>\n",
       "    </tr>\n",
       "    <tr>\n",
       "      <th>8</th>\n",
       "      <td>2428</td>\n",
       "      <td>2545.666667</td>\n",
       "    </tr>\n",
       "    <tr>\n",
       "      <th>9</th>\n",
       "      <td>2511</td>\n",
       "      <td>2545.666667</td>\n",
       "    </tr>\n",
       "    <tr>\n",
       "      <th>10</th>\n",
       "      <td>2529</td>\n",
       "      <td>2545.666667</td>\n",
       "    </tr>\n",
       "    <tr>\n",
       "      <th>11</th>\n",
       "      <td>2478</td>\n",
       "      <td>2545.666667</td>\n",
       "    </tr>\n",
       "    <tr>\n",
       "      <th>12</th>\n",
       "      <td>2570</td>\n",
       "      <td>2545.666667</td>\n",
       "    </tr>\n",
       "  </tbody>\n",
       "</table>\n",
       "</div>"
      ],
      "text/plain": [
       "              Number of offences       Median\n",
       "Month number                                 \n",
       "1                           2906  2545.666667\n",
       "2                           2637  2545.666667\n",
       "3                           2588  2545.666667\n",
       "4                           2718  2545.666667\n",
       "5                           2556  2545.666667\n",
       "6                           2146  2545.666667\n",
       "7                           2481  2545.666667\n",
       "8                           2428  2545.666667\n",
       "9                           2511  2545.666667\n",
       "10                          2529  2545.666667\n",
       "11                          2478  2545.666667\n",
       "12                          2570  2545.666667"
      ]
     },
     "execution_count": 185,
     "metadata": {},
     "output_type": "execute_result"
    }
   ],
   "source": [
    "display_sum = nt_df[nt_df['Year']==2018].groupby('Month number')['Number of offences'].sum()\n",
    "print(display_sum)\n",
    "display_mean = nt_df[nt_df['Year']==2018].groupby('Month number')['Number of offences'].sum().mean()\n",
    "print(display_mean)\n",
    "yearly_count = pd.DataFrame(display_sum)\n",
    "yearly_count['Mean'] = display_mean\n",
    "yearly_count"
   ]
  },
  {
   "cell_type": "code",
   "execution_count": 147,
   "id": "b37ad2dc",
   "metadata": {},
   "outputs": [
    {
     "data": {
      "application/vnd.jupyter.widget-view+json": {
       "model_id": "c91afd446fae4e9b97374eaa3d7cd019",
       "version_major": 2,
       "version_minor": 0
      },
      "text/plain": [
       "interactive(children=(IntSlider(value=2015, description='Year', max=2022, min=2008), Output()), _dom_classes=(…"
      ]
     },
     "metadata": {},
     "output_type": "display_data"
    }
   ],
   "source": [
    "@interact\n",
    "def show_yearly_crime_count(Year=(2008, 2022, 1)):\n",
    "    display(HTML(f'<h2 style=\"color:purple\"> Number of Offences Per Month in {Year} <h2>'))\n",
    "    year_month_df[year_df.index == 2008].iplot(kind='bar', \n",
    "                                       xTitle = 'Month', \n",
    "                                       yTitle = 'Number of Offences')"
   ]
  },
  {
   "cell_type": "code",
   "execution_count": 107,
   "id": "91fa43f6",
   "metadata": {},
   "outputs": [
    {
     "data": {
      "application/vnd.jupyter.widget-view+json": {
       "model_id": "61014b6243b94e56b939fe6d867a200b",
       "version_major": 2,
       "version_minor": 0
      },
      "text/plain": [
       "interactive(children=(Dropdown(description='Month', options=(('January', 1), ('February', 2), ('March', 3), ('…"
      ]
     },
     "metadata": {},
     "output_type": "display_data"
    }
   ],
   "source": [
    "@interact\n",
    "def show_monthly_crime_count(Month=[('January', 1), ('February', 2), ('March', 3), ('April', 4), ('May', 5), ('June', 6), ('July', 7), ('August', 8), ('September', 9), ('October', 10), ('November', 11), ('December', 12)]):\n",
    "    display(HTML(f'<h2 style=\"color:purple\"> Number of Offences Per Month Grouped By Year from 2008 to 2022 <h2>'))\n",
    "    nt_df[nt_df['Month number'] == Month].groupby('Year')['Number of offences'].sum().iplot(kind='bar', \n",
    "                                       xTitle = 'Year', \n",
    "                                       yTitle = 'Number of Offences')\n"
   ]
  },
  {
   "cell_type": "code",
   "execution_count": 113,
   "id": "ec6e2227",
   "metadata": {},
   "outputs": [],
   "source": [
    "year_month_df = pd.DataFrame(nt_df.groupby(['Year', 'Month number']).agg({'Number of offences': ['mean', 'min', 'max', 'sum']}))"
   ]
  },
  {
   "cell_type": "code",
   "execution_count": 115,
   "id": "08b022d8",
   "metadata": {},
   "outputs": [
    {
     "data": {
      "text/html": [
       "<div>\n",
       "<style scoped>\n",
       "    .dataframe tbody tr th:only-of-type {\n",
       "        vertical-align: middle;\n",
       "    }\n",
       "\n",
       "    .dataframe tbody tr th {\n",
       "        vertical-align: top;\n",
       "    }\n",
       "\n",
       "    .dataframe thead tr th {\n",
       "        text-align: left;\n",
       "    }\n",
       "\n",
       "    .dataframe thead tr:last-of-type th {\n",
       "        text-align: right;\n",
       "    }\n",
       "</style>\n",
       "<table border=\"1\" class=\"dataframe\">\n",
       "  <thead>\n",
       "    <tr>\n",
       "      <th></th>\n",
       "      <th></th>\n",
       "      <th colspan=\"4\" halign=\"left\">Number of offences</th>\n",
       "    </tr>\n",
       "    <tr>\n",
       "      <th></th>\n",
       "      <th></th>\n",
       "      <th>mean</th>\n",
       "      <th>min</th>\n",
       "      <th>max</th>\n",
       "      <th>sum</th>\n",
       "    </tr>\n",
       "    <tr>\n",
       "      <th>Year</th>\n",
       "      <th>Month number</th>\n",
       "      <th></th>\n",
       "      <th></th>\n",
       "      <th></th>\n",
       "      <th></th>\n",
       "    </tr>\n",
       "  </thead>\n",
       "  <tbody>\n",
       "    <tr>\n",
       "      <th rowspan=\"5\" valign=\"top\">2008</th>\n",
       "      <th>1</th>\n",
       "      <td>9.718876</td>\n",
       "      <td>1</td>\n",
       "      <td>340</td>\n",
       "      <td>2420</td>\n",
       "    </tr>\n",
       "    <tr>\n",
       "      <th>2</th>\n",
       "      <td>10.155462</td>\n",
       "      <td>1</td>\n",
       "      <td>333</td>\n",
       "      <td>2417</td>\n",
       "    </tr>\n",
       "    <tr>\n",
       "      <th>3</th>\n",
       "      <td>11.385281</td>\n",
       "      <td>1</td>\n",
       "      <td>392</td>\n",
       "      <td>2630</td>\n",
       "    </tr>\n",
       "    <tr>\n",
       "      <th>4</th>\n",
       "      <td>10.373494</td>\n",
       "      <td>1</td>\n",
       "      <td>360</td>\n",
       "      <td>2583</td>\n",
       "    </tr>\n",
       "    <tr>\n",
       "      <th>5</th>\n",
       "      <td>9.425000</td>\n",
       "      <td>1</td>\n",
       "      <td>316</td>\n",
       "      <td>2262</td>\n",
       "    </tr>\n",
       "  </tbody>\n",
       "</table>\n",
       "</div>"
      ],
      "text/plain": [
       "                  Number of offences               \n",
       "                                mean min  max   sum\n",
       "Year Month number                                  \n",
       "2008 1                      9.718876   1  340  2420\n",
       "     2                     10.155462   1  333  2417\n",
       "     3                     11.385281   1  392  2630\n",
       "     4                     10.373494   1  360  2583\n",
       "     5                      9.425000   1  316  2262"
      ]
     },
     "execution_count": 115,
     "metadata": {},
     "output_type": "execute_result"
    }
   ],
   "source": [
    "year_month_df.head()"
   ]
  },
  {
   "cell_type": "code",
   "execution_count": 142,
   "id": "85caed63",
   "metadata": {},
   "outputs": [],
   "source": [
    "year_df = pd.DataFrame(nt_df.groupby('Year').agg({'Number of offences': ['mean', 'min', 'max', 'sum']}))"
   ]
  },
  {
   "cell_type": "code",
   "execution_count": 119,
   "id": "19d868e8",
   "metadata": {},
   "outputs": [
    {
     "data": {
      "text/html": [
       "<div>\n",
       "<style scoped>\n",
       "    .dataframe tbody tr th:only-of-type {\n",
       "        vertical-align: middle;\n",
       "    }\n",
       "\n",
       "    .dataframe tbody tr th {\n",
       "        vertical-align: top;\n",
       "    }\n",
       "\n",
       "    .dataframe thead tr th {\n",
       "        text-align: left;\n",
       "    }\n",
       "\n",
       "    .dataframe thead tr:last-of-type th {\n",
       "        text-align: right;\n",
       "    }\n",
       "</style>\n",
       "<table border=\"1\" class=\"dataframe\">\n",
       "  <thead>\n",
       "    <tr>\n",
       "      <th></th>\n",
       "      <th colspan=\"4\" halign=\"left\">Number of offences</th>\n",
       "    </tr>\n",
       "    <tr>\n",
       "      <th></th>\n",
       "      <th>mean</th>\n",
       "      <th>min</th>\n",
       "      <th>max</th>\n",
       "      <th>sum</th>\n",
       "    </tr>\n",
       "    <tr>\n",
       "      <th>Year</th>\n",
       "      <th></th>\n",
       "      <th></th>\n",
       "      <th></th>\n",
       "      <th></th>\n",
       "    </tr>\n",
       "  </thead>\n",
       "  <tbody>\n",
       "    <tr>\n",
       "      <th>2008</th>\n",
       "      <td>9.991983</td>\n",
       "      <td>1</td>\n",
       "      <td>392</td>\n",
       "      <td>28667</td>\n",
       "    </tr>\n",
       "    <tr>\n",
       "      <th>2009</th>\n",
       "      <td>9.383984</td>\n",
       "      <td>1</td>\n",
       "      <td>347</td>\n",
       "      <td>28593</td>\n",
       "    </tr>\n",
       "    <tr>\n",
       "      <th>2010</th>\n",
       "      <td>10.196327</td>\n",
       "      <td>1</td>\n",
       "      <td>458</td>\n",
       "      <td>30538</td>\n",
       "    </tr>\n",
       "    <tr>\n",
       "      <th>2011</th>\n",
       "      <td>9.118316</td>\n",
       "      <td>1</td>\n",
       "      <td>319</td>\n",
       "      <td>27282</td>\n",
       "    </tr>\n",
       "    <tr>\n",
       "      <th>2012</th>\n",
       "      <td>9.679295</td>\n",
       "      <td>1</td>\n",
       "      <td>312</td>\n",
       "      <td>29638</td>\n",
       "    </tr>\n",
       "    <tr>\n",
       "      <th>2013</th>\n",
       "      <td>8.638737</td>\n",
       "      <td>1</td>\n",
       "      <td>304</td>\n",
       "      <td>26806</td>\n",
       "    </tr>\n",
       "    <tr>\n",
       "      <th>2014</th>\n",
       "      <td>8.883751</td>\n",
       "      <td>1</td>\n",
       "      <td>313</td>\n",
       "      <td>27664</td>\n",
       "    </tr>\n",
       "    <tr>\n",
       "      <th>2015</th>\n",
       "      <td>8.928805</td>\n",
       "      <td>1</td>\n",
       "      <td>359</td>\n",
       "      <td>27340</td>\n",
       "    </tr>\n",
       "    <tr>\n",
       "      <th>2016</th>\n",
       "      <td>8.994934</td>\n",
       "      <td>1</td>\n",
       "      <td>306</td>\n",
       "      <td>28406</td>\n",
       "    </tr>\n",
       "    <tr>\n",
       "      <th>2017</th>\n",
       "      <td>9.199754</td>\n",
       "      <td>1</td>\n",
       "      <td>290</td>\n",
       "      <td>29890</td>\n",
       "    </tr>\n",
       "    <tr>\n",
       "      <th>2018</th>\n",
       "      <td>9.384946</td>\n",
       "      <td>1</td>\n",
       "      <td>311</td>\n",
       "      <td>30548</td>\n",
       "    </tr>\n",
       "    <tr>\n",
       "      <th>2019</th>\n",
       "      <td>9.097761</td>\n",
       "      <td>1</td>\n",
       "      <td>304</td>\n",
       "      <td>28849</td>\n",
       "    </tr>\n",
       "    <tr>\n",
       "      <th>2020</th>\n",
       "      <td>8.893920</td>\n",
       "      <td>1</td>\n",
       "      <td>297</td>\n",
       "      <td>28087</td>\n",
       "    </tr>\n",
       "    <tr>\n",
       "      <th>2021</th>\n",
       "      <td>9.787698</td>\n",
       "      <td>1</td>\n",
       "      <td>346</td>\n",
       "      <td>32779</td>\n",
       "    </tr>\n",
       "    <tr>\n",
       "      <th>2022</th>\n",
       "      <td>10.960284</td>\n",
       "      <td>1</td>\n",
       "      <td>320</td>\n",
       "      <td>15454</td>\n",
       "    </tr>\n",
       "  </tbody>\n",
       "</table>\n",
       "</div>"
      ],
      "text/plain": [
       "     Number of offences                \n",
       "                   mean min  max    sum\n",
       "Year                                   \n",
       "2008           9.991983   1  392  28667\n",
       "2009           9.383984   1  347  28593\n",
       "2010          10.196327   1  458  30538\n",
       "2011           9.118316   1  319  27282\n",
       "2012           9.679295   1  312  29638\n",
       "2013           8.638737   1  304  26806\n",
       "2014           8.883751   1  313  27664\n",
       "2015           8.928805   1  359  27340\n",
       "2016           8.994934   1  306  28406\n",
       "2017           9.199754   1  290  29890\n",
       "2018           9.384946   1  311  30548\n",
       "2019           9.097761   1  304  28849\n",
       "2020           8.893920   1  297  28087\n",
       "2021           9.787698   1  346  32779\n",
       "2022          10.960284   1  320  15454"
      ]
     },
     "execution_count": 119,
     "metadata": {},
     "output_type": "execute_result"
    }
   ],
   "source": [
    "year_df"
   ]
  },
  {
   "cell_type": "code",
   "execution_count": 129,
   "id": "98cdde11",
   "metadata": {},
   "outputs": [
    {
     "data": {
      "text/plain": [
       "MultiIndex([('Number of offences', 'mean'),\n",
       "            ('Number of offences',  'min'),\n",
       "            ('Number of offences',  'max'),\n",
       "            ('Number of offences',  'sum')],\n",
       "           )"
      ]
     },
     "execution_count": 129,
     "metadata": {},
     "output_type": "execute_result"
    }
   ],
   "source": [
    "year_df.keys()"
   ]
  },
  {
   "cell_type": "code",
   "execution_count": 132,
   "id": "8576c985",
   "metadata": {},
   "outputs": [
    {
     "data": {
      "text/plain": [
       "Int64Index([2008, 2009, 2010, 2011, 2012, 2013, 2014, 2015, 2016, 2017, 2018,\n",
       "            2019, 2020, 2021, 2022],\n",
       "           dtype='int64', name='Year')"
      ]
     },
     "execution_count": 132,
     "metadata": {},
     "output_type": "execute_result"
    }
   ],
   "source": [
    "year_df.index"
   ]
  },
  {
   "cell_type": "code",
   "execution_count": 138,
   "id": "27000dd2",
   "metadata": {},
   "outputs": [
    {
     "data": {
      "text/html": [
       "<div>\n",
       "<style scoped>\n",
       "    .dataframe tbody tr th:only-of-type {\n",
       "        vertical-align: middle;\n",
       "    }\n",
       "\n",
       "    .dataframe tbody tr th {\n",
       "        vertical-align: top;\n",
       "    }\n",
       "\n",
       "    .dataframe thead tr th {\n",
       "        text-align: left;\n",
       "    }\n",
       "\n",
       "    .dataframe thead tr:last-of-type th {\n",
       "        text-align: right;\n",
       "    }\n",
       "</style>\n",
       "<table border=\"1\" class=\"dataframe\">\n",
       "  <thead>\n",
       "    <tr>\n",
       "      <th></th>\n",
       "      <th colspan=\"4\" halign=\"left\">Number of offences</th>\n",
       "    </tr>\n",
       "    <tr>\n",
       "      <th></th>\n",
       "      <th>mean</th>\n",
       "      <th>min</th>\n",
       "      <th>max</th>\n",
       "      <th>sum</th>\n",
       "    </tr>\n",
       "    <tr>\n",
       "      <th>Year</th>\n",
       "      <th></th>\n",
       "      <th></th>\n",
       "      <th></th>\n",
       "      <th></th>\n",
       "    </tr>\n",
       "  </thead>\n",
       "  <tbody>\n",
       "    <tr>\n",
       "      <th>2008</th>\n",
       "      <td>9.991983</td>\n",
       "      <td>1</td>\n",
       "      <td>392</td>\n",
       "      <td>28667</td>\n",
       "    </tr>\n",
       "  </tbody>\n",
       "</table>\n",
       "</div>"
      ],
      "text/plain": [
       "     Number of offences                \n",
       "                   mean min  max    sum\n",
       "Year                                   \n",
       "2008           9.991983   1  392  28667"
      ]
     },
     "execution_count": 138,
     "metadata": {},
     "output_type": "execute_result"
    }
   ],
   "source": [
    "year_df[year_df.index == 2008]"
   ]
  },
  {
   "cell_type": "code",
   "execution_count": null,
   "id": "1996eb36",
   "metadata": {},
   "outputs": [],
   "source": []
  },
  {
   "cell_type": "markdown",
   "id": "f6e5fc03",
   "metadata": {},
   "source": [
    "<p style='color: red'> The number of offences is the number of offences recorded per region per statistical area. The highest number of offences ever recorded is 458 property damage offences in Darwin in January 2010. </p>\n",
    "\n",
    "* group together reporting region and statistical area.\n",
    "* statistical area with maximum offences\n",
    "* look into the type of offence prevalent in statistical area.\n",
    "* look into the maximum offences per region."
   ]
  },
  {
   "cell_type": "code",
   "execution_count": 10,
   "id": "cf0a6cc6",
   "metadata": {},
   "outputs": [
    {
     "data": {
      "text/html": [
       "<div>\n",
       "<style scoped>\n",
       "    .dataframe tbody tr th:only-of-type {\n",
       "        vertical-align: middle;\n",
       "    }\n",
       "\n",
       "    .dataframe tbody tr th {\n",
       "        vertical-align: top;\n",
       "    }\n",
       "\n",
       "    .dataframe thead th {\n",
       "        text-align: right;\n",
       "    }\n",
       "</style>\n",
       "<table border=\"1\" class=\"dataframe\">\n",
       "  <thead>\n",
       "    <tr style=\"text-align: right;\">\n",
       "      <th></th>\n",
       "      <th>As At</th>\n",
       "      <th>Year</th>\n",
       "      <th>Month number</th>\n",
       "      <th>Offence category</th>\n",
       "      <th>Offence type</th>\n",
       "      <th>Alcohol involvement</th>\n",
       "      <th>DV involvement</th>\n",
       "      <th>Reporting region</th>\n",
       "      <th>Statistical Area 2</th>\n",
       "      <th>Number of offences</th>\n",
       "    </tr>\n",
       "  </thead>\n",
       "  <tbody>\n",
       "    <tr>\n",
       "      <th>6111</th>\n",
       "      <td>1/07/2022</td>\n",
       "      <td>2010</td>\n",
       "      <td>1</td>\n",
       "      <td>Property Damage Offences</td>\n",
       "      <td>Property damage offences</td>\n",
       "      <td>-</td>\n",
       "      <td>-</td>\n",
       "      <td>Darwin</td>\n",
       "      <td>-</td>\n",
       "      <td>458</td>\n",
       "    </tr>\n",
       "  </tbody>\n",
       "</table>\n",
       "</div>"
      ],
      "text/plain": [
       "          As At  Year  Month number          Offence category  \\\n",
       "6111  1/07/2022  2010             1  Property Damage Offences   \n",
       "\n",
       "                  Offence type Alcohol involvement DV involvement  \\\n",
       "6111  Property damage offences                   -              -   \n",
       "\n",
       "     Reporting region  Statistical Area 2  Number of offences  \n",
       "6111            Darwin                  -                 458  "
      ]
     },
     "execution_count": 10,
     "metadata": {},
     "output_type": "execute_result"
    }
   ],
   "source": [
    "nt_df[nt_df['Number of offences'] == 458]"
   ]
  },
  {
   "cell_type": "code",
   "execution_count": 11,
   "id": "75de536a",
   "metadata": {},
   "outputs": [
    {
     "data": {
      "text/html": [
       "<div>\n",
       "<style scoped>\n",
       "    .dataframe tbody tr th:only-of-type {\n",
       "        vertical-align: middle;\n",
       "    }\n",
       "\n",
       "    .dataframe tbody tr th {\n",
       "        vertical-align: top;\n",
       "    }\n",
       "\n",
       "    .dataframe thead th {\n",
       "        text-align: right;\n",
       "    }\n",
       "</style>\n",
       "<table border=\"1\" class=\"dataframe\">\n",
       "  <thead>\n",
       "    <tr style=\"text-align: right;\">\n",
       "      <th></th>\n",
       "      <th>As At</th>\n",
       "      <th>Year</th>\n",
       "      <th>Month number</th>\n",
       "      <th>Offence category</th>\n",
       "      <th>Offence type</th>\n",
       "      <th>Alcohol involvement</th>\n",
       "      <th>DV involvement</th>\n",
       "      <th>Reporting region</th>\n",
       "      <th>Statistical Area 2</th>\n",
       "      <th>Number of offences</th>\n",
       "    </tr>\n",
       "  </thead>\n",
       "  <tbody>\n",
       "    <tr>\n",
       "      <th>6110</th>\n",
       "      <td>1/07/2022</td>\n",
       "      <td>2010</td>\n",
       "      <td>1</td>\n",
       "      <td>Property Damage Offences</td>\n",
       "      <td>Property damage offences</td>\n",
       "      <td>-</td>\n",
       "      <td>-</td>\n",
       "      <td>Alice Springs</td>\n",
       "      <td>-</td>\n",
       "      <td>200</td>\n",
       "    </tr>\n",
       "    <tr>\n",
       "      <th>6111</th>\n",
       "      <td>1/07/2022</td>\n",
       "      <td>2010</td>\n",
       "      <td>1</td>\n",
       "      <td>Property Damage Offences</td>\n",
       "      <td>Property damage offences</td>\n",
       "      <td>-</td>\n",
       "      <td>-</td>\n",
       "      <td>Darwin</td>\n",
       "      <td>-</td>\n",
       "      <td>458</td>\n",
       "    </tr>\n",
       "    <tr>\n",
       "      <th>6112</th>\n",
       "      <td>1/07/2022</td>\n",
       "      <td>2010</td>\n",
       "      <td>1</td>\n",
       "      <td>Property Damage Offences</td>\n",
       "      <td>Property damage offences</td>\n",
       "      <td>-</td>\n",
       "      <td>-</td>\n",
       "      <td>Katherine</td>\n",
       "      <td>-</td>\n",
       "      <td>22</td>\n",
       "    </tr>\n",
       "    <tr>\n",
       "      <th>6113</th>\n",
       "      <td>1/07/2022</td>\n",
       "      <td>2010</td>\n",
       "      <td>1</td>\n",
       "      <td>Property Damage Offences</td>\n",
       "      <td>Property damage offences</td>\n",
       "      <td>-</td>\n",
       "      <td>-</td>\n",
       "      <td>Nhulunbuy</td>\n",
       "      <td>-</td>\n",
       "      <td>6</td>\n",
       "    </tr>\n",
       "    <tr>\n",
       "      <th>6114</th>\n",
       "      <td>1/07/2022</td>\n",
       "      <td>2010</td>\n",
       "      <td>1</td>\n",
       "      <td>Property Damage Offences</td>\n",
       "      <td>Property damage offences</td>\n",
       "      <td>-</td>\n",
       "      <td>-</td>\n",
       "      <td>NT Balance</td>\n",
       "      <td>Alligator</td>\n",
       "      <td>13</td>\n",
       "    </tr>\n",
       "    <tr>\n",
       "      <th>6115</th>\n",
       "      <td>1/07/2022</td>\n",
       "      <td>2010</td>\n",
       "      <td>1</td>\n",
       "      <td>Property Damage Offences</td>\n",
       "      <td>Property damage offences</td>\n",
       "      <td>-</td>\n",
       "      <td>-</td>\n",
       "      <td>NT Balance</td>\n",
       "      <td>Anindilyakwa</td>\n",
       "      <td>3</td>\n",
       "    </tr>\n",
       "    <tr>\n",
       "      <th>6116</th>\n",
       "      <td>1/07/2022</td>\n",
       "      <td>2010</td>\n",
       "      <td>1</td>\n",
       "      <td>Property Damage Offences</td>\n",
       "      <td>Property damage offences</td>\n",
       "      <td>-</td>\n",
       "      <td>-</td>\n",
       "      <td>NT Balance</td>\n",
       "      <td>Barkly</td>\n",
       "      <td>3</td>\n",
       "    </tr>\n",
       "    <tr>\n",
       "      <th>6117</th>\n",
       "      <td>1/07/2022</td>\n",
       "      <td>2010</td>\n",
       "      <td>1</td>\n",
       "      <td>Property Damage Offences</td>\n",
       "      <td>Property damage offences</td>\n",
       "      <td>-</td>\n",
       "      <td>-</td>\n",
       "      <td>NT Balance</td>\n",
       "      <td>Daly</td>\n",
       "      <td>2</td>\n",
       "    </tr>\n",
       "    <tr>\n",
       "      <th>6118</th>\n",
       "      <td>1/07/2022</td>\n",
       "      <td>2010</td>\n",
       "      <td>1</td>\n",
       "      <td>Property Damage Offences</td>\n",
       "      <td>Property damage offences</td>\n",
       "      <td>-</td>\n",
       "      <td>-</td>\n",
       "      <td>NT Balance</td>\n",
       "      <td>East Arnhem</td>\n",
       "      <td>7</td>\n",
       "    </tr>\n",
       "    <tr>\n",
       "      <th>6119</th>\n",
       "      <td>1/07/2022</td>\n",
       "      <td>2010</td>\n",
       "      <td>1</td>\n",
       "      <td>Property Damage Offences</td>\n",
       "      <td>Property damage offences</td>\n",
       "      <td>-</td>\n",
       "      <td>-</td>\n",
       "      <td>NT Balance</td>\n",
       "      <td>Elsey</td>\n",
       "      <td>2</td>\n",
       "    </tr>\n",
       "    <tr>\n",
       "      <th>6120</th>\n",
       "      <td>1/07/2022</td>\n",
       "      <td>2010</td>\n",
       "      <td>1</td>\n",
       "      <td>Property Damage Offences</td>\n",
       "      <td>Property damage offences</td>\n",
       "      <td>-</td>\n",
       "      <td>-</td>\n",
       "      <td>NT Balance</td>\n",
       "      <td>Gulf</td>\n",
       "      <td>4</td>\n",
       "    </tr>\n",
       "    <tr>\n",
       "      <th>6121</th>\n",
       "      <td>1/07/2022</td>\n",
       "      <td>2010</td>\n",
       "      <td>1</td>\n",
       "      <td>Property Damage Offences</td>\n",
       "      <td>Property damage offences</td>\n",
       "      <td>-</td>\n",
       "      <td>-</td>\n",
       "      <td>NT Balance</td>\n",
       "      <td>Howard Springs</td>\n",
       "      <td>2</td>\n",
       "    </tr>\n",
       "    <tr>\n",
       "      <th>6122</th>\n",
       "      <td>1/07/2022</td>\n",
       "      <td>2010</td>\n",
       "      <td>1</td>\n",
       "      <td>Property Damage Offences</td>\n",
       "      <td>Property damage offences</td>\n",
       "      <td>-</td>\n",
       "      <td>-</td>\n",
       "      <td>NT Balance</td>\n",
       "      <td>Humpty Doo</td>\n",
       "      <td>12</td>\n",
       "    </tr>\n",
       "    <tr>\n",
       "      <th>6123</th>\n",
       "      <td>1/07/2022</td>\n",
       "      <td>2010</td>\n",
       "      <td>1</td>\n",
       "      <td>Property Damage Offences</td>\n",
       "      <td>Property damage offences</td>\n",
       "      <td>-</td>\n",
       "      <td>-</td>\n",
       "      <td>NT Balance</td>\n",
       "      <td>Petermann - Simpson</td>\n",
       "      <td>4</td>\n",
       "    </tr>\n",
       "    <tr>\n",
       "      <th>6124</th>\n",
       "      <td>1/07/2022</td>\n",
       "      <td>2010</td>\n",
       "      <td>1</td>\n",
       "      <td>Property Damage Offences</td>\n",
       "      <td>Property damage offences</td>\n",
       "      <td>-</td>\n",
       "      <td>-</td>\n",
       "      <td>NT Balance</td>\n",
       "      <td>Sandover - Plenty</td>\n",
       "      <td>1</td>\n",
       "    </tr>\n",
       "    <tr>\n",
       "      <th>6125</th>\n",
       "      <td>1/07/2022</td>\n",
       "      <td>2010</td>\n",
       "      <td>1</td>\n",
       "      <td>Property Damage Offences</td>\n",
       "      <td>Property damage offences</td>\n",
       "      <td>-</td>\n",
       "      <td>-</td>\n",
       "      <td>NT Balance</td>\n",
       "      <td>Tanami</td>\n",
       "      <td>9</td>\n",
       "    </tr>\n",
       "    <tr>\n",
       "      <th>6126</th>\n",
       "      <td>1/07/2022</td>\n",
       "      <td>2010</td>\n",
       "      <td>1</td>\n",
       "      <td>Property Damage Offences</td>\n",
       "      <td>Property damage offences</td>\n",
       "      <td>-</td>\n",
       "      <td>-</td>\n",
       "      <td>NT Balance</td>\n",
       "      <td>Thamarrurr</td>\n",
       "      <td>9</td>\n",
       "    </tr>\n",
       "    <tr>\n",
       "      <th>6127</th>\n",
       "      <td>1/07/2022</td>\n",
       "      <td>2010</td>\n",
       "      <td>1</td>\n",
       "      <td>Property Damage Offences</td>\n",
       "      <td>Property damage offences</td>\n",
       "      <td>-</td>\n",
       "      <td>-</td>\n",
       "      <td>NT Balance</td>\n",
       "      <td>Tiwi Islands</td>\n",
       "      <td>4</td>\n",
       "    </tr>\n",
       "    <tr>\n",
       "      <th>6128</th>\n",
       "      <td>1/07/2022</td>\n",
       "      <td>2010</td>\n",
       "      <td>1</td>\n",
       "      <td>Property Damage Offences</td>\n",
       "      <td>Property damage offences</td>\n",
       "      <td>-</td>\n",
       "      <td>-</td>\n",
       "      <td>NT Balance</td>\n",
       "      <td>Victoria River</td>\n",
       "      <td>3</td>\n",
       "    </tr>\n",
       "    <tr>\n",
       "      <th>6129</th>\n",
       "      <td>1/07/2022</td>\n",
       "      <td>2010</td>\n",
       "      <td>1</td>\n",
       "      <td>Property Damage Offences</td>\n",
       "      <td>Property damage offences</td>\n",
       "      <td>-</td>\n",
       "      <td>-</td>\n",
       "      <td>NT Balance</td>\n",
       "      <td>Virginia</td>\n",
       "      <td>1</td>\n",
       "    </tr>\n",
       "    <tr>\n",
       "      <th>6130</th>\n",
       "      <td>1/07/2022</td>\n",
       "      <td>2010</td>\n",
       "      <td>1</td>\n",
       "      <td>Property Damage Offences</td>\n",
       "      <td>Property damage offences</td>\n",
       "      <td>-</td>\n",
       "      <td>-</td>\n",
       "      <td>NT Balance</td>\n",
       "      <td>Weddell</td>\n",
       "      <td>1</td>\n",
       "    </tr>\n",
       "    <tr>\n",
       "      <th>6131</th>\n",
       "      <td>1/07/2022</td>\n",
       "      <td>2010</td>\n",
       "      <td>1</td>\n",
       "      <td>Property Damage Offences</td>\n",
       "      <td>Property damage offences</td>\n",
       "      <td>-</td>\n",
       "      <td>-</td>\n",
       "      <td>NT Balance</td>\n",
       "      <td>West Arnhem</td>\n",
       "      <td>3</td>\n",
       "    </tr>\n",
       "    <tr>\n",
       "      <th>6132</th>\n",
       "      <td>1/07/2022</td>\n",
       "      <td>2010</td>\n",
       "      <td>1</td>\n",
       "      <td>Property Damage Offences</td>\n",
       "      <td>Property damage offences</td>\n",
       "      <td>-</td>\n",
       "      <td>-</td>\n",
       "      <td>NT Balance</td>\n",
       "      <td>Yuendumu - Anmatjere</td>\n",
       "      <td>6</td>\n",
       "    </tr>\n",
       "    <tr>\n",
       "      <th>6133</th>\n",
       "      <td>1/07/2022</td>\n",
       "      <td>2010</td>\n",
       "      <td>1</td>\n",
       "      <td>Property Damage Offences</td>\n",
       "      <td>Property damage offences</td>\n",
       "      <td>-</td>\n",
       "      <td>-</td>\n",
       "      <td>Palmerston</td>\n",
       "      <td>-</td>\n",
       "      <td>127</td>\n",
       "    </tr>\n",
       "    <tr>\n",
       "      <th>6134</th>\n",
       "      <td>1/07/2022</td>\n",
       "      <td>2010</td>\n",
       "      <td>1</td>\n",
       "      <td>Property Damage Offences</td>\n",
       "      <td>Property damage offences</td>\n",
       "      <td>-</td>\n",
       "      <td>-</td>\n",
       "      <td>Tennant Creek</td>\n",
       "      <td>-</td>\n",
       "      <td>37</td>\n",
       "    </tr>\n",
       "  </tbody>\n",
       "</table>\n",
       "</div>"
      ],
      "text/plain": [
       "          As At  Year  Month number          Offence category  \\\n",
       "6110  1/07/2022  2010             1  Property Damage Offences   \n",
       "6111  1/07/2022  2010             1  Property Damage Offences   \n",
       "6112  1/07/2022  2010             1  Property Damage Offences   \n",
       "6113  1/07/2022  2010             1  Property Damage Offences   \n",
       "6114  1/07/2022  2010             1  Property Damage Offences   \n",
       "6115  1/07/2022  2010             1  Property Damage Offences   \n",
       "6116  1/07/2022  2010             1  Property Damage Offences   \n",
       "6117  1/07/2022  2010             1  Property Damage Offences   \n",
       "6118  1/07/2022  2010             1  Property Damage Offences   \n",
       "6119  1/07/2022  2010             1  Property Damage Offences   \n",
       "6120  1/07/2022  2010             1  Property Damage Offences   \n",
       "6121  1/07/2022  2010             1  Property Damage Offences   \n",
       "6122  1/07/2022  2010             1  Property Damage Offences   \n",
       "6123  1/07/2022  2010             1  Property Damage Offences   \n",
       "6124  1/07/2022  2010             1  Property Damage Offences   \n",
       "6125  1/07/2022  2010             1  Property Damage Offences   \n",
       "6126  1/07/2022  2010             1  Property Damage Offences   \n",
       "6127  1/07/2022  2010             1  Property Damage Offences   \n",
       "6128  1/07/2022  2010             1  Property Damage Offences   \n",
       "6129  1/07/2022  2010             1  Property Damage Offences   \n",
       "6130  1/07/2022  2010             1  Property Damage Offences   \n",
       "6131  1/07/2022  2010             1  Property Damage Offences   \n",
       "6132  1/07/2022  2010             1  Property Damage Offences   \n",
       "6133  1/07/2022  2010             1  Property Damage Offences   \n",
       "6134  1/07/2022  2010             1  Property Damage Offences   \n",
       "\n",
       "                  Offence type Alcohol involvement DV involvement  \\\n",
       "6110  Property damage offences                   -              -   \n",
       "6111  Property damage offences                   -              -   \n",
       "6112  Property damage offences                   -              -   \n",
       "6113  Property damage offences                   -              -   \n",
       "6114  Property damage offences                   -              -   \n",
       "6115  Property damage offences                   -              -   \n",
       "6116  Property damage offences                   -              -   \n",
       "6117  Property damage offences                   -              -   \n",
       "6118  Property damage offences                   -              -   \n",
       "6119  Property damage offences                   -              -   \n",
       "6120  Property damage offences                   -              -   \n",
       "6121  Property damage offences                   -              -   \n",
       "6122  Property damage offences                   -              -   \n",
       "6123  Property damage offences                   -              -   \n",
       "6124  Property damage offences                   -              -   \n",
       "6125  Property damage offences                   -              -   \n",
       "6126  Property damage offences                   -              -   \n",
       "6127  Property damage offences                   -              -   \n",
       "6128  Property damage offences                   -              -   \n",
       "6129  Property damage offences                   -              -   \n",
       "6130  Property damage offences                   -              -   \n",
       "6131  Property damage offences                   -              -   \n",
       "6132  Property damage offences                   -              -   \n",
       "6133  Property damage offences                   -              -   \n",
       "6134  Property damage offences                   -              -   \n",
       "\n",
       "     Reporting region     Statistical Area 2  Number of offences  \n",
       "6110     Alice Springs                     -                 200  \n",
       "6111            Darwin                     -                 458  \n",
       "6112         Katherine                     -                  22  \n",
       "6113         Nhulunbuy                     -                   6  \n",
       "6114        NT Balance             Alligator                  13  \n",
       "6115        NT Balance          Anindilyakwa                   3  \n",
       "6116        NT Balance                Barkly                   3  \n",
       "6117        NT Balance                  Daly                   2  \n",
       "6118        NT Balance           East Arnhem                   7  \n",
       "6119        NT Balance                 Elsey                   2  \n",
       "6120        NT Balance                  Gulf                   4  \n",
       "6121        NT Balance        Howard Springs                   2  \n",
       "6122        NT Balance            Humpty Doo                  12  \n",
       "6123        NT Balance   Petermann - Simpson                   4  \n",
       "6124        NT Balance     Sandover - Plenty                   1  \n",
       "6125        NT Balance                Tanami                   9  \n",
       "6126        NT Balance            Thamarrurr                   9  \n",
       "6127        NT Balance          Tiwi Islands                   4  \n",
       "6128        NT Balance        Victoria River                   3  \n",
       "6129        NT Balance              Virginia                   1  \n",
       "6130        NT Balance               Weddell                   1  \n",
       "6131        NT Balance           West Arnhem                   3  \n",
       "6132        NT Balance  Yuendumu - Anmatjere                   6  \n",
       "6133        Palmerston                     -                 127  \n",
       "6134     Tennant Creek                     -                  37  "
      ]
     },
     "execution_count": 11,
     "metadata": {},
     "output_type": "execute_result"
    }
   ],
   "source": [
    "nt_df[(nt_df['Year'] == 2010) & (nt_df['Month number'] == 1) & \n",
    "      (nt_df['Offence category'] == 'Property Damage Offences')]"
   ]
  },
  {
   "cell_type": "code",
   "execution_count": 12,
   "id": "9a4aae29",
   "metadata": {},
   "outputs": [
    {
     "data": {
      "text/plain": [
       "(44994, 10)"
      ]
     },
     "execution_count": 12,
     "metadata": {},
     "output_type": "execute_result"
    }
   ],
   "source": [
    "nt_df.shape"
   ]
  },
  {
   "cell_type": "code",
   "execution_count": 13,
   "id": "27eaafbb",
   "metadata": {},
   "outputs": [
    {
     "name": "stdout",
     "output_type": "stream",
     "text": [
      "<class 'pandas.core.frame.DataFrame'>\n",
      "RangeIndex: 44994 entries, 0 to 44993\n",
      "Data columns (total 10 columns):\n",
      " #   Column               Non-Null Count  Dtype \n",
      "---  ------               --------------  ----- \n",
      " 0   As At                44994 non-null  object\n",
      " 1   Year                 44994 non-null  int64 \n",
      " 2   Month number         44994 non-null  int64 \n",
      " 3   Offence category     44994 non-null  object\n",
      " 4   Offence type         44994 non-null  object\n",
      " 5   Alcohol involvement  44994 non-null  object\n",
      " 6   DV involvement       44994 non-null  object\n",
      " 7   Reporting region     44994 non-null  object\n",
      " 8   Statistical Area 2   44994 non-null  object\n",
      " 9   Number of offences   44994 non-null  int64 \n",
      "dtypes: int64(3), object(7)\n",
      "memory usage: 3.4+ MB\n"
     ]
    }
   ],
   "source": [
    "nt_df.info()"
   ]
  },
  {
   "cell_type": "code",
   "execution_count": 14,
   "id": "b3dd6b8d",
   "metadata": {},
   "outputs": [],
   "source": [
    "nt_df = nt_df.drop('As At', axis = 1)"
   ]
  },
  {
   "cell_type": "code",
   "execution_count": 95,
   "id": "c8cb20fd",
   "metadata": {},
   "outputs": [
    {
     "data": {
      "text/plain": [
       "Index(['Year', 'Month number', 'Offence category', 'Offence type',\n",
       "       'Alcohol involvement', 'DV involvement', 'Reporting region',\n",
       "       'Statistical Area 2', 'Number of offences'],\n",
       "      dtype='object')"
      ]
     },
     "execution_count": 95,
     "metadata": {},
     "output_type": "execute_result"
    }
   ],
   "source": [
    "nt_df.keys()"
   ]
  },
  {
   "cell_type": "markdown",
   "id": "3850349b",
   "metadata": {},
   "source": [
    "<h1 style=\"color:blue\">Offence Category Counts</h1>\n",
    "\n",
    "<span style=\"color:blue\"> Although it is a relief that homicide and related offences have the least amount of occurences, it is quite alarming that acts intended to cause injury has the highest count among the crimes reported.</span> "
   ]
  },
  {
   "cell_type": "code",
   "execution_count": 16,
   "id": "6ca4dc55",
   "metadata": {},
   "outputs": [
    {
     "data": {
      "text/plain": [
       "Offence category\n",
       "Abduction - harassment and other offences against the person      5027\n",
       "Acts intended to cause injury                                   102739\n",
       "Commercial break-ins                                             29600\n",
       "Homicide and related Offences                                      248\n",
       "House break-ins                                                  29496\n",
       "Motor theft and related offences                                 29486\n",
       "Other Dangerous or negligent acts endangering persons             1787\n",
       "Property Damage Offences                                        108292\n",
       "Robbery - extortion and related offences                          1809\n",
       "Sexual Assault and related offences                               6248\n",
       "Theft and related offences (other than MV)                      105809\n",
       "Name: Number of offences, dtype: int64"
      ]
     },
     "execution_count": 16,
     "metadata": {},
     "output_type": "execute_result"
    }
   ],
   "source": [
    "nt_df.groupby('Offence category')['Number of offences'].sum()"
   ]
  },
  {
   "cell_type": "code",
   "execution_count": 102,
   "id": "5e504705",
   "metadata": {},
   "outputs": [
    {
     "data": {
      "application/vnd.jupyter.widget-view+json": {
       "model_id": "56c1c6e2908d4f4091c525cdd914b809",
       "version_major": 2,
       "version_minor": 0
      },
      "text/plain": [
       "interactive(children=(Dropdown(description='Region', options=('Alice Springs', 'NT Balance', 'Tennant Creek', …"
      ]
     },
     "metadata": {},
     "output_type": "display_data"
    }
   ],
   "source": [
    "@interact\n",
    "def show_offences_per_reporting_region(Region = list(nt_df['Reporting region'].unique())):\n",
    "    display(HTML(f'<h2 style =\"color:purple\"> Offences in {Region} from 2008 - 2022 <h2>'))\n",
    "    nt_df[nt_df['Reporting region'] == Region].groupby('Offence category')['Number of offences'].sum().iplot(kind = 'barh',\n",
    "                                                                                                             xTitle = 'Month', \n",
    "                                                                                                             yTitle = 'Number of Offences')"
   ]
  },
  {
   "cell_type": "code",
   "execution_count": null,
   "id": "08bcf1a2",
   "metadata": {},
   "outputs": [],
   "source": [
    "@interact\n",
    "def show_offences_per_reporting_region(Region = list(nt_df['Reporting region'].unique())):\n",
    "    display(HTML(f'<h2 style =\"color:purple\"> Number of Offences in {Region} from 2008 - 2022 <h2>'))\n",
    "    nt_df[nt_df['Reporting region'] == Region].groupby('Offence category')['Number of offences'].sum().iplot(kind = 'barh',\n",
    "                                                                                                             xTitle = 'Month', \n",
    "                                                                                                             yTitle = 'Number of Offences')"
   ]
  },
  {
   "cell_type": "code",
   "execution_count": 18,
   "id": "a1445408",
   "metadata": {},
   "outputs": [
    {
     "data": {
      "text/plain": [
       "<AxesSubplot:ylabel='Offence category'>"
      ]
     },
     "execution_count": 18,
     "metadata": {},
     "output_type": "execute_result"
    },
    {
     "data": {
      "image/png": "[encoded data removed]",
      "text/plain": [
       "<Figure size 432x288 with 1 Axes>"
      ]
     },
     "metadata": {
      "needs_background": "light"
     },
     "output_type": "display_data"
    }
   ],
   "source": [
    "nt_df.groupby('Offence category')['Number of offences'].sum().plot(kind = 'barh')"
   ]
  },
  {
   "cell_type": "code",
   "execution_count": 24,
   "id": "0bd618a6",
   "metadata": {},
   "outputs": [
    {
     "data": {
      "text/plain": [
       "<AxesSubplot:ylabel='Offence category'>"
      ]
     },
     "execution_count": 24,
     "metadata": {},
     "output_type": "execute_result"
    },
    {
     "data": {
      "image/png": "[encoded data removed]",
      "text/plain": [
       "<Figure size 432x288 with 1 Axes>"
      ]
     },
     "metadata": {
      "needs_background": "light"
     },
     "output_type": "display_data"
    }
   ],
   "source": [
    "nt_df[nt_df['Year'] == 2013].groupby('Offence category')['Number of offences'].sum().plot(kind = 'barh')"
   ]
  },
  {
   "cell_type": "code",
   "execution_count": null,
   "id": "0b335b4c",
   "metadata": {},
   "outputs": [],
   "source": [
    "nt_df.groupby('Offence category')['Number of offences'].sum()"
   ]
  },
  {
   "cell_type": "markdown",
   "id": "c9433923",
   "metadata": {},
   "source": [
    "<h1 style='color:blue'> Which region has the highest number of offences? </h1> \n",
    "<p style='color:blue'> The pie chart below shows that majority of the cases reported occurred in NT Balance.</p>"
   ]
  },
  {
   "cell_type": "code",
   "execution_count": null,
   "id": "ab98626b",
   "metadata": {},
   "outputs": [],
   "source": [
    "nt_df[nt_df['Offence category'] == 'Homicide and related Offences'].groupby('Reporting region ')['Number of offences'].sum()"
   ]
  },
  {
   "cell_type": "code",
   "execution_count": null,
   "id": "93a88bf2",
   "metadata": {},
   "outputs": [],
   "source": [
    "nt_df[dv_df['Offence category'] == 'Homicide and related Offences'].groupby(\n",
    "    'Reporting region ')['Number of offences'].sum().plot(kind = \"pie\", \n",
    "                                                          figsize=(20,10), \n",
    "                                                          autopct='%1.1f%%')"
   ]
  },
  {
   "cell_type": "markdown",
   "id": "d90051d4",
   "metadata": {},
   "source": [
    "<p style='color: red'> There were 28,878 cases out of the total cases that were left blank. It can be assumed here that the alcohol involvement was unknown. Replace all - with Alcohol involvement unknown</p>"
   ]
  },
  {
   "cell_type": "code",
   "execution_count": 35,
   "id": "bd0acbdf",
   "metadata": {},
   "outputs": [
    {
     "data": {
      "text/plain": [
       "Alcohol involvement\n",
       "-                              318173\n",
       "Alcohol involved                56349\n",
       "Alcohol involvement unknown     19642\n",
       "No alcohol involved             26377\n",
       "Name: Number of offences, dtype: int64"
      ]
     },
     "execution_count": 35,
     "metadata": {},
     "output_type": "execute_result"
    }
   ],
   "source": [
    "nt_df.groupby('Alcohol involvement')['Number of offences'].sum()"
   ]
  },
  {
   "cell_type": "markdown",
   "id": "8a13161f",
   "metadata": {},
   "source": [
    "<p style='color: red'> There were 28,878 cases out of the total cases that were left blank. It can be assumed here that the domestic violence involvement was unknown. Replace all - with Domestic violence involvement unknown</p>"
   ]
  },
  {
   "cell_type": "code",
   "execution_count": 36,
   "id": "774d655f",
   "metadata": {},
   "outputs": [
    {
     "data": {
      "text/plain": [
       "DV involvement\n",
       "-         318173\n",
       "DV         59546\n",
       "Non-DV     42822\n",
       "Name: Number of offences, dtype: int64"
      ]
     },
     "execution_count": 36,
     "metadata": {},
     "output_type": "execute_result"
    }
   ],
   "source": [
    "nt_df.groupby('DV involvement')['Number of offences'].sum()"
   ]
  },
  {
   "cell_type": "code",
   "execution_count": null,
   "id": "4e0640d8",
   "metadata": {},
   "outputs": [],
   "source": [
    "# look into crime by date\n",
    "#  look into crime by territory\n",
    "#  crime by season"
   ]
  },
  {
   "cell_type": "code",
   "execution_count": 59,
   "id": "17e14a03",
   "metadata": {},
   "outputs": [
    {
     "data": {
      "text/plain": [
       "Year\n",
       "2008    28667\n",
       "2009    28593\n",
       "2010    30538\n",
       "2011    27282\n",
       "2012    29638\n",
       "2013    26806\n",
       "2014    27664\n",
       "2015    27340\n",
       "2016    28406\n",
       "2017    29890\n",
       "2018    30548\n",
       "2019    28849\n",
       "2020    28087\n",
       "2021    32779\n",
       "2022    15454\n",
       "Name: Number of offences, dtype: int64"
      ]
     },
     "execution_count": 59,
     "metadata": {},
     "output_type": "execute_result"
    }
   ],
   "source": [
    "nt_df.groupby('Year')['Number of offences'].sum()"
   ]
  },
  {
   "cell_type": "code",
   "execution_count": 64,
   "id": "e58c5239",
   "metadata": {},
   "outputs": [
    {
     "data": {
      "text/plain": [
       "<AxesSubplot:xlabel='Year'>"
      ]
     },
     "execution_count": 64,
     "metadata": {},
     "output_type": "execute_result"
    },
    {
     "data": {
      "image/png": "[encoded data removed]",
      "text/plain": [
       "<Figure size 432x288 with 1 Axes>"
      ]
     },
     "metadata": {
      "needs_background": "light"
     },
     "output_type": "display_data"
    }
   ],
   "source": [
    "nt_df[nt_df['Month number'] == 1].groupby(['Year'])['Number of offences'].sum().plot(kind = 'bar')"
   ]
  },
  {
   "cell_type": "code",
   "execution_count": null,
   "id": "d8b4fc61",
   "metadata": {},
   "outputs": [],
   "source": []
  },
  {
   "cell_type": "code",
   "execution_count": null,
   "id": "ce35b32c",
   "metadata": {},
   "outputs": [],
   "source": [
    "dv_df[dv_df['Offence category'] == 'Abduction - harassment and other offences against the person']['Number of offences'].sum()"
   ]
  },
  {
   "cell_type": "markdown",
   "id": "a87d07c4",
   "metadata": {},
   "source": [
    "<p style='color: red'> Metadata states that the number of offences fluctuate depending on season but there is not much deviation in the number of offences reported for each month from 2008 - 2022.</p>\n",
    "* Create a widget that shows bar graph per year. \n",
    "* Create bar graph with month in different colors showing crime fluctuation by month and year."
   ]
  },
  {
   "cell_type": "code",
   "execution_count": null,
   "id": "e287c275",
   "metadata": {},
   "outputs": [],
   "source": [
    "nt_df[nt_df['Year'] == 2022].groupby('Month number')['Number of offences'].sum()"
   ]
  },
  {
   "cell_type": "code",
   "execution_count": null,
   "id": "d838d4f5",
   "metadata": {},
   "outputs": [],
   "source": [
    "nt_df[nt_df['Year'] == 2022].groupby('Month number')['Number of offences'].sum().plot(kind = 'bar')"
   ]
  },
  {
   "cell_type": "code",
   "execution_count": null,
   "id": "0301843c",
   "metadata": {},
   "outputs": [],
   "source": [
    "nt_df[nt_df['Year'] == 2021].groupby('Month number')['Number of offences'].sum().plot(kind = 'bar')"
   ]
  },
  {
   "cell_type": "code",
   "execution_count": null,
   "id": "05c9f1fb",
   "metadata": {},
   "outputs": [],
   "source": [
    "nt_df[nt_df['Year'] == 2020].groupby('Month number')['Number of offences'].sum().plot(kind = 'bar')"
   ]
  },
  {
   "cell_type": "code",
   "execution_count": null,
   "id": "0ef7f2b8",
   "metadata": {},
   "outputs": [],
   "source": [
    "nt_df[nt_df['Year'] == 2019].groupby('Month number')['Number of offences'].sum().plot(kind = 'bar')"
   ]
  },
  {
   "cell_type": "code",
   "execution_count": 22,
   "id": "97c96c3c",
   "metadata": {},
   "outputs": [
    {
     "data": {
      "text/plain": [
       "Month number\n",
       "1     2906\n",
       "2     2637\n",
       "3     2588\n",
       "4     2718\n",
       "5     2556\n",
       "6     2146\n",
       "7     2481\n",
       "8     2428\n",
       "9     2511\n",
       "10    2529\n",
       "11    2478\n",
       "12    2570\n",
       "Name: Number of offences, dtype: int64"
      ]
     },
     "execution_count": 22,
     "metadata": {},
     "output_type": "execute_result"
    }
   ],
   "source": [
    "nt_df[nt_df['Year'] == 2018].groupby('Month number')['Number of offences'].sum()"
   ]
  },
  {
   "cell_type": "code",
   "execution_count": null,
   "id": "2b15f3a0",
   "metadata": {},
   "outputs": [],
   "source": [
    "nt_df[nt_df['Year'] == 2017].groupby('Month number')['Number of offences'].sum().plot(kind = 'bar')"
   ]
  },
  {
   "cell_type": "code",
   "execution_count": null,
   "id": "c54dc5e6",
   "metadata": {},
   "outputs": [],
   "source": [
    "nt_df[nt_df['Year'] == 2016].groupby('Month number')['Number of offences'].sum().plot(kind = 'bar')"
   ]
  },
  {
   "cell_type": "code",
   "execution_count": null,
   "id": "93d6bb7b",
   "metadata": {},
   "outputs": [],
   "source": [
    "nt_df[nt_df['Year'] == 2015].groupby('Month number')['Number of offences'].sum().plot(kind = 'bar')"
   ]
  },
  {
   "cell_type": "code",
   "execution_count": null,
   "id": "5a774b1b",
   "metadata": {},
   "outputs": [],
   "source": [
    "nt_df[nt_df['Year'] == 2014].groupby('Month number')['Number of offences'].sum().plot(kind = 'bar')"
   ]
  },
  {
   "cell_type": "code",
   "execution_count": null,
   "id": "656caee1",
   "metadata": {},
   "outputs": [],
   "source": [
    "nt_df['Year'].unique()"
   ]
  },
  {
   "cell_type": "code",
   "execution_count": null,
   "id": "22082ef4",
   "metadata": {},
   "outputs": [],
   "source": [
    "nt_df[(nt_df['Year'] == 2013) & (nt_df['Reporting region '] == 'Alice Springs')].groupby('Offence category')['Number of offences'].sum()"
   ]
  },
  {
   "cell_type": "code",
   "execution_count": null,
   "id": "318891ad",
   "metadata": {},
   "outputs": [],
   "source": [
    "nt_df[nt_df['Year'] == 2022].groupby('Month number')['Number of offences'].sum()"
   ]
  },
  {
   "cell_type": "code",
   "execution_count": null,
   "id": "6077f87a",
   "metadata": {},
   "outputs": [],
   "source": []
  },
  {
   "cell_type": "code",
   "execution_count": null,
   "id": "c8f36a65",
   "metadata": {},
   "outputs": [],
   "source": [
    "# data.columns = [colname.strip() for colname in data.columns]"
   ]
  }
 ],
 "metadata": {
  "kernelspec": {
   "display_name": "Python 3 (ipykernel)",
   "language": "python",
   "name": "python3"
  },
  "language_info": {
   "codemirror_mode": {
    "name": "ipython",
    "version": 3
   },
   "file_extension": ".py",
   "mimetype": "text/x-python",
   "name": "python",
   "nbconvert_exporter": "python",
   "pygments_lexer": "ipython3",
   "version": "3.9.12"
  }
 },
 "nbformat": 4,
 "nbformat_minor": 5
}
