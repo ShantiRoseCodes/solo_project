{
 "cells": [
  {
   "cell_type": "code",
   "execution_count": 1,
   "id": "9ee98643",
   "metadata": {},
   "outputs": [
    {
     "data": {
      "text/html": [
       "        <script type=\"text/javascript\">\n",
       "        window.PlotlyConfig = {MathJaxConfig: 'local'};\n",
       "        if (window.MathJax && window.MathJax.Hub && window.MathJax.Hub.Config) {window.MathJax.Hub.Config({SVG: {font: \"STIX-Web\"}});}\n",
       "        if (typeof require !== 'undefined') {\n",
       "        require.undef(\"plotly\");\n",
       "        requirejs.config({\n",
       "            paths: {\n",
       "                'plotly': ['https://cdn.plot.ly/plotly-2.14.0.min']\n",
       "            }\n",
       "        });\n",
       "        require(['plotly'], function(Plotly) {\n",
       "            window._Plotly = Plotly;\n",
       "        });\n",
       "        }\n",
       "        </script>\n",
       "        "
      ]
     },
     "metadata": {},
     "output_type": "display_data"
    },
    {
     "data": {
      "text/html": [
       "        <script type=\"text/javascript\">\n",
       "        window.PlotlyConfig = {MathJaxConfig: 'local'};\n",
       "        if (window.MathJax && window.MathJax.Hub && window.MathJax.Hub.Config) {window.MathJax.Hub.Config({SVG: {font: \"STIX-Web\"}});}\n",
       "        if (typeof require !== 'undefined') {\n",
       "        require.undef(\"plotly\");\n",
       "        requirejs.config({\n",
       "            paths: {\n",
       "                'plotly': ['https://cdn.plot.ly/plotly-2.14.0.min']\n",
       "            }\n",
       "        });\n",
       "        require(['plotly'], function(Plotly) {\n",
       "            window._Plotly = Plotly;\n",
       "        });\n",
       "        }\n",
       "        </script>\n",
       "        "
      ]
     },
     "metadata": {},
     "output_type": "display_data"
    }
   ],
   "source": [
    "# Standard Data Science Helpers\n",
    "import numpy as np\n",
    "import pandas as pd\n",
    "import scipy\n",
    "\n",
    "import plotly.graph_objs as go\n",
    "import plotly.graph_objects as go\n",
    "\n",
    "from ipywidgets import widgets\n",
    "\n",
    "import chart_studio.plotly as py\n",
    "\n",
    "from plotly.offline import iplot, init_notebook_mode\n",
    "init_notebook_mode(connected=True)\n",
    "\n",
    "import cufflinks as cf\n",
    "cf.go_offline(connected=True)\n",
    "cf.set_config_file(colorscale='plotly', world_readable=True)\n",
    "\n",
    "# Extra options\n",
    "pd.options.display.max_rows = 30\n",
    "pd.options.display.max_columns = 25\n",
    "\n",
    "# Show all code cells outputs\n",
    "from IPython.core.interactiveshell import InteractiveShell\n",
    "InteractiveShell.ast_node_interactivity = 'all'\n",
    "\n",
    "import os\n",
    "from IPython.display import Image, display, HTML\n",
    "\n",
    "import ipywidgets as widgets\n",
    "from ipywidgets import interact, interact_manual"
   ]
  },
  {
   "cell_type": "code",
   "execution_count": 2,
   "id": "6156d0b4",
   "metadata": {},
   "outputs": [],
   "source": [
    "nt_df = pd.read_csv('nt_crime_statistics_may_2022.csv')\n",
    "# might use Southern Australia data for comparison\n",
    "sa_df = pd.read_csv('2013-14-data_sa_crime.csv') "
   ]
  },
  {
   "cell_type": "code",
   "execution_count": 3,
   "id": "fb98fde1",
   "metadata": {},
   "outputs": [
    {
     "data": {
      "text/html": [
       "<div>\n",
       "<style scoped>\n",
       "    .dataframe tbody tr th:only-of-type {\n",
       "        vertical-align: middle;\n",
       "    }\n",
       "\n",
       "    .dataframe tbody tr th {\n",
       "        vertical-align: top;\n",
       "    }\n",
       "\n",
       "    .dataframe thead th {\n",
       "        text-align: right;\n",
       "    }\n",
       "</style>\n",
       "<table border=\"1\" class=\"dataframe\">\n",
       "  <thead>\n",
       "    <tr style=\"text-align: right;\">\n",
       "      <th></th>\n",
       "      <th>Reported Date</th>\n",
       "      <th>Suburb - Incident</th>\n",
       "      <th>Postcode - Incident</th>\n",
       "      <th>Offence Level 1 Description</th>\n",
       "      <th>Offence Level 2 Description</th>\n",
       "      <th>Offence Level 3 Description</th>\n",
       "      <th>Offence count</th>\n",
       "    </tr>\n",
       "  </thead>\n",
       "  <tbody>\n",
       "    <tr>\n",
       "      <th>0</th>\n",
       "      <td>1/07/2013</td>\n",
       "      <td>ABERFOYLE PARK</td>\n",
       "      <td>5159</td>\n",
       "      <td>OFFENCES AGAINST PROPERTY</td>\n",
       "      <td>SERIOUS CRIMINAL TRESPASS</td>\n",
       "      <td>SCT - Non Residence</td>\n",
       "      <td>1.0</td>\n",
       "    </tr>\n",
       "    <tr>\n",
       "      <th>1</th>\n",
       "      <td>1/07/2013</td>\n",
       "      <td>ADELAIDE</td>\n",
       "      <td>5000</td>\n",
       "      <td>OFFENCES AGAINST PROPERTY</td>\n",
       "      <td>PROPERTY DAMAGE AND ENVIRONMENTAL</td>\n",
       "      <td>Graffiti</td>\n",
       "      <td>2.0</td>\n",
       "    </tr>\n",
       "    <tr>\n",
       "      <th>2</th>\n",
       "      <td>1/07/2013</td>\n",
       "      <td>ADELAIDE</td>\n",
       "      <td>5000</td>\n",
       "      <td>OFFENCES AGAINST PROPERTY</td>\n",
       "      <td>PROPERTY DAMAGE AND ENVIRONMENTAL</td>\n",
       "      <td>Other property damage and environmental</td>\n",
       "      <td>2.0</td>\n",
       "    </tr>\n",
       "    <tr>\n",
       "      <th>3</th>\n",
       "      <td>1/07/2013</td>\n",
       "      <td>ADELAIDE</td>\n",
       "      <td>5000</td>\n",
       "      <td>OFFENCES AGAINST PROPERTY</td>\n",
       "      <td>SERIOUS CRIMINAL TRESPASS</td>\n",
       "      <td>SCT - Non Residence</td>\n",
       "      <td>1.0</td>\n",
       "    </tr>\n",
       "    <tr>\n",
       "      <th>4</th>\n",
       "      <td>1/07/2013</td>\n",
       "      <td>ADELAIDE</td>\n",
       "      <td>5000</td>\n",
       "      <td>OFFENCES AGAINST PROPERTY</td>\n",
       "      <td>THEFT AND RELATED OFFENCES</td>\n",
       "      <td>Other theft</td>\n",
       "      <td>3.0</td>\n",
       "    </tr>\n",
       "  </tbody>\n",
       "</table>\n",
       "</div>"
      ],
      "text/plain": [
       "  Reported Date Suburb - Incident Postcode - Incident  \\\n",
       "0     1/07/2013    ABERFOYLE PARK                5159   \n",
       "1     1/07/2013          ADELAIDE                5000   \n",
       "2     1/07/2013          ADELAIDE                5000   \n",
       "3     1/07/2013          ADELAIDE                5000   \n",
       "4     1/07/2013          ADELAIDE                5000   \n",
       "\n",
       "  Offence Level 1 Description        Offence Level 2 Description  \\\n",
       "0   OFFENCES AGAINST PROPERTY          SERIOUS CRIMINAL TRESPASS   \n",
       "1   OFFENCES AGAINST PROPERTY  PROPERTY DAMAGE AND ENVIRONMENTAL   \n",
       "2   OFFENCES AGAINST PROPERTY  PROPERTY DAMAGE AND ENVIRONMENTAL   \n",
       "3   OFFENCES AGAINST PROPERTY          SERIOUS CRIMINAL TRESPASS   \n",
       "4   OFFENCES AGAINST PROPERTY         THEFT AND RELATED OFFENCES   \n",
       "\n",
       "               Offence Level 3 Description  Offence count  \n",
       "0                      SCT - Non Residence            1.0  \n",
       "1                                 Graffiti            2.0  \n",
       "2  Other property damage and environmental            2.0  \n",
       "3                      SCT - Non Residence            1.0  \n",
       "4                              Other theft            3.0  "
      ]
     },
     "execution_count": 3,
     "metadata": {},
     "output_type": "execute_result"
    }
   ],
   "source": [
    "sa_df.head()"
   ]
  },
  {
   "cell_type": "code",
   "execution_count": 4,
   "id": "7e051c35",
   "metadata": {},
   "outputs": [
    {
     "data": {
      "text/html": [
       "<div>\n",
       "<style scoped>\n",
       "    .dataframe tbody tr th:only-of-type {\n",
       "        vertical-align: middle;\n",
       "    }\n",
       "\n",
       "    .dataframe tbody tr th {\n",
       "        vertical-align: top;\n",
       "    }\n",
       "\n",
       "    .dataframe thead th {\n",
       "        text-align: right;\n",
       "    }\n",
       "</style>\n",
       "<table border=\"1\" class=\"dataframe\">\n",
       "  <thead>\n",
       "    <tr style=\"text-align: right;\">\n",
       "      <th></th>\n",
       "      <th>Reported Date</th>\n",
       "      <th>Suburb - Incident</th>\n",
       "      <th>Postcode - Incident</th>\n",
       "      <th>Offence Level 1 Description</th>\n",
       "      <th>Offence Level 2 Description</th>\n",
       "      <th>Offence Level 3 Description</th>\n",
       "      <th>Offence count</th>\n",
       "    </tr>\n",
       "  </thead>\n",
       "  <tbody>\n",
       "    <tr>\n",
       "      <th>88788</th>\n",
       "      <td>30/06/2014</td>\n",
       "      <td>WOODVILLE GARDENS</td>\n",
       "      <td>5012</td>\n",
       "      <td>OFFENCES AGAINST PROPERTY</td>\n",
       "      <td>THEFT AND RELATED OFFENCES</td>\n",
       "      <td>Theft from motor vehicle</td>\n",
       "      <td>1.0</td>\n",
       "    </tr>\n",
       "    <tr>\n",
       "      <th>88789</th>\n",
       "      <td>30/06/2014</td>\n",
       "      <td>WOODVILLE NORTH</td>\n",
       "      <td>5012</td>\n",
       "      <td>OFFENCES AGAINST PROPERTY</td>\n",
       "      <td>THEFT AND RELATED OFFENCES</td>\n",
       "      <td>Theft from motor vehicle</td>\n",
       "      <td>1.0</td>\n",
       "    </tr>\n",
       "    <tr>\n",
       "      <th>88790</th>\n",
       "      <td>30/06/2014</td>\n",
       "      <td>WOODVILLE PARK</td>\n",
       "      <td>5011</td>\n",
       "      <td>OFFENCES AGAINST PROPERTY</td>\n",
       "      <td>PROPERTY DAMAGE AND ENVIRONMENTAL</td>\n",
       "      <td>Graffiti</td>\n",
       "      <td>1.0</td>\n",
       "    </tr>\n",
       "    <tr>\n",
       "      <th>88791</th>\n",
       "      <td>30/06/2014</td>\n",
       "      <td>WOODVILLE WEST</td>\n",
       "      <td>5011</td>\n",
       "      <td>OFFENCES AGAINST PROPERTY</td>\n",
       "      <td>PROPERTY DAMAGE AND ENVIRONMENTAL</td>\n",
       "      <td>Other property damage and environmental</td>\n",
       "      <td>1.0</td>\n",
       "    </tr>\n",
       "    <tr>\n",
       "      <th>88792</th>\n",
       "      <td>NaN</td>\n",
       "      <td>NaN</td>\n",
       "      <td>NaN</td>\n",
       "      <td>NaN</td>\n",
       "      <td>NaN</td>\n",
       "      <td>NaN</td>\n",
       "      <td>NaN</td>\n",
       "    </tr>\n",
       "  </tbody>\n",
       "</table>\n",
       "</div>"
      ],
      "text/plain": [
       "      Reported Date  Suburb - Incident Postcode - Incident  \\\n",
       "88788    30/06/2014  WOODVILLE GARDENS                5012   \n",
       "88789    30/06/2014    WOODVILLE NORTH                5012   \n",
       "88790    30/06/2014     WOODVILLE PARK                5011   \n",
       "88791    30/06/2014     WOODVILLE WEST                5011   \n",
       "88792           NaN                NaN                 NaN   \n",
       "\n",
       "      Offence Level 1 Description        Offence Level 2 Description  \\\n",
       "88788   OFFENCES AGAINST PROPERTY         THEFT AND RELATED OFFENCES   \n",
       "88789   OFFENCES AGAINST PROPERTY         THEFT AND RELATED OFFENCES   \n",
       "88790   OFFENCES AGAINST PROPERTY  PROPERTY DAMAGE AND ENVIRONMENTAL   \n",
       "88791   OFFENCES AGAINST PROPERTY  PROPERTY DAMAGE AND ENVIRONMENTAL   \n",
       "88792                         NaN                                NaN   \n",
       "\n",
       "                   Offence Level 3 Description  Offence count  \n",
       "88788                 Theft from motor vehicle            1.0  \n",
       "88789                 Theft from motor vehicle            1.0  \n",
       "88790                                 Graffiti            1.0  \n",
       "88791  Other property damage and environmental            1.0  \n",
       "88792                                      NaN            NaN  "
      ]
     },
     "execution_count": 4,
     "metadata": {},
     "output_type": "execute_result"
    }
   ],
   "source": [
    "sa_df.tail()"
   ]
  },
  {
   "cell_type": "code",
   "execution_count": 5,
   "id": "833be4b2",
   "metadata": {},
   "outputs": [
    {
     "data": {
      "text/html": [
       "<div>\n",
       "<style scoped>\n",
       "    .dataframe tbody tr th:only-of-type {\n",
       "        vertical-align: middle;\n",
       "    }\n",
       "\n",
       "    .dataframe tbody tr th {\n",
       "        vertical-align: top;\n",
       "    }\n",
       "\n",
       "    .dataframe thead th {\n",
       "        text-align: right;\n",
       "    }\n",
       "</style>\n",
       "<table border=\"1\" class=\"dataframe\">\n",
       "  <thead>\n",
       "    <tr style=\"text-align: right;\">\n",
       "      <th></th>\n",
       "      <th>Offence count</th>\n",
       "    </tr>\n",
       "  </thead>\n",
       "  <tbody>\n",
       "    <tr>\n",
       "      <th>count</th>\n",
       "      <td>88792.000000</td>\n",
       "    </tr>\n",
       "    <tr>\n",
       "      <th>mean</th>\n",
       "      <td>1.170578</td>\n",
       "    </tr>\n",
       "    <tr>\n",
       "      <th>std</th>\n",
       "      <td>0.573607</td>\n",
       "    </tr>\n",
       "    <tr>\n",
       "      <th>min</th>\n",
       "      <td>1.000000</td>\n",
       "    </tr>\n",
       "    <tr>\n",
       "      <th>25%</th>\n",
       "      <td>1.000000</td>\n",
       "    </tr>\n",
       "    <tr>\n",
       "      <th>50%</th>\n",
       "      <td>1.000000</td>\n",
       "    </tr>\n",
       "    <tr>\n",
       "      <th>75%</th>\n",
       "      <td>1.000000</td>\n",
       "    </tr>\n",
       "    <tr>\n",
       "      <th>max</th>\n",
       "      <td>16.000000</td>\n",
       "    </tr>\n",
       "  </tbody>\n",
       "</table>\n",
       "</div>"
      ],
      "text/plain": [
       "       Offence count\n",
       "count   88792.000000\n",
       "mean        1.170578\n",
       "std         0.573607\n",
       "min         1.000000\n",
       "25%         1.000000\n",
       "50%         1.000000\n",
       "75%         1.000000\n",
       "max        16.000000"
      ]
     },
     "execution_count": 5,
     "metadata": {},
     "output_type": "execute_result"
    }
   ],
   "source": [
    "sa_df.describe()"
   ]
  },
  {
   "cell_type": "code",
   "execution_count": 34,
   "id": "9bcb0570",
   "metadata": {},
   "outputs": [
    {
     "data": {
      "text/plain": [
       "7"
      ]
     },
     "execution_count": 34,
     "metadata": {},
     "output_type": "execute_result"
    }
   ],
   "source": [
    "len(nt_df['Reporting region '].unique())"
   ]
  },
  {
   "cell_type": "code",
   "execution_count": null,
   "id": "16e5ef33",
   "metadata": {},
   "outputs": [],
   "source": [
    "#  Get longitude and latitude and concat / join "
   ]
  },
  {
   "cell_type": "code",
   "execution_count": 6,
   "id": "e1734bad",
   "metadata": {},
   "outputs": [
    {
     "data": {
      "text/html": [
       "<div>\n",
       "<style scoped>\n",
       "    .dataframe tbody tr th:only-of-type {\n",
       "        vertical-align: middle;\n",
       "    }\n",
       "\n",
       "    .dataframe tbody tr th {\n",
       "        vertical-align: top;\n",
       "    }\n",
       "\n",
       "    .dataframe thead th {\n",
       "        text-align: right;\n",
       "    }\n",
       "</style>\n",
       "<table border=\"1\" class=\"dataframe\">\n",
       "  <thead>\n",
       "    <tr style=\"text-align: right;\">\n",
       "      <th></th>\n",
       "      <th>Year</th>\n",
       "      <th>Month number</th>\n",
       "      <th>Number of offences</th>\n",
       "    </tr>\n",
       "  </thead>\n",
       "  <tbody>\n",
       "    <tr>\n",
       "      <th>count</th>\n",
       "      <td>3103.0</td>\n",
       "      <td>3103.000000</td>\n",
       "      <td>3103.000000</td>\n",
       "    </tr>\n",
       "    <tr>\n",
       "      <th>mean</th>\n",
       "      <td>2013.0</td>\n",
       "      <td>6.422172</td>\n",
       "      <td>8.638737</td>\n",
       "    </tr>\n",
       "    <tr>\n",
       "      <th>std</th>\n",
       "      <td>0.0</td>\n",
       "      <td>3.472883</td>\n",
       "      <td>23.206805</td>\n",
       "    </tr>\n",
       "    <tr>\n",
       "      <th>min</th>\n",
       "      <td>2013.0</td>\n",
       "      <td>1.000000</td>\n",
       "      <td>1.000000</td>\n",
       "    </tr>\n",
       "    <tr>\n",
       "      <th>25%</th>\n",
       "      <td>2013.0</td>\n",
       "      <td>3.000000</td>\n",
       "      <td>1.000000</td>\n",
       "    </tr>\n",
       "    <tr>\n",
       "      <th>50%</th>\n",
       "      <td>2013.0</td>\n",
       "      <td>6.000000</td>\n",
       "      <td>2.000000</td>\n",
       "    </tr>\n",
       "    <tr>\n",
       "      <th>75%</th>\n",
       "      <td>2013.0</td>\n",
       "      <td>9.000000</td>\n",
       "      <td>6.000000</td>\n",
       "    </tr>\n",
       "    <tr>\n",
       "      <th>max</th>\n",
       "      <td>2013.0</td>\n",
       "      <td>12.000000</td>\n",
       "      <td>304.000000</td>\n",
       "    </tr>\n",
       "  </tbody>\n",
       "</table>\n",
       "</div>"
      ],
      "text/plain": [
       "         Year  Month number  Number of offences\n",
       "count  3103.0   3103.000000         3103.000000\n",
       "mean   2013.0      6.422172            8.638737\n",
       "std       0.0      3.472883           23.206805\n",
       "min    2013.0      1.000000            1.000000\n",
       "25%    2013.0      3.000000            1.000000\n",
       "50%    2013.0      6.000000            2.000000\n",
       "75%    2013.0      9.000000            6.000000\n",
       "max    2013.0     12.000000          304.000000"
      ]
     },
     "execution_count": 6,
     "metadata": {},
     "output_type": "execute_result"
    }
   ],
   "source": [
    "nt_df[nt_df['Year'] == 2013].describe()"
   ]
  },
  {
   "cell_type": "markdown",
   "id": "7fdf9c68",
   "metadata": {},
   "source": [
    "[Current - Northern Territory Crime Statistics May 2022](https://data.nt.gov.au/dataset/current-northern-territory-crime-statistics-may-2022)\n",
    "\n",
    "[South Australian Government Data Directory](https://data.sa.gov.au/data/dataset/crime-statistics)"
   ]
  },
  {
   "cell_type": "markdown",
   "id": "6a60de88",
   "metadata": {},
   "source": [
    "Offences in the Northern Territory can show strong seasonal patterns, with predictable peaks and troughs at certain times of the year.  Therefore, comparisons should be made of the same months in different years, rather than consecutive months.  For trends, a 12-month rolling average or rolling sum is recommended in order to dampen the month-to-month variability and account for the seasonal cycles.\n",
    "\n",
    "Last update was July 1st 2022."
   ]
  },
  {
   "cell_type": "markdown",
   "id": "cbbe247e",
   "metadata": {},
   "source": [
    "In 2017, the governments of the UK, Germany and Canada issued travel advisories to their citizens travelling in Australia, singling out Alice Springs as a place where extra precautions should be taken: \"Take care in the town centre of Alice Springs at night. There have been a number of incidents of harassment, robberies and attacks (including sexual assault) on foreign tourists.\" (UK)."
   ]
  },
  {
   "cell_type": "markdown",
   "id": "58609c52",
   "metadata": {},
   "source": [
    "\"Foreign travellers warned about visiting Alice Springs\". The New Daily. 15 March 2017. Retrieved 9 October 2019."
   ]
  },
  {
   "cell_type": "markdown",
   "id": "b227d03d",
   "metadata": {},
   "source": [
    "Webb, Carolyn (15 March 2017). \"Foreign tourists warned on Alice Springs safety risks\". The Sydney Morning Herald. Retrieved 9 October 2019."
   ]
  },
  {
   "cell_type": "markdown",
   "id": "c24e082b",
   "metadata": {},
   "source": [
    "\"The Northern Territory is the Murder Capital of Australia.\" The Guardian. 18 June 2013.   https://www.theguardian.com/news/datablog/2013/jun/18/australia-new-crime-statistics. Retrieved 15 August 2021 "
   ]
  },
  {
   "cell_type": "markdown",
   "id": "8c11ce85",
   "metadata": {},
   "source": [
    "![Murder Capital of Australia](murder_capital.png)"
   ]
  },
  {
   "cell_type": "code",
   "execution_count": null,
   "id": "c8f36a65",
   "metadata": {},
   "outputs": [],
   "source": [
    "# data.columns = [colname.strip() for colname in data.columns]"
   ]
  },
  {
   "cell_type": "code",
   "execution_count": 7,
   "id": "d475c6f1",
   "metadata": {},
   "outputs": [
    {
     "data": {
      "text/plain": [
       "count    44994.000000\n",
       "mean         9.346602\n",
       "std         26.984379\n",
       "min          1.000000\n",
       "25%          1.000000\n",
       "50%          3.000000\n",
       "75%          6.000000\n",
       "max        458.000000\n",
       "Name: Number of offences, dtype: float64"
      ]
     },
     "execution_count": 7,
     "metadata": {},
     "output_type": "execute_result"
    }
   ],
   "source": [
    "nt_df['Number of offences'].describe()"
   ]
  },
  {
   "cell_type": "markdown",
   "id": "0d6873ed",
   "metadata": {},
   "source": [
    "<h3 style = 'color: blue'> Yearly Trend </h3>\n",
    "\n",
    "According to the source of the data, [Current - Northern Territory Crime Statistics May 2022](https://data.nt.gov.au/dataset/current-northern-territory-crime-statistics-may-2022), the *\"offences in the Northern Territory can show **strong seasonal patterns, with predictable peaks and troughs at certain times of the year.**  Therefore, comparisons should be made of the same months in different years, rather than consecutive months.  For trends, a 12-month rolling average or rolling sum is recommended in order to dampen the month-to-month variability and account for the seasonal cycles.\"*"
   ]
  },
  {
   "cell_type": "code",
   "execution_count": 23,
   "id": "3da52bea",
   "metadata": {},
   "outputs": [
    {
     "data": {
      "application/vnd.jupyter.widget-view+json": {
       "model_id": "9710d77d45864b76a312ced181e26a68",
       "version_major": 2,
       "version_minor": 0
      },
      "text/plain": [
       "interactive(children=(IntSlider(value=2015, description='Year', max=2022, min=2008), Output()), _dom_classes=(…"
      ]
     },
     "metadata": {},
     "output_type": "display_data"
    }
   ],
   "source": [
    "@interact\n",
    "def show_yearly_crime_count(Year=(2008, 2022, 1)):\n",
    "    nt_df[nt_df['Year'] == Year].groupby('Month number')['Number of offences'].sum().iplot(kind='bar' )\n",
    "#  percentage above the mean => bar graph\n",
    "#  use this to check for consitency\n"
   ]
  },
  {
   "cell_type": "code",
   "execution_count": 33,
   "id": "b2edcacc",
   "metadata": {},
   "outputs": [
    {
     "data": {
      "text/html": [
       "<div>\n",
       "<style scoped>\n",
       "    .dataframe tbody tr th:only-of-type {\n",
       "        vertical-align: middle;\n",
       "    }\n",
       "\n",
       "    .dataframe tbody tr th {\n",
       "        vertical-align: top;\n",
       "    }\n",
       "\n",
       "    .dataframe thead tr th {\n",
       "        text-align: left;\n",
       "    }\n",
       "\n",
       "    .dataframe thead tr:last-of-type th {\n",
       "        text-align: right;\n",
       "    }\n",
       "</style>\n",
       "<table border=\"1\" class=\"dataframe\">\n",
       "  <thead>\n",
       "    <tr>\n",
       "      <th></th>\n",
       "      <th colspan=\"3\" halign=\"left\">Number of offences</th>\n",
       "    </tr>\n",
       "    <tr>\n",
       "      <th></th>\n",
       "      <th>mean</th>\n",
       "      <th>min</th>\n",
       "      <th>max</th>\n",
       "    </tr>\n",
       "    <tr>\n",
       "      <th>Year</th>\n",
       "      <th></th>\n",
       "      <th></th>\n",
       "      <th></th>\n",
       "    </tr>\n",
       "  </thead>\n",
       "  <tbody>\n",
       "    <tr>\n",
       "      <th>2008</th>\n",
       "      <td>9.991983</td>\n",
       "      <td>1</td>\n",
       "      <td>392</td>\n",
       "    </tr>\n",
       "    <tr>\n",
       "      <th>2009</th>\n",
       "      <td>9.383984</td>\n",
       "      <td>1</td>\n",
       "      <td>347</td>\n",
       "    </tr>\n",
       "    <tr>\n",
       "      <th>2010</th>\n",
       "      <td>10.196327</td>\n",
       "      <td>1</td>\n",
       "      <td>458</td>\n",
       "    </tr>\n",
       "    <tr>\n",
       "      <th>2011</th>\n",
       "      <td>9.118316</td>\n",
       "      <td>1</td>\n",
       "      <td>319</td>\n",
       "    </tr>\n",
       "    <tr>\n",
       "      <th>2012</th>\n",
       "      <td>9.679295</td>\n",
       "      <td>1</td>\n",
       "      <td>312</td>\n",
       "    </tr>\n",
       "    <tr>\n",
       "      <th>2013</th>\n",
       "      <td>8.638737</td>\n",
       "      <td>1</td>\n",
       "      <td>304</td>\n",
       "    </tr>\n",
       "    <tr>\n",
       "      <th>2014</th>\n",
       "      <td>8.883751</td>\n",
       "      <td>1</td>\n",
       "      <td>313</td>\n",
       "    </tr>\n",
       "    <tr>\n",
       "      <th>2015</th>\n",
       "      <td>8.928805</td>\n",
       "      <td>1</td>\n",
       "      <td>359</td>\n",
       "    </tr>\n",
       "    <tr>\n",
       "      <th>2016</th>\n",
       "      <td>8.994934</td>\n",
       "      <td>1</td>\n",
       "      <td>306</td>\n",
       "    </tr>\n",
       "    <tr>\n",
       "      <th>2017</th>\n",
       "      <td>9.199754</td>\n",
       "      <td>1</td>\n",
       "      <td>290</td>\n",
       "    </tr>\n",
       "    <tr>\n",
       "      <th>2018</th>\n",
       "      <td>9.384946</td>\n",
       "      <td>1</td>\n",
       "      <td>311</td>\n",
       "    </tr>\n",
       "    <tr>\n",
       "      <th>2019</th>\n",
       "      <td>9.097761</td>\n",
       "      <td>1</td>\n",
       "      <td>304</td>\n",
       "    </tr>\n",
       "    <tr>\n",
       "      <th>2020</th>\n",
       "      <td>8.893920</td>\n",
       "      <td>1</td>\n",
       "      <td>297</td>\n",
       "    </tr>\n",
       "    <tr>\n",
       "      <th>2021</th>\n",
       "      <td>9.787698</td>\n",
       "      <td>1</td>\n",
       "      <td>346</td>\n",
       "    </tr>\n",
       "    <tr>\n",
       "      <th>2022</th>\n",
       "      <td>10.960284</td>\n",
       "      <td>1</td>\n",
       "      <td>320</td>\n",
       "    </tr>\n",
       "  </tbody>\n",
       "</table>\n",
       "</div>"
      ],
      "text/plain": [
       "     Number of offences         \n",
       "                   mean min  max\n",
       "Year                            \n",
       "2008           9.991983   1  392\n",
       "2009           9.383984   1  347\n",
       "2010          10.196327   1  458\n",
       "2011           9.118316   1  319\n",
       "2012           9.679295   1  312\n",
       "2013           8.638737   1  304\n",
       "2014           8.883751   1  313\n",
       "2015           8.928805   1  359\n",
       "2016           8.994934   1  306\n",
       "2017           9.199754   1  290\n",
       "2018           9.384946   1  311\n",
       "2019           9.097761   1  304\n",
       "2020           8.893920   1  297\n",
       "2021           9.787698   1  346\n",
       "2022          10.960284   1  320"
      ]
     },
     "execution_count": 33,
     "metadata": {},
     "output_type": "execute_result"
    }
   ],
   "source": [
    "nt_df.groupby('Year').agg({'Number of offences': ['mean', 'min', 'max']})"
   ]
  },
  {
   "cell_type": "code",
   "execution_count": 8,
   "id": "afc9bd4b",
   "metadata": {},
   "outputs": [
    {
     "data": {
      "text/html": [
       "<div>\n",
       "<style scoped>\n",
       "    .dataframe tbody tr th:only-of-type {\n",
       "        vertical-align: middle;\n",
       "    }\n",
       "\n",
       "    .dataframe tbody tr th {\n",
       "        vertical-align: top;\n",
       "    }\n",
       "\n",
       "    .dataframe thead th {\n",
       "        text-align: right;\n",
       "    }\n",
       "</style>\n",
       "<table border=\"1\" class=\"dataframe\">\n",
       "  <thead>\n",
       "    <tr style=\"text-align: right;\">\n",
       "      <th></th>\n",
       "      <th>As At</th>\n",
       "      <th>Year</th>\n",
       "      <th>Month number</th>\n",
       "      <th>Offence category</th>\n",
       "      <th>Offence type</th>\n",
       "      <th>Alcohol involvement</th>\n",
       "      <th>DV involvement</th>\n",
       "      <th>Reporting region</th>\n",
       "      <th>Statistical Area 2</th>\n",
       "      <th>Number of offences</th>\n",
       "    </tr>\n",
       "  </thead>\n",
       "  <tbody>\n",
       "    <tr>\n",
       "      <th>0</th>\n",
       "      <td>1/07/2022</td>\n",
       "      <td>2008</td>\n",
       "      <td>1</td>\n",
       "      <td>Abduction - harassment and other offences agai...</td>\n",
       "      <td>Deprivation of liberty /false imprisonment</td>\n",
       "      <td>-</td>\n",
       "      <td>-</td>\n",
       "      <td>Alice Springs</td>\n",
       "      <td>-</td>\n",
       "      <td>1</td>\n",
       "    </tr>\n",
       "    <tr>\n",
       "      <th>1</th>\n",
       "      <td>1/07/2022</td>\n",
       "      <td>2008</td>\n",
       "      <td>1</td>\n",
       "      <td>Abduction - harassment and other offences agai...</td>\n",
       "      <td>Deprivation of liberty /false imprisonment</td>\n",
       "      <td>-</td>\n",
       "      <td>-</td>\n",
       "      <td>NT Balance</td>\n",
       "      <td>Alligator</td>\n",
       "      <td>1</td>\n",
       "    </tr>\n",
       "    <tr>\n",
       "      <th>2</th>\n",
       "      <td>1/07/2022</td>\n",
       "      <td>2008</td>\n",
       "      <td>1</td>\n",
       "      <td>Abduction - harassment and other offences agai...</td>\n",
       "      <td>Deprivation of liberty /false imprisonment</td>\n",
       "      <td>-</td>\n",
       "      <td>-</td>\n",
       "      <td>Tennant Creek</td>\n",
       "      <td>-</td>\n",
       "      <td>1</td>\n",
       "    </tr>\n",
       "    <tr>\n",
       "      <th>3</th>\n",
       "      <td>1/07/2022</td>\n",
       "      <td>2008</td>\n",
       "      <td>1</td>\n",
       "      <td>Abduction - harassment and other offences agai...</td>\n",
       "      <td>Harassment and private nuisance</td>\n",
       "      <td>-</td>\n",
       "      <td>-</td>\n",
       "      <td>NT Balance</td>\n",
       "      <td>Alligator</td>\n",
       "      <td>2</td>\n",
       "    </tr>\n",
       "    <tr>\n",
       "      <th>4</th>\n",
       "      <td>1/07/2022</td>\n",
       "      <td>2008</td>\n",
       "      <td>1</td>\n",
       "      <td>Abduction - harassment and other offences agai...</td>\n",
       "      <td>Harassment and private nuisance</td>\n",
       "      <td>-</td>\n",
       "      <td>-</td>\n",
       "      <td>NT Balance</td>\n",
       "      <td>Daly</td>\n",
       "      <td>1</td>\n",
       "    </tr>\n",
       "  </tbody>\n",
       "</table>\n",
       "</div>"
      ],
      "text/plain": [
       "       As At  Year  Month number  \\\n",
       "0  1/07/2022  2008             1   \n",
       "1  1/07/2022  2008             1   \n",
       "2  1/07/2022  2008             1   \n",
       "3  1/07/2022  2008             1   \n",
       "4  1/07/2022  2008             1   \n",
       "\n",
       "                                    Offence category  \\\n",
       "0  Abduction - harassment and other offences agai...   \n",
       "1  Abduction - harassment and other offences agai...   \n",
       "2  Abduction - harassment and other offences agai...   \n",
       "3  Abduction - harassment and other offences agai...   \n",
       "4  Abduction - harassment and other offences agai...   \n",
       "\n",
       "                                 Offence type Alcohol involvement  \\\n",
       "0  Deprivation of liberty /false imprisonment                   -   \n",
       "1  Deprivation of liberty /false imprisonment                   -   \n",
       "2  Deprivation of liberty /false imprisonment                   -   \n",
       "3             Harassment and private nuisance                   -   \n",
       "4             Harassment and private nuisance                   -   \n",
       "\n",
       "  DV involvement Reporting region  Statistical Area 2  Number of offences  \n",
       "0              -     Alice Springs                  -                   1  \n",
       "1              -        NT Balance          Alligator                   1  \n",
       "2              -     Tennant Creek                  -                   1  \n",
       "3              -        NT Balance          Alligator                   2  \n",
       "4              -        NT Balance               Daly                   1  "
      ]
     },
     "execution_count": 8,
     "metadata": {},
     "output_type": "execute_result"
    }
   ],
   "source": [
    "nt_df.head()"
   ]
  },
  {
   "cell_type": "code",
   "execution_count": 9,
   "id": "2a94a4e6",
   "metadata": {},
   "outputs": [
    {
     "data": {
      "text/html": [
       "<div>\n",
       "<style scoped>\n",
       "    .dataframe tbody tr th:only-of-type {\n",
       "        vertical-align: middle;\n",
       "    }\n",
       "\n",
       "    .dataframe tbody tr th {\n",
       "        vertical-align: top;\n",
       "    }\n",
       "\n",
       "    .dataframe thead th {\n",
       "        text-align: right;\n",
       "    }\n",
       "</style>\n",
       "<table border=\"1\" class=\"dataframe\">\n",
       "  <thead>\n",
       "    <tr style=\"text-align: right;\">\n",
       "      <th></th>\n",
       "      <th>As At</th>\n",
       "      <th>Year</th>\n",
       "      <th>Month number</th>\n",
       "      <th>Offence category</th>\n",
       "      <th>Offence type</th>\n",
       "      <th>Alcohol involvement</th>\n",
       "      <th>DV involvement</th>\n",
       "      <th>Reporting region</th>\n",
       "      <th>Statistical Area 2</th>\n",
       "      <th>Number of offences</th>\n",
       "    </tr>\n",
       "  </thead>\n",
       "  <tbody>\n",
       "    <tr>\n",
       "      <th>44989</th>\n",
       "      <td>1/07/2022</td>\n",
       "      <td>2022</td>\n",
       "      <td>5</td>\n",
       "      <td>Theft and related offences (other than MV)</td>\n",
       "      <td>Theft and related offences (other than MV)</td>\n",
       "      <td>-</td>\n",
       "      <td>-</td>\n",
       "      <td>NT Balance</td>\n",
       "      <td>Weddell</td>\n",
       "      <td>5</td>\n",
       "    </tr>\n",
       "    <tr>\n",
       "      <th>44990</th>\n",
       "      <td>1/07/2022</td>\n",
       "      <td>2022</td>\n",
       "      <td>5</td>\n",
       "      <td>Theft and related offences (other than MV)</td>\n",
       "      <td>Theft and related offences (other than MV)</td>\n",
       "      <td>-</td>\n",
       "      <td>-</td>\n",
       "      <td>NT Balance</td>\n",
       "      <td>West Arnhem</td>\n",
       "      <td>8</td>\n",
       "    </tr>\n",
       "    <tr>\n",
       "      <th>44991</th>\n",
       "      <td>1/07/2022</td>\n",
       "      <td>2022</td>\n",
       "      <td>5</td>\n",
       "      <td>Theft and related offences (other than MV)</td>\n",
       "      <td>Theft and related offences (other than MV)</td>\n",
       "      <td>-</td>\n",
       "      <td>-</td>\n",
       "      <td>NT Balance</td>\n",
       "      <td>Yuendumu - Anmatjere</td>\n",
       "      <td>8</td>\n",
       "    </tr>\n",
       "    <tr>\n",
       "      <th>44992</th>\n",
       "      <td>1/07/2022</td>\n",
       "      <td>2022</td>\n",
       "      <td>5</td>\n",
       "      <td>Theft and related offences (other than MV)</td>\n",
       "      <td>Theft and related offences (other than MV)</td>\n",
       "      <td>-</td>\n",
       "      <td>-</td>\n",
       "      <td>Palmerston</td>\n",
       "      <td>-</td>\n",
       "      <td>70</td>\n",
       "    </tr>\n",
       "    <tr>\n",
       "      <th>44993</th>\n",
       "      <td>1/07/2022</td>\n",
       "      <td>2022</td>\n",
       "      <td>5</td>\n",
       "      <td>Theft and related offences (other than MV)</td>\n",
       "      <td>Theft and related offences (other than MV)</td>\n",
       "      <td>-</td>\n",
       "      <td>-</td>\n",
       "      <td>Tennant Creek</td>\n",
       "      <td>-</td>\n",
       "      <td>7</td>\n",
       "    </tr>\n",
       "  </tbody>\n",
       "</table>\n",
       "</div>"
      ],
      "text/plain": [
       "           As At  Year  Month number  \\\n",
       "44989  1/07/2022  2022             5   \n",
       "44990  1/07/2022  2022             5   \n",
       "44991  1/07/2022  2022             5   \n",
       "44992  1/07/2022  2022             5   \n",
       "44993  1/07/2022  2022             5   \n",
       "\n",
       "                                 Offence category  \\\n",
       "44989  Theft and related offences (other than MV)   \n",
       "44990  Theft and related offences (other than MV)   \n",
       "44991  Theft and related offences (other than MV)   \n",
       "44992  Theft and related offences (other than MV)   \n",
       "44993  Theft and related offences (other than MV)   \n",
       "\n",
       "                                     Offence type Alcohol involvement  \\\n",
       "44989  Theft and related offences (other than MV)                   -   \n",
       "44990  Theft and related offences (other than MV)                   -   \n",
       "44991  Theft and related offences (other than MV)                   -   \n",
       "44992  Theft and related offences (other than MV)                   -   \n",
       "44993  Theft and related offences (other than MV)                   -   \n",
       "\n",
       "      DV involvement Reporting region     Statistical Area 2  \\\n",
       "44989              -        NT Balance               Weddell   \n",
       "44990              -        NT Balance           West Arnhem   \n",
       "44991              -        NT Balance  Yuendumu - Anmatjere   \n",
       "44992              -        Palmerston                     -   \n",
       "44993              -     Tennant Creek                     -   \n",
       "\n",
       "       Number of offences  \n",
       "44989                   5  \n",
       "44990                   8  \n",
       "44991                   8  \n",
       "44992                  70  \n",
       "44993                   7  "
      ]
     },
     "execution_count": 9,
     "metadata": {},
     "output_type": "execute_result"
    }
   ],
   "source": [
    "nt_df.tail()"
   ]
  },
  {
   "cell_type": "markdown",
   "id": "f6e5fc03",
   "metadata": {},
   "source": [
    "<p style='color: red'> The number of offences is the number of offences recorded per region per statistical area. The highest number of offences ever recorded is 458 property damage offences in Darwin in January 2010. </p>\n",
    "\n",
    "* group together reporting region and statistical area.\n",
    "* statistical area with maximum offences\n",
    "* look into the type of offence prevalent in statistical area.\n",
    "* look into the maximum offences per region."
   ]
  },
  {
   "cell_type": "code",
   "execution_count": 10,
   "id": "cf0a6cc6",
   "metadata": {},
   "outputs": [
    {
     "data": {
      "text/html": [
       "<div>\n",
       "<style scoped>\n",
       "    .dataframe tbody tr th:only-of-type {\n",
       "        vertical-align: middle;\n",
       "    }\n",
       "\n",
       "    .dataframe tbody tr th {\n",
       "        vertical-align: top;\n",
       "    }\n",
       "\n",
       "    .dataframe thead th {\n",
       "        text-align: right;\n",
       "    }\n",
       "</style>\n",
       "<table border=\"1\" class=\"dataframe\">\n",
       "  <thead>\n",
       "    <tr style=\"text-align: right;\">\n",
       "      <th></th>\n",
       "      <th>As At</th>\n",
       "      <th>Year</th>\n",
       "      <th>Month number</th>\n",
       "      <th>Offence category</th>\n",
       "      <th>Offence type</th>\n",
       "      <th>Alcohol involvement</th>\n",
       "      <th>DV involvement</th>\n",
       "      <th>Reporting region</th>\n",
       "      <th>Statistical Area 2</th>\n",
       "      <th>Number of offences</th>\n",
       "    </tr>\n",
       "  </thead>\n",
       "  <tbody>\n",
       "    <tr>\n",
       "      <th>6111</th>\n",
       "      <td>1/07/2022</td>\n",
       "      <td>2010</td>\n",
       "      <td>1</td>\n",
       "      <td>Property Damage Offences</td>\n",
       "      <td>Property damage offences</td>\n",
       "      <td>-</td>\n",
       "      <td>-</td>\n",
       "      <td>Darwin</td>\n",
       "      <td>-</td>\n",
       "      <td>458</td>\n",
       "    </tr>\n",
       "  </tbody>\n",
       "</table>\n",
       "</div>"
      ],
      "text/plain": [
       "          As At  Year  Month number          Offence category  \\\n",
       "6111  1/07/2022  2010             1  Property Damage Offences   \n",
       "\n",
       "                  Offence type Alcohol involvement DV involvement  \\\n",
       "6111  Property damage offences                   -              -   \n",
       "\n",
       "     Reporting region  Statistical Area 2  Number of offences  \n",
       "6111            Darwin                  -                 458  "
      ]
     },
     "execution_count": 10,
     "metadata": {},
     "output_type": "execute_result"
    }
   ],
   "source": [
    "nt_df[nt_df['Number of offences'] == 458]"
   ]
  },
  {
   "cell_type": "code",
   "execution_count": 11,
   "id": "75de536a",
   "metadata": {},
   "outputs": [
    {
     "data": {
      "text/html": [
       "<div>\n",
       "<style scoped>\n",
       "    .dataframe tbody tr th:only-of-type {\n",
       "        vertical-align: middle;\n",
       "    }\n",
       "\n",
       "    .dataframe tbody tr th {\n",
       "        vertical-align: top;\n",
       "    }\n",
       "\n",
       "    .dataframe thead th {\n",
       "        text-align: right;\n",
       "    }\n",
       "</style>\n",
       "<table border=\"1\" class=\"dataframe\">\n",
       "  <thead>\n",
       "    <tr style=\"text-align: right;\">\n",
       "      <th></th>\n",
       "      <th>As At</th>\n",
       "      <th>Year</th>\n",
       "      <th>Month number</th>\n",
       "      <th>Offence category</th>\n",
       "      <th>Offence type</th>\n",
       "      <th>Alcohol involvement</th>\n",
       "      <th>DV involvement</th>\n",
       "      <th>Reporting region</th>\n",
       "      <th>Statistical Area 2</th>\n",
       "      <th>Number of offences</th>\n",
       "    </tr>\n",
       "  </thead>\n",
       "  <tbody>\n",
       "    <tr>\n",
       "      <th>6110</th>\n",
       "      <td>1/07/2022</td>\n",
       "      <td>2010</td>\n",
       "      <td>1</td>\n",
       "      <td>Property Damage Offences</td>\n",
       "      <td>Property damage offences</td>\n",
       "      <td>-</td>\n",
       "      <td>-</td>\n",
       "      <td>Alice Springs</td>\n",
       "      <td>-</td>\n",
       "      <td>200</td>\n",
       "    </tr>\n",
       "    <tr>\n",
       "      <th>6111</th>\n",
       "      <td>1/07/2022</td>\n",
       "      <td>2010</td>\n",
       "      <td>1</td>\n",
       "      <td>Property Damage Offences</td>\n",
       "      <td>Property damage offences</td>\n",
       "      <td>-</td>\n",
       "      <td>-</td>\n",
       "      <td>Darwin</td>\n",
       "      <td>-</td>\n",
       "      <td>458</td>\n",
       "    </tr>\n",
       "    <tr>\n",
       "      <th>6112</th>\n",
       "      <td>1/07/2022</td>\n",
       "      <td>2010</td>\n",
       "      <td>1</td>\n",
       "      <td>Property Damage Offences</td>\n",
       "      <td>Property damage offences</td>\n",
       "      <td>-</td>\n",
       "      <td>-</td>\n",
       "      <td>Katherine</td>\n",
       "      <td>-</td>\n",
       "      <td>22</td>\n",
       "    </tr>\n",
       "    <tr>\n",
       "      <th>6113</th>\n",
       "      <td>1/07/2022</td>\n",
       "      <td>2010</td>\n",
       "      <td>1</td>\n",
       "      <td>Property Damage Offences</td>\n",
       "      <td>Property damage offences</td>\n",
       "      <td>-</td>\n",
       "      <td>-</td>\n",
       "      <td>Nhulunbuy</td>\n",
       "      <td>-</td>\n",
       "      <td>6</td>\n",
       "    </tr>\n",
       "    <tr>\n",
       "      <th>6114</th>\n",
       "      <td>1/07/2022</td>\n",
       "      <td>2010</td>\n",
       "      <td>1</td>\n",
       "      <td>Property Damage Offences</td>\n",
       "      <td>Property damage offences</td>\n",
       "      <td>-</td>\n",
       "      <td>-</td>\n",
       "      <td>NT Balance</td>\n",
       "      <td>Alligator</td>\n",
       "      <td>13</td>\n",
       "    </tr>\n",
       "    <tr>\n",
       "      <th>6115</th>\n",
       "      <td>1/07/2022</td>\n",
       "      <td>2010</td>\n",
       "      <td>1</td>\n",
       "      <td>Property Damage Offences</td>\n",
       "      <td>Property damage offences</td>\n",
       "      <td>-</td>\n",
       "      <td>-</td>\n",
       "      <td>NT Balance</td>\n",
       "      <td>Anindilyakwa</td>\n",
       "      <td>3</td>\n",
       "    </tr>\n",
       "    <tr>\n",
       "      <th>6116</th>\n",
       "      <td>1/07/2022</td>\n",
       "      <td>2010</td>\n",
       "      <td>1</td>\n",
       "      <td>Property Damage Offences</td>\n",
       "      <td>Property damage offences</td>\n",
       "      <td>-</td>\n",
       "      <td>-</td>\n",
       "      <td>NT Balance</td>\n",
       "      <td>Barkly</td>\n",
       "      <td>3</td>\n",
       "    </tr>\n",
       "    <tr>\n",
       "      <th>6117</th>\n",
       "      <td>1/07/2022</td>\n",
       "      <td>2010</td>\n",
       "      <td>1</td>\n",
       "      <td>Property Damage Offences</td>\n",
       "      <td>Property damage offences</td>\n",
       "      <td>-</td>\n",
       "      <td>-</td>\n",
       "      <td>NT Balance</td>\n",
       "      <td>Daly</td>\n",
       "      <td>2</td>\n",
       "    </tr>\n",
       "    <tr>\n",
       "      <th>6118</th>\n",
       "      <td>1/07/2022</td>\n",
       "      <td>2010</td>\n",
       "      <td>1</td>\n",
       "      <td>Property Damage Offences</td>\n",
       "      <td>Property damage offences</td>\n",
       "      <td>-</td>\n",
       "      <td>-</td>\n",
       "      <td>NT Balance</td>\n",
       "      <td>East Arnhem</td>\n",
       "      <td>7</td>\n",
       "    </tr>\n",
       "    <tr>\n",
       "      <th>6119</th>\n",
       "      <td>1/07/2022</td>\n",
       "      <td>2010</td>\n",
       "      <td>1</td>\n",
       "      <td>Property Damage Offences</td>\n",
       "      <td>Property damage offences</td>\n",
       "      <td>-</td>\n",
       "      <td>-</td>\n",
       "      <td>NT Balance</td>\n",
       "      <td>Elsey</td>\n",
       "      <td>2</td>\n",
       "    </tr>\n",
       "    <tr>\n",
       "      <th>6120</th>\n",
       "      <td>1/07/2022</td>\n",
       "      <td>2010</td>\n",
       "      <td>1</td>\n",
       "      <td>Property Damage Offences</td>\n",
       "      <td>Property damage offences</td>\n",
       "      <td>-</td>\n",
       "      <td>-</td>\n",
       "      <td>NT Balance</td>\n",
       "      <td>Gulf</td>\n",
       "      <td>4</td>\n",
       "    </tr>\n",
       "    <tr>\n",
       "      <th>6121</th>\n",
       "      <td>1/07/2022</td>\n",
       "      <td>2010</td>\n",
       "      <td>1</td>\n",
       "      <td>Property Damage Offences</td>\n",
       "      <td>Property damage offences</td>\n",
       "      <td>-</td>\n",
       "      <td>-</td>\n",
       "      <td>NT Balance</td>\n",
       "      <td>Howard Springs</td>\n",
       "      <td>2</td>\n",
       "    </tr>\n",
       "    <tr>\n",
       "      <th>6122</th>\n",
       "      <td>1/07/2022</td>\n",
       "      <td>2010</td>\n",
       "      <td>1</td>\n",
       "      <td>Property Damage Offences</td>\n",
       "      <td>Property damage offences</td>\n",
       "      <td>-</td>\n",
       "      <td>-</td>\n",
       "      <td>NT Balance</td>\n",
       "      <td>Humpty Doo</td>\n",
       "      <td>12</td>\n",
       "    </tr>\n",
       "    <tr>\n",
       "      <th>6123</th>\n",
       "      <td>1/07/2022</td>\n",
       "      <td>2010</td>\n",
       "      <td>1</td>\n",
       "      <td>Property Damage Offences</td>\n",
       "      <td>Property damage offences</td>\n",
       "      <td>-</td>\n",
       "      <td>-</td>\n",
       "      <td>NT Balance</td>\n",
       "      <td>Petermann - Simpson</td>\n",
       "      <td>4</td>\n",
       "    </tr>\n",
       "    <tr>\n",
       "      <th>6124</th>\n",
       "      <td>1/07/2022</td>\n",
       "      <td>2010</td>\n",
       "      <td>1</td>\n",
       "      <td>Property Damage Offences</td>\n",
       "      <td>Property damage offences</td>\n",
       "      <td>-</td>\n",
       "      <td>-</td>\n",
       "      <td>NT Balance</td>\n",
       "      <td>Sandover - Plenty</td>\n",
       "      <td>1</td>\n",
       "    </tr>\n",
       "    <tr>\n",
       "      <th>6125</th>\n",
       "      <td>1/07/2022</td>\n",
       "      <td>2010</td>\n",
       "      <td>1</td>\n",
       "      <td>Property Damage Offences</td>\n",
       "      <td>Property damage offences</td>\n",
       "      <td>-</td>\n",
       "      <td>-</td>\n",
       "      <td>NT Balance</td>\n",
       "      <td>Tanami</td>\n",
       "      <td>9</td>\n",
       "    </tr>\n",
       "    <tr>\n",
       "      <th>6126</th>\n",
       "      <td>1/07/2022</td>\n",
       "      <td>2010</td>\n",
       "      <td>1</td>\n",
       "      <td>Property Damage Offences</td>\n",
       "      <td>Property damage offences</td>\n",
       "      <td>-</td>\n",
       "      <td>-</td>\n",
       "      <td>NT Balance</td>\n",
       "      <td>Thamarrurr</td>\n",
       "      <td>9</td>\n",
       "    </tr>\n",
       "    <tr>\n",
       "      <th>6127</th>\n",
       "      <td>1/07/2022</td>\n",
       "      <td>2010</td>\n",
       "      <td>1</td>\n",
       "      <td>Property Damage Offences</td>\n",
       "      <td>Property damage offences</td>\n",
       "      <td>-</td>\n",
       "      <td>-</td>\n",
       "      <td>NT Balance</td>\n",
       "      <td>Tiwi Islands</td>\n",
       "      <td>4</td>\n",
       "    </tr>\n",
       "    <tr>\n",
       "      <th>6128</th>\n",
       "      <td>1/07/2022</td>\n",
       "      <td>2010</td>\n",
       "      <td>1</td>\n",
       "      <td>Property Damage Offences</td>\n",
       "      <td>Property damage offences</td>\n",
       "      <td>-</td>\n",
       "      <td>-</td>\n",
       "      <td>NT Balance</td>\n",
       "      <td>Victoria River</td>\n",
       "      <td>3</td>\n",
       "    </tr>\n",
       "    <tr>\n",
       "      <th>6129</th>\n",
       "      <td>1/07/2022</td>\n",
       "      <td>2010</td>\n",
       "      <td>1</td>\n",
       "      <td>Property Damage Offences</td>\n",
       "      <td>Property damage offences</td>\n",
       "      <td>-</td>\n",
       "      <td>-</td>\n",
       "      <td>NT Balance</td>\n",
       "      <td>Virginia</td>\n",
       "      <td>1</td>\n",
       "    </tr>\n",
       "    <tr>\n",
       "      <th>6130</th>\n",
       "      <td>1/07/2022</td>\n",
       "      <td>2010</td>\n",
       "      <td>1</td>\n",
       "      <td>Property Damage Offences</td>\n",
       "      <td>Property damage offences</td>\n",
       "      <td>-</td>\n",
       "      <td>-</td>\n",
       "      <td>NT Balance</td>\n",
       "      <td>Weddell</td>\n",
       "      <td>1</td>\n",
       "    </tr>\n",
       "    <tr>\n",
       "      <th>6131</th>\n",
       "      <td>1/07/2022</td>\n",
       "      <td>2010</td>\n",
       "      <td>1</td>\n",
       "      <td>Property Damage Offences</td>\n",
       "      <td>Property damage offences</td>\n",
       "      <td>-</td>\n",
       "      <td>-</td>\n",
       "      <td>NT Balance</td>\n",
       "      <td>West Arnhem</td>\n",
       "      <td>3</td>\n",
       "    </tr>\n",
       "    <tr>\n",
       "      <th>6132</th>\n",
       "      <td>1/07/2022</td>\n",
       "      <td>2010</td>\n",
       "      <td>1</td>\n",
       "      <td>Property Damage Offences</td>\n",
       "      <td>Property damage offences</td>\n",
       "      <td>-</td>\n",
       "      <td>-</td>\n",
       "      <td>NT Balance</td>\n",
       "      <td>Yuendumu - Anmatjere</td>\n",
       "      <td>6</td>\n",
       "    </tr>\n",
       "    <tr>\n",
       "      <th>6133</th>\n",
       "      <td>1/07/2022</td>\n",
       "      <td>2010</td>\n",
       "      <td>1</td>\n",
       "      <td>Property Damage Offences</td>\n",
       "      <td>Property damage offences</td>\n",
       "      <td>-</td>\n",
       "      <td>-</td>\n",
       "      <td>Palmerston</td>\n",
       "      <td>-</td>\n",
       "      <td>127</td>\n",
       "    </tr>\n",
       "    <tr>\n",
       "      <th>6134</th>\n",
       "      <td>1/07/2022</td>\n",
       "      <td>2010</td>\n",
       "      <td>1</td>\n",
       "      <td>Property Damage Offences</td>\n",
       "      <td>Property damage offences</td>\n",
       "      <td>-</td>\n",
       "      <td>-</td>\n",
       "      <td>Tennant Creek</td>\n",
       "      <td>-</td>\n",
       "      <td>37</td>\n",
       "    </tr>\n",
       "  </tbody>\n",
       "</table>\n",
       "</div>"
      ],
      "text/plain": [
       "          As At  Year  Month number          Offence category  \\\n",
       "6110  1/07/2022  2010             1  Property Damage Offences   \n",
       "6111  1/07/2022  2010             1  Property Damage Offences   \n",
       "6112  1/07/2022  2010             1  Property Damage Offences   \n",
       "6113  1/07/2022  2010             1  Property Damage Offences   \n",
       "6114  1/07/2022  2010             1  Property Damage Offences   \n",
       "6115  1/07/2022  2010             1  Property Damage Offences   \n",
       "6116  1/07/2022  2010             1  Property Damage Offences   \n",
       "6117  1/07/2022  2010             1  Property Damage Offences   \n",
       "6118  1/07/2022  2010             1  Property Damage Offences   \n",
       "6119  1/07/2022  2010             1  Property Damage Offences   \n",
       "6120  1/07/2022  2010             1  Property Damage Offences   \n",
       "6121  1/07/2022  2010             1  Property Damage Offences   \n",
       "6122  1/07/2022  2010             1  Property Damage Offences   \n",
       "6123  1/07/2022  2010             1  Property Damage Offences   \n",
       "6124  1/07/2022  2010             1  Property Damage Offences   \n",
       "6125  1/07/2022  2010             1  Property Damage Offences   \n",
       "6126  1/07/2022  2010             1  Property Damage Offences   \n",
       "6127  1/07/2022  2010             1  Property Damage Offences   \n",
       "6128  1/07/2022  2010             1  Property Damage Offences   \n",
       "6129  1/07/2022  2010             1  Property Damage Offences   \n",
       "6130  1/07/2022  2010             1  Property Damage Offences   \n",
       "6131  1/07/2022  2010             1  Property Damage Offences   \n",
       "6132  1/07/2022  2010             1  Property Damage Offences   \n",
       "6133  1/07/2022  2010             1  Property Damage Offences   \n",
       "6134  1/07/2022  2010             1  Property Damage Offences   \n",
       "\n",
       "                  Offence type Alcohol involvement DV involvement  \\\n",
       "6110  Property damage offences                   -              -   \n",
       "6111  Property damage offences                   -              -   \n",
       "6112  Property damage offences                   -              -   \n",
       "6113  Property damage offences                   -              -   \n",
       "6114  Property damage offences                   -              -   \n",
       "6115  Property damage offences                   -              -   \n",
       "6116  Property damage offences                   -              -   \n",
       "6117  Property damage offences                   -              -   \n",
       "6118  Property damage offences                   -              -   \n",
       "6119  Property damage offences                   -              -   \n",
       "6120  Property damage offences                   -              -   \n",
       "6121  Property damage offences                   -              -   \n",
       "6122  Property damage offences                   -              -   \n",
       "6123  Property damage offences                   -              -   \n",
       "6124  Property damage offences                   -              -   \n",
       "6125  Property damage offences                   -              -   \n",
       "6126  Property damage offences                   -              -   \n",
       "6127  Property damage offences                   -              -   \n",
       "6128  Property damage offences                   -              -   \n",
       "6129  Property damage offences                   -              -   \n",
       "6130  Property damage offences                   -              -   \n",
       "6131  Property damage offences                   -              -   \n",
       "6132  Property damage offences                   -              -   \n",
       "6133  Property damage offences                   -              -   \n",
       "6134  Property damage offences                   -              -   \n",
       "\n",
       "     Reporting region     Statistical Area 2  Number of offences  \n",
       "6110     Alice Springs                     -                 200  \n",
       "6111            Darwin                     -                 458  \n",
       "6112         Katherine                     -                  22  \n",
       "6113         Nhulunbuy                     -                   6  \n",
       "6114        NT Balance             Alligator                  13  \n",
       "6115        NT Balance          Anindilyakwa                   3  \n",
       "6116        NT Balance                Barkly                   3  \n",
       "6117        NT Balance                  Daly                   2  \n",
       "6118        NT Balance           East Arnhem                   7  \n",
       "6119        NT Balance                 Elsey                   2  \n",
       "6120        NT Balance                  Gulf                   4  \n",
       "6121        NT Balance        Howard Springs                   2  \n",
       "6122        NT Balance            Humpty Doo                  12  \n",
       "6123        NT Balance   Petermann - Simpson                   4  \n",
       "6124        NT Balance     Sandover - Plenty                   1  \n",
       "6125        NT Balance                Tanami                   9  \n",
       "6126        NT Balance            Thamarrurr                   9  \n",
       "6127        NT Balance          Tiwi Islands                   4  \n",
       "6128        NT Balance        Victoria River                   3  \n",
       "6129        NT Balance              Virginia                   1  \n",
       "6130        NT Balance               Weddell                   1  \n",
       "6131        NT Balance           West Arnhem                   3  \n",
       "6132        NT Balance  Yuendumu - Anmatjere                   6  \n",
       "6133        Palmerston                     -                 127  \n",
       "6134     Tennant Creek                     -                  37  "
      ]
     },
     "execution_count": 11,
     "metadata": {},
     "output_type": "execute_result"
    }
   ],
   "source": [
    "nt_df[(nt_df['Year'] == 2010) & (nt_df['Month number'] == 1) & \n",
    "      (nt_df['Offence category'] == 'Property Damage Offences')]"
   ]
  },
  {
   "cell_type": "code",
   "execution_count": 12,
   "id": "9a4aae29",
   "metadata": {},
   "outputs": [
    {
     "data": {
      "text/plain": [
       "(44994, 10)"
      ]
     },
     "execution_count": 12,
     "metadata": {},
     "output_type": "execute_result"
    }
   ],
   "source": [
    "nt_df.shape"
   ]
  },
  {
   "cell_type": "code",
   "execution_count": 13,
   "id": "27eaafbb",
   "metadata": {},
   "outputs": [
    {
     "name": "stdout",
     "output_type": "stream",
     "text": [
      "<class 'pandas.core.frame.DataFrame'>\n",
      "RangeIndex: 44994 entries, 0 to 44993\n",
      "Data columns (total 10 columns):\n",
      " #   Column               Non-Null Count  Dtype \n",
      "---  ------               --------------  ----- \n",
      " 0   As At                44994 non-null  object\n",
      " 1   Year                 44994 non-null  int64 \n",
      " 2   Month number         44994 non-null  int64 \n",
      " 3   Offence category     44994 non-null  object\n",
      " 4   Offence type         44994 non-null  object\n",
      " 5   Alcohol involvement  44994 non-null  object\n",
      " 6   DV involvement       44994 non-null  object\n",
      " 7   Reporting region     44994 non-null  object\n",
      " 8   Statistical Area 2   44994 non-null  object\n",
      " 9   Number of offences   44994 non-null  int64 \n",
      "dtypes: int64(3), object(7)\n",
      "memory usage: 3.4+ MB\n"
     ]
    }
   ],
   "source": [
    "nt_df.info()"
   ]
  },
  {
   "cell_type": "code",
   "execution_count": 14,
   "id": "b3dd6b8d",
   "metadata": {},
   "outputs": [],
   "source": [
    "nt_df = nt_df.drop('As At', axis = 1)"
   ]
  },
  {
   "cell_type": "code",
   "execution_count": 15,
   "id": "c8cb20fd",
   "metadata": {},
   "outputs": [
    {
     "data": {
      "text/plain": [
       "Index(['Year', 'Month number', 'Offence category', 'Offence type',\n",
       "       'Alcohol involvement', 'DV involvement', 'Reporting region ',\n",
       "       'Statistical Area 2', 'Number of offences'],\n",
       "      dtype='object')"
      ]
     },
     "execution_count": 15,
     "metadata": {},
     "output_type": "execute_result"
    }
   ],
   "source": [
    "nt_df.keys()"
   ]
  },
  {
   "cell_type": "markdown",
   "id": "3850349b",
   "metadata": {},
   "source": [
    "<h1 style=\"color:blue\">Offence Category Counts</h1>\n",
    "\n",
    "<span style=\"color:blue\"> Although it is a relief that homicide and related offences have the least amount of occurences, it is quite alarming that acts intended to cause injury has the highest count among the crimes reported.</span> "
   ]
  },
  {
   "cell_type": "code",
   "execution_count": 16,
   "id": "6ca4dc55",
   "metadata": {},
   "outputs": [
    {
     "data": {
      "text/plain": [
       "Offence category\n",
       "Abduction - harassment and other offences against the person      5027\n",
       "Acts intended to cause injury                                   102739\n",
       "Commercial break-ins                                             29600\n",
       "Homicide and related Offences                                      248\n",
       "House break-ins                                                  29496\n",
       "Motor theft and related offences                                 29486\n",
       "Other Dangerous or negligent acts endangering persons             1787\n",
       "Property Damage Offences                                        108292\n",
       "Robbery - extortion and related offences                          1809\n",
       "Sexual Assault and related offences                               6248\n",
       "Theft and related offences (other than MV)                      105809\n",
       "Name: Number of offences, dtype: int64"
      ]
     },
     "execution_count": 16,
     "metadata": {},
     "output_type": "execute_result"
    }
   ],
   "source": [
    "nt_df.groupby('Offence category')['Number of offences'].sum()"
   ]
  },
  {
   "cell_type": "code",
   "execution_count": 17,
   "id": "5e504705",
   "metadata": {},
   "outputs": [
    {
     "data": {
      "text/plain": [
       "<AxesSubplot:ylabel='Number of offences'>"
      ]
     },
     "execution_count": 17,
     "metadata": {},
     "output_type": "execute_result"
    },
    {
     "data": {
      "image/png": "[encoded data removed]",
      "text/plain": [
       "<Figure size 2160x1440 with 1 Axes>"
      ]
     },
     "metadata": {},
     "output_type": "display_data"
    }
   ],
   "source": [
    "nt_df.groupby('Offence category')['Number of offences'].sum().plot(kind = 'pie', \n",
    "                                                                   figsize=(30,20), \n",
    "                                                                   autopct='%1.1f%%')"
   ]
  },
  {
   "cell_type": "code",
   "execution_count": 18,
   "id": "a1445408",
   "metadata": {},
   "outputs": [
    {
     "data": {
      "text/plain": [
       "<AxesSubplot:ylabel='Offence category'>"
      ]
     },
     "execution_count": 18,
     "metadata": {},
     "output_type": "execute_result"
    },
    {
     "data": {
      "image/png": "[encoded data removed]",
      "text/plain": [
       "<Figure size 432x288 with 1 Axes>"
      ]
     },
     "metadata": {
      "needs_background": "light"
     },
     "output_type": "display_data"
    }
   ],
   "source": [
    "nt_df.groupby('Offence category')['Number of offences'].sum().plot(kind = 'barh')"
   ]
  },
  {
   "cell_type": "code",
   "execution_count": 24,
   "id": "0bd618a6",
   "metadata": {},
   "outputs": [
    {
     "data": {
      "text/plain": [
       "<AxesSubplot:ylabel='Offence category'>"
      ]
     },
     "execution_count": 24,
     "metadata": {},
     "output_type": "execute_result"
    },
    {
     "data": {
      "image/png": "[encoded data removed]",
      "text/plain": [
       "<Figure size 432x288 with 1 Axes>"
      ]
     },
     "metadata": {
      "needs_background": "light"
     },
     "output_type": "display_data"
    }
   ],
   "source": [
    "nt_df[nt_df['Year'] == 2013].groupby('Offence category')['Number of offences'].sum().plot(kind = 'barh')"
   ]
  },
  {
   "cell_type": "code",
   "execution_count": null,
   "id": "0b335b4c",
   "metadata": {},
   "outputs": [],
   "source": [
    "nt_df.groupby('Offence category')['Number of offences'].sum()"
   ]
  },
  {
   "cell_type": "markdown",
   "id": "c9433923",
   "metadata": {},
   "source": [
    "<h1 style='color:blue'> Which region has the highest number of offences? </h1> \n",
    "<p style='color:blue'> The pie chart below shows that majority of the cases reported occurred in NT Balance.</p>"
   ]
  },
  {
   "cell_type": "code",
   "execution_count": null,
   "id": "ab98626b",
   "metadata": {},
   "outputs": [],
   "source": [
    "nt_df[nt_df['Offence category'] == 'Homicide and related Offences'].groupby('Reporting region ')['Number of offences'].sum()"
   ]
  },
  {
   "cell_type": "code",
   "execution_count": null,
   "id": "93a88bf2",
   "metadata": {},
   "outputs": [],
   "source": [
    "nt_df[dv_df['Offence category'] == 'Homicide and related Offences'].groupby(\n",
    "    'Reporting region ')['Number of offences'].sum().plot(kind = \"pie\", \n",
    "                                                          figsize=(20,10), \n",
    "                                                          autopct='%1.1f%%')"
   ]
  },
  {
   "cell_type": "markdown",
   "id": "d90051d4",
   "metadata": {},
   "source": [
    "<p style='color: red'> There were 28,878 cases out of the total cases that were left blank. It can be assumed here that the alcohol involvement was unknown. Replace all - with Alcohol involvement unknown</p>"
   ]
  },
  {
   "cell_type": "code",
   "execution_count": 35,
   "id": "bd0acbdf",
   "metadata": {},
   "outputs": [
    {
     "data": {
      "text/plain": [
       "Alcohol involvement\n",
       "-                              318173\n",
       "Alcohol involved                56349\n",
       "Alcohol involvement unknown     19642\n",
       "No alcohol involved             26377\n",
       "Name: Number of offences, dtype: int64"
      ]
     },
     "execution_count": 35,
     "metadata": {},
     "output_type": "execute_result"
    }
   ],
   "source": [
    "nt_df.groupby('Alcohol involvement')['Number of offences'].sum()"
   ]
  },
  {
   "cell_type": "markdown",
   "id": "8a13161f",
   "metadata": {},
   "source": [
    "<p style='color: red'> There were 28,878 cases out of the total cases that were left blank. It can be assumed here that the domestic violence involvement was unknown. Replace all - with Domestic violence involvement unknown</p>"
   ]
  },
  {
   "cell_type": "code",
   "execution_count": 36,
   "id": "774d655f",
   "metadata": {},
   "outputs": [
    {
     "data": {
      "text/plain": [
       "DV involvement\n",
       "-         318173\n",
       "DV         59546\n",
       "Non-DV     42822\n",
       "Name: Number of offences, dtype: int64"
      ]
     },
     "execution_count": 36,
     "metadata": {},
     "output_type": "execute_result"
    }
   ],
   "source": [
    "nt_df.groupby('DV involvement')['Number of offences'].sum()"
   ]
  },
  {
   "cell_type": "code",
   "execution_count": null,
   "id": "4e0640d8",
   "metadata": {},
   "outputs": [],
   "source": [
    "# look into crime by date\n",
    "#  look into crime by territory\n",
    "#  crime by season"
   ]
  },
  {
   "cell_type": "code",
   "execution_count": null,
   "id": "17e14a03",
   "metadata": {},
   "outputs": [],
   "source": [
    "nt_df.groupby('Year')['Number of offences'].sum()"
   ]
  },
  {
   "cell_type": "code",
   "execution_count": null,
   "id": "e58c5239",
   "metadata": {},
   "outputs": [],
   "source": [
    "nt_df.groupby(['Month number', 'Year'])['Number of offences'].sum()"
   ]
  },
  {
   "cell_type": "code",
   "execution_count": null,
   "id": "d8b4fc61",
   "metadata": {},
   "outputs": [],
   "source": []
  },
  {
   "cell_type": "code",
   "execution_count": null,
   "id": "ce35b32c",
   "metadata": {},
   "outputs": [],
   "source": [
    "dv_df[dv_df['Offence category'] == 'Abduction - harassment and other offences against the person']['Number of offences'].sum()"
   ]
  },
  {
   "cell_type": "markdown",
   "id": "a87d07c4",
   "metadata": {},
   "source": [
    "<p style='color: red'> Metadata states that the number of offences fluctuate depending on season but there is not much deviation in the number of offences reported for each month from 2008 - 2022.</p>\n",
    "* Create a widget that shows bar graph per year. \n",
    "* Create bar graph with month in different colors showing crime fluctuation by month and year."
   ]
  },
  {
   "cell_type": "code",
   "execution_count": null,
   "id": "e287c275",
   "metadata": {},
   "outputs": [],
   "source": [
    "nt_df[nt_df['Year'] == 2022].groupby('Month number')['Number of offences'].sum()"
   ]
  },
  {
   "cell_type": "code",
   "execution_count": null,
   "id": "d838d4f5",
   "metadata": {},
   "outputs": [],
   "source": [
    "nt_df[nt_df['Year'] == 2022].groupby('Month number')['Number of offences'].sum().plot(kind = 'bar')"
   ]
  },
  {
   "cell_type": "code",
   "execution_count": null,
   "id": "0301843c",
   "metadata": {},
   "outputs": [],
   "source": [
    "nt_df[nt_df['Year'] == 2021].groupby('Month number')['Number of offences'].sum().plot(kind = 'bar')"
   ]
  },
  {
   "cell_type": "code",
   "execution_count": null,
   "id": "05c9f1fb",
   "metadata": {},
   "outputs": [],
   "source": [
    "nt_df[nt_df['Year'] == 2020].groupby('Month number')['Number of offences'].sum().plot(kind = 'bar')"
   ]
  },
  {
   "cell_type": "code",
   "execution_count": null,
   "id": "0ef7f2b8",
   "metadata": {},
   "outputs": [],
   "source": [
    "nt_df[nt_df['Year'] == 2019].groupby('Month number')['Number of offences'].sum().plot(kind = 'bar')"
   ]
  },
  {
   "cell_type": "code",
   "execution_count": 22,
   "id": "97c96c3c",
   "metadata": {},
   "outputs": [
    {
     "data": {
      "text/plain": [
       "Month number\n",
       "1     2906\n",
       "2     2637\n",
       "3     2588\n",
       "4     2718\n",
       "5     2556\n",
       "6     2146\n",
       "7     2481\n",
       "8     2428\n",
       "9     2511\n",
       "10    2529\n",
       "11    2478\n",
       "12    2570\n",
       "Name: Number of offences, dtype: int64"
      ]
     },
     "execution_count": 22,
     "metadata": {},
     "output_type": "execute_result"
    }
   ],
   "source": [
    "nt_df[nt_df['Year'] == 2018].groupby('Month number')['Number of offences'].sum()"
   ]
  },
  {
   "cell_type": "code",
   "execution_count": null,
   "id": "2b15f3a0",
   "metadata": {},
   "outputs": [],
   "source": [
    "nt_df[nt_df['Year'] == 2017].groupby('Month number')['Number of offences'].sum().plot(kind = 'bar')"
   ]
  },
  {
   "cell_type": "code",
   "execution_count": null,
   "id": "c54dc5e6",
   "metadata": {},
   "outputs": [],
   "source": [
    "nt_df[nt_df['Year'] == 2016].groupby('Month number')['Number of offences'].sum().plot(kind = 'bar')"
   ]
  },
  {
   "cell_type": "code",
   "execution_count": null,
   "id": "93d6bb7b",
   "metadata": {},
   "outputs": [],
   "source": [
    "nt_df[nt_df['Year'] == 2015].groupby('Month number')['Number of offences'].sum().plot(kind = 'bar')"
   ]
  },
  {
   "cell_type": "code",
   "execution_count": null,
   "id": "5a774b1b",
   "metadata": {},
   "outputs": [],
   "source": [
    "nt_df[nt_df['Year'] == 2014].groupby('Month number')['Number of offences'].sum().plot(kind = 'bar')"
   ]
  },
  {
   "cell_type": "code",
   "execution_count": null,
   "id": "656caee1",
   "metadata": {},
   "outputs": [],
   "source": [
    "nt_df['Year'].unique()"
   ]
  },
  {
   "cell_type": "code",
   "execution_count": null,
   "id": "22082ef4",
   "metadata": {},
   "outputs": [],
   "source": [
    "nt_df[(nt_df['Year'] == 2013) & (nt_df['Reporting region '] == 'Alice Springs')].groupby('Offence category')['Number of offences'].sum()"
   ]
  },
  {
   "cell_type": "code",
   "execution_count": null,
   "id": "318891ad",
   "metadata": {},
   "outputs": [],
   "source": [
    "nt_df[nt_df['Year'] == 2022].groupby('Month number')['Number of offences'].sum()"
   ]
  },
  {
   "cell_type": "code",
   "execution_count": null,
   "id": "6077f87a",
   "metadata": {},
   "outputs": [],
   "source": []
  }
 ],
 "metadata": {
  "kernelspec": {
   "display_name": "Python 3 (ipykernel)",
   "language": "python",
   "name": "python3"
  },
  "language_info": {
   "codemirror_mode": {
    "name": "ipython",
    "version": 3
   },
   "file_extension": ".py",
   "mimetype": "text/x-python",
   "name": "python",
   "nbconvert_exporter": "python",
   "pygments_lexer": "ipython3",
   "version": "3.9.12"
  }
 },
 "nbformat": 4,
 "nbformat_minor": 5
}
